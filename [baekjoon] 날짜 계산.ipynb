{
 "cells": [
  {
   "cell_type": "code",
   "execution_count": 2,
   "metadata": {},
   "outputs": [
    {
     "name": "stdout",
     "output_type": "stream",
     "text": [
      "15 15 15\n",
      "15\n"
     ]
    }
   ],
   "source": [
    "E,S,M = map(int,input().split())\n",
    "e,s,m = 1,1,1\n",
    "year = 1\n",
    "while True:\n",
    "    if e == E and s == S and m == M:\n",
    "        print(year)\n",
    "        break\n",
    "    e += 1\n",
    "    s += 1\n",
    "    m += 1\n",
    "    if e == 16:\n",
    "        e = 1\n",
    "    if s == 29:\n",
    "        s = 1\n",
    "    if m == 20:\n",
    "        m = 1\n",
    "    year += 1"
   ]
  },
  {
   "cell_type": "markdown",
   "metadata": {},
   "source": [
    "##### "
   ]
  }
 ],
 "metadata": {
  "kernelspec": {
   "display_name": "Python 3",
   "language": "python",
   "name": "python3"
  },
  "language_info": {
   "codemirror_mode": {
    "name": "ipython",
    "version": 3
   },
   "file_extension": ".py",
   "mimetype": "text/x-python",
   "name": "python",
   "nbconvert_exporter": "python",
   "pygments_lexer": "ipython3",
   "version": "3.7.0"
  }
 },
 "nbformat": 4,
 "nbformat_minor": 2
}
