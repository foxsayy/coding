{
 "cells": [
  {
   "cell_type": "markdown",
   "metadata": {},
   "source": [
    "# LeetCode #202. Happy Number\n",
    "\n",
    "## Question\n",
    "    \n",
    "https://leetcode.com/problems/00000\n",
    "\n",
    "\n",
    "    Write an algorithm to determine if a number is \"happy\".\n",
    "\n",
    "    A happy number is a number defined by the following process: \n",
    "    Starting with any positive integer, \n",
    "    replace the number by the sum of the squares of its digits, \n",
    "    and repeat the process until the number equals 1 (where it will stay), or it loops endlessly in a cycle which does not include 1. Those numbers for which this process ends in 1 are happy numbers.\n",
    "    \n",
    "Example: \n",
    "    \n",
    "    Input: 19\n",
    "    Output: true\n",
    "    Explanation: \n",
    "    1**2 + 9**2 = 82\n",
    "    8**2 + 2**2 = 68\n",
    "    6**2 + 8**2 = 100\n",
    "    1**2 + 0**2 + 0**2 = 1"
   ]
  },
  {
   "cell_type": "markdown",
   "metadata": {},
   "source": [
    "## My Solution"
   ]
  },
  {
   "cell_type": "code",
   "execution_count": 18,
   "metadata": {},
   "outputs": [],
   "source": [
    "def isHappy(n):\n",
    "    res = 0\n",
    "    limit = 0\n",
    "    while n != 1:\n",
    "        for d in str(n):\n",
    "            res += int(d)**2\n",
    "        n, res = res, 0\n",
    "        limit += 1\n",
    "        if limit == 7:\n",
    "            return False\n",
    "\n",
    "    return True"
   ]
  },
  {
   "cell_type": "code",
   "execution_count": 19,
   "metadata": {},
   "outputs": [
    {
     "data": {
      "text/plain": [
       "True"
      ]
     },
     "execution_count": 19,
     "metadata": {},
     "output_type": "execute_result"
    }
   ],
   "source": [
    "# test code\n",
    "isHappy(19)"
   ]
  },
  {
   "cell_type": "markdown",
   "metadata": {},
   "source": [
    "## My Result\n",
    "\n",
    "__Runtime__ : 32 ms, faster than 83.46% of Python3 online submissions for Happy Number.\n",
    "\n",
    "__Memory Usage__ : 12.7 MB, less than 100.00% of Python3 online submissions for Happy Number."
   ]
  },
  {
   "cell_type": "markdown",
   "metadata": {},
   "source": [
    "## @berk94's Solution"
   ]
  },
  {
   "cell_type": "code",
   "execution_count": 20,
   "metadata": {},
   "outputs": [],
   "source": [
    "def isHappy(n):\n",
    "    def sum_of_squares_of_digits(n):\n",
    "        res = 0\n",
    "        while (n>0):\n",
    "            res += (n%10)**2\n",
    "            n = n//10\n",
    "        return res\n",
    "\n",
    "    seen = {n}\n",
    "    while 1:\n",
    "        n = sum_of_squares_of_digits(n)\n",
    "        if n == 1:\n",
    "            return True\n",
    "        if n in seen:\n",
    "            break\n",
    "        seen.add(n)\n",
    "    return False"
   ]
  },
  {
   "cell_type": "code",
   "execution_count": 21,
   "metadata": {},
   "outputs": [
    {
     "data": {
      "text/plain": [
       "True"
      ]
     },
     "execution_count": 21,
     "metadata": {},
     "output_type": "execute_result"
    }
   ],
   "source": [
    "# test code\n",
    "isHappy(19)"
   ]
  },
  {
   "cell_type": "markdown",
   "metadata": {},
   "source": [
    "## @berk94's Result\n",
    "\n",
    "__Runtime__: 32 ms, faster than 83.46% of Python3 online submissions for Happy Number.\n",
    "\n",
    "__Memory Usage__ : 12.6 MB, less than 100.00% of Python3 online submissions for Happy Number."
   ]
  }
 ],
 "metadata": {
  "kernelspec": {
   "display_name": "Python 3",
   "language": "python",
   "name": "python3"
  },
  "language_info": {
   "codemirror_mode": {
    "name": "ipython",
    "version": 3
   },
   "file_extension": ".py",
   "mimetype": "text/x-python",
   "name": "python",
   "nbconvert_exporter": "python",
   "pygments_lexer": "ipython3",
   "version": "3.7.3"
  }
 },
 "nbformat": 4,
 "nbformat_minor": 2
}
