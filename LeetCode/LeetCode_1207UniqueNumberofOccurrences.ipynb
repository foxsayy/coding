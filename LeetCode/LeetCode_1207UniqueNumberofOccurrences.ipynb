{
 "cells": [
  {
   "cell_type": "markdown",
   "metadata": {},
   "source": [
    "# LeetCode #1207. Unique Number of Occurrences\n",
    "\n",
    "## Question\n",
    "    \n",
    "https://leetcode.com/problems/00000\n",
    "\n",
    "    Given an array of integers arr, write a function that returns true if and only if the number of occurrences of each value in the array is unique.\n",
    "\n",
    "Example 1:\n",
    "\n",
    "    Input: arr = [1,2,2,1,1,3]\n",
    "    Output: true\n",
    "    Explanation: The value 1 has 3 occurrences, 2 has 2 and 3 has 1. No two values have the same number of occurrences.\n",
    "\n",
    "Example 2:\n",
    "\n",
    "    Input: arr = [1,2]\n",
    "    Output: false\n",
    "\n",
    "Example 3:\n",
    "\n",
    "    Input: arr = [-3,0,1,-3,1,1,1,-3,10,0]\n",
    "    Output: true\n",
    " \n",
    "Constraints:\n",
    "\n",
    "    1 <= arr.length <= 1000\n",
    "    -1000 <= arr[i] <= 1000"
   ]
  },
  {
   "cell_type": "markdown",
   "metadata": {},
   "source": [
    "## My Solution"
   ]
  },
  {
   "cell_type": "code",
   "execution_count": 37,
   "metadata": {},
   "outputs": [],
   "source": [
    "def adf(arr):\n",
    "    dic = {}\n",
    "    unique = list(set(arr))\n",
    "\n",
    "    cnt = []\n",
    "    for u in unique:\n",
    "        cnt.append(arr.count(u))\n",
    "    if len(cnt) == len(set(cnt)):\n",
    "        return True\n",
    "    return False"
   ]
  },
  {
   "cell_type": "code",
   "execution_count": 38,
   "metadata": {},
   "outputs": [
    {
     "data": {
      "text/plain": [
       "True"
      ]
     },
     "execution_count": 38,
     "metadata": {},
     "output_type": "execute_result"
    }
   ],
   "source": [
    "# test code\n",
    "arr = [1,2,2,1,1,3]\n",
    "adf(arr)"
   ]
  },
  {
   "cell_type": "markdown",
   "metadata": {},
   "source": [
    "## My Result\n",
    "\n",
    "__Runtime__ : 40 ms, faster than 9.83% of Python online submissions for Unique Number of Occurrences.\n",
    "\n",
    "__Memory Usage__ : 11.9 MB, less than 100.00% of Python online submissions for Unique Number of Occurrences."
   ]
  },
  {
   "cell_type": "markdown",
   "metadata": {},
   "source": [
    "## @doraonay's Solution"
   ]
  },
  {
   "cell_type": "code",
   "execution_count": 47,
   "metadata": {},
   "outputs": [],
   "source": [
    "from collections import Counter \n",
    "\n",
    "def uniqueOccurrences(arr):\n",
    "    myDict = Counter(arr)\n",
    "    return len(myDict.values()) == len(set(myDict.values()))        "
   ]
  },
  {
   "cell_type": "code",
   "execution_count": 48,
   "metadata": {},
   "outputs": [
    {
     "data": {
      "text/plain": [
       "True"
      ]
     },
     "execution_count": 48,
     "metadata": {},
     "output_type": "execute_result"
    }
   ],
   "source": [
    "# test code\n",
    "arr = [1,2,2,1,1,3]\n",
    "uniqueOccurrences(arr)"
   ]
  },
  {
   "cell_type": "markdown",
   "metadata": {},
   "source": [
    "## @doraonay's Result\n",
    "\n",
    "__Runtime__: 20 ms, faster than 86.13% of Python online submissions for Unique Number of Occurrences.\n",
    "\n",
    "__Memory Usage__ : 12 MB, less than 100.00% of Python online submissions for Unique Number of Occurrences."
   ]
  }
 ],
 "metadata": {
  "kernelspec": {
   "display_name": "Python 3",
   "language": "python",
   "name": "python3"
  },
  "language_info": {
   "codemirror_mode": {
    "name": "ipython",
    "version": 3
   },
   "file_extension": ".py",
   "mimetype": "text/x-python",
   "name": "python",
   "nbconvert_exporter": "python",
   "pygments_lexer": "ipython3",
   "version": "3.7.0"
  }
 },
 "nbformat": 4,
 "nbformat_minor": 2
}
