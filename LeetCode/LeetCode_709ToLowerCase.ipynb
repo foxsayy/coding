{
 "cells": [
  {
   "cell_type": "markdown",
   "metadata": {},
   "source": [
    "# LeetCode #709. To Lower Case\n",
    "## Question\n",
    "\n",
    "https://leetcode.com/problems/to-lower-case/\n",
    "\n",
    "    Implement function ToLowerCase() that has a string parameter str, and returns the same string in lowercase.\n",
    "\n",
    "    Example 1:\n",
    "    Input: \"Hello\"\n",
    "    Output: \"hello\"\n",
    "\n",
    "    Example 2:\n",
    "    Input: \"here\"\n",
    "    Output: \"here\"\n",
    "\n",
    "    Example 3:\n",
    "    Input: \"LOVELY\"\n",
    "    Output: \"lovely\""
   ]
  },
  {
   "cell_type": "markdown",
   "metadata": {},
   "source": [
    "## My Solution"
   ]
  },
  {
   "cell_type": "code",
   "execution_count": 4,
   "metadata": {},
   "outputs": [],
   "source": [
    "def toLowerCase(str):\n",
    "    return str.lower()"
   ]
  },
  {
   "cell_type": "code",
   "execution_count": 5,
   "metadata": {},
   "outputs": [
    {
     "data": {
      "text/plain": [
       "'hello'"
      ]
     },
     "execution_count": 5,
     "metadata": {},
     "output_type": "execute_result"
    }
   ],
   "source": [
    "# test code\n",
    "a = \"Hello\"\n",
    "toLowerCase(a)"
   ]
  },
  {
   "cell_type": "markdown",
   "metadata": {},
   "source": [
    "### About My Solution\n",
    "    파이썬 문자열 메서드를 사용"
   ]
  },
  {
   "cell_type": "markdown",
   "metadata": {},
   "source": [
    "## My Result\n",
    "\n",
    "__Runtime__ : 36 ms, faster than 82.32% of Python3 online submissions for To Lower Case.\n",
    "\n",
    "__Memory Usage__ : 13.2 MB, less than 5.45% of Python3 online submissions for To Lower Case."
   ]
  },
  {
   "cell_type": "markdown",
   "metadata": {},
   "source": [
    "## @cenkay's Solution"
   ]
  },
  {
   "cell_type": "code",
   "execution_count": 7,
   "metadata": {},
   "outputs": [],
   "source": [
    "def toLowerCase(str): \n",
    "    return \"\".join(chr(ord(c) + 32) if \"A\" <= c <= \"Z\" else c for c in str)"
   ]
  },
  {
   "cell_type": "code",
   "execution_count": 8,
   "metadata": {},
   "outputs": [
    {
     "data": {
      "text/plain": [
       "'hello'"
      ]
     },
     "execution_count": 8,
     "metadata": {},
     "output_type": "execute_result"
    }
   ],
   "source": [
    "# test code\n",
    "a = \"Hello\"\n",
    "toLowerCase(a)"
   ]
  },
  {
   "cell_type": "markdown",
   "metadata": {},
   "source": [
    "### About cenkay's Solution\n",
    "    \n",
    "    ord() 함수는 문자를 아스키 코드 번호로 변환합니다.\n",
    "    >>> ord('A')\n",
    "    65\n",
    "    >>> ord('Z')\n",
    "    90\n",
    "    \n",
    "    chr() 함수는 아스키 코드 번호를 실제 문자로 변환합니다.\n",
    "    >>> chr(97)\n",
    "    'a'\n",
    "    >>> chr(122)\n",
    "    'z'\n",
    "    \n",
    "    대문자와 소문자 사이에는 32 차이가 있습니다. \n",
    "    대문자 + 32 = 소문자\n",
    "    \n",
    "    이를 이용해서,    \n",
    "    1) str에서 각 글자가 A~Z일 경우 아스키 코드 번호로 바꿉니다.\n",
    "    2) 32를 더합니다.\n",
    "    3) 이를 다시 문자로(소문자로) 바꿉니다."
   ]
  },
  {
   "cell_type": "markdown",
   "metadata": {},
   "source": [
    "## @cenkay's Result\n",
    "\n",
    "__Runtime__ : 20 ms, faster than 66.99% of Python online submissions for To Lower Case.\n",
    "\n",
    "__Memory Usage__ : 11.9 MB, less than 5.91% of Python online submissions for To Lower Case."
   ]
  }
 ],
 "metadata": {
  "kernelspec": {
   "display_name": "Python 3",
   "language": "python",
   "name": "python3"
  },
  "language_info": {
   "codemirror_mode": {
    "name": "ipython",
    "version": 3
   },
   "file_extension": ".py",
   "mimetype": "text/x-python",
   "name": "python",
   "nbconvert_exporter": "python",
   "pygments_lexer": "ipython3",
   "version": "3.7.0"
  }
 },
 "nbformat": 4,
 "nbformat_minor": 2
}
