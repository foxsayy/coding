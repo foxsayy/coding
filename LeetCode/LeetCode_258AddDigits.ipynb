{
 "cells": [
  {
   "cell_type": "markdown",
   "metadata": {},
   "source": [
    "# LeetCode #258. Add Digits\n",
    "\n",
    "## Question\n",
    "    \n",
    "https://leetcode.com/problems/add-digits/\n",
    "\n",
    "\n",
    "    Given a non-negative integer num, repeatedly add all its digits until the result has only one digit.\n",
    "\n",
    "Example:\n",
    "\n",
    "    Input: 38\n",
    "    Output: 2 \n",
    "    \n",
    "Explanation: The process is like: 3 + 8 = 11, 1 + 1 = 2. \n",
    "             Since 2 has only one digit, return it.\n",
    "\n",
    "Follow up:\n",
    "Could you do it without any loop/recursion in O(1) runtime?"
   ]
  },
  {
   "cell_type": "markdown",
   "metadata": {},
   "source": [
    "## My Solution"
   ]
  },
  {
   "cell_type": "code",
   "execution_count": 7,
   "metadata": {},
   "outputs": [],
   "source": [
    "def addDigits(num):\n",
    "    while len(str(num)) != 1:\n",
    "        res = 0\n",
    "        for n in str(num):\n",
    "            res += int(n)\n",
    "        num = res\n",
    "    return num"
   ]
  },
  {
   "cell_type": "code",
   "execution_count": 8,
   "metadata": {},
   "outputs": [
    {
     "data": {
      "text/plain": [
       "2"
      ]
     },
     "execution_count": 8,
     "metadata": {},
     "output_type": "execute_result"
    }
   ],
   "source": [
    "# test code\n",
    "num = 38\n",
    "addDigits(num)"
   ]
  },
  {
   "cell_type": "markdown",
   "metadata": {},
   "source": [
    "## My Result\n",
    "\n",
    "__Runtime__ : 28 ms, faster than 87.95% of Python3 online submissions for Add Digits.\n",
    "\n",
    "__Memory Usage__ : 12.7 MB, less than 100.00% of Python3 online submissions for Add Digits."
   ]
  }
 ],
 "metadata": {
  "kernelspec": {
   "display_name": "Python 3",
   "language": "python",
   "name": "python3"
  },
  "language_info": {
   "codemirror_mode": {
    "name": "ipython",
    "version": 3
   },
   "file_extension": ".py",
   "mimetype": "text/x-python",
   "name": "python",
   "nbconvert_exporter": "python",
   "pygments_lexer": "ipython3",
   "version": "3.7.4"
  }
 },
 "nbformat": 4,
 "nbformat_minor": 2
}
