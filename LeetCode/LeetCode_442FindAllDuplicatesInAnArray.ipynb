{
 "cells": [
  {
   "cell_type": "markdown",
   "metadata": {},
   "source": [
    "# LeetCode #442. Find All Duplicates in an Array\n",
    "\n",
    "## Question\n",
    "\n",
    "https://leetcode.com/problems/find-all-duplicates-in-an-array/\n",
    "\n",
    "    Given an array of integers, 1 ≤ a[i] ≤ n (n = size of array), some elements appear twice and others appear once.\n",
    "\n",
    "    Find all the elements that appear twice in this array.\n",
    "\n",
    "    Could you do it without extra space and in O(n) runtime?\n",
    "\n",
    "    Example:\n",
    "    Input:\n",
    "    [4,3,2,7,8,2,3,1]\n",
    "\n",
    "    Output:\n",
    "    [2,3]"
   ]
  },
  {
   "cell_type": "markdown",
   "metadata": {},
   "source": [
    "## My Solution"
   ]
  },
  {
   "cell_type": "code",
   "execution_count": 17,
   "metadata": {},
   "outputs": [],
   "source": [
    "def findDuplicates(a):\n",
    "    a.sort()\n",
    "    res = []\n",
    "    for i in range(len(a) - 1):\n",
    "        if a[i] == a[i+1]:\n",
    "            res.append(a[i])\n",
    "    return res"
   ]
  },
  {
   "cell_type": "code",
   "execution_count": 18,
   "metadata": {
    "scrolled": true
   },
   "outputs": [
    {
     "data": {
      "text/plain": [
       "[2, 3]"
      ]
     },
     "execution_count": 18,
     "metadata": {},
     "output_type": "execute_result"
    }
   ],
   "source": [
    "# test code\n",
    "a = [4,3,2,7,8,2,3,1]\n",
    "findDuplicates(a)"
   ]
  },
  {
   "cell_type": "markdown",
   "metadata": {},
   "source": [
    "### About My Solution\n",
    "    \n",
    "    리스트를 받으면 먼저 sort()로 정렬합니다.    \n",
    "    이후 for 문을 돌며 연속된 숫자가 나오면 결과를 res에 추가합니다."
   ]
  },
  {
   "cell_type": "markdown",
   "metadata": {},
   "source": [
    "## My Result\n",
    "\n",
    "__Runtime__ : 360 ms, faster than 33.58% of Python online submissions for Find All Duplicates in an Array.\n",
    "\n",
    "__Memory Usage__ : 18.5 MB, less than 92.27% of Python online submissions for Find All Duplicates in an Array."
   ]
  },
  {
   "cell_type": "markdown",
   "metadata": {},
   "source": [
    "## @Wayne-x's Solution"
   ]
  },
  {
   "cell_type": "code",
   "execution_count": 30,
   "metadata": {},
   "outputs": [],
   "source": [
    "def findDuplicates2(nums):\n",
    "    res = []\n",
    "    for x in nums:\n",
    "        if nums[abs(x)-1] < 0:\n",
    "            res.append(abs(x))\n",
    "        else:\n",
    "            nums[abs(x)-1] *= -1\n",
    "    return res"
   ]
  },
  {
   "cell_type": "code",
   "execution_count": 31,
   "metadata": {},
   "outputs": [
    {
     "data": {
      "text/plain": [
       "[2, 3]"
      ]
     },
     "execution_count": 31,
     "metadata": {},
     "output_type": "execute_result"
    }
   ],
   "source": [
    "# test code\n",
    "a = [4,3,2,7,8,2,3,1]\n",
    "findDuplicates2(a)"
   ]
  },
  {
   "cell_type": "code",
   "execution_count": 37,
   "metadata": {},
   "outputs": [
    {
     "data": {
      "text/plain": [
       "[2]"
      ]
     },
     "execution_count": 37,
     "metadata": {},
     "output_type": "execute_result"
    }
   ],
   "source": [
    "# test code\n",
    "a = [2,3,2]\n",
    "findDuplicates2(a)"
   ]
  },
  {
   "cell_type": "code",
   "execution_count": 38,
   "metadata": {},
   "outputs": [
    {
     "data": {
      "text/plain": [
       "[4, 2]"
      ]
     },
     "execution_count": 38,
     "metadata": {},
     "output_type": "execute_result"
    }
   ],
   "source": [
    "# test code2\n",
    "a = [4,4,2,2,1]\n",
    "findDuplicates2(a)"
   ]
  },
  {
   "cell_type": "markdown",
   "metadata": {},
   "source": [
    "### About Wayne-x's Solution\n",
    "    \n",
    "    <조건>\n",
    "    1) 1 ≤ a[i] ≤ n (n = size of array)\n",
    "    2) some elements appear twice and others appear once\n",
    "    \n",
    "    위 조건을 숙지하지 않으면 코드를 이해하는데 어려움을 겪을 수 있습니다.\n",
    "    리스트에 있는 숫자가 전체 리스트의 길이보다 크지 않기 때문에 가능한 코드입니다.\n",
    "    \n",
    "    for 문을 돌며 숫자 n을 받으면 n번째 번호(인덱스 n-1)에 (-)를 붙여줍니다. (else 부분)\n",
    "    \n",
    "    그 앞에는 n번째 번호가 음수일 경우 숫자 n을 append하도록 하는 조건문을 만들어 둡니다. (if 부분)\n",
    "    \n",
    "    간단히 말해 숫자 n이 처음 나왔을때 n번째 숫자를 음수로 만들고, 두 번째 나왔을때 \"음수니까 너는 답이야\" 하고 추가해주는 코드입니다."
   ]
  },
  {
   "cell_type": "code",
   "execution_count": 41,
   "metadata": {},
   "outputs": [
    {
     "name": "stdout",
     "output_type": "stream",
     "text": [
      "x == 4\n",
      "[4, 3, 2, -7, 8, 2, 3, 1]\n",
      "x == 3\n",
      "[4, 3, -2, -7, 8, 2, 3, 1]\n",
      "x == -2\n",
      "[4, -3, -2, -7, 8, 2, 3, 1]\n",
      "x == -7\n",
      "[4, -3, -2, -7, 8, 2, -3, 1]\n",
      "x == 8\n",
      "[4, -3, -2, -7, 8, 2, -3, -1]\n",
      "x == 2\n",
      "[4, -3, -2, -7, 8, 2, -3, -1] appended here!\n",
      "x == -3\n",
      "[4, -3, -2, -7, 8, 2, -3, -1] appended here!\n",
      "x == -1\n",
      "[-4, -3, -2, -7, 8, 2, -3, -1]\n"
     ]
    },
    {
     "data": {
      "text/plain": [
       "[2, 3]"
      ]
     },
     "execution_count": 41,
     "metadata": {},
     "output_type": "execute_result"
    }
   ],
   "source": [
    "nums = [4,3,2,7,8,2,3,1]\n",
    "res = []\n",
    "for x in nums:\n",
    "    print('x ==', x)\n",
    "    if nums[abs(x)-1] < 0:\n",
    "        res.append(abs(x))\n",
    "        print(nums, \"appended here!\")\n",
    "    else:\n",
    "        nums[abs(x)-1] *= -1\n",
    "        print(nums)\n",
    "res"
   ]
  },
  {
   "cell_type": "markdown",
   "metadata": {},
   "source": [
    "## @Wayne-x's Result\n",
    "\n",
    "__Runtime__ : 332 ms, faster than 49.15% of Python online submissions for Find All Duplicates in an Array.\n",
    "\n",
    "__Memory Usage__ : 18.9 MB, less than 54.36% of Python online submissions for Find All Duplicates in an Array."
   ]
  }
 ],
 "metadata": {
  "kernelspec": {
   "display_name": "Python 3",
   "language": "python",
   "name": "python3"
  },
  "language_info": {
   "codemirror_mode": {
    "name": "ipython",
    "version": 3
   },
   "file_extension": ".py",
   "mimetype": "text/x-python",
   "name": "python",
   "nbconvert_exporter": "python",
   "pygments_lexer": "ipython3",
   "version": "3.7.0"
  }
 },
 "nbformat": 4,
 "nbformat_minor": 2
}
