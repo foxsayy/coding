{
 "cells": [
  {
   "cell_type": "markdown",
   "metadata": {},
   "source": [
    "# LeetCode #35. Search Insert Position\n",
    "\n",
    "## Question\n",
    "    \n",
    "https://leetcode.com/problems/search-insert-position/\n",
    "\n",
    "    Given a sorted array and a target value, return the index if the target is found. If not, return the index where it would be if it were inserted in order.\n",
    "\n",
    "    You may assume no duplicates in the array.\n",
    "\n",
    "Example 1:\n",
    "\n",
    "    Input: [1,3,5,6], 5\n",
    "    Output: 2\n",
    "\n",
    "Example 2:\n",
    "\n",
    "    Input: [1,3,5,6], 2\n",
    "    Output: 1\n",
    "\n",
    "Example 3:\n",
    "\n",
    "    Input: [1,3,5,6], 7\n",
    "    Output: 4\n",
    "\n",
    "Example 4:\n",
    "\n",
    "    Input: [1,3,5,6], 0\n",
    "    Output: 0"
   ]
  },
  {
   "cell_type": "markdown",
   "metadata": {},
   "source": [
    "## My Solution"
   ]
  },
  {
   "cell_type": "code",
   "execution_count": 3,
   "metadata": {},
   "outputs": [],
   "source": [
    "def searchInsert(nums):\n",
    "    for i, n in enumerate(nums):\n",
    "        if target <= n:\n",
    "            return i\n",
    "    return i+1"
   ]
  },
  {
   "cell_type": "code",
   "execution_count": 6,
   "metadata": {},
   "outputs": [
    {
     "data": {
      "text/plain": [
       "2"
      ]
     },
     "execution_count": 6,
     "metadata": {},
     "output_type": "execute_result"
    }
   ],
   "source": [
    "# test code\n",
    "nums = [1,3,5,6]\n",
    "target = 5\n",
    "searchInsert(nums)"
   ]
  },
  {
   "cell_type": "markdown",
   "metadata": {},
   "source": [
    "## My Result\n",
    "\n",
    "__Runtime__ : 48 ms, faster than 88.82% of Python3 online submissions for Search Insert Position.\n",
    "\n",
    "__Memory Usage__ : 13.2 MB, less than 100.00% of Python3 online submissions for Search Insert Position."
   ]
  }
 ],
 "metadata": {
  "kernelspec": {
   "display_name": "Python 3",
   "language": "python",
   "name": "python3"
  },
  "language_info": {
   "codemirror_mode": {
    "name": "ipython",
    "version": 3
   },
   "file_extension": ".py",
   "mimetype": "text/x-python",
   "name": "python",
   "nbconvert_exporter": "python",
   "pygments_lexer": "ipython3",
   "version": "3.7.3"
  }
 },
 "nbformat": 4,
 "nbformat_minor": 2
}
