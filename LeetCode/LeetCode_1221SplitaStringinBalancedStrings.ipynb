{
 "cells": [
  {
   "cell_type": "markdown",
   "metadata": {},
   "source": [
    "# LeetCode #1221. Split a String in Balanced Strings\n",
    "\n",
    "## Question\n",
    "    \n",
    "https://leetcode.com/problems/split-a-string-in-balanced-strings/\n",
    "\n",
    "    Balanced strings are those who have equal quantity of 'L' and 'R' characters.\n",
    "    Given a balanced string s split it in the maximum amount of balanced strings.\n",
    "    Return the maximum amount of splitted balanced strings.\n",
    "\n",
    "Example 1:\n",
    "\n",
    "    Input: s = \"RLRRLLRLRL\"\n",
    "    Output: 4\n",
    "    Explanation: s can be split into \"RL\", \"RRLL\", \"RL\", \"RL\", each substring contains same number of 'L' and 'R'.\n",
    "\n",
    "Example 2:\n",
    "\n",
    "    Input: s = \"RLLLLRRRLR\"\n",
    "    Output: 3\n",
    "    Explanation: s can be split into \"RL\", \"LLLRRR\", \"LR\", each substring contains same number of 'L' and 'R'.\n",
    "\n",
    "Example 3:\n",
    "\n",
    "    Input: s = \"LLLLRRRR\"\n",
    "    Output: 1\n",
    "    Explanation: s can be split into \"LLLLRRRR\". \n",
    "\n",
    "Constraints:\n",
    "\n",
    "    1 <= s.length <= 1000\n",
    "    s[i] = 'L' or 'R'"
   ]
  },
  {
   "cell_type": "markdown",
   "metadata": {},
   "source": [
    "## My Solution"
   ]
  },
  {
   "cell_type": "code",
   "execution_count": 6,
   "metadata": {},
   "outputs": [],
   "source": [
    "def balancedStringSplit(s):\n",
    "    res, r, l = 0, 0, 0\n",
    "    for val in s:\n",
    "        if val == 'R':\n",
    "            r += 1\n",
    "        if val == 'L':\n",
    "            l += 1\n",
    "        if r == l:\n",
    "            res += 1\n",
    "    return res"
   ]
  },
  {
   "cell_type": "code",
   "execution_count": 5,
   "metadata": {},
   "outputs": [
    {
     "data": {
      "text/plain": [
       "4"
      ]
     },
     "execution_count": 5,
     "metadata": {},
     "output_type": "execute_result"
    }
   ],
   "source": [
    "# test code\n",
    "s = \"RLRRLLRLRL\"\n",
    "balancedStringSplit(s)"
   ]
  },
  {
   "cell_type": "markdown",
   "metadata": {},
   "source": [
    "## My Result\n",
    "\n",
    "__Runtime__ : 32 ms, faster than 94.19% of Python3 online submissions for Split a String in Balanced Strings.\n",
    "\n",
    "__Memory Usage__ : 13.8 MB, less than 100.00% of Python3 online submissions for Split a String in Balanced Strings."
   ]
  }
 ],
 "metadata": {
  "kernelspec": {
   "display_name": "Python 3",
   "language": "python",
   "name": "python3"
  },
  "language_info": {
   "codemirror_mode": {
    "name": "ipython",
    "version": 3
   },
   "file_extension": ".py",
   "mimetype": "text/x-python",
   "name": "python",
   "nbconvert_exporter": "python",
   "pygments_lexer": "ipython3",
   "version": "3.7.0"
  }
 },
 "nbformat": 4,
 "nbformat_minor": 2
}
