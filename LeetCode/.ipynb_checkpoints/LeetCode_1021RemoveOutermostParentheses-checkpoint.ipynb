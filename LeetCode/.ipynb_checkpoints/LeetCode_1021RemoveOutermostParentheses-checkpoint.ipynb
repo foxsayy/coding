{
 "cells": [
  {
   "cell_type": "markdown",
   "metadata": {},
   "source": [
    "# LeetCode #1021. Remove Outermost Parentheses\n",
    "\n",
    "## Question\n",
    "    \n",
    "https://leetcode.com/problems/remove-outermost-parentheses/\n",
    "\n",
    "    A valid parentheses string is either empty (\"\"), \"(\" + A + \")\", or A + B, where A and B are valid parentheses strings, and + represents string concatenation.  For example, \"\", \"()\", \"(())()\", and \"(()(()))\" are all valid parentheses strings.\n",
    "\n",
    "    A valid parentheses string S is primitive if it is nonempty, and there does not exist a way to split it into S = A+B, with A and B nonempty valid parentheses strings.\n",
    "\n",
    "    Given a valid parentheses string S, consider its primitive decomposition: S = P_1 + P_2 + ... + P_k, where P_i are primitive valid parentheses strings.\n",
    "\n",
    "    Return S after removing the outermost parentheses of every primitive string in the primitive decomposition of S.\n",
    "\n",
    "Example 1:\n",
    "\n",
    "    Input: \"(()())(())\"\n",
    "    Output: \"()()()\"\n",
    "\n",
    "Explanation: \n",
    "\n",
    "The input string is \"(()())(())\", with primitive decomposition \"(()())\" + \"(())\".\n",
    "    After removing outer parentheses of each part, this is \"()()\" + \"()\" = \"()()()\".\n",
    "\n",
    "Example 2:\n",
    "\n",
    "    Input: \"(()())(())(()(()))\"\n",
    "    Output: \"()()()()(())\"\n",
    "\n",
    "Explanation: \n",
    "\n",
    "    The input string is \"(()())(())(()(()))\", with primitive decomposition \"(()())\" + \"(())\" + \"(()(()))\".\n",
    "    After removing outer parentheses of each part, this is \"()()\" + \"()\" + \"()(())\" = \"()()()()(())\".\n",
    "\n",
    "Example 3:\n",
    "\n",
    "    Input: \"()()\"\n",
    "    Output: \"\"\n",
    "    Explanation: \n",
    "    The input string is \"()()\", with primitive decomposition \"()\" + \"()\".\n",
    "    After removing outer parentheses of each part, this is \"\" + \"\" = \"\".\n",
    "\n",
    "Note:\n",
    "\n",
    "    S.length <= 10000\n",
    "    S[i] is \"(\" or \")\"\n",
    "    S is a valid parentheses string"
   ]
  },
  {
   "cell_type": "markdown",
   "metadata": {},
   "source": [
    "## My Solution"
   ]
  },
  {
   "cell_type": "code",
   "execution_count": 39,
   "metadata": {},
   "outputs": [],
   "source": [
    "def removeOuterParentheses(S):\n",
    "    res = []\n",
    "    c = 0\n",
    "    for p in S:\n",
    "        if p == '(':\n",
    "            c += 1\n",
    "            if c != 1:\n",
    "                res.append(p)\n",
    "        if p == ')':\n",
    "            c -= 1\n",
    "            if c != 0:\n",
    "                res.append(p)\n",
    "    return ''.join(res)"
   ]
  },
  {
   "cell_type": "code",
   "execution_count": 40,
   "metadata": {},
   "outputs": [
    {
     "data": {
      "text/plain": [
       "'()()()'"
      ]
     },
     "execution_count": 40,
     "metadata": {},
     "output_type": "execute_result"
    }
   ],
   "source": [
    "S = \"(()())(())\"\n",
    "removeOuterParentheses(S)"
   ]
  },
  {
   "cell_type": "markdown",
   "metadata": {},
   "source": [
    "## My Result\n",
    "\n",
    "__Runtime__ : 32 ms, faster than 64.74% of Python online submissions for Remove Outermost Parentheses.\n",
    "\n",
    "__Memory Usage__ : 12.1 MB, less than 38.46% of Python online submissions for Remove Outermost Parentheses."
   ]
  }
 ],
 "metadata": {
  "kernelspec": {
   "display_name": "Python 3",
   "language": "python",
   "name": "python3"
  },
  "language_info": {
   "codemirror_mode": {
    "name": "ipython",
    "version": 3
   },
   "file_extension": ".py",
   "mimetype": "text/x-python",
   "name": "python",
   "nbconvert_exporter": "python",
   "pygments_lexer": "ipython3",
   "version": "3.7.0"
  }
 },
 "nbformat": 4,
 "nbformat_minor": 2
}
