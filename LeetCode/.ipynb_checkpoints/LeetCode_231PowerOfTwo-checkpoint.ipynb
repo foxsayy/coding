{
 "cells": [
  {
   "cell_type": "markdown",
   "metadata": {},
   "source": [
    "# LeetCode #231. Power of Two\n",
    "\n",
    "## Question\n",
    "    \n",
    "https://leetcode.com/problems/power-of-two/\n",
    "\n",
    "\n",
    "    Given an integer, write a function to determine if it is a power of two.\n",
    "\n",
    "Example 1:\n",
    "\n",
    "    Input: 1\n",
    "    Output: true \n",
    "    Explanation: 2^0 = 1\n",
    "\n",
    "Example 2:\n",
    "\n",
    "    Input: 16\n",
    "    Output: true\n",
    "    Explanation: 2^4 = 16\n",
    "\n",
    "Example 3:\n",
    "\n",
    "    Input: 218\n",
    "    Output: false"
   ]
  },
  {
   "cell_type": "markdown",
   "metadata": {},
   "source": [
    "## My Solution\n",
    "\n",
    "$2^p$가 $n$보다 커질 때까지 $p$를 0부터 +=1 해줍니다. 그 과정에서 $2^p = n$이면 `True`, 아니면 `False`를 반환합니다."
   ]
  },
  {
   "cell_type": "code",
   "execution_count": 12,
   "metadata": {},
   "outputs": [],
   "source": [
    "def isPowerOfTwo(n):\n",
    "    p = 0\n",
    "    while 2**p <= n:\n",
    "        if 2**p == n:\n",
    "            return True\n",
    "        p += 1\n",
    "    return False"
   ]
  },
  {
   "cell_type": "code",
   "execution_count": 13,
   "metadata": {},
   "outputs": [
    {
     "data": {
      "text/plain": [
       "True"
      ]
     },
     "execution_count": 13,
     "metadata": {},
     "output_type": "execute_result"
    }
   ],
   "source": [
    "# test code\n",
    "n = 16\n",
    "isPowerOfTwo(n)"
   ]
  },
  {
   "cell_type": "markdown",
   "metadata": {},
   "source": [
    "## My Result\n",
    "\n",
    "__Runtime__ : 16 ms, faster than 90.99% of Python online submissions for Power of Two.\n",
    "\n",
    "__Memory Usage__ : 11.7 MB, less than 78.87% of Python online submissions for Power of Two."
   ]
  },
  {
   "cell_type": "markdown",
   "metadata": {},
   "source": [
    "## @Froxie's Solution\n",
    "\n",
    "`&`는 bit 단위로 and 연산을 합니다. "
   ]
  },
  {
   "cell_type": "code",
   "execution_count": 15,
   "metadata": {
    "scrolled": true
   },
   "outputs": [],
   "source": [
    "def isPowerOfTwo(n):\n",
    "    return n > 0 and not (n & n-1)"
   ]
  },
  {
   "cell_type": "code",
   "execution_count": 16,
   "metadata": {},
   "outputs": [
    {
     "data": {
      "text/plain": [
       "True"
      ]
     },
     "execution_count": 16,
     "metadata": {},
     "output_type": "execute_result"
    }
   ],
   "source": [
    "# test code\n",
    "n = 16\n",
    "isPowerOfTwo(n)"
   ]
  },
  {
   "cell_type": "markdown",
   "metadata": {},
   "source": [
    "## @Froxie's Result\n",
    "\n",
    "__Runtime__: 20 ms, faster than 76.45% of Python online submissions for Power of Two.\n",
    "\n",
    "__Memory Usage__ : 11.7 MB, less than 79.76% of Python online submissions for Power of Two."
   ]
  }
 ],
 "metadata": {
  "kernelspec": {
   "display_name": "Python 3",
   "language": "python",
   "name": "python3"
  },
  "language_info": {
   "codemirror_mode": {
    "name": "ipython",
    "version": 3
   },
   "file_extension": ".py",
   "mimetype": "text/x-python",
   "name": "python",
   "nbconvert_exporter": "python",
   "pygments_lexer": "ipython3",
   "version": "3.7.0"
  }
 },
 "nbformat": 4,
 "nbformat_minor": 2
}
