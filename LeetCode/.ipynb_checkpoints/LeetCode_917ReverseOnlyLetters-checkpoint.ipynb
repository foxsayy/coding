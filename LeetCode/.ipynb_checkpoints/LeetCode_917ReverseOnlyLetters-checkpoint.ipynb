{
 "cells": [
  {
   "cell_type": "markdown",
   "metadata": {},
   "source": [
    "# LeetCode #917. Reverse Only Letters\n",
    "\n",
    "## Question\n",
    "    \n",
    "https://leetcode.com/problems/reverse-only-letters/\n",
    "\n",
    "\n",
    "    Given a string S, return the \"reversed\" string where all characters that are not a letter stay in the same place, and all letters reverse their positions.\n",
    "\n",
    "Example 1:\n",
    "\n",
    "    Input: \"ab-cd\"\n",
    "    Output: \"dc-ba\"\n",
    "\n",
    "Example 2:\n",
    "\n",
    "    Input: \"a-bC-dEf-ghIj\"\n",
    "    Output: \"j-Ih-gfE-dCba\"\n",
    "\n",
    "Example 3:\n",
    "\n",
    "    Input: \"Test1ng-Leet=code-Q!\"\n",
    "    Output: \"Qedo1ct-eeLg=ntse-T!\"\n",
    " \n",
    "Note:\n",
    "\n",
    "    S.length <= 100\n",
    "    33 <= S[i].ASCIIcode <= 122 \n",
    "    S doesn't contain \\ or \""
   ]
  },
  {
   "cell_type": "code",
   "execution_count": 68,
   "metadata": {},
   "outputs": [],
   "source": [
    "def reverseOnlyLetters(S):\n",
    "    isalpha = []\n",
    "    not_isalpha = {}\n",
    "\n",
    "    for i, s in enumerate(S):\n",
    "        if s.isalpha():\n",
    "            isalpha.append(s)\n",
    "        else:\n",
    "            not_isalpha[i] = s\n",
    "    isalpha.reverse()\n",
    "    not_isalpha_keys = list(not_isalpha.keys())\n",
    "    \n",
    "    for n in not_isalpha_keys:\n",
    "        isalpha.insert(n, not_isalpha[n])\n",
    "    \n",
    "    res = \"\".join(isalpha)\n",
    "    return res"
   ]
  },
  {
   "cell_type": "code",
   "execution_count": 69,
   "metadata": {},
   "outputs": [
    {
     "data": {
      "text/plain": [
       "'Qedo1ct-eeLg=ntse-T!'"
      ]
     },
     "execution_count": 69,
     "metadata": {},
     "output_type": "execute_result"
    }
   ],
   "source": [
    "# test code (res = \"Qedo1ct-eeLg=ntse-T!\")\n",
    "\n",
    "S = \"Test1ng-Leet=code-Q!\"\n",
    "reverseOnlyLetters(S)"
   ]
  },
  {
   "cell_type": "markdown",
   "metadata": {},
   "source": [
    "## My Result\n",
    "\n",
    "__Runtime__ : 40 ms, faster than 40.60% of Python3 online submissions for Reverse Only Letters.\n",
    "\n",
    "__Memory Usage__ : 13.8 MB, less than 5.56% of Python3 online submissions for Reverse Only Letters."
   ]
  },
  {
   "cell_type": "markdown",
   "metadata": {},
   "source": [
    "## @lee215's Solution"
   ]
  },
  {
   "cell_type": "code",
   "execution_count": 76,
   "metadata": {},
   "outputs": [],
   "source": [
    "def reverseOnlyLetters(S):\n",
    "    # 첫 문자와 끝 문자를 가리키는 i와 j를 포인터로 지정해 시작\n",
    "    i, j = 0, len(S) - 1\n",
    "    S = list(S)\n",
    "    while i < j:\n",
    "        \n",
    "        # i가 가리키는 문자가 알파벳이 아닐 경우에 i += 1 해줍니다.\n",
    "        while i < j and not S[i].isalpha(): \n",
    "            i += 1\n",
    "            \n",
    "        # j가 가리키는 문자가 알파벳이 아닐 경우에 j -= 1 해줍니다.\n",
    "        while i < j and not S[j].isalpha(): \n",
    "            j -= 1\n",
    "        \n",
    "        # 둘 다 알파벳일 경우에만 자리를 바꿔줍니다.\n",
    "        S[i], S[j] = S[j], S[i]\n",
    "        \n",
    "        # 위 작업 이후 i + 1, j - 1을 해주고 i < j일 경우 작업을 반복합니다. \n",
    "        i, j = i + 1, j - 1\n",
    "    return \"\".join(S)"
   ]
  },
  {
   "cell_type": "code",
   "execution_count": 77,
   "metadata": {},
   "outputs": [
    {
     "data": {
      "text/plain": [
       "'d-cba'"
      ]
     },
     "execution_count": 77,
     "metadata": {},
     "output_type": "execute_result"
    }
   ],
   "source": [
    "# test code (res = \"Qedo1ct-eeLg=ntse-T!\")\n",
    "\n",
    "S = \"a-bcd\"\n",
    "reverseOnlyLetters(S)"
   ]
  },
  {
   "cell_type": "markdown",
   "metadata": {},
   "source": [
    "## @@lee215's Result\n",
    "\n",
    "__Runtime__: 32 ms, faster than 92.94% of Python3 online submissions for Reverse Only Letters.\n",
    "\n",
    "__Memory Usage__ : 14 MB, less than 5.56% of Python3 online submissions for Reverse Only Letters."
   ]
  }
 ],
 "metadata": {
  "kernelspec": {
   "display_name": "Python 3",
   "language": "python",
   "name": "python3"
  },
  "language_info": {
   "codemirror_mode": {
    "name": "ipython",
    "version": 3
   },
   "file_extension": ".py",
   "mimetype": "text/x-python",
   "name": "python",
   "nbconvert_exporter": "python",
   "pygments_lexer": "ipython3",
   "version": "3.7.0"
  }
 },
 "nbformat": 4,
 "nbformat_minor": 2
}
