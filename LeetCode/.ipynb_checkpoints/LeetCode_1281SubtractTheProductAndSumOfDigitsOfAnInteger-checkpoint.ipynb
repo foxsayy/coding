{
 "cells": [
  {
   "cell_type": "markdown",
   "metadata": {},
   "source": [
    "# LeetCode #1281. Subtract the Product and Sum of Digits of an Integer\n",
    "\n",
    "## Question\n",
    "    \n",
    "https://leetcode.com/problems/subtract-the-product-and-sum-of-digits-of-an-integer/\n",
    "\n",
    "\n",
    "    Given an integer number n, return the difference between the product of its digits and the sum of its digits.\n",
    " \n",
    "Example 1:\n",
    "\n",
    "    Input: n = 234\n",
    "    Output: 15 \n",
    "\n",
    "Explanation: \n",
    "\n",
    "    Product of digits = 2 * 3 * 4 = 24 \n",
    "    Sum of digits = 2 + 3 + 4 = 9 \n",
    "    Result = 24 - 9 = 15\n",
    "\n",
    "Example 2:\n",
    "\n",
    "    Input: n = 4421\n",
    "    Output: 21\n",
    "\n",
    "Explanation: \n",
    "\n",
    "    Product of digits = 4 * 4 * 2 * 1 = 32 \n",
    "    Sum of digits = 4 + 4 + 2 + 1 = 11 \n",
    "    Result = 32 - 11 = 21\n",
    "\n",
    "Constraints:\n",
    "\n",
    "    1 <= n <= 10^5"
   ]
  },
  {
   "cell_type": "markdown",
   "metadata": {},
   "source": [
    "## My Solution"
   ]
  },
  {
   "cell_type": "code",
   "execution_count": 1,
   "metadata": {},
   "outputs": [],
   "source": [
    "def subtractProductAndSum(n):\n",
    "    p = 1\n",
    "    s = 0\n",
    "    for d in str(n):\n",
    "        p *= int(d)\n",
    "        s += int(d)\n",
    "    return p - s"
   ]
  },
  {
   "cell_type": "code",
   "execution_count": 2,
   "metadata": {},
   "outputs": [
    {
     "data": {
      "text/plain": [
       "15"
      ]
     },
     "execution_count": 2,
     "metadata": {},
     "output_type": "execute_result"
    }
   ],
   "source": [
    "#test code\n",
    "n = 234\n",
    "subtractProductAndSum(n)"
   ]
  },
  {
   "cell_type": "markdown",
   "metadata": {},
   "source": [
    "## My Result\n",
    "\n",
    "__Runtime__ : 24 ms, faster than 83.09% of Python3 online submissions for Subtract the Product and Sum of Digits of an Integer.\n",
    "\n",
    "__Memory Usage__ : 12.6 MB, less than 100.00% of Python3 online submissions for Subtract the Product and Sum of Digits of an Integer."
   ]
  }
 ],
 "metadata": {
  "kernelspec": {
   "display_name": "Python 3",
   "language": "python",
   "name": "python3"
  },
  "language_info": {
   "codemirror_mode": {
    "name": "ipython",
    "version": 3
   },
   "file_extension": ".py",
   "mimetype": "text/x-python",
   "name": "python",
   "nbconvert_exporter": "python",
   "pygments_lexer": "ipython3",
   "version": "3.7.3"
  }
 },
 "nbformat": 4,
 "nbformat_minor": 2
}
