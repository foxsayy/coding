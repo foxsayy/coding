{
 "cells": [
  {
   "cell_type": "markdown",
   "metadata": {},
   "source": [
    "# LeetCode #500. Keyboard Row\n",
    "\n",
    "## Question\n",
    "    \n",
    "https://leetcode.com/problems/keyboard-row/\n",
    "\n",
    "\n",
    "    Given a List of words, return the words that can be typed using letters of alphabet on only one row's of American keyboard like the image below.\n",
    "    \n",
    "Example:\n",
    "\n",
    "    Input: [\"Hello\", \"Alaska\", \"Dad\", \"Peace\"]\n",
    "    Output: [\"Alaska\", \"Dad\"]\n",
    "\n",
    "Note:\n",
    "\n",
    "    You may use one character in the keyboard more than once.\n",
    "    You may assume the input string will only contain letters of alphabet."
   ]
  },
  {
   "cell_type": "markdown",
   "metadata": {},
   "source": [
    "## My Solution"
   ]
  },
  {
   "cell_type": "code",
   "execution_count": 20,
   "metadata": {},
   "outputs": [],
   "source": [
    "def findWords(words):\n",
    "    upper = list('qwertyuiopQWERTYUIOP')\n",
    "    middle = list('asdfghjklASDGHJKL')\n",
    "    lower = list('zxcvbnmZXCVBNM')\n",
    "    res = []\n",
    "    for word in words:\n",
    "        u, m, l = 0, 0, 0\n",
    "        iftrue = 0\n",
    "        for w in word:\n",
    "            if w in upper:\n",
    "                u = 1\n",
    "            if w in middle:\n",
    "                m = 1\n",
    "            if w in lower:\n",
    "                l = 1\n",
    "            if u + m + l > 1:\n",
    "                iftrue = 1\n",
    "                break\n",
    "        if iftrue == 0:\n",
    "            res.append(word)\n",
    "    return res"
   ]
  },
  {
   "cell_type": "code",
   "execution_count": 21,
   "metadata": {},
   "outputs": [
    {
     "data": {
      "text/plain": [
       "['Alaska', 'Dad']"
      ]
     },
     "execution_count": 21,
     "metadata": {},
     "output_type": "execute_result"
    }
   ],
   "source": [
    "words = [\"Hello\", \"Alaska\", \"Dad\", \"Peace\"]\n",
    "findWords(words)"
   ]
  },
  {
   "cell_type": "markdown",
   "metadata": {},
   "source": [
    "## My Result\n",
    "\n",
    "__Runtime__ : 32 ms, faster than 90.38% of Python3 online submissions for Keyboard Row.\n",
    "\n",
    "__Memory Usage__ : 13.8 MB, less than 6.67% of Python3 online submissions for Keyboard Row."
   ]
  }
 ],
 "metadata": {
  "kernelspec": {
   "display_name": "Python 3",
   "language": "python",
   "name": "python3"
  },
  "language_info": {
   "codemirror_mode": {
    "name": "ipython",
    "version": 3
   },
   "file_extension": ".py",
   "mimetype": "text/x-python",
   "name": "python",
   "nbconvert_exporter": "python",
   "pygments_lexer": "ipython3",
   "version": "3.7.0"
  }
 },
 "nbformat": 4,
 "nbformat_minor": 2
}
