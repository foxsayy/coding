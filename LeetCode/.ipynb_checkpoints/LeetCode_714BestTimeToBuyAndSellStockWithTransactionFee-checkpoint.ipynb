{
 "cells": [
  {
   "cell_type": "markdown",
   "metadata": {},
   "source": [
    "# LeetCode #714. Best Time to Buy and Sell Stock with Transaction Fee\n",
    "\n",
    "## Question\n",
    "\n",
    "https://leetcode.com/problems/best-time-to-buy-and-sell-stock-with-transaction-fee/\n",
    "\n",
    "    Your are given an array of integers prices, for which the i-th element is the price of a given stock on day i; and a non-negative integer fee representing a transaction fee.\n",
    "\n",
    "    You may complete as many transactions as you like, but you need to pay the transaction fee for each transaction. You may not buy more than 1 share of a stock at a time (ie. you must sell the stock share before you buy again.)\n",
    "\n",
    "    Return the maximum profit you can make.\n",
    "\n",
    "Example 1:\n",
    "    \n",
    "    Input: prices = [1, 3, 2, 8, 4, 9], fee = 2\n",
    "    Output: 8\n",
    "    \n",
    "Explanation: The maximum profit can be achieved by:\n",
    "\n",
    "    Buying at prices[0] = 1\n",
    "    Selling at prices[3] = 8\n",
    "    Buying at prices[4] = 4\n",
    "    Selling at prices[5] = 9\n",
    "    The total profit is ((8 - 1) - 2) + ((9 - 4) - 2) = 8.\n",
    "    \n",
    "Note:\n",
    "\n",
    "    0 < prices.length <= 50000.\n",
    "    0 < prices[i] < 50000.\n",
    "    0 <= fee < 50000."
   ]
  },
  {
   "cell_type": "markdown",
   "metadata": {},
   "source": [
    "## My Solution"
   ]
  },
  {
   "cell_type": "code",
   "execution_count": 1,
   "metadata": {},
   "outputs": [],
   "source": [
    "def maxProfit(prices, fee):\n",
    "    cash, hold = 0, -prices[0]\n",
    "    for i in range(1, len(prices)):\n",
    "        cash = max(cash, hold + prices[i] - fee)\n",
    "        hold = max(hold, cash - prices[i])\n",
    "    return cash"
   ]
  },
  {
   "cell_type": "code",
   "execution_count": 3,
   "metadata": {},
   "outputs": [
    {
     "data": {
      "text/plain": [
       "8"
      ]
     },
     "execution_count": 3,
     "metadata": {},
     "output_type": "execute_result"
    }
   ],
   "source": [
    "# test code\n",
    "prices = [1, 3, 2, 8, 4, 9]\n",
    "fee = 2\n",
    "maxProfit(prices, fee)"
   ]
  },
  {
   "cell_type": "markdown",
   "metadata": {},
   "source": [
    "## My Result\n",
    "\n",
    "__Runtime__ : 804 ms, faster than 46.07% of Python3 online submissions for Best Time to Buy and Sell Stock with Transaction Fee.\n",
    "\n",
    "__Memory Usage__ : 19.1 MB, less than 12.50% of Python3 online submissions for Best Time to Buy and Sell Stock with Transaction Fee."
   ]
  },
  {
   "cell_type": "markdown",
   "metadata": {},
   "source": [
    "## @honsenyu's Solution"
   ]
  },
  {
   "cell_type": "code",
   "execution_count": 5,
   "metadata": {},
   "outputs": [],
   "source": [
    "def maxProfit(prices, fee):\n",
    "    pre_H, pre_NH = -float('inf'), 0\n",
    "    for p in prices:\n",
    "        pre_H, pre_NH = max(pre_NH - p - fee, pre_H), max(pre_H + p, pre_NH)\n",
    "    return pre_NH"
   ]
  },
  {
   "cell_type": "code",
   "execution_count": 7,
   "metadata": {},
   "outputs": [
    {
     "data": {
      "text/plain": [
       "8"
      ]
     },
     "execution_count": 7,
     "metadata": {},
     "output_type": "execute_result"
    }
   ],
   "source": [
    "# test code\n",
    "prices = [1, 3, 2, 8, 4, 9]\n",
    "fee = 2\n",
    "maxProfit(prices, fee)"
   ]
  },
  {
   "cell_type": "markdown",
   "metadata": {},
   "source": [
    "## @honsenyu's Result\n",
    "\n",
    "__Runtime__ : 764 ms, faster than 73.63% of Python3 online submissions for Best Time to Buy and Sell Stock with Transaction Fee.\n",
    "\n",
    "__Memory Usage__ : 19.2 MB, less than 12.50% of Python3 online submissions for Best Time to Buy and Sell Stock with Transaction Fee."
   ]
  }
 ],
 "metadata": {
  "kernelspec": {
   "display_name": "Python 3",
   "language": "python",
   "name": "python3"
  },
  "language_info": {
   "codemirror_mode": {
    "name": "ipython",
    "version": 3
   },
   "file_extension": ".py",
   "mimetype": "text/x-python",
   "name": "python",
   "nbconvert_exporter": "python",
   "pygments_lexer": "ipython3",
   "version": "3.7.4"
  }
 },
 "nbformat": 4,
 "nbformat_minor": 2
}
