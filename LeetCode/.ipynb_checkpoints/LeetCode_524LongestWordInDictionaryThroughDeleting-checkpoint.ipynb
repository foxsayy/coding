{
 "cells": [
  {
   "cell_type": "markdown",
   "metadata": {},
   "source": [
    "# LeetCode #524. Longest Word in Dictionary through Deleting\n",
    "\n",
    "## Question\n",
    "\n",
    "https://leetcode.com/problems/longest-word-in-dictionary-through-deleting/\n",
    "\n",
    "    Given a string and a string dictionary, find the longest string in the dictionary that can be formed by deleting some characters of the given string. If there are more than one possible results, return the longest word with the smallest lexicographical order. If there is no possible result, return the empty string.\n",
    "\n",
    "    Example 1:\n",
    "    Input:\n",
    "    s = \"abpcplea\", d = [\"ale\",\"apple\",\"monkey\",\"plea\"]\n",
    "\n",
    "    Output: \n",
    "    \"apple\"\n",
    "\n",
    "    Example 2:\n",
    "    Input:\n",
    "    s = \"abpcplea\", d = [\"a\",\"b\",\"c\"]\n",
    "\n",
    "    Output: \n",
    "    \"a\"\n",
    "    \n",
    "    Note:\n",
    "    All the strings in the input will only contain lower-case letters.\n",
    "    The size of the dictionary won't exceed 1,000.\n",
    "    The length of all the strings in the input won't exceed 1,000."
   ]
  },
  {
   "cell_type": "markdown",
   "metadata": {},
   "source": [
    "## My Solution"
   ]
  },
  {
   "cell_type": "code",
   "execution_count": 16,
   "metadata": {},
   "outputs": [],
   "source": [
    "S = \"ab\"\n",
    "D = [\"apple\",\"monkey\",\"plea\",\"ale\"]"
   ]
  },
  {
   "cell_type": "code",
   "execution_count": 17,
   "metadata": {},
   "outputs": [],
   "source": [
    "# D.sort(key = lambda x: (-len(x), x))\n",
    "D.sort(key = lambda x: (-len(x), x))"
   ]
  },
  {
   "cell_type": "code",
   "execution_count": 18,
   "metadata": {},
   "outputs": [
    {
     "data": {
      "text/plain": [
       "['monkey', 'apple', 'plea', 'ale']"
      ]
     },
     "execution_count": 18,
     "metadata": {},
     "output_type": "execute_result"
    }
   ],
   "source": [
    "D"
   ]
  },
  {
   "cell_type": "code",
   "execution_count": 1,
   "metadata": {},
   "outputs": [],
   "source": [
    "S = \"ab\"\n",
    "D = [\"apple\",\"monkey\",\"plea\",\"ale\"]"
   ]
  },
  {
   "cell_type": "code",
   "execution_count": 177,
   "metadata": {},
   "outputs": [],
   "source": [
    "S = \"bab\"\n",
    "D = [\"ba\",\"ab\",\"a\",\"b\"]"
   ]
  },
  {
   "cell_type": "code",
   "execution_count": 178,
   "metadata": {},
   "outputs": [
    {
     "data": {
      "text/plain": [
       "'ab'"
      ]
     },
     "execution_count": 178,
     "metadata": {},
     "output_type": "execute_result"
    }
   ],
   "source": [
    "findLongestWord(S, D)"
   ]
  },
  {
   "cell_type": "code",
   "execution_count": 1,
   "metadata": {},
   "outputs": [],
   "source": [
    "def findLongestWord(S, D):\n",
    "    D.sort(key = lambda x: (-len(x), x))\n",
    "    for word in D:\n",
    "        i = 0\n",
    "        for c in S:\n",
    "            if i < len(word) and word[i] == c:\n",
    "                i += 1\n",
    "        if i == len(word):\n",
    "            return word\n",
    "    return \"\""
   ]
  },
  {
   "cell_type": "code",
   "execution_count": 3,
   "metadata": {},
   "outputs": [
    {
     "data": {
      "text/plain": [
       "'ab'"
      ]
     },
     "execution_count": 3,
     "metadata": {},
     "output_type": "execute_result"
    }
   ],
   "source": [
    "# test code\n",
    "S = \"bab\"\n",
    "D = [\"ba\",\"ab\",\"a\",\"b\"]\n",
    "findLongestWord(S, D)"
   ]
  },
  {
   "cell_type": "markdown",
   "metadata": {},
   "source": [
    "## My Result\n",
    "\n",
    "__Runtime__ : 400 ms, faster than 62.38% of Python3 online submissions for Longest Word in Dictionary through Deleting.\n",
    "\n",
    "__Memory Usage__ : 14.9 MB, less than 25.00% of Python3 online submissions for Longest Word in Dictionary through Deleting."
   ]
  },
  {
   "cell_type": "markdown",
   "metadata": {},
   "source": [
    "## @arun_j's Solution"
   ]
  },
  {
   "cell_type": "code",
   "execution_count": 10,
   "metadata": {},
   "outputs": [],
   "source": [
    "import heapq\n",
    "def findLongestWord(s, d):\n",
    "    heap = []\n",
    "    for word in d:\n",
    "        heapq.heappush(heap, (-len(word), word))\n",
    "    while heap:\n",
    "        _, word = heapq.heappop(heap)\n",
    "        it = iter(s)\n",
    "        if all(c in it for c in word):\n",
    "            return word\n",
    "    return \"\""
   ]
  },
  {
   "cell_type": "code",
   "execution_count": 11,
   "metadata": {},
   "outputs": [
    {
     "data": {
      "text/plain": [
       "'ab'"
      ]
     },
     "execution_count": 11,
     "metadata": {},
     "output_type": "execute_result"
    }
   ],
   "source": [
    "# test code\n",
    "s = \"bab\"\n",
    "d = [\"ba\",\"ab\",\"a\",\"b\"]\n",
    "findLongestWord(S, D)"
   ]
  },
  {
   "cell_type": "markdown",
   "metadata": {},
   "source": [
    "## @arun_j's Result\n",
    "\n",
    "__Runtime__: 128 ms, faster than 79.87% of Python3 online submissions for Longest Word in Dictionary through Deleting.\n",
    "\n",
    "__Memory Usage__ : 14.8 MB, less than 25.00% of Python3 online submissions for Longest Word in Dictionary through Deleting."
   ]
  }
 ],
 "metadata": {
  "kernelspec": {
   "display_name": "Python 3",
   "language": "python",
   "name": "python3"
  },
  "language_info": {
   "codemirror_mode": {
    "name": "ipython",
    "version": 3
   },
   "file_extension": ".py",
   "mimetype": "text/x-python",
   "name": "python",
   "nbconvert_exporter": "python",
   "pygments_lexer": "ipython3",
   "version": "3.7.4"
  }
 },
 "nbformat": 4,
 "nbformat_minor": 2
}
