{
 "cells": [
  {
   "cell_type": "markdown",
   "metadata": {},
   "source": [
    "# LeetCode #844. Backspace String Compare\n",
    "\n",
    "## Question\n",
    "    \n",
    "https://leetcode.com/problems/backspace-string-compare/\n",
    "\n",
    "    Given two strings S and T, return if they are equal when both are typed into empty text editors. # means a backspace character.\n",
    "\n",
    "Example 1:\n",
    "    \n",
    "    Input: S = \"ab#c\", T = \"ad#c\"\n",
    "    Output: true\n",
    "    Explanation: Both S and T become \"ac\".\n",
    "    \n",
    "Example 2:\n",
    "    \n",
    "    Input: S = \"ab##\", T = \"c#d#\"\n",
    "    Output: true\n",
    "    Explanation: Both S and T become \"\".\n",
    "    \n",
    "Example 3:\n",
    "\n",
    "    Input: S = \"a##c\", T = \"#a#c\"\n",
    "    Output: true\n",
    "    Explanation: Both S and T become \"c\".\n",
    "    \n",
    "Example 4:\n",
    "    \n",
    "    Input: S = \"a#c\", T = \"b\"\n",
    "    Output: false\n",
    "    Explanation: S becomes \"c\" while T becomes \"b\".\n",
    "    \n",
    "Note:\n",
    "\n",
    "1 <= S.length <= 200\n",
    "    1 <= T.length <= 200\n",
    "    S and T only contain lowercase letters and '#' characters.\n",
    "    \n",
    "Follow up:\n",
    "\n",
    "    Can you solve it in O(N) time and O(1) space?\n",
    "    "
   ]
  },
  {
   "cell_type": "markdown",
   "metadata": {},
   "source": [
    "## My Solution"
   ]
  },
  {
   "cell_type": "code",
   "execution_count": 10,
   "metadata": {},
   "outputs": [],
   "source": [
    "import re\n",
    "def backspaceCompare(S, T):\n",
    "\n",
    "    todel = re.findall('\\w#', S)\n",
    "    while todel:\n",
    "        S = S.replace(todel[0], \"\")\n",
    "        todel.pop(0)\n",
    "        todel = re.findall('\\w#', S)\n",
    "    S = S.replace('#', '')\n",
    "\n",
    "    todel = re.findall('\\w#', T)\n",
    "    while todel:\n",
    "        T = T.replace(todel[0], \"\")\n",
    "        todel.pop(0)\n",
    "        todel = re.findall('\\w#', T)\n",
    "    T = T.replace('#', '')\n",
    "    print(S, T)\n",
    "        \n",
    "    return S == T"
   ]
  },
  {
   "cell_type": "code",
   "execution_count": 11,
   "metadata": {},
   "outputs": [
    {
     "name": "stdout",
     "output_type": "stream",
     "text": [
      "['o', 'y', 'q'] ['o', 'y', 'q']\n"
     ]
    },
    {
     "data": {
      "text/plain": [
       "True"
      ]
     },
     "execution_count": 11,
     "metadata": {},
     "output_type": "execute_result"
    }
   ],
   "source": [
    "# test code\n",
    "S = \"e##e#o##oyof##q\"\n",
    "T = \"e##e##o##oyof##q\"\n",
    "backspaceCompare(S, T)"
   ]
  },
  {
   "cell_type": "markdown",
   "metadata": {},
   "source": [
    "## My Result\n",
    "\n",
    "__Runtime__ : 40 ms, faster than 5.45% of Python3 online submissions for Backspace String Compare.\n",
    "\n",
    "__Memory Usage__ : 12.8 MB, less than 100.00% of Python3 online submissions for Backspace String Compare."
   ]
  },
  {
   "cell_type": "markdown",
   "metadata": {},
   "source": [
    "## @jackspp's Solution"
   ]
  },
  {
   "cell_type": "code",
   "execution_count": 12,
   "metadata": {},
   "outputs": [],
   "source": [
    "def backspaceCompare(S, T):\n",
    "    def str2stack(str_, stack_):\n",
    "        for s in str_:\n",
    "            if s != '#':\n",
    "                stack_ += [s,]\n",
    "            elif len(stack_) >= 1:\n",
    "                stack_.pop(-1)\n",
    "\n",
    "    sStack, tStack = list(), list()\n",
    "    str2stack(S, sStack); str2stack(T, tStack)\n",
    "    #print(sStack, tStack)\n",
    "    return (sStack == tStack)"
   ]
  },
  {
   "cell_type": "code",
   "execution_count": 13,
   "metadata": {},
   "outputs": [
    {
     "data": {
      "text/plain": [
       "True"
      ]
     },
     "execution_count": 13,
     "metadata": {},
     "output_type": "execute_result"
    }
   ],
   "source": [
    "S = \"e##e#o##oyof##q\"\n",
    "T = \"e##e#fq##o##oyof##q\"\n",
    "backspaceCompare(S, T)"
   ]
  },
  {
   "cell_type": "markdown",
   "metadata": {},
   "source": [
    "## @jackspp's Result\n",
    "\n",
    "__Runtime__ : 28 ms, faster than 70.90% of Python3 online submissions for Backspace String Compare.\n",
    "\n",
    "__Memory Usage__ : 12.7 MB, less than 100.00% of Python3 online submissions for Backspace String Compare."
   ]
  }
 ],
 "metadata": {
  "kernelspec": {
   "display_name": "Python 3",
   "language": "python",
   "name": "python3"
  },
  "language_info": {
   "codemirror_mode": {
    "name": "ipython",
    "version": 3
   },
   "file_extension": ".py",
   "mimetype": "text/x-python",
   "name": "python",
   "nbconvert_exporter": "python",
   "pygments_lexer": "ipython3",
   "version": "3.7.4"
  }
 },
 "nbformat": 4,
 "nbformat_minor": 2
}
