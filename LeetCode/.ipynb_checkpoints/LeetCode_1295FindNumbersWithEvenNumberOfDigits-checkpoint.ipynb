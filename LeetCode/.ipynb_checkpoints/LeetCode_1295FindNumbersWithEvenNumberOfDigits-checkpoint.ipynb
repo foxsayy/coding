{
 "cells": [
  {
   "cell_type": "markdown",
   "metadata": {},
   "source": [
    "# LeetCode #1295. Find Numbers with Even Number of Digits\n",
    "\n",
    "## Question\n",
    "    \n",
    "https://leetcode.com/problems/find-numbers-with-even-number-of-digits/\n",
    "\n",
    "\n",
    "    Given an array nums of integers, return how many of them contain an even number of digits.\n",
    "\n",
    "Example 1:\n",
    "\n",
    "    Input: nums = [12,345,2,6,7896]\n",
    "    Output: 2\n",
    "    \n",
    "Explanation: \n",
    "\n",
    "    12 contains 2 digits (even number of digits). \n",
    "    345 contains 3 digits (odd number of digits). \n",
    "    2 contains 1 digit (odd number of digits). \n",
    "    6 contains 1 digit (odd number of digits). \n",
    "    7896 contains 4 digits (even number of digits). \n",
    "    Therefore only 12 and 7896 contain an even number of digits.\n",
    "\n",
    "Example 2:\n",
    "\n",
    "    Input: nums = [555,901,482,1771]\n",
    "    Output: 1 \n",
    "    \n",
    "Explanation: \n",
    "\n",
    "    Only 1771 contains an even number of digits.\n",
    "\n",
    "Constraints:\n",
    "\n",
    "    1 <= nums.length <= 500\n",
    "    1 <= nums[i] <= 10^5"
   ]
  },
  {
   "cell_type": "markdown",
   "metadata": {},
   "source": [
    "## My Solution"
   ]
  },
  {
   "cell_type": "code",
   "execution_count": 1,
   "metadata": {},
   "outputs": [],
   "source": [
    "def findNumbers(nums):\n",
    "    res = 0\n",
    "    for n in nums:\n",
    "        if len(str(n)) % 2 == 0:\n",
    "            res += 1\n",
    "    return res"
   ]
  },
  {
   "cell_type": "code",
   "execution_count": 2,
   "metadata": {},
   "outputs": [
    {
     "data": {
      "text/plain": [
       "1"
      ]
     },
     "execution_count": 2,
     "metadata": {},
     "output_type": "execute_result"
    }
   ],
   "source": [
    "nums = [555,901,482,1771]\n",
    "findNumbers(nums)"
   ]
  },
  {
   "cell_type": "markdown",
   "metadata": {},
   "source": [
    "## My Result\n",
    "\n",
    "__Runtime__ : 40 ms, faster than 99.58% of Python3 online submissions for Find Numbers with Even Number of Digits.\n",
    "\n",
    "__Memory Usage__ : 12.9 MB, less than 100.00% of Python3 online submissions for Find Numbers with Even Number of Digits."
   ]
  }
 ],
 "metadata": {
  "kernelspec": {
   "display_name": "Python 3",
   "language": "python",
   "name": "python3"
  },
  "language_info": {
   "codemirror_mode": {
    "name": "ipython",
    "version": 3
   },
   "file_extension": ".py",
   "mimetype": "text/x-python",
   "name": "python",
   "nbconvert_exporter": "python",
   "pygments_lexer": "ipython3",
   "version": "3.7.3"
  }
 },
 "nbformat": 4,
 "nbformat_minor": 2
}
