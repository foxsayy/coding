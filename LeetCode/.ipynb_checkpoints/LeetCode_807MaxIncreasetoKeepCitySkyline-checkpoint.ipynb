{
 "cells": [
  {
   "cell_type": "markdown",
   "metadata": {},
   "source": [
    "# LeetCode #807. Max Increase to Keep City Skyline\n",
    "\n",
    "## Question\n",
    "    \n",
    "https://leetcode.com/problems/max-increase-to-keep-city-skyline/\n",
    "\n",
    "\n",
    "    In a 2 dimensional array grid, each value grid[i][j] represents the height of a building located there. We are allowed to increase the height of any number of buildings, by any amount (the amounts can be different for different buildings). Height 0 is considered to be a building as well. \n",
    "\n",
    "    At the end, the \"skyline\" when viewed from all four directions of the grid, i.e. top, bottom, left, and right, must be the same as the skyline of the original grid. A city's skyline is the outer contour of the rectangles formed by all the buildings when viewed from a distance. See the following example.\n",
    "\n",
    "    What is the maximum total sum that the height of the buildings can be increased?\n",
    "\n",
    "Example:\n",
    "\n",
    "    Input: grid = [[3,0,8,4],[2,4,5,7],[9,2,6,3],[0,3,1,0]]\n",
    "    Output: 35\n",
    "    Explanation: \n",
    "    The grid is:\n",
    "    [ [3, 0, 8, 4], \n",
    "      [2, 4, 5, 7],\n",
    "      [9, 2, 6, 3],\n",
    "      [0, 3, 1, 0] ]\n",
    "\n",
    "    The skyline viewed from top or bottom is: [9, 4, 8, 7]\n",
    "    The skyline viewed from left or right is: [8, 7, 9, 3]\n",
    "\n",
    "    The grid after increasing the height of buildings without affecting skylines is:\n",
    "\n",
    "    gridNew = [ [8, 4, 8, 7],\n",
    "                [7, 4, 7, 7],\n",
    "                [9, 4, 8, 7],\n",
    "                [3, 3, 3, 3] ]\n",
    "\n",
    "   Notes:\n",
    "\n",
    "    1 < grid.length = grid[0].length <= 50.\n",
    "    All heights grid[i][j] are in the range [0, 100].\n",
    "    All buildings in grid[i][j] occupy the entire grid cell: that is, they are a 1 x 1 x grid[i][j] rectangular prism.https://leetcode.com/problems/max-increase-to-keep-city-skyline/"
   ]
  },
  {
   "cell_type": "markdown",
   "metadata": {},
   "source": [
    "## My Solution"
   ]
  },
  {
   "cell_type": "code",
   "execution_count": 41,
   "metadata": {},
   "outputs": [],
   "source": [
    "def maxIncreaseKeepingSkyline(grid) -> int:\n",
    "    import numpy as np\n",
    "    t_grid = np.transpose(grid)\n",
    "    res = 0\n",
    "    for i in range(len(grid)):\n",
    "        for j in range(len(grid[0])):\n",
    "            temp = min(max(grid[i]), max(t_grid[j]))\n",
    "            res += temp - grid[i][j]\n",
    "            grid[i][j] = temp\n",
    "\n",
    "    return res"
   ]
  },
  {
   "cell_type": "code",
   "execution_count": 42,
   "metadata": {},
   "outputs": [
    {
     "data": {
      "text/plain": [
       "35"
      ]
     },
     "execution_count": 42,
     "metadata": {},
     "output_type": "execute_result"
    }
   ],
   "source": [
    "# test code\n",
    "grid = [[3, 0, 8, 4],   \n",
    "        [2, 4, 5, 7],   \n",
    "        [9, 2, 6, 3],   \n",
    "        [0, 3, 1, 0]]   \n",
    "maxIncreaseKeepingSkyline(grid)"
   ]
  },
  {
   "cell_type": "markdown",
   "metadata": {},
   "source": [
    "## My Result\n",
    "\n",
    "__Runtime__ : 240 ms, faster than 5.01% of Python3 online submissions for Max Increase to Keep City Skyline.\n",
    "\n",
    "__Memory Usage__ : 27.3 MB, less than 5.00% of Python3 online submissions for Max Increase to Keep City Skyline."
   ]
  },
  {
   "cell_type": "markdown",
   "metadata": {},
   "source": [
    "## @wemwalker's Solution"
   ]
  },
  {
   "cell_type": "code",
   "execution_count": 45,
   "metadata": {},
   "outputs": [],
   "source": [
    "def maxIncreaseKeepingSkyline(grid):\n",
    "    rows = list(map(max, grid))\n",
    "    cols = list(map(max, zip(*grid)))\n",
    "    return sum(min(i, j) for i in rows for j in cols) - sum(map(sum, grid))"
   ]
  },
  {
   "cell_type": "code",
   "execution_count": 67,
   "metadata": {},
   "outputs": [
    {
     "data": {
      "text/plain": [
       "35"
      ]
     },
     "execution_count": 67,
     "metadata": {},
     "output_type": "execute_result"
    }
   ],
   "source": [
    "grid = [[3, 0, 8, 4],   \n",
    "        [2, 4, 5, 7],   \n",
    "        [9, 2, 6, 3],   \n",
    "        [0, 3, 1, 0]]   \n",
    "maxIncreaseKeepingSkyline(grid)"
   ]
  },
  {
   "cell_type": "markdown",
   "metadata": {},
   "source": [
    "## @wemwalker's Result\n",
    "\n",
    "__Runtime__: 76 ms, faster than 98.39% of Python3 online submissions for Max Increase to Keep City Skyline.\n",
    "\n",
    "__Memory Usage__ : 14 MB, less than 5.00% of Python3 online submissions for Max Increase to Keep City Skyline."
   ]
  }
 ],
 "metadata": {
  "kernelspec": {
   "display_name": "Python 3",
   "language": "python",
   "name": "python3"
  },
  "language_info": {
   "codemirror_mode": {
    "name": "ipython",
    "version": 3
   },
   "file_extension": ".py",
   "mimetype": "text/x-python",
   "name": "python",
   "nbconvert_exporter": "python",
   "pygments_lexer": "ipython3",
   "version": "3.7.0"
  }
 },
 "nbformat": 4,
 "nbformat_minor": 2
}
