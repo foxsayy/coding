{
 "cells": [
  {
   "cell_type": "markdown",
   "metadata": {},
   "source": [
    "# LeetCode #540. Detect Capital\n",
    "\n",
    "## Question\n",
    "\n",
    "https://leetcode.com/problems/detect-capital/\n",
    "\n",
    "    Given a word, you need to judge whether the usage of capitals in it is right or not.\n",
    "\n",
    "    We define the usage of capitals in a word to be right when one of the following cases holds:\n",
    "\n",
    "    All letters in this word are capitals, like \"USA\".\n",
    "    All letters in this word are not capitals, like \"leetcode\".\n",
    "    Only the first letter in this word is capital if it has more than one letter, like \"Google\".\n",
    "    Otherwise, we define that this word doesn't use capitals in a right way.\n",
    "\n",
    "    Example 1:\n",
    "    Input: \"USA\"\n",
    "    Output: True\n",
    "    \n",
    "    Example 2:\n",
    "    Input: \"FlaG\"\n",
    "    Output: False\n",
    "    \n",
    "    Note: The input will be a non-empty word consisting of uppercase and lowercase latin letters."
   ]
  },
  {
   "cell_type": "markdown",
   "metadata": {},
   "source": [
    "## My Solution"
   ]
  },
  {
   "cell_type": "code",
   "execution_count": 1,
   "metadata": {},
   "outputs": [],
   "source": [
    "def detectCapitalUse(word):\n",
    "    if word == word.upper() or word == word.lower() or word == word[0].upper()+word[1:].lower():\n",
    "        return True\n",
    "    else:\n",
    "        return False"
   ]
  },
  {
   "cell_type": "code",
   "execution_count": 2,
   "metadata": {},
   "outputs": [
    {
     "data": {
      "text/plain": [
       "True"
      ]
     },
     "execution_count": 2,
     "metadata": {},
     "output_type": "execute_result"
    }
   ],
   "source": [
    "# test code\n",
    "w1 = \"USA\"\n",
    "w2 = \"leetcode\"\n",
    "w3 = \"Google\"\n",
    "w4 = \"FlaG\"\n",
    "\n",
    "detectCapitalUse(w1)"
   ]
  },
  {
   "cell_type": "code",
   "execution_count": 3,
   "metadata": {},
   "outputs": [
    {
     "data": {
      "text/plain": [
       "True"
      ]
     },
     "execution_count": 3,
     "metadata": {},
     "output_type": "execute_result"
    }
   ],
   "source": [
    "detectCapitalUse(w2)"
   ]
  },
  {
   "cell_type": "code",
   "execution_count": 4,
   "metadata": {},
   "outputs": [
    {
     "data": {
      "text/plain": [
       "True"
      ]
     },
     "execution_count": 4,
     "metadata": {},
     "output_type": "execute_result"
    }
   ],
   "source": [
    "detectCapitalUse(w3)"
   ]
  },
  {
   "cell_type": "code",
   "execution_count": 5,
   "metadata": {},
   "outputs": [
    {
     "data": {
      "text/plain": [
       "False"
      ]
     },
     "execution_count": 5,
     "metadata": {},
     "output_type": "execute_result"
    }
   ],
   "source": [
    "detectCapitalUse(w4)"
   ]
  },
  {
   "cell_type": "markdown",
   "metadata": {},
   "source": [
    "## My Result\n",
    "\n",
    "__Runtime__ : 20 ms, faster than 96.89% of Python online submissions for Detect Capital.\n",
    "\n",
    "__Memory Usage__ : 11.9 MB, less than 9.95% of Python online submissions for Detect Capital."
   ]
  },
  {
   "cell_type": "markdown",
   "metadata": {},
   "source": [
    "## @StefanPochmann's Solution"
   ]
  },
  {
   "cell_type": "code",
   "execution_count": 11,
   "metadata": {},
   "outputs": [],
   "source": [
    "def detectCapitalUse(word):\n",
    "    return word.isupper() or word.islower() or word.istitle()"
   ]
  },
  {
   "cell_type": "code",
   "execution_count": 12,
   "metadata": {},
   "outputs": [
    {
     "data": {
      "text/plain": [
       "True"
      ]
     },
     "execution_count": 12,
     "metadata": {},
     "output_type": "execute_result"
    }
   ],
   "source": [
    "detectCapitalUse(w1)"
   ]
  },
  {
   "cell_type": "code",
   "execution_count": 13,
   "metadata": {},
   "outputs": [
    {
     "data": {
      "text/plain": [
       "True"
      ]
     },
     "execution_count": 13,
     "metadata": {},
     "output_type": "execute_result"
    }
   ],
   "source": [
    "detectCapitalUse(w2)"
   ]
  },
  {
   "cell_type": "code",
   "execution_count": 14,
   "metadata": {},
   "outputs": [
    {
     "data": {
      "text/plain": [
       "True"
      ]
     },
     "execution_count": 14,
     "metadata": {},
     "output_type": "execute_result"
    }
   ],
   "source": [
    "detectCapitalUse(w3)"
   ]
  },
  {
   "cell_type": "code",
   "execution_count": 15,
   "metadata": {},
   "outputs": [
    {
     "data": {
      "text/plain": [
       "False"
      ]
     },
     "execution_count": 15,
     "metadata": {},
     "output_type": "execute_result"
    }
   ],
   "source": [
    "detectCapitalUse(w4)"
   ]
  },
  {
   "cell_type": "markdown",
   "metadata": {},
   "source": [
    "### About StefanPochmann's Solution\n",
    "\n",
    "    isupper() : 문자열이 대문자인 경우 True, 아니면 False를 반환\n",
    "    \n",
    "    islower() : 문자열이 소문자인 경우 True, 아니면 False를 반환\n",
    "    \n",
    "    istitle() : 문자열이 제목 스타일(첫 문자가 대문자고 나머지는 소문자)인 경우 True, 그렇지않으면 False반환\n",
    "    "
   ]
  },
  {
   "cell_type": "markdown",
   "metadata": {},
   "source": [
    "## @StefanPochmann's Result\n",
    "\n",
    "__Runtime__ : 16 ms, faster than 98.34% of Python online submissions for Detect Capital.\n",
    "\n",
    "__Memory Usage__ : 11.8 MB, less than 55.66% of Python online submissions for Detect Capital."
   ]
  }
 ],
 "metadata": {
  "kernelspec": {
   "display_name": "Python 3",
   "language": "python",
   "name": "python3"
  },
  "language_info": {
   "codemirror_mode": {
    "name": "ipython",
    "version": 3
   },
   "file_extension": ".py",
   "mimetype": "text/x-python",
   "name": "python",
   "nbconvert_exporter": "python",
   "pygments_lexer": "ipython3",
   "version": "3.7.0"
  }
 },
 "nbformat": 4,
 "nbformat_minor": 2
}
