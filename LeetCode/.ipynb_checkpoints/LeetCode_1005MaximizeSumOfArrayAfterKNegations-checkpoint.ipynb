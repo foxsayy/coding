{
 "cells": [
  {
   "cell_type": "markdown",
   "metadata": {},
   "source": [
    "# LeetCode #1005. Maximize Sum Of Array After K Negations\n",
    "\n",
    "## Question\n",
    "\n",
    "https://leetcode.com/problems/maximize-sum-of-array-after-k-negations/\n",
    "\n",
    "    Given an array A of integers, we must modify the array in the following way: we choose an i and replace A[i] with -A[i], and we repeat this process K times in total.  (We may choose the same index i multiple times.)\n",
    "\n",
    "    Return the largest possible sum of the array after modifying it in this way.\n",
    "\n",
    "\n",
    "\n",
    "Example 1:\n",
    "\n",
    "    Input: A = [4,2,3], K = 1\n",
    "    Output: 5\n",
    "    Explanation: Choose indices (1,) and A becomes [4,-2,3].\n",
    "    \n",
    "Example 2:\n",
    "\n",
    "    Input: A = [3,-1,0,2], K = 3\n",
    "    Output: 6\n",
    "    Explanation: Choose indices (1, 2, 2) and A becomes [3,1,0,2].\n",
    "    \n",
    "Example 3:\n",
    "\n",
    "    Input: A = [2,-3,-1,5,-4], K = 2\n",
    "    Output: 13\n",
    "    Explanation: Choose indices (1, 4) and A becomes [2,3,-1,5,4].\n",
    "    \n",
    "Note:\n",
    "\n",
    "    1 <= A.length <= 10000\n",
    "    1 <= K <= 10000\n",
    "    -100 <= A[i] <= 100"
   ]
  },
  {
   "cell_type": "markdown",
   "metadata": {},
   "source": [
    "## My Solution"
   ]
  },
  {
   "cell_type": "code",
   "execution_count": 58,
   "metadata": {},
   "outputs": [],
   "source": [
    "def largestSumAfterKNegations(A, K):\n",
    "    \n",
    "    # 음수의 갯수를 셉니다.\n",
    "    num_negative = 0\n",
    "    for a in A:\n",
    "        if a < 0:\n",
    "            num_negative += 1\n",
    "    A.sort()\n",
    "    \n",
    "    # 음수의 갯수가 K보다 클 경우 \n",
    "    # 절대값이 큰 수부터 K개를 양수로 만들어줍니다.\n",
    "    if num_negative > K:\n",
    "        for i in range(K):\n",
    "            A[i] = A[i] * -1\n",
    "        return sum(A)\n",
    "\n",
    "    # 음수의 갯수가 K보다 작거나 같을 경우  \n",
    "    # K - 음수의 갯수가 짝수이면 전부 양수로 만듭니다.\n",
    "    # K - 음수의 갯수가 홀수이면 절대값이 가장 작은 수 하나만 음수로 만듭니다.\n",
    "    else:\n",
    "        for i in range(len(A)):\n",
    "            A[i] = abs(A[i])\n",
    "        A.sort()\n",
    "            \n",
    "        if (K - num_negative) % 2 == 1:\n",
    "            A[0] = A[0] * -1\n",
    "        return sum(A)"
   ]
  },
  {
   "cell_type": "code",
   "execution_count": 53,
   "metadata": {},
   "outputs": [
    {
     "data": {
      "text/plain": [
       "13"
      ]
     },
     "execution_count": 53,
     "metadata": {},
     "output_type": "execute_result"
    }
   ],
   "source": [
    "# test code (Output: 13)\n",
    "A = [2,-3,-1,5,-4]\n",
    "K = 2\n",
    "largestSumAfterKNegations(A, K)"
   ]
  },
  {
   "cell_type": "markdown",
   "metadata": {},
   "source": [
    "## My Result\n",
    "\n",
    "__Runtime__ : 36 ms, faster than 55.11% of Python online submissions for Maximize Sum Of Array After K Negations.\n",
    "\n",
    "__Memory Usage__ : 11.9 MB, less than 21.28% of Python online submissions for Maximize Sum Of Array After K Negations."
   ]
  },
  {
   "cell_type": "markdown",
   "metadata": {},
   "source": [
    "## @Jason003's Solution"
   ]
  },
  {
   "cell_type": "code",
   "execution_count": 56,
   "metadata": {},
   "outputs": [],
   "source": [
    "def largestSumAfterKNegations(A, K):\n",
    "    \n",
    "    # 음수 갯수 카운트\n",
    "    negNum = sum([a < 0 for a in A])\n",
    "    \n",
    "    # 음수 갯수가 K보다 크거나 같을 경우\n",
    "    if negNum >= K:\n",
    "        A.sort()\n",
    "        res = 0\n",
    "        for i in range(len(A)):\n",
    "            if i < K: \n",
    "                res += -A[i]\n",
    "            else: \n",
    "                res += A[i]\n",
    "        return res\n",
    "\n",
    "    # 음수 갯수가 K보다 작을 경우\n",
    "    else:\n",
    "        if (negNum - K) % 2:\n",
    "            return sum(list(map(abs, A))) - 2 * min(list(map(abs, A)))\n",
    "        else: \n",
    "            return sum(list(map(abs, A)))"
   ]
  },
  {
   "cell_type": "code",
   "execution_count": 73,
   "metadata": {},
   "outputs": [
    {
     "data": {
      "text/plain": [
       "13"
      ]
     },
     "execution_count": 73,
     "metadata": {},
     "output_type": "execute_result"
    }
   ],
   "source": [
    "# test code (Output: 13)\n",
    "A = [2,-3,-1,5,-4]\n",
    "K = 2\n",
    "largestSumAfterKNegations(A, K)"
   ]
  },
  {
   "cell_type": "markdown",
   "metadata": {},
   "source": [
    "### About Jason003's Solution"
   ]
  },
  {
   "cell_type": "code",
   "execution_count": 76,
   "metadata": {},
   "outputs": [
    {
     "data": {
      "text/plain": [
       "[False, True, True, False, True]"
      ]
     },
     "execution_count": 76,
     "metadata": {},
     "output_type": "execute_result"
    }
   ],
   "source": [
    "# 음수 카운트하기\n",
    "A = [2,-3,-1,5,-4]\n",
    "[a < 0 for a in A]"
   ]
  },
  {
   "cell_type": "code",
   "execution_count": 77,
   "metadata": {
    "scrolled": true
   },
   "outputs": [
    {
     "data": {
      "text/plain": [
       "3"
      ]
     },
     "execution_count": 77,
     "metadata": {},
     "output_type": "execute_result"
    }
   ],
   "source": [
    "sum([a < 0 for a in A])"
   ]
  },
  {
   "cell_type": "code",
   "execution_count": 88,
   "metadata": {},
   "outputs": [
    {
     "data": {
      "text/plain": [
       "[2, 3, 1, 5, 4]"
      ]
     },
     "execution_count": 88,
     "metadata": {},
     "output_type": "execute_result"
    }
   ],
   "source": [
    "# 리스트 전체에 절대값 씌우기\n",
    "A = [2,-3,-1,5,-4]\n",
    "list(map(abs, A))"
   ]
  },
  {
   "cell_type": "markdown",
   "metadata": {},
   "source": [
    "## @Jason003's Result\n",
    "\n",
    "__Runtime__ : 32 ms, faster than 63.78% of Python online submissions for Maximize Sum Of Array After K Negations.\n",
    "\n",
    "__Memory Usage__ : 11.8 MB, less than 35.64% of Python online submissions for Maximize Sum Of Array After K Negations."
   ]
  }
 ],
 "metadata": {
  "kernelspec": {
   "display_name": "Python 3",
   "language": "python",
   "name": "python3"
  },
  "language_info": {
   "codemirror_mode": {
    "name": "ipython",
    "version": 3
   },
   "file_extension": ".py",
   "mimetype": "text/x-python",
   "name": "python",
   "nbconvert_exporter": "python",
   "pygments_lexer": "ipython3",
   "version": "3.7.4"
  }
 },
 "nbformat": 4,
 "nbformat_minor": 2
}
