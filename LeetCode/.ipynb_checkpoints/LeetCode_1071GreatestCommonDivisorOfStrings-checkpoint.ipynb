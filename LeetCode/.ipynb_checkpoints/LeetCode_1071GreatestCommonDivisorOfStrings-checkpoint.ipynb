{
 "cells": [
  {
   "cell_type": "markdown",
   "metadata": {},
   "source": [
    "# LeetCode #1071. Greatest Common Divisor of Strings\n",
    "\n",
    "## Question\n",
    "    \n",
    "https://leetcode.com/problems/greatest-common-divisor-of-strings/\n",
    "\n",
    "\n",
    "    For strings S and T, we say \"T divides S\" if and only if S = T + ... + T  (T concatenated with itself 1 or more times)\n",
    "\n",
    "    Return the largest string X such that X divides str1 and X divides str2.\n",
    "\n",
    "Example 1:\n",
    "\n",
    "    Input: str1 = \"ABCABC\", str2 = \"ABC\"\n",
    "    Output: \"ABC\"\n",
    "\n",
    "Example 2:\n",
    "\n",
    "    Input: str1 = \"ABABAB\", str2 = \"ABAB\"\n",
    "    Output: \"AB\"\n",
    "\n",
    "Example 3:\n",
    "\n",
    "    Input: str1 = \"LEET\", str2 = \"CODE\"\n",
    "    Output: \"\"\n",
    "\n",
    "Note:\n",
    "\n",
    "    1 <= str1.length <= 1000\n",
    "    1 <= str2.length <= 1000\n",
    "    str1[i] and str2[i] are English uppercase letters."
   ]
  },
  {
   "cell_type": "markdown",
   "metadata": {},
   "source": [
    "## My Solution"
   ]
  },
  {
   "cell_type": "code",
   "execution_count": 67,
   "metadata": {},
   "outputs": [],
   "source": [
    "def gcdOfStrings(str1, str2):\n",
    "\n",
    "    a = len(str1)\n",
    "    b = len(str2)\n",
    "\n",
    "    while b != 0:\n",
    "        (a, b) = (b, a % b)\n",
    "    gcd = a\n",
    "    yaksu = []\n",
    "\n",
    "    for i in range(1, gcd + 1):\n",
    "        if gcd % i == 0:\n",
    "            yaksu.append(i)\n",
    "\n",
    "    yaksu.reverse()\n",
    "    for y in yaksu:\n",
    "        tmp = str2[0:y]\n",
    "        tmp1 = len(str1) / y\n",
    "        if tmp * int(tmp1) == str1:\n",
    "            return tmp\n",
    "    return \"\""
   ]
  },
  {
   "cell_type": "code",
   "execution_count": 68,
   "metadata": {},
   "outputs": [
    {
     "data": {
      "text/plain": [
       "'ABC'"
      ]
     },
     "execution_count": 68,
     "metadata": {},
     "output_type": "execute_result"
    }
   ],
   "source": [
    "# test code\n",
    "str1 = \"ABCABC\"\n",
    "str2 = \"ABC\"\n",
    "gcdOfStrings(str1, str2)"
   ]
  },
  {
   "cell_type": "markdown",
   "metadata": {},
   "source": [
    "## My Result\n",
    "\n",
    "__Runtime__ : 20 ms, faster than 98.70% of Python3 online submissions for Greatest Common Divisor of Strings.\n",
    "\n",
    "__Memory Usage__ : 12.7 MB, less than 100.00% of Python3 online submissions for Greatest Common Divisor of Strings."
   ]
  },
  {
   "cell_type": "markdown",
   "metadata": {},
   "source": [
    "## @sberens's Solution"
   ]
  },
  {
   "cell_type": "code",
   "execution_count": 65,
   "metadata": {},
   "outputs": [],
   "source": [
    "def gcdOfStrings(str1, str2):\n",
    "    import math\n",
    "    gcd = math.gcd(len(str1), len(str2))\n",
    "    gcd_slice = str1[:gcd]\n",
    "    return gcd_slice if gcd * str1.count(gcd_slice) == len(str1) and gcd * str2.count(gcd_slice) == len(str2) else \"\""
   ]
  },
  {
   "cell_type": "code",
   "execution_count": 66,
   "metadata": {},
   "outputs": [
    {
     "data": {
      "text/plain": [
       "'ABC'"
      ]
     },
     "execution_count": 66,
     "metadata": {},
     "output_type": "execute_result"
    }
   ],
   "source": [
    "# test code\n",
    "str1 = \"ABCABC\"\n",
    "str2 = \"ABC\"\n",
    "gcdOfStrings(str1, str2)"
   ]
  },
  {
   "cell_type": "code",
   "execution_count": 70,
   "metadata": {},
   "outputs": [
    {
     "data": {
      "text/plain": [
       "3"
      ]
     },
     "execution_count": 70,
     "metadata": {},
     "output_type": "execute_result"
    }
   ],
   "source": [
    "# MATH의 gcd\n",
    "import math\n",
    "str1 = \"ABCABC\"\n",
    "str2 = \"ABC\"\n",
    "gcd = math.gcd(len(str1), len(str2))\n",
    "gcd"
   ]
  },
  {
   "cell_type": "markdown",
   "metadata": {},
   "source": [
    "## @sberens's Result\n",
    "\n",
    "__Runtime__: 16 ms, faster than 99.67% of Python3 online submissions for Greatest Common Divisor of Strings.\n",
    "\n",
    "__Memory Usage__ : 12.7 MB, less than 100.00% of Python3 online submissions for Greatest Common Divisor of Strings."
   ]
  }
 ],
 "metadata": {
  "kernelspec": {
   "display_name": "Python 3",
   "language": "python",
   "name": "python3"
  },
  "language_info": {
   "codemirror_mode": {
    "name": "ipython",
    "version": 3
   },
   "file_extension": ".py",
   "mimetype": "text/x-python",
   "name": "python",
   "nbconvert_exporter": "python",
   "pygments_lexer": "ipython3",
   "version": "3.7.3"
  }
 },
 "nbformat": 4,
 "nbformat_minor": 2
}
