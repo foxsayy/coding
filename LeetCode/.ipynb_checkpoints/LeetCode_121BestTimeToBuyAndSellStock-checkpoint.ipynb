{
 "cells": [
  {
   "cell_type": "markdown",
   "metadata": {},
   "source": [
    "# LeetCode #121. Best Time to Buy and Sell Stock\n",
    "\n",
    "## Question\n",
    "    \n",
    "https://leetcode.com/problems/best-time-to-buy-and-sell-stock/\n",
    "\n",
    "\n",
    "    Say you have an array for which the ith element is the price of a given stock on day i.\n",
    "\n",
    "    If you were only permitted to complete at most one transaction (i.e., buy one and sell one share of the stock), design an algorithm to find the maximum profit.\n",
    "\n",
    "    Note that you cannot sell a stock before you buy one.\n",
    "\n",
    "Example 1:\n",
    "\n",
    "    Input: [7,1,5,3,6,4]\n",
    "    Output: 5\n",
    "    Explanation: Buy on day 2 (price = 1) and sell on day 5 (price = 6), profit = 6-1 = 5.\n",
    "                 Not 7-1 = 6, as selling price needs to be larger than buying price.\n",
    "\n",
    "Example 2:\n",
    "\n",
    "    Input: [7,6,4,3,1]\n",
    "    Output: 0\n",
    "    Explanation: In this case, no transaction is done, i.e. max profit = 0."
   ]
  },
  {
   "cell_type": "markdown",
   "metadata": {},
   "source": [
    "## My Solution"
   ]
  },
  {
   "cell_type": "code",
   "execution_count": 53,
   "metadata": {},
   "outputs": [],
   "source": [
    "def maxProfit(prices):\n",
    "    max_profit, min_price = 0, float('inf')\n",
    "    for price in prices:\n",
    "        min_price = min(min_price, price)\n",
    "        profit = price - min_price\n",
    "        max_profit = max(max_profit, profit)\n",
    "    return max_profit"
   ]
  },
  {
   "cell_type": "code",
   "execution_count": 15,
   "metadata": {
    "scrolled": true
   },
   "outputs": [
    {
     "data": {
      "text/plain": [
       "0"
      ]
     },
     "execution_count": 15,
     "metadata": {},
     "output_type": "execute_result"
    }
   ],
   "source": [
    "# test code\n",
    "prices = [7,6,4,3,1]\n",
    "maxProfit(prices)"
   ]
  },
  {
   "cell_type": "markdown",
   "metadata": {},
   "source": [
    "## My Result\n",
    "\n",
    "__Runtime__ : 52 ms, faster than 61.71% of Python online submissions for Best Time to Buy and Sell Stock.\n",
    "\n",
    "__Memory Usage__ : 12.6 MB, less than 50.40% of Python online submissions for Best Time to Buy and Sell Stock."
   ]
  }
 ],
 "metadata": {
  "kernelspec": {
   "display_name": "Python 3",
   "language": "python",
   "name": "python3"
  },
  "language_info": {
   "codemirror_mode": {
    "name": "ipython",
    "version": 3
   },
   "file_extension": ".py",
   "mimetype": "text/x-python",
   "name": "python",
   "nbconvert_exporter": "python",
   "pygments_lexer": "ipython3",
   "version": "3.7.0"
  }
 },
 "nbformat": 4,
 "nbformat_minor": 2
}
