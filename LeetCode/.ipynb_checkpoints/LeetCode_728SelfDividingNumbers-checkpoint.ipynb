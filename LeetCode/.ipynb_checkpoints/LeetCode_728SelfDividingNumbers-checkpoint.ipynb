{
 "cells": [
  {
   "cell_type": "markdown",
   "metadata": {},
   "source": [
    "# LeetCode #728. Self Dividing Numbers\n",
    "\n",
    "## Question\n",
    "    \n",
    "https://leetcode.com/problems/self-dividing-numbers/\n",
    "\n",
    "    A self-dividing number is a number that is divisible by every digit it contains.\n",
    "\n",
    "    For example, 128 is a self-dividing number because 128 % 1 == 0, 128 % 2 == 0, and 128 % 8 == 0.\n",
    "\n",
    "    Also, a self-dividing number is not allowed to contain the digit zero.\n",
    "\n",
    "    Given a lower and upper number bound, output a list of every possible self dividing number, including the bounds if possible.\n",
    "\n",
    "    Example 1:\n",
    "\n",
    "    Input: \n",
    "    left = 1, right = 22\n",
    "    Output: [1, 2, 3, 4, 5, 6, 7, 8, 9, 11, 12, 15, 22]\n",
    "\n",
    "Note:\n",
    "\n",
    "    The boundaries of each input argument are 1 <= left <= right <= 10000."
   ]
  },
  {
   "cell_type": "markdown",
   "metadata": {},
   "source": [
    "## My Solution"
   ]
  },
  {
   "cell_type": "code",
   "execution_count": 22,
   "metadata": {},
   "outputs": [],
   "source": [
    "def selfDividingNumbers(left, right):\n",
    "    def selfDividingNumberOrNot(number):\n",
    "        number_str = str(number)\n",
    "        if len(number_str) == 1:\n",
    "            return True\n",
    "        for n in number_str:\n",
    "            if int(n) == 0:\n",
    "                return False\n",
    "            if number % int(n) != 0:\n",
    "                return False\n",
    "        return True\n",
    "    res = []\n",
    "    for i in range(left, right + 1):\n",
    "        if selfDividingNumberOrNot(i):\n",
    "            res.append(i)\n",
    "    return res"
   ]
  },
  {
   "cell_type": "code",
   "execution_count": 23,
   "metadata": {},
   "outputs": [
    {
     "data": {
      "text/plain": [
       "[1, 2, 3, 4, 5, 6, 7, 8, 9, 11, 12, 15, 22]"
      ]
     },
     "execution_count": 23,
     "metadata": {},
     "output_type": "execute_result"
    }
   ],
   "source": [
    "# test code\n",
    "selfDividingNumbers(1, 22)"
   ]
  },
  {
   "cell_type": "markdown",
   "metadata": {},
   "source": [
    "## My Result\n",
    "\n",
    "__Runtime__ : 60 ms, faster than 37.88% of Python online submissions for Self Dividing Numbers.\n",
    "\n",
    "__Memory Usage__ : 11.9 MB, less than 40.00% of Python online submissions for Self Dividing Numbers."
   ]
  },
  {
   "cell_type": "markdown",
   "metadata": {},
   "source": [
    "## @PiscesDream's Solution"
   ]
  },
  {
   "cell_type": "code",
   "execution_count": 24,
   "metadata": {},
   "outputs": [],
   "source": [
    "def selfDividingNumbers(left, right):\n",
    "    return [x for x in range(left, right+1) if all((i and (x % i==0) for i in map(int, str(x))))]"
   ]
  },
  {
   "cell_type": "code",
   "execution_count": 25,
   "metadata": {},
   "outputs": [
    {
     "data": {
      "text/plain": [
       "[1, 2, 3, 4, 5, 6, 7, 8, 9, 11, 12, 15, 22]"
      ]
     },
     "execution_count": 25,
     "metadata": {},
     "output_type": "execute_result"
    }
   ],
   "source": [
    "# test code\n",
    "selfDividingNumbers(1, 22)"
   ]
  },
  {
   "cell_type": "markdown",
   "metadata": {},
   "source": [
    "## @PiscesDream's Result\n",
    "\n",
    "__Runtime__: 84 ms, faster than 15.56% of Python online submissions for Self Dividing Numbers.\n",
    "\n",
    "__Memory Usage__ : 11.8 MB, less than 90.00% of Python online submissions for Self Dividing Numbers."
   ]
  }
 ],
 "metadata": {
  "kernelspec": {
   "display_name": "Python 3",
   "language": "python",
   "name": "python3"
  },
  "language_info": {
   "codemirror_mode": {
    "name": "ipython",
    "version": 3
   },
   "file_extension": ".py",
   "mimetype": "text/x-python",
   "name": "python",
   "nbconvert_exporter": "python",
   "pygments_lexer": "ipython3",
   "version": "3.7.0"
  }
 },
 "nbformat": 4,
 "nbformat_minor": 2
}
