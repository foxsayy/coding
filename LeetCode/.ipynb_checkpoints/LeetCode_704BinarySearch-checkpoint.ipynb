{
 "cells": [
  {
   "cell_type": "markdown",
   "metadata": {},
   "source": [
    "# LeetCode #704. Binary Search\n",
    "\n",
    "## Question\n",
    "    \n",
    "https://leetcode.com/problems/binary-search/\n",
    "\n",
    "\n",
    "    Given a sorted (in ascending order) integer array nums of n elements and a target value, write a function to search target in nums. If target exists, then return its index, otherwise return -1.\n",
    "\n",
    "Example 1:\n",
    "\n",
    "    Input: nums = [-1,0,3,5,9,12], target = 9\n",
    "    Output: 4\n",
    "    Explanation: 9 exists in nums and its index is 4\n",
    "\n",
    "Example 2:\n",
    "\n",
    "    Input: nums = [-1,0,3,5,9,12], target = 2\n",
    "    Output: -1\n",
    "    Explanation: 2 does not exist in nums so return -1 \n",
    "\n",
    "Note:\n",
    "\n",
    "    You may assume that all elements in nums are unique.\n",
    "    n will be in the range [1, 10000].\n",
    "    The value of each element in nums will be in the range [-9999, 9999]."
   ]
  },
  {
   "cell_type": "markdown",
   "metadata": {},
   "source": [
    "## My Solution"
   ]
  },
  {
   "cell_type": "code",
   "execution_count": 20,
   "metadata": {},
   "outputs": [],
   "source": [
    "def search(num, t):\n",
    "    for i in range(len(num)):\n",
    "        if num[i] == t:\n",
    "            return i  \n",
    "    return -1"
   ]
  },
  {
   "cell_type": "code",
   "execution_count": 21,
   "metadata": {},
   "outputs": [
    {
     "data": {
      "text/plain": [
       "4"
      ]
     },
     "execution_count": 21,
     "metadata": {},
     "output_type": "execute_result"
    }
   ],
   "source": [
    "# test code\n",
    "num = [-1,0,3,5,9,12]\n",
    "t = 9\n",
    "search(num, t)"
   ]
  },
  {
   "cell_type": "markdown",
   "metadata": {},
   "source": [
    "### About My Solution\n",
    "\n",
    "    Binary Search를 쓰지 않고 순차적으로 탐색"
   ]
  },
  {
   "cell_type": "markdown",
   "metadata": {},
   "source": [
    "## My Result\n",
    "\n",
    "__Runtime__: 220 ms, faster than 84.81% of Python online submissions for Binary Search.\n",
    "\n",
    "__Memory Usage__: 12.6 MB, less than 98.69% of Python online submissions for Binary Search."
   ]
  },
  {
   "cell_type": "markdown",
   "metadata": {},
   "source": [
    "## @cenkay's Solution"
   ]
  },
  {
   "cell_type": "code",
   "execution_count": 23,
   "metadata": {},
   "outputs": [],
   "source": [
    "def search(nums, target):\n",
    "    l, r = 0, len(nums) - 1\n",
    "    while l <= r:\n",
    "        mid = (l + r) // 2\n",
    "        if nums[mid] < target:\n",
    "            l = mid + 1\n",
    "        elif nums[mid] > target:\n",
    "            r = mid - 1\n",
    "        else:\n",
    "            return mid\n",
    "    return -1"
   ]
  },
  {
   "cell_type": "code",
   "execution_count": 24,
   "metadata": {
    "scrolled": true
   },
   "outputs": [
    {
     "data": {
      "text/plain": [
       "4"
      ]
     },
     "execution_count": 24,
     "metadata": {},
     "output_type": "execute_result"
    }
   ],
   "source": [
    "# test code\n",
    "nums = [-1,0,3,5,9,12]\n",
    "target = 9\n",
    "search(num, t)"
   ]
  },
  {
   "cell_type": "markdown",
   "metadata": {},
   "source": [
    "### About cenkay's Solution"
   ]
  },
  {
   "cell_type": "markdown",
   "metadata": {},
   "source": [
    "    Binary Search"
   ]
  },
  {
   "cell_type": "markdown",
   "metadata": {},
   "source": [
    "## @cenkay's Result\n",
    "\n",
    "__Runtime__: 216 ms, faster than 90.70% of Python online submissions for Binary Search.\n",
    "\n",
    "__Memory Usage__: 12.7 MB, less than 80.58% of Python online submissions for Binary Search."
   ]
  }
 ],
 "metadata": {
  "kernelspec": {
   "display_name": "Python 3",
   "language": "python",
   "name": "python3"
  },
  "language_info": {
   "codemirror_mode": {
    "name": "ipython",
    "version": 3
   },
   "file_extension": ".py",
   "mimetype": "text/x-python",
   "name": "python",
   "nbconvert_exporter": "python",
   "pygments_lexer": "ipython3",
   "version": "3.7.0"
  }
 },
 "nbformat": 4,
 "nbformat_minor": 2
}
