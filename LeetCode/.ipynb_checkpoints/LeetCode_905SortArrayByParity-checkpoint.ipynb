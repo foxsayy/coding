{
 "cells": [
  {
   "cell_type": "markdown",
   "metadata": {},
   "source": [
    "# LeetCode #905. Sort Array By Parity\n",
    "\n",
    "## Question\n",
    "    \n",
    "https://leetcode.com/problems/sort-array-by-parity/\n",
    "\n",
    "    Given an array A of non-negative integers, return an array consisting of all the even elements of A, followed by all the odd elements of A.\n",
    "\n",
    "    You may return any answer array that satisfies this condition.\n",
    "\n",
    "Example 1:\n",
    "\n",
    "    Input: [3,1,2,4]\n",
    "    Output: [2,4,3,1]\n",
    "    The outputs [4,2,3,1], [2,4,1,3], and [4,2,1,3] would also be accepted.\n",
    "\n",
    "Note:\n",
    "\n",
    "    1 <= A.length <= 5000\n",
    "    0 <= A[i] <= 5000"
   ]
  },
  {
   "cell_type": "markdown",
   "metadata": {},
   "source": [
    "## My Solution"
   ]
  },
  {
   "cell_type": "code",
   "execution_count": 81,
   "metadata": {},
   "outputs": [],
   "source": [
    "def sortArrayByParity(A):\n",
    "    B, C = [], []\n",
    "    for a in A:\n",
    "        if a % 2 == 0:\n",
    "            B.append(a)\n",
    "        else:\n",
    "            C.append(a)\n",
    "    return B + C"
   ]
  },
  {
   "cell_type": "code",
   "execution_count": 82,
   "metadata": {},
   "outputs": [
    {
     "data": {
      "text/plain": [
       "[2, 4, 3, 1]"
      ]
     },
     "execution_count": 82,
     "metadata": {},
     "output_type": "execute_result"
    }
   ],
   "source": [
    "# test code\n",
    "A = [3,1,2,4]\n",
    "sortArrayByParity(A)"
   ]
  },
  {
   "cell_type": "markdown",
   "metadata": {},
   "source": [
    "## My Result\n",
    "\n",
    "__Runtime__ : 72 ms, faster than 27.27% of Python online submissions for Sort Array By Parity.\n",
    "\n",
    "__Memory Usage__ : 12.2 MB, less than 75.00% of Python online submissions for Sort Array By Parity."
   ]
  },
  {
   "cell_type": "markdown",
   "metadata": {},
   "source": [
    "## @KaiPeng21's Solution"
   ]
  },
  {
   "cell_type": "code",
   "execution_count": 83,
   "metadata": {},
   "outputs": [],
   "source": [
    "def sortArrayByParity(A):\n",
    "    return sorted(A, key=lambda x: x & 1)"
   ]
  },
  {
   "cell_type": "markdown",
   "metadata": {},
   "source": [
    "#### 비트연산자\n",
    "\n",
    "    x | y\tor              둘 중 하나의 값이 1일 경우 1을 반환합니다.\n",
    "    x & y\tand             둘 다 값이 1일 경우 1을 반환합니다.\n",
    "    x ^ y\txor             둘 다 값이 다를 경우 1을 반환합니다.\n",
    "    x << y\tleft shift     좌측으로 y회 비트 밀기\n",
    "    x >> y\tright shift    우측으로 y회 비트 밀기\n",
    "    ~x      not              반전\n"
   ]
  },
  {
   "cell_type": "code",
   "execution_count": 84,
   "metadata": {},
   "outputs": [
    {
     "name": "stdout",
     "output_type": "stream",
     "text": [
      "a: 3   a & 1:  1\n",
      "a: 1   a & 1:  1\n",
      "a: 2   a & 1:  0\n",
      "a: 4   a & 1:  0\n"
     ]
    }
   ],
   "source": [
    "A = [3,1,2,4]\n",
    "for a in A:\n",
    "    print(\"a:\", a, '  a & 1: ', a & 1)"
   ]
  },
  {
   "cell_type": "code",
   "execution_count": 85,
   "metadata": {},
   "outputs": [
    {
     "data": {
      "text/plain": [
       "[2, 4, 3, 1]"
      ]
     },
     "execution_count": 85,
     "metadata": {},
     "output_type": "execute_result"
    }
   ],
   "source": [
    "# test code\n",
    "A = [3,1,2,4]\n",
    "sortArrayByParity(A)"
   ]
  },
  {
   "cell_type": "markdown",
   "metadata": {},
   "source": [
    "## @KaiPeng21's Result\n",
    "\n",
    "__Runtime__: 72 ms, faster than 27.27% of Python online submissions for Sort Array By Parity.\n",
    "\n",
    "__Memory Usage__ : 12.2 MB, less than 66.67% of Python online submissions for Sort Array By Parity."
   ]
  },
  {
   "cell_type": "markdown",
   "metadata": {},
   "source": [
    "## @limitless_'s Solution"
   ]
  },
  {
   "cell_type": "code",
   "execution_count": 86,
   "metadata": {},
   "outputs": [],
   "source": [
    "def sortArrayByParity(A):\n",
    "    size = len(A)\n",
    "    res = [None] * size\n",
    "    start = 0\n",
    "    end = size - 1\n",
    "    for val in A:\n",
    "        if val % 2 == 1:\n",
    "            res[end] = val\n",
    "            end = end -1\n",
    "        else:\n",
    "            res[start] = val\n",
    "            start = start + 1\n",
    "    return res"
   ]
  },
  {
   "cell_type": "code",
   "execution_count": 87,
   "metadata": {},
   "outputs": [
    {
     "data": {
      "text/plain": [
       "[2, 4, 1, 3]"
      ]
     },
     "execution_count": 87,
     "metadata": {},
     "output_type": "execute_result"
    }
   ],
   "source": [
    "# test code\n",
    "A = [3,1,2,4]\n",
    "sortArrayByParity(A)"
   ]
  },
  {
   "cell_type": "markdown",
   "metadata": {},
   "source": [
    "## @limitless_'s Result\n",
    "\n",
    "__Runtime__ : 64 ms, faster than 76.18% of Python online submissions for Sort Array By Parity.\n",
    "    \n",
    "__Memory Usage__ : 12.3 MB, less than 20.83% of Python online submissions for Sort Array By Parity."
   ]
  }
 ],
 "metadata": {
  "kernelspec": {
   "display_name": "Python 3",
   "language": "python",
   "name": "python3"
  },
  "language_info": {
   "codemirror_mode": {
    "name": "ipython",
    "version": 3
   },
   "file_extension": ".py",
   "mimetype": "text/x-python",
   "name": "python",
   "nbconvert_exporter": "python",
   "pygments_lexer": "ipython3",
   "version": "3.7.0"
  }
 },
 "nbformat": 4,
 "nbformat_minor": 2
}
