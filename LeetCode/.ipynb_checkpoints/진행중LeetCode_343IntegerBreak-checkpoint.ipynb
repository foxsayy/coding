{
 "cells": [
  {
   "cell_type": "markdown",
   "metadata": {},
   "source": [
    "# LeetCode #343. Integer Break\n",
    "\n",
    "## Question\n",
    "    \n",
    "https://leetcode.com/problems/integer-break/\n",
    "\n",
    "\n",
    "    Given a positive integer n, break it into the sum of at least two positive integers and maximize the product of those integers. Return the maximum product you can get.\n",
    "\n",
    "Example 1:\n",
    "\n",
    "    Input: 2\n",
    "    Output: 1\n",
    "\n",
    "Explanation: 2 = 1 + 1, 1 × 1 = 1.\n",
    "\n",
    "Example 2:\n",
    "\n",
    "    Input: 10\n",
    "    Output: 36\n",
    "\n",
    "Explanation: 10 = 3 + 3 + 4, 3 × 3 × 4 = 36.\n",
    "\n",
    "Note: You may assume that n is not less than 2 and not larger than 58."
   ]
  },
  {
   "cell_type": "code",
   "execution_count": null,
   "metadata": {},
   "outputs": [],
   "source": [
    "def integerBreak(n):\n",
    "    if n == 0:\n",
    "        return 0\n",
    "    if n == 1:\n",
    "        return 1\n",
    "    if n == 2:\n",
    "        return 1\n",
    "    \n",
    "    if n == 3:\n",
    "        return 2\n",
    "    if n == 4:\n",
    "        return 4\n",
    "\n",
    "    if n == 5:\n",
    "        return 3 * 2  = 6\n",
    "    if n == 6:\n",
    "        return 3 * 3  = 9\n",
    "    \n",
    "    if n == 7:\n",
    "        return 3 * 2 * 2   == 12  # 3이 하나 2가 둘    (1, 2)\n",
    "    if n == 8:\n",
    "        return 3 * 3 * 2  == 18  # 3이 둘 2가 하나    (2, 1)\n",
    "\n",
    "if n > 8:\n",
    "    \n",
    "    if n // 3 == a\n",
    "    # n // 3 == 3\n",
    "    if n == 9: \n",
    "        return 3 * 3 * 3  # 3이 셋            (3, 0)        3**a * 4**0\n",
    "    if n == 10:\n",
    "        return 3 * 3 * 4  # 3이 둘 4 하나       (2, 1)       3**(a-1) * 4**1\n",
    "    if n == 11:\n",
    "        return 3 * 3 * 3 * 2\n",
    "        return 3 * 4 * 4  # 3이 하나 4가 둘      (1, 2)       3**(a-2) * 4**2\n",
    " \n",
    "    # n // 3 == 4\n",
    "    if n == 12\n",
    "        return 3 * 3 * 3 * 3  # 3이 넷 4가 0   (4, 0)      3**a * 4**0\n",
    "    if n == 13:\n",
    "        return 3 * 3 * 3 * 4  # 3이 셋 4가 하나  (3, 1)     3**(a-1) 4**1\n",
    "    if n == 14:\n",
    "        return 3 * 3 * 4 * 4  # 3이 둘 4가 둘   (2, 2)     3**(a-2)  4**2\n",
    "\n",
    "    # n // 3 == 4\n",
    "    if n == 15:\n",
    "        return 3 * 3 * 3 * 3 * 3      (5, 0)\n",
    "    if n == 16: \n",
    "        return 3 * 3 * 3 * 3 * 4      (4, 1)\n",
    "    if n == 17:\n",
    "        return 3 * 3 * 3 * 4 * 4      (3, 2)"
   ]
  },
  {
   "cell_type": "code",
   "execution_count": 14,
   "metadata": {},
   "outputs": [
    {
     "data": {
      "text/plain": [
       "4"
      ]
     },
     "execution_count": 14,
     "metadata": {},
     "output_type": "execute_result"
    }
   ],
   "source": [
    "4**1"
   ]
  },
  {
   "cell_type": "code",
   "execution_count": 15,
   "metadata": {},
   "outputs": [
    {
     "data": {
      "text/plain": [
       "0"
      ]
     },
     "execution_count": 15,
     "metadata": {},
     "output_type": "execute_result"
    }
   ],
   "source": [
    "12 % 3"
   ]
  },
  {
   "cell_type": "code",
   "execution_count": 16,
   "metadata": {},
   "outputs": [
    {
     "data": {
      "text/plain": [
       "1"
      ]
     },
     "execution_count": 16,
     "metadata": {},
     "output_type": "execute_result"
    }
   ],
   "source": [
    "13 % 3"
   ]
  },
  {
   "cell_type": "code",
   "execution_count": 18,
   "metadata": {},
   "outputs": [
    {
     "data": {
      "text/plain": [
       "2"
      ]
     },
     "execution_count": 18,
     "metadata": {},
     "output_type": "execute_result"
    }
   ],
   "source": [
    "14 % 3"
   ]
  },
  {
   "cell_type": "markdown",
   "metadata": {},
   "source": [
    "## My Solution"
   ]
  },
  {
   "cell_type": "code",
   "execution_count": 2,
   "metadata": {},
   "outputs": [],
   "source": [
    "def integerBreak(n):\n",
    "    if n == 0:\n",
    "        return 0\n",
    "    if n == 1:\n",
    "        return 1\n",
    "    if n == 2:\n",
    "        return 1\n",
    "    \n",
    "    if n == 3:\n",
    "        return 2\n",
    "    if n == 4:\n",
    "        return 4\n",
    "\n",
    "    if n == 5:\n",
    "        return 3 * 2\n",
    "    if n == 6:\n",
    "        return 3 * 3\n",
    "    \n",
    "    if n == 7:\n",
    "        return 3 * 2 * 2\n",
    "    if n == 8:\n",
    "        return 3 * 3 * 2\n",
    "\n",
    "    else:\n",
    "        a = n // 3\n",
    "        b = n % 3\n",
    "        return 3**(a-b) * (4**b)"
   ]
  },
  {
   "cell_type": "code",
   "execution_count": 3,
   "metadata": {},
   "outputs": [
    {
     "data": {
      "text/plain": [
       "243"
      ]
     },
     "execution_count": 3,
     "metadata": {},
     "output_type": "execute_result"
    }
   ],
   "source": [
    "# test code\n",
    "integerBreak(15)"
   ]
  },
  {
   "cell_type": "code",
   "execution_count": null,
   "metadata": {},
   "outputs": [],
   "source": []
  }
 ],
 "metadata": {
  "kernelspec": {
   "display_name": "Python 3",
   "language": "python",
   "name": "python3"
  },
  "language_info": {
   "codemirror_mode": {
    "name": "ipython",
    "version": 3
   },
   "file_extension": ".py",
   "mimetype": "text/x-python",
   "name": "python",
   "nbconvert_exporter": "python",
   "pygments_lexer": "ipython3",
   "version": "3.7.4"
  }
 },
 "nbformat": 4,
 "nbformat_minor": 2
}
