{
 "cells": [
  {
   "cell_type": "markdown",
   "metadata": {},
   "source": [
    "# LeetCode #896. Monotonic Array\n",
    "\n",
    "## Question\n",
    "    \n",
    "https://leetcode.com/problems/monotonic-array/\n",
    "\n",
    "\n",
    "    An array is monotonic if it is either monotone increasing or monotone decreasing.\n",
    "\n",
    "    An array A is monotone increasing if for all i <= j, A[i] <= A[j].  An array A is monotone decreasing if for all i <= j, A[i] >= A[j].\n",
    "\n",
    "    Return true if and only if the given array A is monotonic.\n",
    "\n",
    "\n",
    "\n",
    "Example 1:\n",
    "\n",
    "    Input: [1,2,2,3]\n",
    "    Output: true\n",
    "\n",
    "Example 2:\n",
    "\n",
    "    Input: [6,5,4,4]\n",
    "    Output: true\n",
    "\n",
    "Example 3:\n",
    "\n",
    "    Input: [1,3,2]\n",
    "    Output: false\n",
    "\n",
    "Example 4:\n",
    "\n",
    "    Input: [1,2,4,5]\n",
    "    Output: true\n",
    "\n",
    "Example 5:\n",
    "\n",
    "    Input: [1,1,1]\n",
    "    Output: true\n",
    "\n",
    "\n",
    "   Note:\n",
    "\n",
    "    1 <= A.length <= 50000\n",
    "    -100000 <= A[i] <= 100000"
   ]
  },
  {
   "cell_type": "markdown",
   "metadata": {},
   "source": [
    "## My Solution"
   ]
  },
  {
   "cell_type": "code",
   "execution_count": 37,
   "metadata": {},
   "outputs": [],
   "source": [
    "def isMonotonic(A):\n",
    "    if A == sorted(A) or A == sorted(A, reverse=True):\n",
    "        return True \n",
    "    return False"
   ]
  },
  {
   "cell_type": "code",
   "execution_count": 41,
   "metadata": {},
   "outputs": [
    {
     "data": {
      "text/plain": [
       "False"
      ]
     },
     "execution_count": 41,
     "metadata": {},
     "output_type": "execute_result"
    }
   ],
   "source": [
    "# test code\n",
    "A = [1,3,2]\n",
    "isMonotonic(A)"
   ]
  },
  {
   "cell_type": "markdown",
   "metadata": {},
   "source": [
    "## My Result\n",
    "\n",
    "__Runtime__ : 588 ms, faster than 24.47% of Python3 online submissions for Monotonic Array.\n",
    "\n",
    "__Memory Usage__ : 20 MB, less than 5.26% of Python3 online submissions for Monotonic Array."
   ]
  },
  {
   "cell_type": "markdown",
   "metadata": {},
   "source": [
    "## @cslzy's Solution\n",
    "\n"
   ]
  },
  {
   "cell_type": "code",
   "execution_count": 45,
   "metadata": {},
   "outputs": [],
   "source": [
    "def isMonotonic(A):\n",
    "    n = len(A)\n",
    "    \n",
    "    ### 길이가 2 이하면 True\n",
    "    if n <= 2: return True\n",
    "    \n",
    "    ### 스위치 두 개를 설정\n",
    "    isGreat = False\n",
    "    isLess = False\n",
    "    for i in range(1, n):\n",
    "        \n",
    "        ## 앞의 숫자가 큰 게 있을 경우 isGreat 스위치를 True로 켭니다.\n",
    "        if A[i - 1] > A[i]:\n",
    "            isGreat = True\n",
    "            \n",
    "        ## 뒤의 숫자가 큰 경우가 있을 경우 isLess 스위치를 True로 켭니다.\n",
    "        if A[i - 1] < A[i]:\n",
    "            isLess = True\n",
    "\n",
    "        ## 두 스위치가 모두 켜져 있다면 False를 반환합니다.\n",
    "        if isGreat and isLess:\n",
    "            return False\n",
    "    \n",
    "    ## 두 스위치가 모두 켜지지 않는다면 True를 반환합니다.\n",
    "    return True"
   ]
  },
  {
   "cell_type": "code",
   "execution_count": 44,
   "metadata": {},
   "outputs": [
    {
     "data": {
      "text/plain": [
       "False"
      ]
     },
     "execution_count": 44,
     "metadata": {},
     "output_type": "execute_result"
    }
   ],
   "source": [
    "# test code\n",
    "A = [1,3,2]\n",
    "isMonotonic(A)"
   ]
  },
  {
   "cell_type": "markdown",
   "metadata": {},
   "source": [
    "## @cslzy's Result\n",
    "\n",
    "__Runtime__: 552 ms, faster than 74.03% of Python3 online submissions for Monotonic Array.\n",
    "\n",
    "__Memory Usage__ : 19.5 MB, less than 5.26% of Python3 online submissions for Monotonic Array."
   ]
  }
 ],
 "metadata": {
  "kernelspec": {
   "display_name": "Python 3",
   "language": "python",
   "name": "python3"
  },
  "language_info": {
   "codemirror_mode": {
    "name": "ipython",
    "version": 3
   },
   "file_extension": ".py",
   "mimetype": "text/x-python",
   "name": "python",
   "nbconvert_exporter": "python",
   "pygments_lexer": "ipython3",
   "version": "3.7.0"
  }
 },
 "nbformat": 4,
 "nbformat_minor": 2
}
