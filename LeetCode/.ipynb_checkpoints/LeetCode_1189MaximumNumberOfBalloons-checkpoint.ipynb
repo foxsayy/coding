{
 "cells": [
  {
   "cell_type": "markdown",
   "metadata": {},
   "source": [
    "# LeetCode #1189. Maximum Number of Balloons\n",
    "\n",
    "## Question\n",
    "    \n",
    "https://leetcode.com/problems/maximum-number-of-balloons/\n",
    "\n",
    "    Given a string text, you want to use the characters of text to form as many instances of the word \"balloon\" as possible.\n",
    "\n",
    "    You can use each character in text at most once. Return the maximum number of instances that can be formed.\n",
    "\n",
    "Example 1:\n",
    "\n",
    "    Input: text = \"nlaebolko\"\n",
    "    Output: 1\n",
    "\n",
    "Example 2:\n",
    "\n",
    "    Input: text = \"loonbalxballpoon\"\n",
    "    Output: 2\n",
    "\n",
    "Example 3:\n",
    "\n",
    "    Input: text = \"leetcode\"\n",
    "    Output: 0"
   ]
  },
  {
   "cell_type": "markdown",
   "metadata": {},
   "source": [
    "## My Solution"
   ]
  },
  {
   "cell_type": "code",
   "execution_count": 1,
   "metadata": {},
   "outputs": [],
   "source": [
    "def maxNumberOfBalloons(text):\n",
    "    dic = {\n",
    "        'b' : 0,\n",
    "        'a' : 0,\n",
    "        'l' : 0,\n",
    "        'o' : 0,\n",
    "        'n' : 0,\n",
    "            }\n",
    "\n",
    "    for t in text:\n",
    "        dic[t] = 0\n",
    "\n",
    "    for t in text:\n",
    "        dic[t] += 1\n",
    "\n",
    "    ban = min(dic['b'], dic['a'], dic['n'])\n",
    "    lo = min(dic['l'], dic['o'])\n",
    "\n",
    "    return min(ban, lo // 2)"
   ]
  },
  {
   "cell_type": "code",
   "execution_count": 2,
   "metadata": {},
   "outputs": [
    {
     "data": {
      "text/plain": [
       "2"
      ]
     },
     "execution_count": 2,
     "metadata": {},
     "output_type": "execute_result"
    }
   ],
   "source": [
    "# test code\n",
    "text = \"loonbalxballpoon\"\n",
    "maxNumberOfBalloons(text)"
   ]
  },
  {
   "cell_type": "markdown",
   "metadata": {},
   "source": [
    "## My Result\n",
    "\n",
    "__Runtime__ : 28 ms, faster than 81.70% of Python3 online submissions for Maximum Number of Balloons.\n",
    "\n",
    "__Memory Usage__ : 12.9 MB, less than 100.00% of Python3 online submissions for Maximum Number of Balloons."
   ]
  },
  {
   "cell_type": "markdown",
   "metadata": {},
   "source": [
    "## @rock's Solution"
   ]
  },
  {
   "cell_type": "code",
   "execution_count": 5,
   "metadata": {},
   "outputs": [],
   "source": [
    "def maxNumberOfBalloons(text):\n",
    "    import collections\n",
    "    cnt = collections.Counter(text)\n",
    "    cntBalloon = collections.Counter('balloon')\n",
    "    return min([cnt[c] // cntBalloon[c] for c in cntBalloon])"
   ]
  },
  {
   "cell_type": "code",
   "execution_count": 6,
   "metadata": {},
   "outputs": [
    {
     "data": {
      "text/plain": [
       "2"
      ]
     },
     "execution_count": 6,
     "metadata": {},
     "output_type": "execute_result"
    }
   ],
   "source": [
    "# test code\n",
    "text = \"loonbalxballpoon\"\n",
    "maxNumberOfBalloons(text)"
   ]
  },
  {
   "cell_type": "code",
   "execution_count": 8,
   "metadata": {},
   "outputs": [
    {
     "data": {
      "text/plain": [
       "Counter({'l': 4, 'o': 4, 'n': 2, 'b': 2, 'a': 2, 'x': 1, 'p': 1})"
      ]
     },
     "execution_count": 8,
     "metadata": {},
     "output_type": "execute_result"
    }
   ],
   "source": [
    "import collections\n",
    "cnt = collections.Counter(text)\n",
    "cnt"
   ]
  },
  {
   "cell_type": "code",
   "execution_count": 9,
   "metadata": {},
   "outputs": [
    {
     "data": {
      "text/plain": [
       "Counter({'b': 1, 'a': 1, 'l': 2, 'o': 2, 'n': 1})"
      ]
     },
     "execution_count": 9,
     "metadata": {},
     "output_type": "execute_result"
    }
   ],
   "source": [
    "cntBalloon = collections.Counter('balloon')\n",
    "cntBalloon"
   ]
  },
  {
   "cell_type": "code",
   "execution_count": 10,
   "metadata": {},
   "outputs": [
    {
     "data": {
      "text/plain": [
       "[2, 2, 2, 2, 2]"
      ]
     },
     "execution_count": 10,
     "metadata": {},
     "output_type": "execute_result"
    }
   ],
   "source": [
    "[cnt[c] // cntBalloon[c] for c in cntBalloon]"
   ]
  },
  {
   "cell_type": "code",
   "execution_count": 11,
   "metadata": {},
   "outputs": [
    {
     "data": {
      "text/plain": [
       "2"
      ]
     },
     "execution_count": 11,
     "metadata": {},
     "output_type": "execute_result"
    }
   ],
   "source": [
    "min([cnt[c] // cntBalloon[c] for c in cntBalloon])"
   ]
  },
  {
   "cell_type": "markdown",
   "metadata": {},
   "source": [
    "## @rock's Result\n",
    "\n",
    "__Runtime__: 24 ms, faster than 94.89% of Python3 online submissions for Maximum Number of Balloons.\n",
    "\n",
    "__Memory Usage__ : 12.8 MB, less than 100.00% of Python3 online submissions for Maximum Number of Balloons."
   ]
  }
 ],
 "metadata": {
  "kernelspec": {
   "display_name": "Python 3",
   "language": "python",
   "name": "python3"
  },
  "language_info": {
   "codemirror_mode": {
    "name": "ipython",
    "version": 3
   },
   "file_extension": ".py",
   "mimetype": "text/x-python",
   "name": "python",
   "nbconvert_exporter": "python",
   "pygments_lexer": "ipython3",
   "version": "3.7.0"
  }
 },
 "nbformat": 4,
 "nbformat_minor": 2
}
