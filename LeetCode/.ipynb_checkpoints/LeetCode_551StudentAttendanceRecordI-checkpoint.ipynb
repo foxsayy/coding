{
 "cells": [
  {
   "cell_type": "markdown",
   "metadata": {},
   "source": [
    "# LeetCode #551. Student Attendance Record I\n",
    "\n",
    "## Question\n",
    "    \n",
    "https://leetcode.com/problems/student-attendance-record-i/\n",
    "\n",
    "\n",
    "    You are given a string representing an attendance record for a student. The record only contains the following three characters:\n",
    "    'A' : Absent.\n",
    "    'L' : Late.\n",
    "    'P' : Present.\n",
    "    A student could be rewarded if his attendance record doesn't contain more than one 'A' (absent) or more than two continuous 'L' (late).\n",
    "\n",
    "    You need to return whether the student could be rewarded according to his attendance record.\n",
    "\n",
    "Example 1:\n",
    "    \n",
    "    Input: \"PPALLP\"\n",
    "    Output: True\n",
    "\n",
    "Example 2:\n",
    "\n",
    "    Input: \"PPALLL\"\n",
    "    Output: False"
   ]
  },
  {
   "cell_type": "markdown",
   "metadata": {},
   "source": [
    "## My Solution"
   ]
  },
  {
   "cell_type": "code",
   "execution_count": 5,
   "metadata": {},
   "outputs": [],
   "source": [
    "def checkRecord(s):\n",
    "    if 'LLL' in s:\n",
    "        return False\n",
    "\n",
    "    a = 0\n",
    "    for ss in s:\n",
    "        if ss == 'A':\n",
    "            a += 1\n",
    "            if a == 2:\n",
    "                return False\n",
    "    return True    "
   ]
  },
  {
   "cell_type": "code",
   "execution_count": 6,
   "metadata": {
    "scrolled": true
   },
   "outputs": [
    {
     "data": {
      "text/plain": [
       "True"
      ]
     },
     "execution_count": 6,
     "metadata": {},
     "output_type": "execute_result"
    }
   ],
   "source": [
    "# test code\n",
    "s = \"PPALLP\"\n",
    "checkRecord(s)"
   ]
  },
  {
   "cell_type": "markdown",
   "metadata": {},
   "source": [
    "## My Result\n",
    "\n",
    "__Runtime__ : 28 ms, faster than 84.71% of Python3 online submissions for Student Attendance Record I.\n",
    "\n",
    "__Memory Usage__ : 12.7 MB, less than 100.00% of Python3 online submissions for Student Attendance Record I."
   ]
  },
  {
   "cell_type": "markdown",
   "metadata": {},
   "source": [
    "## @deerishi's Solution"
   ]
  },
  {
   "cell_type": "code",
   "execution_count": 9,
   "metadata": {},
   "outputs": [],
   "source": [
    "def checkRecord(s):\n",
    "    return len(s.split('A'))<=2 and s.find('LLL')==-1"
   ]
  },
  {
   "cell_type": "code",
   "execution_count": 10,
   "metadata": {},
   "outputs": [
    {
     "data": {
      "text/plain": [
       "True"
      ]
     },
     "execution_count": 10,
     "metadata": {},
     "output_type": "execute_result"
    }
   ],
   "source": [
    "# test code\n",
    "s = \"PPALLP\"\n",
    "checkRecord(s)"
   ]
  },
  {
   "cell_type": "markdown",
   "metadata": {},
   "source": [
    "## @AAAA's Result\n",
    "\n",
    "__Runtime__ : 28 ms, faster than 84.71% of Python3 online submissions for Student Attendance Record I.\n",
    "\n",
    "__Memory Usage__ : 12.7 MB, less than 100.00% of Python3 online submissions for Student Attendance Record I."
   ]
  }
 ],
 "metadata": {
  "kernelspec": {
   "display_name": "Python 3",
   "language": "python",
   "name": "python3"
  },
  "language_info": {
   "codemirror_mode": {
    "name": "ipython",
    "version": 3
   },
   "file_extension": ".py",
   "mimetype": "text/x-python",
   "name": "python",
   "nbconvert_exporter": "python",
   "pygments_lexer": "ipython3",
   "version": "3.7.3"
  }
 },
 "nbformat": 4,
 "nbformat_minor": 2
}
