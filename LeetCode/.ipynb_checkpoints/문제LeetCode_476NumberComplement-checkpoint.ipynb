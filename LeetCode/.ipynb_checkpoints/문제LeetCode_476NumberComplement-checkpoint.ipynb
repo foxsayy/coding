{
 "cells": [
  {
   "cell_type": "markdown",
   "metadata": {},
   "source": [
    "# LeetCode #000. Vaaa Aaaaa\n",
    "\n",
    "## Question\n",
    "    \n",
    "https://leetcode.com/problems/valid-anagram/\n",
    "\n",
    "\n",
    "    Given two strings s and t , write a function to determine if t is an anagram of s.\n",
    "\n",
    "    Example 1:\n",
    "    Input: s = \"anagram\", t = \"nagaram\"\n",
    "    Output: true\n"
   ]
  },
  {
   "cell_type": "markdown",
   "metadata": {},
   "source": [
    "## My Solution"
   ]
  },
  {
   "cell_type": "code",
   "execution_count": 13,
   "metadata": {},
   "outputs": [],
   "source": [
    "def anagram(s, t):\n",
    "    return sorted(list(s)) == sorted(list(t))"
   ]
  },
  {
   "cell_type": "markdown",
   "metadata": {},
   "source": [
    "### About My Solution\n",
    "\n",
    "    단ㅇㅇㅇ"
   ]
  },
  {
   "cell_type": "markdown",
   "metadata": {},
   "source": [
    "## My Result\n",
    "\n",
    "__Runtime__ : 00 ms, faster than 65.14% of Python3 online submissions for Valid Anagram.\n",
    "\n",
    "__Memory Usage__ : 00 MB, less than 5.21% of Python3 online submissions for Valid Anagram."
   ]
  },
  {
   "cell_type": "markdown",
   "metadata": {},
   "source": [
    "## @AAAA's Solution"
   ]
  },
  {
   "cell_type": "code",
   "execution_count": 22,
   "metadata": {
    "scrolled": true
   },
   "outputs": [
    {
     "data": {
      "text/plain": [
       "True"
      ]
     },
     "execution_count": 22,
     "metadata": {},
     "output_type": "execute_result"
    }
   ],
   "source": [
    "# test code\n",
    "s, t = \"anagram\", \"nagaram\"\n",
    "isAnagram(s, t)"
   ]
  },
  {
   "cell_type": "markdown",
   "metadata": {},
   "source": [
    "### About ultramarin's Solution"
   ]
  },
  {
   "cell_type": "markdown",
   "metadata": {},
   "source": [
    "    아래 명"
   ]
  },
  {
   "cell_type": "markdown",
   "metadata": {},
   "source": [
    "## @AAAA's Result\n",
    "\n",
    "__Runtime__: 0 ms, faster than 99.22% of Python3 online submissions for Valid Anagram.\n",
    "\n",
    "__Memory Usage__: 0 MB, less than 27.05% of Python3 online submissions for Valid Anagram."
   ]
  }
 ],
 "metadata": {
  "kernelspec": {
   "display_name": "Python 3",
   "language": "python",
   "name": "python3"
  },
  "language_info": {
   "codemirror_mode": {
    "name": "ipython",
    "version": 3
   },
   "file_extension": ".py",
   "mimetype": "text/x-python",
   "name": "python",
   "nbconvert_exporter": "python",
   "pygments_lexer": "ipython3",
   "version": "3.7.0"
  }
 },
 "nbformat": 4,
 "nbformat_minor": 2
}
