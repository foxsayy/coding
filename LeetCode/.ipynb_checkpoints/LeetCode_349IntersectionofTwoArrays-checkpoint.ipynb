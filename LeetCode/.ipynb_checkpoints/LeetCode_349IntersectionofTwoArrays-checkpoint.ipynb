{
 "cells": [
  {
   "cell_type": "markdown",
   "metadata": {},
   "source": [
    "# LeetCode #349. Intersection of Two Arrays\n",
    "\n",
    "## Question\n",
    "    \n",
    "https://leetcode.com/problems/intersection-of-two-arrays/\n",
    "\n",
    "\n",
    "    Given two arrays, write a function to compute their intersection.\n",
    "\n",
    "Example 1:\n",
    "\n",
    "    Input: nums1 = [1,2,2,1], nums2 = [2,2]\n",
    "    Output: [2]\n",
    "\n",
    "Example 2:\n",
    "\n",
    "    Input: nums1 = [4,9,5], nums2 = [9,4,9,8,4]\n",
    "    Output: [9,4]\n",
    "\n",
    "Note:\n",
    "\n",
    "    Each element in the result must be unique.\n",
    "    The result can be in any order."
   ]
  },
  {
   "cell_type": "markdown",
   "metadata": {},
   "source": [
    "## My Solution"
   ]
  },
  {
   "cell_type": "code",
   "execution_count": null,
   "metadata": {},
   "outputs": [],
   "source": [
    "def intersection(nums1, nums2):\n",
    "    return list(set(nums1).intersection(nums2))"
   ]
  },
  {
   "cell_type": "markdown",
   "metadata": {},
   "source": [
    "## My Result\n",
    "\n",
    "__Runtime__ : 48 ms, faster than 96.55% of Python3 online submissions for Intersection of Two Arrays.\n",
    "\n",
    "__Memory Usage__ : 13.9 MB, less than 5.88% of Python3 online submissions for Intersection of Two Arrays."
   ]
  }
 ],
 "metadata": {
  "kernelspec": {
   "display_name": "Python 3",
   "language": "python",
   "name": "python3"
  },
  "language_info": {
   "codemirror_mode": {
    "name": "ipython",
    "version": 3
   },
   "file_extension": ".py",
   "mimetype": "text/x-python",
   "name": "python",
   "nbconvert_exporter": "python",
   "pygments_lexer": "ipython3",
   "version": "3.7.0"
  }
 },
 "nbformat": 4,
 "nbformat_minor": 2
}
