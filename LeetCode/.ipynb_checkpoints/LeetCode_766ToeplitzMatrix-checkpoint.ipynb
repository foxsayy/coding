{
 "cells": [
  {
   "cell_type": "markdown",
   "metadata": {},
   "source": [
    "# LeetCode #766. Toeplitz Matrix\n",
    "\n",
    "## Question\n",
    "    \n",
    "https://leetcode.com/problems/toeplitz-matrix/\n",
    "\n",
    "\n",
    "    A matrix is Toeplitz if every diagonal from top-left to bottom-right has the same element.\n",
    "    Now given an M x N matrix, return True if and only if the matrix is Toeplitz.\n",
    " \n",
    "\n",
    "Example 1:\n",
    "\n",
    "    Input:\n",
    "    matrix = [\n",
    "      [1,2,3,4],\n",
    "      [5,1,2,3],\n",
    "      [9,5,1,2]\n",
    "    ]\n",
    "    Output: True\n",
    "\n",
    "Explanation:\n",
    "\n",
    "    In the above grid, the diagonals are:\n",
    "    \"[9]\", \"[5, 5]\", \"[1, 1, 1]\", \"[2, 2, 2]\", \"[3, 3]\", \"[4]\".\n",
    "    In each diagonal all elements are the same, so the answer is True.\n",
    "\n",
    "Example 2:\n",
    "\n",
    "    Input:\n",
    "    matrix = [\n",
    "      [1,2],\n",
    "      [2,2]\n",
    "    ]\n",
    "    Output: False\n",
    "\n",
    "Explanation:\n",
    "\n",
    "    The diagonal \"[1, 2]\" has different elements.\n",
    "\n",
    "Note:\n",
    "\n",
    "    matrix will be a 2D array of integers.\n",
    "    matrix will have a number of rows and columns in range [1, 20].\n",
    "    matrix[i][j] will be integers in range [0, 99].\n",
    "\n",
    "Follow up:\n",
    "\n",
    "    What if the matrix is stored on disk, and the memory is limited such that you can only load at most one row of the matrix into the memory at once?\n",
    "    What if the matrix is so large that you can only load up a partial row into the memory at once?"
   ]
  },
  {
   "cell_type": "markdown",
   "metadata": {},
   "source": [
    "## My Solution"
   ]
  },
  {
   "cell_type": "code",
   "execution_count": 23,
   "metadata": {},
   "outputs": [],
   "source": [
    "def isToeplitzMatrix(matrix):\n",
    "    for i in range(len(matrix) - 1):\n",
    "        for j in range(len(matrix[0]) - 1):\n",
    "            if matrix[i][j] != matrix[i+1][j+1]:\n",
    "                return False\n",
    "    return True"
   ]
  },
  {
   "cell_type": "code",
   "execution_count": 24,
   "metadata": {},
   "outputs": [
    {
     "data": {
      "text/plain": [
       "True"
      ]
     },
     "execution_count": 24,
     "metadata": {},
     "output_type": "execute_result"
    }
   ],
   "source": [
    "# test code\n",
    "matrix = [\n",
    "  [1,2,3,4],\n",
    "  [5,1,2,3],\n",
    "  [9,5,1,2],\n",
    "]\n",
    "isToeplitzMatrix(matrix)"
   ]
  },
  {
   "cell_type": "markdown",
   "metadata": {},
   "source": [
    "### About My Solution\n",
    "\n",
    "    matrix[i][j] matrix[i+1][j+1]이 성립하면 True입니다."
   ]
  },
  {
   "cell_type": "markdown",
   "metadata": {},
   "source": [
    "## My Result\n",
    "\n",
    "__Runtime__ : 72 ms, faster than 75.94% of Python online submissions for Toeplitz Matrix.\n",
    "\n",
    "__Memory Usage__ : 11.6 MB, less than 90.06% of Python online submissions for Toeplitz Matrix."
   ]
  },
  {
   "cell_type": "markdown",
   "metadata": {},
   "source": [
    "## @lee215's Solution"
   ]
  },
  {
   "cell_type": "code",
   "execution_count": 25,
   "metadata": {},
   "outputs": [],
   "source": [
    "# 1\n",
    "def isToeplitzMatrix(m):\n",
    "        return all(m[i][j] == m[i+1][j+1] for i in range(len(m)-1) for j in range(len(m[0])-1))"
   ]
  },
  {
   "cell_type": "code",
   "execution_count": 26,
   "metadata": {},
   "outputs": [],
   "source": [
    "# 2\n",
    "def isToeplitzMatrix(m):\n",
    "        return all(r1[:-1] == r2[1:] for r1,r2 in zip(m, m[1:]))"
   ]
  },
  {
   "cell_type": "code",
   "execution_count": 27,
   "metadata": {},
   "outputs": [
    {
     "data": {
      "text/plain": [
       "True"
      ]
     },
     "execution_count": 27,
     "metadata": {},
     "output_type": "execute_result"
    }
   ],
   "source": [
    "# test code\n",
    "matrix = [\n",
    "  [1,2,3,4],\n",
    "  [5,1,2,3],\n",
    "  [9,5,1,2],\n",
    "]\n",
    "isToeplitzMatrix(matrix)"
   ]
  },
  {
   "cell_type": "markdown",
   "metadata": {},
   "source": [
    "### About ultramarin's Solution"
   ]
  },
  {
   "cell_type": "markdown",
   "metadata": {},
   "source": [
    "    같은 코드이지만 1줄로 간편하게 나타낼 수 있다. "
   ]
  },
  {
   "cell_type": "markdown",
   "metadata": {},
   "source": [
    "## @AAAA's Result\n",
    "\n",
    "__Runtime__: 72 ms, faster than 75.94% of Python online submissions for Toeplitz Matrix.\n",
    "\n",
    "__Memory Usage__ : 12 MB, less than 6.25% of Python online submissions for Toeplitz Matrix."
   ]
  }
 ],
 "metadata": {
  "kernelspec": {
   "display_name": "Python 3",
   "language": "python",
   "name": "python3"
  },
  "language_info": {
   "codemirror_mode": {
    "name": "ipython",
    "version": 3
   },
   "file_extension": ".py",
   "mimetype": "text/x-python",
   "name": "python",
   "nbconvert_exporter": "python",
   "pygments_lexer": "ipython3",
   "version": "3.7.0"
  }
 },
 "nbformat": 4,
 "nbformat_minor": 2
}
