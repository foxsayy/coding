{
 "cells": [
  {
   "cell_type": "markdown",
   "metadata": {},
   "source": [
    "# LeetCode #1071. Greatest Common Divisor of Strings\n",
    "\n",
    "## Question\n",
    "    \n",
    "https://leetcode.com/problems/greatest-common-divisor-of-strings/\n",
    "\n",
    "\n",
    "    For strings S and T, we say \"T divides S\" if and only if S = T + ... + T  (T concatenated with itself 1 or more times)\n",
    "\n",
    "Return the largest string X such that X divides str1 and X divides str2.\n",
    "\n",
    " \n",
    "\n",
    "Example 1:\n",
    "\n",
    "Input: str1 = \"ABCABC\", str2 = \"ABC\"\n",
    "Output: \"ABC\"\n",
    "Example 2:\n",
    "\n",
    "Input: str1 = \"ABABAB\", str2 = \"ABAB\"\n",
    "Output: \"AB\"\n",
    "Example 3:\n",
    "\n",
    "Input: str1 = \"LEET\", str2 = \"CODE\"\n",
    "Output: \"\"\n",
    " \n",
    "\n",
    "Note:\n",
    "\n",
    "1 <= str1.length <= 1000\n",
    "1 <= str2.length <= 1000\n",
    "str1[i] and str2[i] are English uppercase letters."
   ]
  },
  {
   "cell_type": "markdown",
   "metadata": {},
   "source": [
    "## My Solution"
   ]
  },
  {
   "cell_type": "code",
   "execution_count": null,
   "metadata": {},
   "outputs": [],
   "source": []
  },
  {
   "cell_type": "code",
   "execution_count": null,
   "metadata": {},
   "outputs": [],
   "source": []
  },
  {
   "cell_type": "code",
   "execution_count": null,
   "metadata": {},
   "outputs": [],
   "source": []
  },
  {
   "cell_type": "code",
   "execution_count": null,
   "metadata": {},
   "outputs": [],
   "source": []
  },
  {
   "cell_type": "markdown",
   "metadata": {},
   "source": [
    "## My Result\n",
    "\n",
    "__Runtime__ : 00 ms, faster than 65.14% of Python3 online submissions for Valid Anagram.\n",
    "\n",
    "__Memory Usage__ : 00 MB, less than 5.21% of Python3 online submissions for Valid Anagram."
   ]
  },
  {
   "cell_type": "markdown",
   "metadata": {},
   "source": [
    "## @AAAA's Solution"
   ]
  },
  {
   "cell_type": "code",
   "execution_count": null,
   "metadata": {},
   "outputs": [],
   "source": []
  },
  {
   "cell_type": "code",
   "execution_count": null,
   "metadata": {},
   "outputs": [],
   "source": []
  },
  {
   "cell_type": "markdown",
   "metadata": {},
   "source": [
    "## @AAAA's Result\n",
    "\n",
    "__Runtime__: 0 ms, faster than 99.22% of Python3 online submissions for Valid Anagram.\n",
    "\n",
    "__Memory Usage__: 0 MB, less than 27.05% of Python3 online submissions for Valid Anagram."
   ]
  }
 ],
 "metadata": {
  "kernelspec": {
   "display_name": "Python 3",
   "language": "python",
   "name": "python3"
  },
  "language_info": {
   "codemirror_mode": {
    "name": "ipython",
    "version": 3
   },
   "file_extension": ".py",
   "mimetype": "text/x-python",
   "name": "python",
   "nbconvert_exporter": "python",
   "pygments_lexer": "ipython3",
   "version": "3.7.3"
  }
 },
 "nbformat": 4,
 "nbformat_minor": 2
}
