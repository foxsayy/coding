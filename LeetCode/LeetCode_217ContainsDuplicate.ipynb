{
 "cells": [
  {
   "cell_type": "markdown",
   "metadata": {},
   "source": [
    "# LeetCode #217. Contains Duplicate\n",
    "\n",
    "## Question\n",
    "    \n",
    "https://leetcode.com/problems/contains-duplicate/\n",
    "\n",
    "\n",
    "    Given an array of integers, find if the array contains any duplicates.\n",
    "\n",
    "    Your function should return true if any value appears at least twice in the array, and it should return false if every element is distinct.\n",
    "\n",
    "Example 1:\n",
    "\n",
    "    Input: [1,2,3,1]\n",
    "    Output: true\n",
    "\n",
    "Example 2:\n",
    "\n",
    "    Input: [1,2,3,4]\n",
    "    Output: false\n",
    "\n",
    "Example 3:\n",
    "\n",
    "    Input: [1,1,1,3,3,4,3,2,4,2]\n",
    "    Output: true"
   ]
  },
  {
   "cell_type": "markdown",
   "metadata": {},
   "source": [
    "## My Solution"
   ]
  },
  {
   "cell_type": "code",
   "execution_count": 1,
   "metadata": {},
   "outputs": [],
   "source": [
    "def containsDuplicate(nums):\n",
    "    nums.sort()\n",
    "    for i in range(len(nums) - 1):\n",
    "        try:\n",
    "            if nums[i] == nums[i+1]:\n",
    "                return True\n",
    "        except:\n",
    "            pass\n",
    "    return False"
   ]
  },
  {
   "cell_type": "code",
   "execution_count": 3,
   "metadata": {},
   "outputs": [
    {
     "data": {
      "text/plain": [
       "True"
      ]
     },
     "execution_count": 3,
     "metadata": {},
     "output_type": "execute_result"
    }
   ],
   "source": [
    "# test code\n",
    "nums = [1,1,1,3,3,4,3,2,4,2]\n",
    "containsDuplicate(nums)"
   ]
  },
  {
   "cell_type": "markdown",
   "metadata": {},
   "source": [
    "## My Result\n",
    "\n",
    "__Runtime__ : 116 ms, faster than 99.15% of Python3 online submissions for Contains Duplicate.\n",
    "\n",
    "__Memory Usage__ : 18.1 MB, less than 88.68% of Python3 online submissions for Contains Duplicate."
   ]
  }
 ],
 "metadata": {
  "kernelspec": {
   "display_name": "Python 3",
   "language": "python",
   "name": "python3"
  },
  "language_info": {
   "codemirror_mode": {
    "name": "ipython",
    "version": 3
   },
   "file_extension": ".py",
   "mimetype": "text/x-python",
   "name": "python",
   "nbconvert_exporter": "python",
   "pygments_lexer": "ipython3",
   "version": "3.7.3"
  }
 },
 "nbformat": 4,
 "nbformat_minor": 2
}
