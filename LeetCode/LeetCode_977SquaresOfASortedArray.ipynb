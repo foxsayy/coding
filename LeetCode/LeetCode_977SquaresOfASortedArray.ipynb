{
 "cells": [
  {
   "cell_type": "markdown",
   "metadata": {},
   "source": [
    "# LeetCode #977. Squares of a Sorted Array\n",
    "\n",
    "## Question\n",
    "    \n",
    "https://leetcode.com/problems/squares-of-a-sorted-array/\n",
    "\n",
    "\n",
    "    Given an array of integers A sorted in non-decreasing order, return an array of the squares of each number, also in sorted non-decreasing order.\n",
    "\n",
    " \n",
    "\n",
    "Example 1:\n",
    "\n",
    "    Input: [-4,-1,0,3,10]\n",
    "    Output: [0,1,9,16,100]\n",
    "\n",
    "Example 2:\n",
    "\n",
    "    Input: [-7,-3,2,3,11]\n",
    "    Output: [4,9,9,49,121]\n",
    " \n",
    "Note:\n",
    "\n",
    "    1 <= A.length <= 10000\n",
    "    -10000 <= A[i] <= 10000\n",
    "    A is sorted in non-decreasing order."
   ]
  },
  {
   "cell_type": "markdown",
   "metadata": {},
   "source": [
    "## My Solution"
   ]
  },
  {
   "cell_type": "code",
   "execution_count": 28,
   "metadata": {},
   "outputs": [],
   "source": [
    "def sortedSquares(A):\n",
    "    return sorted([a**2 for a in A])"
   ]
  },
  {
   "cell_type": "code",
   "execution_count": 30,
   "metadata": {},
   "outputs": [
    {
     "data": {
      "text/plain": [
       "[4, 9, 9, 49, 121]"
      ]
     },
     "execution_count": 30,
     "metadata": {},
     "output_type": "execute_result"
    }
   ],
   "source": [
    "# test code\n",
    "A = [-7,-3,2,3,11]\n",
    "sortedSquares(A)"
   ]
  },
  {
   "cell_type": "markdown",
   "metadata": {},
   "source": [
    "## My Result\n",
    "\n",
    "__Runtime__ : 196 ms, faster than 74.39% of Python online submissions for Squares of a Sorted Array.\n",
    "\n",
    "__Memory Usage__ : 13.8 MB, less than 30.77% of Python online submissions for Squares of a Sorted Array."
   ]
  }
 ],
 "metadata": {
  "kernelspec": {
   "display_name": "Python 3",
   "language": "python",
   "name": "python3"
  },
  "language_info": {
   "codemirror_mode": {
    "name": "ipython",
    "version": 3
   },
   "file_extension": ".py",
   "mimetype": "text/x-python",
   "name": "python",
   "nbconvert_exporter": "python",
   "pygments_lexer": "ipython3",
   "version": "3.7.0"
  }
 },
 "nbformat": 4,
 "nbformat_minor": 2
}
