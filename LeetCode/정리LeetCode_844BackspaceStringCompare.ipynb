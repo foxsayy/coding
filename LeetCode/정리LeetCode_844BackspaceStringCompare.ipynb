{
 "cells": [
  {
   "cell_type": "markdown",
   "metadata": {},
   "source": [
    "# LeetCode #844. Backspace String Compare\n",
    "\n",
    "## Question\n",
    "    \n",
    "https://leetcode.com/problems/backspace-string-compare/\n",
    "\n",
    "    Given two strings S and T, return if they are equal when both are typed into empty text editors. # means a backspace character.\n",
    "\n",
    "Example 1:\n",
    "    \n",
    "    Input: S = \"ab#c\", T = \"ad#c\"\n",
    "    Output: true\n",
    "    Explanation: Both S and T become \"ac\".\n",
    "    \n",
    "Example 2:\n",
    "    \n",
    "    Input: S = \"ab##\", T = \"c#d#\"\n",
    "    Output: true\n",
    "    Explanation: Both S and T become \"\".\n",
    "    \n",
    "Example 3:\n",
    "\n",
    "    Input: S = \"a##c\", T = \"#a#c\"\n",
    "    Output: true\n",
    "    Explanation: Both S and T become \"c\".\n",
    "    \n",
    "Example 4:\n",
    "    \n",
    "    Input: S = \"a#c\", T = \"b\"\n",
    "    Output: false\n",
    "    Explanation: S becomes \"c\" while T becomes \"b\".\n",
    "    \n",
    "Note:\n",
    "\n",
    "1 <= S.length <= 200\n",
    "    1 <= T.length <= 200\n",
    "    S and T only contain lowercase letters and '#' characters.\n",
    "    \n",
    "Follow up:\n",
    "\n",
    "    Can you solve it in O(N) time and O(1) space?\n",
    "    "
   ]
  },
  {
   "cell_type": "markdown",
   "metadata": {},
   "source": [
    "## My Solution"
   ]
  },
  {
   "cell_type": "code",
   "execution_count": null,
   "metadata": {},
   "outputs": [],
   "source": [
    "import re\n",
    "def backspaceCompare(S, T):\n",
    "\n",
    "    todel = re.findall('\\w#', S)\n",
    "    while todel:\n",
    "        S = S.replace(todel[0], \"\")\n",
    "        todel.pop(0)\n",
    "        todel = re.findall('\\w#', S)\n",
    "    S = S.replace('#', '')\n",
    "\n",
    "    todel = re.findall('.#', T)\n",
    "    while todel:\n",
    "        T = T.replace(todel[0], \"\")\n",
    "        todel.pop(0)\n",
    "        todel = re.findall('.#', T)\n",
    "    T = T.replace('#', '')\n",
    "    return S == T"
   ]
  },
  {
   "cell_type": "code",
   "execution_count": null,
   "metadata": {},
   "outputs": [],
   "source": []
  },
  {
   "cell_type": "code",
   "execution_count": 71,
   "metadata": {},
   "outputs": [
    {
     "data": {
      "text/plain": [
       "'c#ba'"
      ]
     },
     "execution_count": 71,
     "metadata": {},
     "output_type": "execute_result"
    }
   ],
   "source": [
    "S[::-1]"
   ]
  },
  {
   "cell_type": "code",
   "execution_count": 95,
   "metadata": {},
   "outputs": [],
   "source": [
    "S = \"a#c#c\"\n",
    "T = \"#a#c\""
   ]
  },
  {
   "cell_type": "code",
   "execution_count": 74,
   "metadata": {},
   "outputs": [
    {
     "data": {
      "text/plain": [
       "'c##a'"
      ]
     },
     "execution_count": 74,
     "metadata": {},
     "output_type": "execute_result"
    }
   ],
   "source": [
    "S[::-1]"
   ]
  },
  {
   "cell_type": "code",
   "execution_count": 75,
   "metadata": {},
   "outputs": [
    {
     "data": {
      "text/plain": [
       "'c#a#'"
      ]
     },
     "execution_count": 75,
     "metadata": {},
     "output_type": "execute_result"
    }
   ],
   "source": [
    "T[::-1]"
   ]
  },
  {
   "cell_type": "code",
   "execution_count": 82,
   "metadata": {},
   "outputs": [],
   "source": [
    "import re"
   ]
  },
  {
   "cell_type": "code",
   "execution_count": 128,
   "metadata": {},
   "outputs": [],
   "source": [
    "S = \"####a#c#c\""
   ]
  },
  {
   "cell_type": "code",
   "execution_count": 131,
   "metadata": {},
   "outputs": [],
   "source": [
    "S = \"ab#c\"\n",
    "T = \"ad#c\""
   ]
  },
  {
   "cell_type": "code",
   "execution_count": 178,
   "metadata": {},
   "outputs": [
    {
     "data": {
      "text/plain": [
       "True"
      ]
     },
     "execution_count": 178,
     "metadata": {},
     "output_type": "execute_result"
    }
   ],
   "source": [
    "todel = re.findall('\\w#', S)\n",
    "\n",
    "while todel:\n",
    "    S = S.replace(todel[0], \"\")\n",
    "    todel.pop(0)\n",
    "\n",
    "todel = re.findall('\\w#', T)\n",
    "while todel:\n",
    "    T = T.replace(todel[0], \"\")\n",
    "    todel.pop(0)\n",
    "    \n",
    "T == S"
   ]
  },
  {
   "cell_type": "code",
   "execution_count": 184,
   "metadata": {},
   "outputs": [],
   "source": [
    "import re\n",
    "def backspaceCompare(S, T):\n",
    "\n",
    "    todel = re.findall('\\w#', S)\n",
    "    print(\"start S:      \", S)\n",
    "    while todel:\n",
    "        print(\"while S start:\", S)\n",
    "        S = S.replace(todel[0], \"\")\n",
    "        print(\"todel\", todel)\n",
    "        print(\"replace S:    \", S)\n",
    "        todel.pop(0)\n",
    "        todel = re.findall('\\w#', S)\n",
    "        print(\"while S end:  \", S)\n",
    "        print(\"todel\", todel)\n",
    "    S = S.replace('#', '')\n",
    "    print(\"after S\", S)\n",
    "\n",
    "    todel = re.findall('.#', T)\n",
    "    while todel:\n",
    "        T = T.replace(todel[0], \"\")\n",
    "        todel.pop(0)\n",
    "        todel = re.findall('.#', T)\n",
    "    T = T.replace('#', '')\n",
    "    print(\"T\", T)\n",
    "        \n",
    "    return S == T"
   ]
  },
  {
   "cell_type": "code",
   "execution_count": 152,
   "metadata": {},
   "outputs": [
    {
     "name": "stdout",
     "output_type": "stream",
     "text": [
      "S ac\n",
      "T ac\n"
     ]
    },
    {
     "data": {
      "text/plain": [
       "True"
      ]
     },
     "execution_count": 152,
     "metadata": {},
     "output_type": "execute_result"
    }
   ],
   "source": [
    "S = \"ab#c\"\n",
    "T = \"ad#c\"\n",
    "backspaceCompare(S, T)"
   ]
  },
  {
   "cell_type": "code",
   "execution_count": 139,
   "metadata": {},
   "outputs": [
    {
     "name": "stdout",
     "output_type": "stream",
     "text": [
      "todel []\n",
      "S \n",
      "todelT []\n",
      "T \n"
     ]
    },
    {
     "data": {
      "text/plain": [
       "True"
      ]
     },
     "execution_count": 139,
     "metadata": {},
     "output_type": "execute_result"
    }
   ],
   "source": [
    "S = \"ab##\"\n",
    "T = \"c#d#\"\n",
    "backspaceCompare(S, T)"
   ]
  },
  {
   "cell_type": "code",
   "execution_count": 140,
   "metadata": {},
   "outputs": [
    {
     "name": "stdout",
     "output_type": "stream",
     "text": [
      "todel []\n",
      "S #c\n",
      "todelT []\n",
      "T #c\n"
     ]
    },
    {
     "data": {
      "text/plain": [
       "True"
      ]
     },
     "execution_count": 140,
     "metadata": {},
     "output_type": "execute_result"
    }
   ],
   "source": [
    "S = \"a##c\"\n",
    "T = \"#a#c\"\n",
    "backspaceCompare(S, T)"
   ]
  },
  {
   "cell_type": "code",
   "execution_count": 141,
   "metadata": {
    "scrolled": true
   },
   "outputs": [
    {
     "name": "stdout",
     "output_type": "stream",
     "text": [
      "todel []\n",
      "S #c\n",
      "todelT []\n",
      "T #c\n"
     ]
    },
    {
     "data": {
      "text/plain": [
       "True"
      ]
     },
     "execution_count": 141,
     "metadata": {},
     "output_type": "execute_result"
    }
   ],
   "source": [
    "S = \"a##c\"\n",
    "T = \"#a#c\"\n",
    "backspaceCompare(S, T)"
   ]
  },
  {
   "cell_type": "code",
   "execution_count": 142,
   "metadata": {},
   "outputs": [
    {
     "name": "stdout",
     "output_type": "stream",
     "text": [
      "todel []\n",
      "S c\n",
      "todelT []\n",
      "T b\n"
     ]
    },
    {
     "data": {
      "text/plain": [
       "False"
      ]
     },
     "execution_count": 142,
     "metadata": {},
     "output_type": "execute_result"
    }
   ],
   "source": [
    "S = \"a#c\"\n",
    "T = \"b\"\n",
    "backspaceCompare(S, T)"
   ]
  },
  {
   "cell_type": "code",
   "execution_count": 148,
   "metadata": {},
   "outputs": [
    {
     "data": {
      "text/plain": [
       "True"
      ]
     },
     "execution_count": 148,
     "metadata": {},
     "output_type": "execute_result"
    }
   ],
   "source": [
    "S = \"y#fo##f\"\n",
    "T = \"y#f#o##f\"\n",
    "backspaceCompare(S, T)"
   ]
  },
  {
   "cell_type": "code",
   "execution_count": 174,
   "metadata": {},
   "outputs": [],
   "source": [
    "A = \"#e##oyo#q #ef \\n #df\""
   ]
  },
  {
   "cell_type": "code",
   "execution_count": 175,
   "metadata": {},
   "outputs": [
    {
     "data": {
      "text/plain": [
       "['#']"
      ]
     },
     "execution_count": 175,
     "metadata": {},
     "output_type": "execute_result"
    }
   ],
   "source": [
    "re.findall(\"^#\", A)"
   ]
  },
  {
   "cell_type": "code",
   "execution_count": null,
   "metadata": {},
   "outputs": [],
   "source": [
    "S = \"##oyofq\""
   ]
  },
  {
   "cell_type": "code",
   "execution_count": null,
   "metadata": {},
   "outputs": [],
   "source": []
  },
  {
   "cell_type": "code",
   "execution_count": 183,
   "metadata": {},
   "outputs": [
    {
     "data": {
      "text/plain": [
       "['e#', 'e#', 'o#', 'f#']"
      ]
     },
     "execution_count": 183,
     "metadata": {},
     "output_type": "execute_result"
    }
   ],
   "source": [
    "todel = re.findall('\\w#', S)\n",
    "todel"
   ]
  },
  {
   "cell_type": "code",
   "execution_count": 188,
   "metadata": {},
   "outputs": [
    {
     "data": {
      "text/plain": [
       "True"
      ]
     },
     "execution_count": 188,
     "metadata": {},
     "output_type": "execute_result"
    }
   ],
   "source": [
    "S = \"e##e#o##oyof##q\"\n",
    "T = \"e##e#fq##o##oyof##q\"\n",
    "backspaceCompare(S, T)"
   ]
  },
  {
   "cell_type": "markdown",
   "metadata": {},
   "source": [
    "#### 풀이 (shit code)"
   ]
  },
  {
   "cell_type": "code",
   "execution_count": 193,
   "metadata": {},
   "outputs": [],
   "source": [
    "import re\n",
    "def backspaceCompare(S, T):\n",
    "\n",
    "    todel = re.findall('\\w#', S)\n",
    "    while todel:\n",
    "        S = S.replace(todel[0], \"\")\n",
    "        todel.pop(0)\n",
    "        todel = re.findall('\\w#', S)\n",
    "    S = S.replace('#', '')\n",
    "\n",
    "    todel = re.findall('\\w#', T)\n",
    "    while todel:\n",
    "        T = T.replace(todel[0], \"\")\n",
    "        todel.pop(0)\n",
    "        todel = re.findall('\\w#', T)\n",
    "    T = T.replace('#', '')\n",
    "    print(S, T)\n",
    "        \n",
    "    return S == T"
   ]
  },
  {
   "cell_type": "code",
   "execution_count": 194,
   "metadata": {},
   "outputs": [
    {
     "name": "stdout",
     "output_type": "stream",
     "text": [
      "oyq oyq\n"
     ]
    },
    {
     "data": {
      "text/plain": [
       "True"
      ]
     },
     "execution_count": 194,
     "metadata": {},
     "output_type": "execute_result"
    }
   ],
   "source": [
    "S = \"e##e#o##oyof##q\"\n",
    "T = \"e##e##o##oyof##q\"\n",
    "backspaceCompare(S, T)"
   ]
  },
  {
   "cell_type": "markdown",
   "metadata": {},
   "source": [
    "#### 풀이 (clean code)"
   ]
  },
  {
   "cell_type": "code",
   "execution_count": 204,
   "metadata": {},
   "outputs": [],
   "source": [
    "def backspaceCompare(S, T):\n",
    "    def build(S):\n",
    "        ans = []\n",
    "        for c in S:\n",
    "            if c != '#':\n",
    "                ans.append(c)\n",
    "            elif ans:\n",
    "                ans.pop()\n",
    "        return \"\".join(ans)\n",
    "    return build(S) == build(T)"
   ]
  },
  {
   "cell_type": "code",
   "execution_count": 205,
   "metadata": {},
   "outputs": [
    {
     "data": {
      "text/plain": [
       "True"
      ]
     },
     "execution_count": 205,
     "metadata": {},
     "output_type": "execute_result"
    }
   ],
   "source": [
    "S = \"e##e#o##oyof##q\"\n",
    "T = \"e##e#fq##o##oyof##q\"\n",
    "backspaceCompare(S, T)"
   ]
  }
 ],
 "metadata": {
  "kernelspec": {
   "display_name": "Python 3",
   "language": "python",
   "name": "python3"
  },
  "language_info": {
   "codemirror_mode": {
    "name": "ipython",
    "version": 3
   },
   "file_extension": ".py",
   "mimetype": "text/x-python",
   "name": "python",
   "nbconvert_exporter": "python",
   "pygments_lexer": "ipython3",
   "version": "3.7.0"
  }
 },
 "nbformat": 4,
 "nbformat_minor": 2
}
