{
 "cells": [
  {
   "cell_type": "markdown",
   "metadata": {},
   "source": [
    "# LeetCode #821. Shortest Distance to a Character\n",
    "\n",
    "## Question\n",
    "    \n",
    "https://leetcode.com/problems/shortest-distance-to-a-character/\n",
    "\n",
    "    Given a string S and a character C, return an array of integers representing the shortest distance from the character C in the string.\n",
    "\n",
    "Example 1:\n",
    "\n",
    "    Input: S = \"loveleetcode\", C = 'e'\n",
    "    Output: [3, 2, 1, 0, 1, 0, 0, 1, 2, 2, 1, 0]\n",
    " \n",
    "Note:\n",
    "\n",
    "    S string length is in [1, 10000].\n",
    "    C is a single character, and guaranteed to be in string S.\n",
    "    All letters in S and C are lowercase."
   ]
  },
  {
   "cell_type": "markdown",
   "metadata": {},
   "source": [
    "## My Solution"
   ]
  },
  {
   "cell_type": "code",
   "execution_count": 16,
   "metadata": {},
   "outputs": [],
   "source": [
    "def shortestToChar(S, C):\n",
    "    pass\n"
   ]
  },
  {
   "cell_type": "code",
   "execution_count": 93,
   "metadata": {},
   "outputs": [],
   "source": [
    "# test code\n",
    "S = \"loveleetcode\"\n",
    "C = 'e'"
   ]
  },
  {
   "cell_type": "code",
   "execution_count": 94,
   "metadata": {},
   "outputs": [
    {
     "data": {
      "text/plain": [
       "[3, 5, 6, 11]"
      ]
     },
     "execution_count": 94,
     "metadata": {},
     "output_type": "execute_result"
    }
   ],
   "source": [
    "loc = []\n",
    "for i, s in enumerate(S):\n",
    "    if s == C:\n",
    "        loc.append(i)\n",
    "loc"
   ]
  },
  {
   "cell_type": "code",
   "execution_count": 103,
   "metadata": {},
   "outputs": [
    {
     "data": {
      "text/plain": [
       "[12, 12, 12, 12, 12, 12, 12, 12, 12, 12, 12, 12]"
      ]
     },
     "execution_count": 103,
     "metadata": {},
     "output_type": "execute_result"
    }
   ],
   "source": [
    "res = [len(S)]* len(S)\n",
    "res"
   ]
  },
  {
   "cell_type": "code",
   "execution_count": 104,
   "metadata": {},
   "outputs": [],
   "source": [
    "for i in range(len(S)):\n",
    "    temp = abs(i - loc[0])\n",
    "    for j in range(len(loc)):\n",
    "        temps = min(temp, abs(i - loc[j]))\n",
    "    res[i] = min(temp, temps)"
   ]
  },
  {
   "cell_type": "code",
   "execution_count": 105,
   "metadata": {},
   "outputs": [
    {
     "data": {
      "text/plain": [
       "[3, 2, 1, 0, 1, 2, 3, 4, 3, 2, 1, 0]"
      ]
     },
     "execution_count": 105,
     "metadata": {},
     "output_type": "execute_result"
    }
   ],
   "source": [
    "res"
   ]
  },
  {
   "cell_type": "code",
   "execution_count": null,
   "metadata": {},
   "outputs": [],
   "source": []
  },
  {
   "cell_type": "markdown",
   "metadata": {},
   "source": [
    "## My Result\n",
    "\n",
    "__Runtime__ : 00 ms, faster than 65.14% of Python3 online submissions for Valid Anagram.\n",
    "\n",
    "__Memory Usage__ : 00 MB, less than 5.21% of Python3 online submissions for Valid Anagram."
   ]
  },
  {
   "cell_type": "markdown",
   "metadata": {},
   "source": [
    "## @AAAA's Solution"
   ]
  },
  {
   "cell_type": "code",
   "execution_count": null,
   "metadata": {},
   "outputs": [],
   "source": []
  },
  {
   "cell_type": "code",
   "execution_count": null,
   "metadata": {},
   "outputs": [],
   "source": []
  },
  {
   "cell_type": "markdown",
   "metadata": {},
   "source": [
    "## @AAAA's Result\n",
    "\n",
    "__Runtime__: 0 ms, faster than 99.22% of Python3 online submissions for Valid Anagram.\n",
    "\n",
    "__Memory Usage__: 0 MB, less than 27.05% of Python3 online submissions for Valid Anagram."
   ]
  }
 ],
 "metadata": {
  "kernelspec": {
   "display_name": "Python 3",
   "language": "python",
   "name": "python3"
  },
  "language_info": {
   "codemirror_mode": {
    "name": "ipython",
    "version": 3
   },
   "file_extension": ".py",
   "mimetype": "text/x-python",
   "name": "python",
   "nbconvert_exporter": "python",
   "pygments_lexer": "ipython3",
   "version": "3.7.0"
  }
 },
 "nbformat": 4,
 "nbformat_minor": 2
}
