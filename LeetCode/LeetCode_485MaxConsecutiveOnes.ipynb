{
 "cells": [
  {
   "cell_type": "markdown",
   "metadata": {},
   "source": [
    "# LeetCode #485. Max Consecutive Ones\n",
    "\n",
    "## Question\n",
    "    \n",
    "https://leetcode.com/problems/max-consecutive-ones/\n",
    "\n",
    "\n",
    "    Given a binary array, find the maximum number of consecutive 1s in this array.\n",
    "\n",
    "Example 1:\n",
    "\n",
    "    Input: [1,1,0,1,1,1]\n",
    "    Output: 3\n",
    "    Explanation: The first two digits or the last three digits are consecutive 1s.\n",
    "    The maximum number of consecutive 1s is 3.\n",
    "\n",
    "Note:\n",
    "\n",
    "    The input array will only contain 0 and 1.\n",
    "    The length of input array is a positive integer and will not exceed 10,000"
   ]
  },
  {
   "cell_type": "markdown",
   "metadata": {},
   "source": [
    "## My Solution"
   ]
  },
  {
   "cell_type": "code",
   "execution_count": 1,
   "metadata": {},
   "outputs": [],
   "source": [
    "def findMaxConsecutiveOnes(nums):\n",
    "    nums = \"\".join(map(str,nums))\n",
    "    nums = nums.split('0')\n",
    "    res = 0\n",
    "    for i in range(len(nums)):\n",
    "        res = max(len(nums[i]), res)\n",
    "    return res"
   ]
  },
  {
   "cell_type": "code",
   "execution_count": 2,
   "metadata": {},
   "outputs": [
    {
     "data": {
      "text/plain": [
       "3"
      ]
     },
     "execution_count": 2,
     "metadata": {},
     "output_type": "execute_result"
    }
   ],
   "source": [
    "# test code\n",
    "nums = [1,1,0,1,1,1]\n",
    "findMaxConsecutiveOnes(nums)"
   ]
  },
  {
   "cell_type": "markdown",
   "metadata": {},
   "source": [
    "## My Result\n",
    "\n",
    "__Runtime__ : 316 ms, faster than 89.21% of Python online submissions for Max Consecutive Ones.\n",
    "\n",
    "__Memory Usage__ : 12.1 MB, less than 8.33% of Python online submissions for Max Consecutive Ones."
   ]
  }
 ],
 "metadata": {
  "kernelspec": {
   "display_name": "Python 3",
   "language": "python",
   "name": "python3"
  },
  "language_info": {
   "codemirror_mode": {
    "name": "ipython",
    "version": 3
   },
   "file_extension": ".py",
   "mimetype": "text/x-python",
   "name": "python",
   "nbconvert_exporter": "python",
   "pygments_lexer": "ipython3",
   "version": "3.7.0"
  }
 },
 "nbformat": 4,
 "nbformat_minor": 2
}
