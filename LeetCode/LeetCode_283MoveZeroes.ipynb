{
 "cells": [
  {
   "cell_type": "markdown",
   "metadata": {},
   "source": [
    "# LeetCode #283. Move Zeroes\n",
    "\n",
    "## Question\n",
    "    \n",
    "https://leetcode.com/problems/move-zeroes/\n",
    "\n",
    "\n",
    "    Given an array nums, write a function to move all 0's to the end of it while maintaining the relative order of the non-zero elements.\n",
    "\n",
    "Example:\n",
    "\n",
    "    Input: [0,1,0,3,12]\n",
    "    Output: [1,3,12,0,0]\n",
    "\n",
    "Note:\n",
    "\n",
    "    You must do this in-place without making a copy of the array.\n",
    "    Minimize the total number of operations."
   ]
  },
  {
   "cell_type": "markdown",
   "metadata": {},
   "source": [
    "## My Solution"
   ]
  },
  {
   "cell_type": "code",
   "execution_count": 78,
   "metadata": {},
   "outputs": [],
   "source": [
    "def moveZeroes(arr):\n",
    "    for a in arr:\n",
    "        if a == 0:\n",
    "            arr.remove(0)\n",
    "            arr.append(0)\n",
    "    return arr"
   ]
  },
  {
   "cell_type": "code",
   "execution_count": 79,
   "metadata": {},
   "outputs": [
    {
     "data": {
      "text/plain": [
       "[1, 3, 12, 0, 0]"
      ]
     },
     "execution_count": 79,
     "metadata": {},
     "output_type": "execute_result"
    }
   ],
   "source": [
    "# test code\n",
    "arr = [0,1,0,3,12]\n",
    "moveZeroes(arr)"
   ]
  },
  {
   "cell_type": "markdown",
   "metadata": {},
   "source": [
    "## My Result\n",
    "\n",
    "__Runtime__ : 216 ms, faster than 9.27% of Python3 online submissions for Move Zeroes.\n",
    "\n",
    "__Memory Usage__ : 15.2 MB, less than 5.97% of Python3 online submissions for Move Zeroes."
   ]
  },
  {
   "cell_type": "markdown",
   "metadata": {},
   "source": [
    "## @konantian's Solution"
   ]
  },
  {
   "cell_type": "code",
   "execution_count": 75,
   "metadata": {},
   "outputs": [],
   "source": [
    "def moveZeroes(nums):\n",
    "    count = nums.count(0)\n",
    "    nums[:] = [i for i in nums if i != 0]\n",
    "    nums += [0]*count\n",
    "    return nums"
   ]
  },
  {
   "cell_type": "markdown",
   "metadata": {},
   "source": [
    "위 `nums[:]` 를 `nums`로 하면 오답 처리된다. 이유를 모르겠음."
   ]
  },
  {
   "cell_type": "code",
   "execution_count": 77,
   "metadata": {},
   "outputs": [
    {
     "data": {
      "text/plain": [
       "[1, 3, 12, 2, 4, 0, 0, 0, 0]"
      ]
     },
     "execution_count": 77,
     "metadata": {},
     "output_type": "execute_result"
    }
   ],
   "source": [
    "# test code\n",
    "nums = [0,1,0,3,12,0,2,4,0]\n",
    "moveZeroes(nums)"
   ]
  },
  {
   "cell_type": "markdown",
   "metadata": {},
   "source": [
    "## @konantian's Result\n",
    "\n",
    "__Runtime__: 60 ms, faster than 63.76% of Python3 online submissions for Move Zeroes.\n",
    "\n",
    "__Memory Usage__ : 15 MB, less than 5.97% of Python3 online submissions for Move Zeroes."
   ]
  }
 ],
 "metadata": {
  "kernelspec": {
   "display_name": "Python 3",
   "language": "python",
   "name": "python3"
  },
  "language_info": {
   "codemirror_mode": {
    "name": "ipython",
    "version": 3
   },
   "file_extension": ".py",
   "mimetype": "text/x-python",
   "name": "python",
   "nbconvert_exporter": "python",
   "pygments_lexer": "ipython3",
   "version": "3.7.0"
  }
 },
 "nbformat": 4,
 "nbformat_minor": 2
}
