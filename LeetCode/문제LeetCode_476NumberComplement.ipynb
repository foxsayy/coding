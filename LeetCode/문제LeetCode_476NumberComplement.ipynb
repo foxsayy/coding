{
 "cells": [
  {
   "cell_type": "markdown",
   "metadata": {},
   "source": [
    "# LeetCode #476. Number Complement\n",
    "\n",
    "## Question\n",
    "    \n",
    "https://leetcode.com/problems/number-complement/\n",
    "\n",
    "\n",
    "    Given a positive integer, output its complement number. \n",
    "    The complement strategy is to flip the bits of its binary representation.\n",
    "\n",
    "Note:\n",
    "\n",
    "    The given integer is guaranteed to fit within the range of a 32-bit signed integer.\n",
    "    You could assume no leading zero bit in the integer’s binary representation.\n",
    "\n",
    "Example 1:\n",
    "\n",
    "    Input: 5\n",
    "    Output: 2\n",
    "    Explanation: The binary representation of 5 is 101 (no leading zero bits), and its complement is 010. So you need to output 2.\n",
    "\n",
    "Example 2:\n",
    "\n",
    "    Input: 1\n",
    "    Output: 0\n",
    "    Explanation: The binary representation of 1 is 1 (no leading zero bits), and its complement is 0. So you need to output 0."
   ]
  },
  {
   "cell_type": "markdown",
   "metadata": {},
   "source": [
    "## My Solution"
   ]
  },
  {
   "cell_type": "code",
   "execution_count": 13,
   "metadata": {},
   "outputs": [],
   "source": [
    "def findComplement(num):\n",
    "    "
   ]
  },
  {
   "cell_type": "code",
   "execution_count": null,
   "metadata": {},
   "outputs": [],
   "source": []
  },
  {
   "cell_type": "markdown",
   "metadata": {},
   "source": [
    "### About My Solution\n",
    "\n",
    "    단ㅇㅇㅇ"
   ]
  },
  {
   "cell_type": "markdown",
   "metadata": {},
   "source": [
    "## My Result\n",
    "\n",
    "__Runtime__ : 00 ms, faster than 65.14% of Python3 online submissions for Valid Anagram.\n",
    "\n",
    "__Memory Usage__ : 00 MB, less than 5.21% of Python3 online submissions for Valid Anagram."
   ]
  },
  {
   "cell_type": "markdown",
   "metadata": {},
   "source": [
    "## @AAAA's Solution"
   ]
  },
  {
   "cell_type": "code",
   "execution_count": null,
   "metadata": {},
   "outputs": [],
   "source": []
  },
  {
   "cell_type": "markdown",
   "metadata": {},
   "source": [
    "### About ultramarin's Solution"
   ]
  },
  {
   "cell_type": "markdown",
   "metadata": {},
   "source": [
    "    아래 명"
   ]
  },
  {
   "cell_type": "markdown",
   "metadata": {},
   "source": [
    "## @AAAA's Result\n",
    "\n",
    "__Runtime__: 0 ms, faster than 99.22% of Python3 online submissions for Valid Anagram.\n",
    "\n",
    "__Memory Usage__: 0 MB, less than 27.05% of Python3 online submissions for Valid Anagram."
   ]
  }
 ],
 "metadata": {
  "kernelspec": {
   "display_name": "Python 3",
   "language": "python",
   "name": "python3"
  },
  "language_info": {
   "codemirror_mode": {
    "name": "ipython",
    "version": 3
   },
   "file_extension": ".py",
   "mimetype": "text/x-python",
   "name": "python",
   "nbconvert_exporter": "python",
   "pygments_lexer": "ipython3",
   "version": "3.7.0"
  }
 },
 "nbformat": 4,
 "nbformat_minor": 2
}
