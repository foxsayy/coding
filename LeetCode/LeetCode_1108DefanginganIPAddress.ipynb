{
 "cells": [
  {
   "cell_type": "markdown",
   "metadata": {},
   "source": [
    "# LeetCode #1108. Defanging an IP Address\n",
    "\n",
    "## Question\n",
    "    \n",
    "https://leetcode.com/problems/defanging-an-ip-address/\n",
    "\n",
    "\n",
    "    Given a valid (IPv4) IP address, return a defanged version of that IP address.\n",
    "\n",
    "    A defanged IP address replaces every period \".\" with \"[.]\".\n",
    "\n",
    "   Example 1:\n",
    "\n",
    "    Input: address = \"1.1.1.1\"\n",
    "    Output: \"1[.]1[.]1[.]1\"\n",
    "    \n",
    "   Example 2:\n",
    "\n",
    "    Input: address = \"255.100.50.0\"\n",
    "    Output: \"255[.]100[.]50[.]0\"\n",
    "\n",
    "\n",
    "   Constraints:\n",
    "\n",
    "    The given address is a valid IPv4 address."
   ]
  },
  {
   "cell_type": "markdown",
   "metadata": {},
   "source": [
    "## My Solution"
   ]
  },
  {
   "cell_type": "code",
   "execution_count": 5,
   "metadata": {},
   "outputs": [],
   "source": [
    "def defangIPaddr(address):\n",
    "    return address.replace(\".\", \"[.]\")"
   ]
  },
  {
   "cell_type": "code",
   "execution_count": 6,
   "metadata": {},
   "outputs": [
    {
     "data": {
      "text/plain": [
       "'1[.]1[.]1[.]1'"
      ]
     },
     "execution_count": 6,
     "metadata": {},
     "output_type": "execute_result"
    }
   ],
   "source": [
    "address = \"1.1.1.1\"\n",
    "defangIPaddr(address)"
   ]
  },
  {
   "cell_type": "markdown",
   "metadata": {},
   "source": [
    "## My Result\n",
    "\n",
    "__Runtime__ : 36 ms, faster than 65.75% of Python3 online submissions for Defanging an IP Address.\n",
    "\n",
    "__Memory Usage__: 13.8 MB, less than 100.00% of Python3 online submissions for Defanging an IP Address."
   ]
  }
 ],
 "metadata": {
  "kernelspec": {
   "display_name": "Python 3",
   "language": "python",
   "name": "python3"
  },
  "language_info": {
   "codemirror_mode": {
    "name": "ipython",
    "version": 3
   },
   "file_extension": ".py",
   "mimetype": "text/x-python",
   "name": "python",
   "nbconvert_exporter": "python",
   "pygments_lexer": "ipython3",
   "version": "3.7.0"
  }
 },
 "nbformat": 4,
 "nbformat_minor": 2
}
