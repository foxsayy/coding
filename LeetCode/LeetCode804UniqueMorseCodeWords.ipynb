{
 "cells": [
  {
   "cell_type": "markdown",
   "metadata": {},
   "source": [
    "# LeetCode #804. Unique Morse Code Words\n",
    "\n",
    "## Question\n",
    "    \n",
    "https://leetcode.com/problems/unique-morse-code-words/\n",
    "\n",
    "    International Morse Code defines a standard encoding where each letter is mapped to a series of dots and dashes, as follows: \"a\" maps to \".-\", \"b\" maps to \"-...\", \"c\" maps to \"-.-.\", and so on.\n",
    "\n",
    "    For convenience, the full table for the 26 letters of the English alphabet is given below:\n",
    "\n",
    "    [\".-\",\"-...\",\"-.-.\",\"-..\",\".\",\"..-.\",\"--.\",\"....\",\"..\",\".---\",\"-.-\",\".-..\",\"--\",\"-.\",\"---\",\".--.\",\"--.-\",\".-.\",\"...\",\"-\",\"..-\",\"...-\",\".--\",\"-..-\",\"-.--\",\"--..\"]\n",
    "    Now, given a list of words, each word can be written as a concatenation of the Morse code of each letter. For example, \"cba\" can be written as \"-.-..--...\", (which is the concatenation \"-.-.\" + \"-...\" + \".-\"). We'll call such a concatenation, the transformation of a word.\n",
    "\n",
    "    Return the number of different transformations among all words we have.\n",
    "\n",
    "Example:\n",
    "\n",
    "    Input: words = [\"gin\", \"zen\", \"gig\", \"msg\"]\n",
    "    Output: 2\n",
    "\n",
    "Explanation: \n",
    "\n",
    "The transformation of each word is:\n",
    "    \"gin\" -> \"--...-.\"\n",
    "    \"zen\" -> \"--...-.\"\n",
    "    \"gig\" -> \"--...--.\"\n",
    "    \"msg\" -> \"--...--.\"\n",
    "\n",
    "    There are 2 different transformations, \"--...-.\" and \"--...--.\".\n",
    "Note:\n",
    "\n",
    "    The length of words will be at most 100.\n",
    "    Each words[i] will have length in range [1, 12].\n",
    "    words[i] will only consist of lowercase letters."
   ]
  },
  {
   "cell_type": "markdown",
   "metadata": {},
   "source": [
    "## My Solution"
   ]
  },
  {
   "cell_type": "code",
   "execution_count": 39,
   "metadata": {},
   "outputs": [],
   "source": [
    "def uniqueMorseRepresentations(words):\n",
    "    morse = [\".-\",\"-...\",\"-.-.\",\"-..\",\".\",\"..-.\",\"--.\",\"....\",\"..\",\".---\",\"-.-\",\".-..\",\"--\",\"-.\",\"---\",\".--.\",\"--.-\",\".-.\",\"...\",\"-\",\"..-\",\"...-\",\".--\",\"-..-\",\"-.--\",\"--..\"]\n",
    "    from string import ascii_lowercase\n",
    "    alphabet = list(ascii_lowercase)\n",
    "    morse_dic = {}\n",
    "    for i, a in enumerate(alphabet):\n",
    "        morse_dic[a] = morse[i]\n",
    "    res = list()\n",
    "    for word in words:\n",
    "        temp = \"\"\n",
    "        for w in word:\n",
    "            temp += morse_dic[w]\n",
    "        res.append(temp)\n",
    "    return len(set(res))"
   ]
  },
  {
   "cell_type": "code",
   "execution_count": 41,
   "metadata": {},
   "outputs": [
    {
     "data": {
      "text/plain": [
       "2"
      ]
     },
     "execution_count": 41,
     "metadata": {},
     "output_type": "execute_result"
    }
   ],
   "source": [
    "# test code\n",
    "words = [\"gin\", \"zen\", \"gig\", \"msg\"]\n",
    "uniqueMorseRepresentations(words)"
   ]
  },
  {
   "cell_type": "markdown",
   "metadata": {},
   "source": [
    "## My Result\n",
    "\n",
    "__Runtime__ : 16 ms, faster than 94.77% of Python online submissions for Unique Morse Code Words.\n",
    "\n",
    "__Memory Usage__ : 11.8 MB, less than 35.71% of Python online submissions for Unique Morse Code Words."
   ]
  },
  {
   "cell_type": "markdown",
   "metadata": {},
   "source": [
    "## @lee215's Solution"
   ]
  },
  {
   "cell_type": "code",
   "execution_count": 42,
   "metadata": {},
   "outputs": [],
   "source": [
    "def uniqueMorseRepresentations(words):\n",
    "    d = [\".-\", \"-...\", \"-.-.\", \"-..\", \".\", \"..-.\", \"--.\", \"....\", \"..\", \".---\", \"-.-\", \".-..\", \"--\",\n",
    "             \"-.\", \"---\", \".--.\", \"--.-\", \".-.\", \"...\", \"-\", \"..-\", \"...-\", \".--\", \"-..-\", \"-.--\", \"--..\"]\n",
    "    return len({''.join(d[ord(i) - ord('a')] for i in w) for w in words})"
   ]
  },
  {
   "cell_type": "code",
   "execution_count": 43,
   "metadata": {},
   "outputs": [
    {
     "data": {
      "text/plain": [
       "2"
      ]
     },
     "execution_count": 43,
     "metadata": {},
     "output_type": "execute_result"
    }
   ],
   "source": [
    "# test code\n",
    "words = [\"gin\", \"zen\", \"gig\", \"msg\"]\n",
    "uniqueMorseRepresentations(words)"
   ]
  },
  {
   "cell_type": "markdown",
   "metadata": {},
   "source": [
    "## @lee215's Result\n",
    "\n",
    "__Runtime__: 24 ms, faster than 51.63% of Python online submissions for Unique Morse Code Words.\n",
    "\n",
    "__Memory Usage__ : 11.9 MB, less than 28.57% of Python online submissions for Unique Morse Code Words."
   ]
  }
 ],
 "metadata": {
  "kernelspec": {
   "display_name": "Python 3",
   "language": "python",
   "name": "python3"
  },
  "language_info": {
   "codemirror_mode": {
    "name": "ipython",
    "version": 3
   },
   "file_extension": ".py",
   "mimetype": "text/x-python",
   "name": "python",
   "nbconvert_exporter": "python",
   "pygments_lexer": "ipython3",
   "version": "3.7.0"
  }
 },
 "nbformat": 4,
 "nbformat_minor": 2
}
