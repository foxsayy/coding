{
 "cells": [
  {
   "cell_type": "markdown",
   "metadata": {},
   "source": [
    "# LeetCode #136. Single Number\n",
    "\n",
    "## Question\n",
    "    \n",
    "https://leetcode.com/problems/single-number/\n",
    "\n",
    "\n",
    "    Given a non-empty array of integers, every element appears twice except for one. Find that single one.\n",
    "\n",
    "Note:\n",
    "\n",
    "    Your algorithm should have a linear runtime complexity. Could you implement it without using extra memory?\n",
    "\n",
    "Example 1:\n",
    "\n",
    "    Input: [2,2,1]\n",
    "    Output: 1\n",
    "\n",
    "Example 2:\n",
    "\n",
    "    Input: [4,1,2,1,2]\n",
    "    Output: 4"
   ]
  },
  {
   "cell_type": "markdown",
   "metadata": {},
   "source": [
    "## My Solution"
   ]
  },
  {
   "cell_type": "code",
   "execution_count": 1,
   "metadata": {},
   "outputs": [],
   "source": [
    "def singleNumber(nums):\n",
    "    nums = sorted(nums)\n",
    "    res = 0\n",
    "    for i in range(len(nums)):\n",
    "        if i % 2 == 0:\n",
    "            res += nums[i]\n",
    "        else:\n",
    "            res -= nums[i]\n",
    "    return res"
   ]
  },
  {
   "cell_type": "code",
   "execution_count": 2,
   "metadata": {},
   "outputs": [
    {
     "data": {
      "text/plain": [
       "1"
      ]
     },
     "execution_count": 2,
     "metadata": {},
     "output_type": "execute_result"
    }
   ],
   "source": [
    "# test code\n",
    "nums = [2,2,1]\n",
    "singleNumber(nums)"
   ]
  },
  {
   "cell_type": "markdown",
   "metadata": {},
   "source": [
    "## My Result\n",
    "\n",
    "__Runtime__ : 80 ms, faster than 42.65% of Python online submissions for Single Number.\n",
    "\n",
    "__Memory Usage__ : 13.7 MB, less than 48.43% of Python online submissions for Single Number."
   ]
  },
  {
   "cell_type": "markdown",
   "metadata": {},
   "source": [
    "## @caikehe's Solution"
   ]
  },
  {
   "cell_type": "code",
   "execution_count": 20,
   "metadata": {
    "scrolled": true
   },
   "outputs": [],
   "source": [
    "def singleNumber2(nums):\n",
    "    res = 0\n",
    "    for num in nums:\n",
    "        res ^= num\n",
    "    return res"
   ]
  },
  {
   "cell_type": "code",
   "execution_count": 21,
   "metadata": {},
   "outputs": [
    {
     "data": {
      "text/plain": [
       "1"
      ]
     },
     "execution_count": 21,
     "metadata": {},
     "output_type": "execute_result"
    }
   ],
   "source": [
    "# test code\n",
    "nums = [2,2,1]\n",
    "singleNumber2(nums)"
   ]
  },
  {
   "cell_type": "markdown",
   "metadata": {},
   "source": [
    "## @caikehe's Result\n",
    "\n",
    "__Runtime__ : 104 ms, faster than 44.12% of Python3 online submissions for Single Number.\n",
    "\n",
    "__Memory Usage__ : 16.2 MB, less than 6.56% of Python3 online submissions for Single Number."
   ]
  }
 ],
 "metadata": {
  "kernelspec": {
   "display_name": "Python 3",
   "language": "python",
   "name": "python3"
  },
  "language_info": {
   "codemirror_mode": {
    "name": "ipython",
    "version": 3
   },
   "file_extension": ".py",
   "mimetype": "text/x-python",
   "name": "python",
   "nbconvert_exporter": "python",
   "pygments_lexer": "ipython3",
   "version": "3.7.4"
  }
 },
 "nbformat": 4,
 "nbformat_minor": 2
}
