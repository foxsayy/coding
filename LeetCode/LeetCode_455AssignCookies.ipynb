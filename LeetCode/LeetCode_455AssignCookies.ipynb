{
 "cells": [
  {
   "cell_type": "markdown",
   "metadata": {},
   "source": [
    "# LeetCode #455. Assign Cookies\n",
    "\n",
    "## Question\n",
    "https://leetcode.com/problems/assign-cookies/\n",
    "\n",
    "    Assume you are an awesome parent and want to give your children some cookies. But, you should give each child at most one cookie. Each child i has a greed factor gi, which is the minimum size of a cookie that the child will be content with; and each cookie j has a size sj. If sj >= gi, we can assign the cookie j to the child i, and the child i will be content. Your goal is to maximize the number of your content children and output the maximum number.\n",
    "\n",
    "    Note:\n",
    "    You may assume the greed factor is always positive. \n",
    "    You cannot assign more than one cookie to one child.\n",
    "\n",
    "Example 1:\n",
    "\n",
    "    Input: [1,2,3], [1,1]\n",
    "\n",
    "    Output: 1\n",
    "\n",
    "    Explanation: You have 3 children and 2 cookies. The greed factors of 3 children are 1, 2, 3. \n",
    "    And even though you have 2 cookies, since their size is both 1, you could only make the child whose greed factor is 1 content.\n",
    "    You need to output 1.\n",
    "\n",
    "Example 2:\n",
    "\n",
    "    Input: [1,2], [1,2,3]\n",
    "\n",
    "    Output: 2\n",
    "\n",
    "    Explanation: You have 2 children and 3 cookies. The greed factors of 2 children are 1, 2. \n",
    "    You have 3 cookies and their sizes are big enough to gratify all of the children, \n",
    "    You need to output 2."
   ]
  },
  {
   "cell_type": "markdown",
   "metadata": {},
   "source": [
    "## My Solution"
   ]
  },
  {
   "cell_type": "code",
   "execution_count": 72,
   "metadata": {},
   "outputs": [],
   "source": [
    "def findContentChildren(g, s):\n",
    "    res = 0\n",
    "    g.sort()\n",
    "    s.sort()\n",
    "    for i in g:\n",
    "        for c in s:\n",
    "            if i <= c:\n",
    "                s.remove(c)\n",
    "                res += 1\n",
    "                break\n",
    "    return res"
   ]
  },
  {
   "cell_type": "code",
   "execution_count": 74,
   "metadata": {},
   "outputs": [
    {
     "data": {
      "text/plain": [
       "2"
      ]
     },
     "execution_count": 74,
     "metadata": {},
     "output_type": "execute_result"
    }
   ],
   "source": [
    "# test code (output = 2)\n",
    "g = [1,2] # children\n",
    "s = [1,2,3]  # cookie size\n",
    "findContentChildren(g, s)"
   ]
  },
  {
   "cell_type": "markdown",
   "metadata": {},
   "source": [
    "1. g, s를 오름차순으로 정렬합니다.\n",
    "2. g 안의 요소들을 차례로 돌면서 s(쿠키 사이즈)보다 작거나 같을 경우 카운트(+1)합니다.\n",
    "3. 카운트한 경우 s 내 요소(g가 먹은 쿠키)를 리스트를 제거하고 break합니다.\n",
    "4. g를 전부 돈 다음 res 값이 쿠키를 먹은 아이의 숫자입니다."
   ]
  },
  {
   "cell_type": "markdown",
   "metadata": {},
   "source": [
    "## My Result\n",
    "\n",
    "__Runtime__ : 688 ms, faster than 8.66% of Python online submissions for Assign Cookies.\n",
    "\n",
    "__Memory Usage__ : 13.1 MB, less than 46.82% of Python online submissions for Assign Cookies."
   ]
  },
  {
   "cell_type": "markdown",
   "metadata": {},
   "source": [
    "## @smurphy123's Solution"
   ]
  },
  {
   "cell_type": "code",
   "execution_count": 80,
   "metadata": {},
   "outputs": [],
   "source": [
    "def findContentChildren(g, s):\n",
    "    \n",
    "    # Sort Lists\n",
    "    g.sort()\n",
    "    s.sort()\n",
    "\n",
    "    # List lengths\n",
    "    g_length = len(g)\n",
    "    s_length = len(s)\n",
    "\n",
    "    # Check if either list is empty\n",
    "    if (g_length == 0 or s_length == 0):\n",
    "        return 0\n",
    "\n",
    "    # indexes and counters\n",
    "    i = s_length - 1\n",
    "    j = g_length - 1\n",
    "    satisfied_children = 0\n",
    "    while ( i >= 0 and j >= 0 ):\n",
    "        # size의 i번째 요소가 greed의 j번째 요소보다 같거나 클 경우\n",
    "        if s[i] >= g[j]:\n",
    "            # 만족한 아이를 카운트하고 i, j를 하나씩 뺍니다.\n",
    "            satisfied_children += 1\n",
    "            i -= 1\n",
    "            j -= 1\n",
    "        # size의 i번째 요소가 greed의 j번째 요소보다 작을 경우\n",
    "        elif s[i] < g[j]:\n",
    "            # greed의 index를 앞 칸으로 지정합니다.\n",
    "            j -= 1\n",
    "\n",
    "    return satisfied_children"
   ]
  },
  {
   "cell_type": "code",
   "execution_count": 81,
   "metadata": {},
   "outputs": [
    {
     "data": {
      "text/plain": [
       "2"
      ]
     },
     "execution_count": 81,
     "metadata": {},
     "output_type": "execute_result"
    }
   ],
   "source": [
    "# test code (output = 2)\n",
    "g = [1,2] # children\n",
    "s = [1,2,3]  # cookie size\n",
    "findContentChildren(g, s)"
   ]
  },
  {
   "cell_type": "markdown",
   "metadata": {},
   "source": [
    "## @smurphy123's Result\n",
    "\n",
    "__Runtime__ : 140 ms, faster than 74.34% of Python online submissions for Assign Cookies.\n",
    "\n",
    "__Memory Usage__ : 13 MB, less than 56.65% of Python online submissions for Assign Cookies.\n"
   ]
  }
 ],
 "metadata": {
  "kernelspec": {
   "display_name": "Python 3",
   "language": "python",
   "name": "python3"
  },
  "language_info": {
   "codemirror_mode": {
    "name": "ipython",
    "version": 3
   },
   "file_extension": ".py",
   "mimetype": "text/x-python",
   "name": "python",
   "nbconvert_exporter": "python",
   "pygments_lexer": "ipython3",
   "version": "3.7.0"
  }
 },
 "nbformat": 4,
 "nbformat_minor": 2
}
