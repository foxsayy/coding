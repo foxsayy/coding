{
 "cells": [
  {
   "cell_type": "markdown",
   "metadata": {},
   "source": [
    "# LeetCode #1122. Relative Sort Array\n",
    "\n",
    "## Question\n",
    "    \n",
    "https://leetcode.com/problems/relative-sort-array/\n",
    "\n",
    "\n",
    "    Given two arrays arr1 and arr2, the elements of arr2 are distinct, and all elements in arr2 are also in arr1.\n",
    "\n",
    "    Sort the elements of arr1 such that the relative ordering of items in arr1 are the same as in arr2.  Elements that don't appear in arr2 should be placed at the end of arr1 in ascending order.\n",
    " \n",
    "Example 1:\n",
    "\n",
    "    Input: arr1 = [2,3,1,3,2,4,6,7,9,2,19], arr2 = [2,1,4,3,9,6]\n",
    "    Output: [2,2,2,1,4,3,3,9,6,7,19]\n",
    " \n",
    "Constraints:\n",
    "\n",
    "    arr1.length, arr2.length <= 1000\n",
    "    0 <= arr1[i], arr2[i] <= 1000\n",
    "    Each arr2[i] is distinct.\n",
    "    Each arr2[i] is in arr1."
   ]
  },
  {
   "cell_type": "markdown",
   "metadata": {},
   "source": [
    "## My Solution"
   ]
  },
  {
   "cell_type": "code",
   "execution_count": 30,
   "metadata": {},
   "outputs": [],
   "source": [
    "def relativeSortArray(arr1, arr2):\n",
    "    res = []\n",
    "    for a in arr2:\n",
    "        count = arr1.count(a)\n",
    "        while count != 0:\n",
    "            res.append(a)\n",
    "            count -= 1\n",
    "    not_in_arr2 = list(set(arr1) - set(arr2))\n",
    "    not_in_arr2 = sorted(not_in_arr2)\n",
    "    for n in not_in_arr2:\n",
    "        count = arr1.count(n)\n",
    "        while count != 0:\n",
    "            res.append(n)\n",
    "            count -= 1\n",
    "    return res"
   ]
  },
  {
   "cell_type": "code",
   "execution_count": 32,
   "metadata": {},
   "outputs": [
    {
     "data": {
      "text/plain": [
       "[2, 2, 2, 1, 4, 3, 3, 9, 6, 7, 19]"
      ]
     },
     "execution_count": 32,
     "metadata": {},
     "output_type": "execute_result"
    }
   ],
   "source": [
    "# test code\n",
    "arr1 = [2,3,1,3,2,4,6,7,9,2,19]\n",
    "arr2 = [2,1,4,3,9,6]\n",
    "relativeSortArray(arr1, arr2)"
   ]
  },
  {
   "cell_type": "markdown",
   "metadata": {},
   "source": [
    "## My Result\n",
    "\n",
    "__Runtime__ : 44 ms, faster than 76.20% of Python3 online submissions for Relative Sort Array.\n",
    "\n",
    "__Memory Usage__ : 14.2 MB, less than 100.00% of Python3 online submissions for Relative Sort Array."
   ]
  },
  {
   "cell_type": "markdown",
   "metadata": {},
   "source": [
    "## @lee215's Solution"
   ]
  },
  {
   "cell_type": "code",
   "execution_count": null,
   "metadata": {},
   "outputs": [],
   "source": [
    "def relativeSortArray(A, B):\n",
    "    k = {b: i for i, b in enumerate(B)}\n",
    "    return sorted(A, key=lambda a: k.get(a, 1000 + a))"
   ]
  },
  {
   "cell_type": "code",
   "execution_count": 39,
   "metadata": {},
   "outputs": [
    {
     "data": {
      "text/plain": [
       "[2, 2, 2, 1, 4, 3, 3, 9, 6, 7, 19]"
      ]
     },
     "execution_count": 39,
     "metadata": {},
     "output_type": "execute_result"
    }
   ],
   "source": [
    "# test code\n",
    "A = [2,3,1,3,2,4,6,7,9,2,19]\n",
    "B = [2,1,4,3,9,6]\n",
    "relativeSortArray(A, B)"
   ]
  },
  {
   "cell_type": "markdown",
   "metadata": {},
   "source": [
    "    Explanation by @lee215\n",
    "    Save the order of B to a hashmap k,\n",
    "    because we'll use it again and again.\n",
    "\n",
    "    Sort A and take k[a] as the key.\n",
    "    If a not in k, take 1000 + a as key."
   ]
  },
  {
   "cell_type": "markdown",
   "metadata": {},
   "source": [
    "## @lee215's Result\n",
    "\n",
    "__Runtime__: 40 ms, faster than 92.35% of Python3 online submissions for Relative Sort Array.\n",
    "\n",
    "__Memory Usage__ : 13.8 MB, less than 100.00% of Python3 online submissions for Relative Sort Array."
   ]
  }
 ],
 "metadata": {
  "kernelspec": {
   "display_name": "Python 3",
   "language": "python",
   "name": "python3"
  },
  "language_info": {
   "codemirror_mode": {
    "name": "ipython",
    "version": 3
   },
   "file_extension": ".py",
   "mimetype": "text/x-python",
   "name": "python",
   "nbconvert_exporter": "python",
   "pygments_lexer": "ipython3",
   "version": "3.7.0"
  }
 },
 "nbformat": 4,
 "nbformat_minor": 2
}
