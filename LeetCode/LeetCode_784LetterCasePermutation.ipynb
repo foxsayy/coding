{
 "cells": [
  {
   "cell_type": "markdown",
   "metadata": {},
   "source": [
    "# LeetCode #784. Letter Case Permutation\n",
    "\n",
    "    Given a string S, we can transform every letter individually to be lowercase or uppercase to create another string.  Return a list of all possible strings we could create.\n",
    "\n",
    "    Examples:\n",
    "    Input: S = \"a1b2\"\n",
    "    Output: [\"a1b2\", \"a1B2\", \"A1b2\", \"A1B2\"]\n",
    "\n",
    "    Input: S = \"3z4\"\n",
    "    Output: [\"3z4\", \"3Z4\"]\n",
    "\n",
    "    Input: S = \"12345\"\n",
    "    Output: [\"12345\"]\n",
    "    Note:\n",
    "\n",
    "    S will be a string with length between 1 and 12.\n",
    "    S will consist only of letters or digits."
   ]
  },
  {
   "cell_type": "markdown",
   "metadata": {},
   "source": [
    "## My Solution   "
   ]
  },
  {
   "cell_type": "code",
   "execution_count": 124,
   "metadata": {},
   "outputs": [],
   "source": [
    "def letterCasePermutation(S):\n",
    "    temp = []\n",
    "    for s in S:\n",
    "        if s.isalpha():\n",
    "            temp.append(s.lower()+s.upper())\n",
    "        else:\n",
    "            temp.append(s)        \n",
    "    from itertools import product\n",
    "    temp = list(product(*temp))\n",
    "    res = []\n",
    "    for i in range(len(temp)):\n",
    "        res.append(''.join(temp[i]))\n",
    "    return res"
   ]
  },
  {
   "cell_type": "code",
   "execution_count": 125,
   "metadata": {},
   "outputs": [
    {
     "data": {
      "text/plain": [
       "['a1b2', 'a1B2', 'A1b2', 'A1B2']"
      ]
     },
     "execution_count": 125,
     "metadata": {},
     "output_type": "execute_result"
    }
   ],
   "source": [
    "# test case\n",
    "S = \"a1b2\"\n",
    "letterCasePermutation(S)"
   ]
  },
  {
   "cell_type": "markdown",
   "metadata": {},
   "source": [
    "### About My Solution\n",
    "\n",
    "    입력값 S가 \"a1b2\" 일 경우입니다.\n",
    "    \n",
    "    1) for 문에서 각 문자를 돌면서 그 문자가 알파벳이면 '소문자+대문자', 숫자면 그냥 숫자로 된 리스트를 만듭니다.\n",
    "    temp = ['aA', '1', 'bB', '2']\n",
    "    \n",
    "    2) itertools의 product 기능을 이용하면 위 리스트를 아래와 같이 만들 수 있습니다.\n",
    "    temp = [('a', '1', 'b', '2'),\n",
    "            ('a', '1', 'B', '2'),\n",
    "            ('A', '1', 'b', '2'),\n",
    "            ('A', '1', 'B', '2')]\n",
    "            \n",
    "    3) 각 원소를 join으로 합친 결과를 리스트로 출력합니다.\n",
    "    res = ['a1b2', 'a1B2', 'A1b2', 'A1B2']"
   ]
  },
  {
   "cell_type": "markdown",
   "metadata": {},
   "source": [
    "## My Result\n",
    "\n",
    "__Runtime__ : 44 ms, faster than 93.37% of Python online submissions for Letter Case Permutation.\n",
    "\n",
    "__Memory Usage__ : 13.4 MB, less than 20.30% of Python online submissions for Letter Case Permutation."
   ]
  },
  {
   "cell_type": "markdown",
   "metadata": {},
   "source": [
    "## @blehart's Solution"
   ]
  },
  {
   "cell_type": "code",
   "execution_count": 128,
   "metadata": {},
   "outputs": [],
   "source": [
    "def letterCasePermutation(S):\n",
    "    res = ['']\n",
    "    for ch in S:\n",
    "        if ch.isalpha():\n",
    "            res = [i+j for i in res for j in [ch.upper(), ch.lower()]]\n",
    "        else:\n",
    "            res = [i+ch for i in res]\n",
    "    return res"
   ]
  },
  {
   "cell_type": "code",
   "execution_count": 129,
   "metadata": {},
   "outputs": [
    {
     "data": {
      "text/plain": [
       "['A1B2', 'A1b2', 'a1B2', 'a1b2']"
      ]
     },
     "execution_count": 129,
     "metadata": {},
     "output_type": "execute_result"
    }
   ],
   "source": [
    "# test case\n",
    "S = \"a1b2\"\n",
    "letterCasePermutation(S)"
   ]
  },
  {
   "cell_type": "markdown",
   "metadata": {},
   "source": [
    "## @blehart's Result\n",
    "\n",
    "__Runtime__ : 36 ms, faster than 99.56% of Python online submissions for Letter Case Permutation.\n",
    "\n",
    "__Memory Usage__ : 12.8 MB, less than 31.74% of Python online submissions for Letter Case Permutation."
   ]
  },
  {
   "cell_type": "markdown",
   "metadata": {},
   "source": [
    "## @lee215's Solution"
   ]
  },
  {
   "cell_type": "code",
   "execution_count": 131,
   "metadata": {},
   "outputs": [],
   "source": [
    "def letterCasePermutation(S):\n",
    "    L = [[i.lower(), i.upper()] if i.isalpha() else i for i in S]\n",
    "    return [''.join(i) for i in itertools.product(*L)]"
   ]
  },
  {
   "cell_type": "code",
   "execution_count": 133,
   "metadata": {},
   "outputs": [
    {
     "data": {
      "text/plain": [
       "['a1c2', 'a1C2', 'A1c2', 'A1C2']"
      ]
     },
     "execution_count": 133,
     "metadata": {},
     "output_type": "execute_result"
    }
   ],
   "source": [
    "# test case\n",
    "S = \"a1c2\"\n",
    "letterCasePermutation(S)"
   ]
  },
  {
   "cell_type": "markdown",
   "metadata": {},
   "source": [
    "## @lee215's Result\n",
    "\n",
    "__Runtime__ : 32 ms, faster than 99.74% of Python online submissions for Letter Case Permutation.\n",
    "\n",
    "__Memory Usage__ : 12.4 MB, less than 94.47% of Python online submissions for Letter Case Permutation."
   ]
  }
 ],
 "metadata": {
  "kernelspec": {
   "display_name": "Python 3",
   "language": "python",
   "name": "python3"
  },
  "language_info": {
   "codemirror_mode": {
    "name": "ipython",
    "version": 3
   },
   "file_extension": ".py",
   "mimetype": "text/x-python",
   "name": "python",
   "nbconvert_exporter": "python",
   "pygments_lexer": "ipython3",
   "version": "3.7.0"
  }
 },
 "nbformat": 4,
 "nbformat_minor": 2
}
