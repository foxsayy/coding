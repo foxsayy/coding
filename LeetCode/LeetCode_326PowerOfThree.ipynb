{
 "cells": [
  {
   "cell_type": "markdown",
   "metadata": {},
   "source": [
    "# LeetCode #326. Power of Three\n",
    "\n",
    "## Question\n",
    "    \n",
    "https://leetcode.com/problems/power-of-three/\n",
    "\n",
    "\n",
    "    Given an integer, write a function to determine if it is a power of three.\n",
    "\n",
    "Example 1:\n",
    "\n",
    "    Input: 27\n",
    "    Output: true\n",
    "\n",
    "Example 2:\n",
    "\n",
    "    Input: 0\n",
    "    Output: false\n",
    "\n",
    "Example 3:\n",
    "\n",
    "    Input: 9\n",
    "    Output: true\n",
    "\n",
    "Example 4:\n",
    "\n",
    "    Input: 45\n",
    "    Output: false\n",
    "\n",
    "Follow up:\n",
    "    \n",
    "    Could you do it without using any loop / recursion?"
   ]
  },
  {
   "cell_type": "markdown",
   "metadata": {},
   "source": [
    "## My Solution"
   ]
  },
  {
   "cell_type": "code",
   "execution_count": 1,
   "metadata": {},
   "outputs": [],
   "source": [
    "def isPowerOfThree(n):\n",
    "    if n == 0:\n",
    "        return False\n",
    "    while n != 1:\n",
    "        if n / 3 != int(n / 3):\n",
    "            return False\n",
    "        n = n / 3\n",
    "\n",
    "    return True"
   ]
  },
  {
   "cell_type": "code",
   "execution_count": 2,
   "metadata": {},
   "outputs": [
    {
     "data": {
      "text/plain": [
       "True"
      ]
     },
     "execution_count": 2,
     "metadata": {},
     "output_type": "execute_result"
    }
   ],
   "source": [
    "# test code\n",
    "n = 27\n",
    "isPowerOfThree(n)"
   ]
  },
  {
   "cell_type": "markdown",
   "metadata": {},
   "source": [
    "## My Result\n",
    "\n",
    "__Runtime__ : 64 ms, faster than 96.38% of Python3 online submissions for Power of Three.\n",
    "\n",
    "__Memory Usage__ : 12.8 MB, less than 100.00% of Python3 online submissions for Power of Three."
   ]
  }
 ],
 "metadata": {
  "kernelspec": {
   "display_name": "Python 3",
   "language": "python",
   "name": "python3"
  },
  "language_info": {
   "codemirror_mode": {
    "name": "ipython",
    "version": 3
   },
   "file_extension": ".py",
   "mimetype": "text/x-python",
   "name": "python",
   "nbconvert_exporter": "python",
   "pygments_lexer": "ipython3",
   "version": "3.7.3"
  }
 },
 "nbformat": 4,
 "nbformat_minor": 2
}
