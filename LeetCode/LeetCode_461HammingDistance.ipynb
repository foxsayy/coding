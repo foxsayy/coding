{
 "cells": [
  {
   "cell_type": "markdown",
   "metadata": {},
   "source": [
    "# LeetCode #461. Hamming Distance\n",
    "\n",
    "## Question\n",
    "    \n",
    "https://leetcode.com/problems/hamming-distance/\n",
    "\n",
    "\n",
    "    The Hamming distance between two integers is the number of positions at which the corresponding bits are different.\n",
    "\n",
    "    Given two integers x and y, calculate the Hamming distance.\n",
    "\n",
    "Note:\n",
    "\n",
    "    0 ≤ x, y < 2**31\n",
    "\n",
    "Example:\n",
    "\n",
    "    Input: x = 1, y = 4\n",
    "    Output: 2\n",
    "    Explanation:\n",
    "    1   (0 0 0 1)\n",
    "    4   (0 1 0 0)\n",
    "           ↑   ↑\n",
    "\n",
    "    The above arrows point to positions where the corresponding bits are different."
   ]
  },
  {
   "cell_type": "markdown",
   "metadata": {},
   "source": [
    "## My Solution"
   ]
  },
  {
   "cell_type": "code",
   "execution_count": 5,
   "metadata": {},
   "outputs": [],
   "source": [
    "def hammingDistance(x, y):\n",
    "    if x > y:\n",
    "        x, y = y, x\n",
    "    x_feeder = len(bin(y)[2:]) - len(bin(x)[2:])\n",
    "    x_full = '0' * x_feeder + bin(x)[2:]\n",
    "    y_full = bin(y)[2:]\n",
    "    \n",
    "    cnt = 0\n",
    "    for i in range(len(y_full)):\n",
    "        if x_full[i] != y_full[i]:\n",
    "            cnt += 1\n",
    "    return cnt"
   ]
  },
  {
   "cell_type": "code",
   "execution_count": 8,
   "metadata": {},
   "outputs": [
    {
     "data": {
      "text/plain": [
       "19"
      ]
     },
     "execution_count": 8,
     "metadata": {},
     "output_type": "execute_result"
    }
   ],
   "source": [
    "# test code\n",
    "x = 11577962638\n",
    "y = 1727613287\n",
    "hammingDistance(x, y)"
   ]
  },
  {
   "cell_type": "markdown",
   "metadata": {},
   "source": [
    "### About My Solution\n",
    "\n",
    "    두 숫자를 이진법으로 바꾼 뒤에 각 자리수의 숫자가 같은지 비교합니다.\n",
    "    숫자가 다를 경우 +1 해서 카운트합니다."
   ]
  },
  {
   "cell_type": "markdown",
   "metadata": {},
   "source": [
    "## My Result\n",
    "\n",
    "__Runtime__ : 8 ms, faster than 99.21% of Python online submissions for Hamming Distance.\n",
    "\n",
    "__Memory Usage__ : 11.8 MB, less than 27.45% of Python online submissions for Hamming Distance."
   ]
  },
  {
   "cell_type": "markdown",
   "metadata": {},
   "source": [
    "## @yuyuyu0905's Solution"
   ]
  },
  {
   "cell_type": "code",
   "execution_count": 11,
   "metadata": {},
   "outputs": [],
   "source": [
    "def hammingDistance(x, y):\n",
    "    return bin(x^y).count('1')"
   ]
  },
  {
   "cell_type": "code",
   "execution_count": 12,
   "metadata": {},
   "outputs": [
    {
     "data": {
      "text/plain": [
       "19"
      ]
     },
     "execution_count": 12,
     "metadata": {},
     "output_type": "execute_result"
    }
   ],
   "source": [
    "# test code\n",
    "x = 11577962638\n",
    "y = 1727613287\n",
    "hammingDistance(x, y)"
   ]
  },
  {
   "cell_type": "markdown",
   "metadata": {},
   "source": [
    "### About AAA's Solution"
   ]
  },
  {
   "cell_type": "markdown",
   "metadata": {},
   "source": [
    "    XOR연산(^)은 각 자릿수를 비교해 다르면 1, 같으면 0을 반환합니다.\n",
    "    0b10101010 ^ 0b11000011"
   ]
  },
  {
   "cell_type": "markdown",
   "metadata": {},
   "source": [
    "## @AAAA's Result\n",
    "\n",
    "__Runtime__: 16 ms, faster than 88.09% of Python online submissions for Hamming Distance.\n",
    "\n",
    "__Memory Usage__ : 11.7 MB, less than 69.81% of Python online submissions for Hamming Distance."
   ]
  }
 ],
 "metadata": {
  "kernelspec": {
   "display_name": "Python 3",
   "language": "python",
   "name": "python3"
  },
  "language_info": {
   "codemirror_mode": {
    "name": "ipython",
    "version": 3
   },
   "file_extension": ".py",
   "mimetype": "text/x-python",
   "name": "python",
   "nbconvert_exporter": "python",
   "pygments_lexer": "ipython3",
   "version": "3.7.0"
  }
 },
 "nbformat": 4,
 "nbformat_minor": 2
}
