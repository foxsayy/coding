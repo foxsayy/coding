{
 "cells": [
  {
   "cell_type": "markdown",
   "metadata": {},
   "source": [
    "Given a binary matrix A, we want to flip the image horizontally, then invert it, and return the resulting image.\n",
    "\n",
    "To flip an image horizontally means that each row of the image is reversed.  For example, flipping [1, 1, 0] horizontally results in [0, 1, 1].\n",
    "\n",
    "To invert an image means that each 0 is replaced by 1, and each 1 is replaced by 0. For example, inverting [0, 1, 1] results in [1, 0, 0]."
   ]
  },
  {
   "cell_type": "markdown",
   "metadata": {},
   "source": [
    "좌우로 뒤집은 뒤 0을 1로, 1을 0으로 바꾼다."
   ]
  },
  {
   "cell_type": "code",
   "execution_count": 98,
   "metadata": {},
   "outputs": [],
   "source": [
    "# Example 1\n",
    "input_a = [[1,1,0],\n",
    "           [1,0,1],\n",
    "           [0,0,0]]\n",
    "\n",
    "output_a = [[1,0,0],\n",
    "            [0,1,0],\n",
    "            [1,1,1]]\n",
    "\n",
    "# Explanation: First reverse each row\n",
    "# [[0,1,1], \n",
    "#  [1,0,1],\n",
    "#  [0,0,0]].\n",
    "# Then, invert the image\n",
    "# [[1,0,0],\n",
    "#  [0,1,0],\n",
    "#  [1,1,1]]"
   ]
  },
  {
   "cell_type": "code",
   "execution_count": 99,
   "metadata": {},
   "outputs": [],
   "source": [
    "# Example 2:\n",
    "input_b = [[1,1,0,0],\n",
    "           [1,0,0,1],\n",
    "           [0,1,1,1],\n",
    "           [1,0,1,0]]\n",
    "output_b = [[1,1,0,0],\n",
    "            [0,1,1,0],\n",
    "            [0,0,0,1],\n",
    "            [1,0,1,0]]\n",
    "\n",
    "# Explanation: First reverse each row: \n",
    "# [[0,0,1,1],\n",
    "#  [1,0,0,1],\n",
    "#  [1,1,1,0],\n",
    "#  [0,1,0,1]].\n",
    "# Then invert the image\n",
    "# [[1,1,0,0],\n",
    "#  [0,1,1,0],\n",
    "#  [0,0,0,1],\n",
    "#  [1,0,1,0]]"
   ]
  },
  {
   "cell_type": "markdown",
   "metadata": {},
   "source": [
    "Notes:\n",
    "\n",
    "1 <= A.length = A[0].length <= 20\n",
    "0 <= A[i][j] <= 1"
   ]
  },
  {
   "cell_type": "markdown",
   "metadata": {},
   "source": [
    "#### Example 1"
   ]
  },
  {
   "cell_type": "code",
   "execution_count": 34,
   "metadata": {},
   "outputs": [
    {
     "name": "stdout",
     "output_type": "stream",
     "text": [
      "[[1, 1, 0], [1, 0, 1], [0, 0, 0]]\n"
     ]
    }
   ],
   "source": [
    "print(input_a)"
   ]
  },
  {
   "cell_type": "code",
   "execution_count": 28,
   "metadata": {},
   "outputs": [
    {
     "name": "stdout",
     "output_type": "stream",
     "text": [
      "[0, 1, 1]\n",
      "[1, 0, 1]\n",
      "[0, 0, 0]\n"
     ]
    }
   ],
   "source": [
    "print(input_a[0][::-1])\n",
    "print(input_a[1][::-1])\n",
    "print(input_a[2][::-1])"
   ]
  },
  {
   "cell_type": "code",
   "execution_count": 35,
   "metadata": {},
   "outputs": [],
   "source": [
    "for i in range(len(input_a)):\n",
    "    input_a[0] = input_a[0][::-1]"
   ]
  },
  {
   "cell_type": "code",
   "execution_count": 36,
   "metadata": {},
   "outputs": [
    {
     "data": {
      "text/plain": [
       "[[0, 1, 1], [1, 0, 1], [0, 0, 0]]"
      ]
     },
     "execution_count": 36,
     "metadata": {},
     "output_type": "execute_result"
    }
   ],
   "source": [
    "input_a"
   ]
  },
  {
   "cell_type": "code",
   "execution_count": 37,
   "metadata": {},
   "outputs": [],
   "source": [
    "for i in range(len(input_a)):\n",
    "    for j in range(len(input_a)):\n",
    "        if input_a[i][j] == 0:\n",
    "            input_a[i][j] = 1\n",
    "        else:\n",
    "            input_a[i][j] = 0"
   ]
  },
  {
   "cell_type": "code",
   "execution_count": 38,
   "metadata": {},
   "outputs": [
    {
     "data": {
      "text/plain": [
       "[[1, 0, 0], [0, 1, 0], [1, 1, 1]]"
      ]
     },
     "execution_count": 38,
     "metadata": {},
     "output_type": "execute_result"
    }
   ],
   "source": [
    "input_a"
   ]
  },
  {
   "cell_type": "markdown",
   "metadata": {},
   "source": [
    "#### Example 2"
   ]
  },
  {
   "cell_type": "code",
   "execution_count": 95,
   "metadata": {},
   "outputs": [],
   "source": [
    "# Example 2:\n",
    "input_b = [[1,1,0,0],\n",
    "           [1,0,0,1],\n",
    "           [0,1,1,1],\n",
    "           [1,0,1,0]]\n",
    "output_b = [[1,1,0,0],\n",
    "            [0,1,1,0],\n",
    "            [0,0,0,1],\n",
    "            [1,0,1,0]]"
   ]
  },
  {
   "cell_type": "code",
   "execution_count": 86,
   "metadata": {},
   "outputs": [],
   "source": [
    "# Explanation: First reverse each row: \n",
    "# [[0,0,1,1],\n",
    "#  [1,0,0,1],\n",
    "#  [1,1,1,0],\n",
    "#  [0,1,0,1]]"
   ]
  },
  {
   "cell_type": "code",
   "execution_count": 87,
   "metadata": {},
   "outputs": [
    {
     "name": "stdout",
     "output_type": "stream",
     "text": [
      "[0, 0, 1, 1]\n",
      "[1, 0, 0, 1]\n",
      "[1, 1, 1, 0]\n",
      "[0, 1, 0, 1]\n"
     ]
    }
   ],
   "source": [
    "print(input_b[0][::-1])\n",
    "print(input_b[1][::-1])\n",
    "print(input_b[2][::-1])\n",
    "print(input_b[3][::-1])"
   ]
  },
  {
   "cell_type": "code",
   "execution_count": 88,
   "metadata": {},
   "outputs": [
    {
     "data": {
      "text/plain": [
       "[[0, 0, 1, 1], [1, 0, 0, 1], [1, 1, 1, 0], [0, 1, 0, 1]]"
      ]
     },
     "execution_count": 88,
     "metadata": {},
     "output_type": "execute_result"
    }
   ],
   "source": [
    "for i in range(len(input_b)):\n",
    "    input_b[i] = input_b[i][::-1]\n",
    "input_b"
   ]
  },
  {
   "cell_type": "code",
   "execution_count": 89,
   "metadata": {},
   "outputs": [],
   "source": [
    "# Then invert the image\n",
    "# [[1,1,0,0],\n",
    "#  [0,1,1,0],\n",
    "#  [0,0,0,1],\n",
    "#  [1,0,1,0]]"
   ]
  },
  {
   "cell_type": "code",
   "execution_count": 90,
   "metadata": {},
   "outputs": [
    {
     "data": {
      "text/plain": [
       "[[1, 1, 0, 0], [0, 1, 1, 0], [0, 0, 0, 1], [1, 0, 1, 0]]"
      ]
     },
     "execution_count": 90,
     "metadata": {},
     "output_type": "execute_result"
    }
   ],
   "source": [
    "for i in range(len(input_b)):\n",
    "    for j in range(len(input_b)):\n",
    "        if input_b[i][j] == 0:\n",
    "            input_b[i][j] = 1\n",
    "        else:\n",
    "            input_b[i][j] = 0\n",
    "input_b"
   ]
  },
  {
   "cell_type": "code",
   "execution_count": 100,
   "metadata": {},
   "outputs": [
    {
     "name": "stdout",
     "output_type": "stream",
     "text": [
      "CPU times: user 2 µs, sys: 0 ns, total: 2 µs\n",
      "Wall time: 7.15 µs\n"
     ]
    }
   ],
   "source": [
    "%time\n",
    "def flipAndInvertImage(input_b):\n",
    "    for k in range(len(input_b)):\n",
    "        input_b[k] = input_b[k][::-1]\n",
    "    for i in range(len(input_b)):\n",
    "        for j in range(len(input_b)):\n",
    "            if input_b[i][j] == 0:\n",
    "                input_b[i][j] = 1\n",
    "            else:\n",
    "                input_b[i][j] = 0    \n",
    "    return input_b"
   ]
  },
  {
   "cell_type": "code",
   "execution_count": 101,
   "metadata": {},
   "outputs": [
    {
     "name": "stdout",
     "output_type": "stream",
     "text": [
      "CPU times: user 3 µs, sys: 1e+03 ns, total: 4 µs\n",
      "Wall time: 6.91 µs\n",
      "[[1, 0, 0], [0, 1, 0], [1, 1, 1]]\n",
      "[[1, 0, 0], [0, 1, 0], [1, 1, 1]]\n"
     ]
    }
   ],
   "source": [
    "%time\n",
    "print(flipAndInvertImage(input_a))\n",
    "print(output_a)"
   ]
  },
  {
   "cell_type": "code",
   "execution_count": 102,
   "metadata": {},
   "outputs": [
    {
     "name": "stdout",
     "output_type": "stream",
     "text": [
      "CPU times: user 3 µs, sys: 1e+03 ns, total: 4 µs\n",
      "Wall time: 7.15 µs\n",
      "[[1, 1, 0, 0], [0, 1, 1, 0], [0, 0, 0, 1], [1, 0, 1, 0]]\n",
      "[[1, 1, 0, 0], [0, 1, 1, 0], [0, 0, 0, 1], [1, 0, 1, 0]]\n"
     ]
    }
   ],
   "source": [
    "%time \n",
    "print(flipAndInvertImage(input_b))\n",
    "print(output_b)"
   ]
  }
 ],
 "metadata": {
  "kernelspec": {
   "display_name": "Python 3",
   "language": "python",
   "name": "python3"
  },
  "language_info": {
   "codemirror_mode": {
    "name": "ipython",
    "version": 3
   },
   "file_extension": ".py",
   "mimetype": "text/x-python",
   "name": "python",
   "nbconvert_exporter": "python",
   "pygments_lexer": "ipython3",
   "version": "3.7.0"
  }
 },
 "nbformat": 4,
 "nbformat_minor": 2
}
