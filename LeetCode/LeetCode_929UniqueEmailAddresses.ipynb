{
 "cells": [
  {
   "cell_type": "markdown",
   "metadata": {},
   "source": [
    "# LeetCode #929. Unique Email Addresses\n",
    "\n",
    "## Question\n",
    "    \n",
    "https://leetcode.com/problems/unique-email-addresses/\n",
    "\n",
    "\n",
    "    Every email consists of a local name and a domain name, separated by the @ sign.\n",
    "\n",
    "    For example, in alice@leetcode.com, alice is the local name, and leetcode.com is the domain name.\n",
    "\n",
    "    Besides lowercase letters, these emails may contain '.'s or '+'s.\n",
    "\n",
    "    If you add periods ('.') between some characters in the local name part of an email address, mail sent there will be forwarded to the same address without dots in the local name.  For example, \"alice.z@leetcode.com\" and \"alicez@leetcode.com\" forward to the same email address.  (Note that this rule does not apply for domain names.)\n",
    "\n",
    "    If you add a plus ('+') in the local name, everything after the first plus sign will be ignored. This allows certain emails to be filtered, for example m.y+name@email.com will be forwarded to my@email.com.  (Again, this rule does not apply for domain names.)\n",
    "\n",
    "    It is possible to use both of these rules at the same time.\n",
    "\n",
    "    Given a list of emails, we send one email to each address in the list.  How many different addresses actually receive mails? \n",
    "\n",
    "Example 1:\n",
    "\n",
    "    Input: [\"test.email+alex@leetcode.com\",\"test.e.mail+bob.cathy@leetcode.com\",\"testemail+david@lee.tcode.com\"]\n",
    "    Output: 2\n",
    "    Explanation: \"testemail@leetcode.com\" and \"testemail@lee.tcode.com\" actually receive mails\n",
    " \n",
    "Note:\n",
    "\n",
    "    1 <= emails[i].length <= 100\n",
    "    1 <= emails.length <= 100\n",
    "    Each emails[i] contains exactly one '@' character.\n",
    "    All local and domain names are non-empty.\n",
    "    Local names do not start with a '+' character."
   ]
  },
  {
   "cell_type": "markdown",
   "metadata": {},
   "source": [
    "## My Solution"
   ]
  },
  {
   "cell_type": "code",
   "execution_count": 62,
   "metadata": {},
   "outputs": [],
   "source": [
    "def numUniqueEmails(A):\n",
    "    B = []\n",
    "    for a in A:\n",
    "        loc = a.find('@')\n",
    "        local_name = a[:loc]\n",
    "        local_name = local_name.replace('.', '')\n",
    "        ignore = local_name.find('+')\n",
    "        if ignore == -1:\n",
    "            local_name = local_name[:loc]\n",
    "        else:\n",
    "            local_name = local_name[:ignore]\n",
    "        res = local_name + a[loc:]\n",
    "        B.append(res)\n",
    "    return len(set(B))"
   ]
  },
  {
   "cell_type": "code",
   "execution_count": 64,
   "metadata": {},
   "outputs": [
    {
     "data": {
      "text/plain": [
       "2"
      ]
     },
     "execution_count": 64,
     "metadata": {},
     "output_type": "execute_result"
    }
   ],
   "source": [
    "# test code\n",
    "A = [\"test.email+alex@leetcode.com\",\"test.e.mail+bob.cathy@leetcode.com\",\"testemail+david@lee.tcode.com\"]\n",
    "numUniqueEmails(A)"
   ]
  },
  {
   "cell_type": "markdown",
   "metadata": {},
   "source": [
    "## My Result\n",
    "\n",
    "__Runtime__ : 32 ms, faster than 95.75% of Python online submissions for Unique Email Addresses.\n",
    "\n",
    "__Memory Usage__ : 11.8 MB, less than 86.79% of Python online submissions for Unique Email Addresses.\n"
   ]
  },
  {
   "cell_type": "markdown",
   "metadata": {},
   "source": [
    "## @dchen53's Solution"
   ]
  },
  {
   "cell_type": "code",
   "execution_count": 65,
   "metadata": {},
   "outputs": [],
   "source": [
    "def numUniqueEmails(emails):\n",
    "    email_set = set()\n",
    "    for email in emails:\n",
    "        local_name,domain_name = email.split(\"@\")\n",
    "        local_name =\"\".join(local_name.split('+')[0].split('.'))\n",
    "        email = local_name +'@' + domain_name\n",
    "        email_set.add(email)\n",
    "    return len(email_set)"
   ]
  },
  {
   "cell_type": "code",
   "execution_count": 66,
   "metadata": {},
   "outputs": [
    {
     "data": {
      "text/plain": [
       "2"
      ]
     },
     "execution_count": 66,
     "metadata": {},
     "output_type": "execute_result"
    }
   ],
   "source": [
    "# test code\n",
    "emails = [\"test.email+alex@leetcode.com\",\"test.e.mail+bob.cathy@leetcode.com\",\"testemail+david@lee.tcode.com\"]\n",
    "numUniqueEmails(emails)"
   ]
  },
  {
   "cell_type": "markdown",
   "metadata": {},
   "source": [
    "## @dchen53's Result\n",
    "\n",
    "__Runtime__: 40 ms, faster than 65.84% of Python online submissions for Unique Email Addresses.\n",
    "\n",
    "__Memory Usage__ : 11.7 MB, less than 100.00% of Python online submissions for Unique Email Addresses."
   ]
  }
 ],
 "metadata": {
  "kernelspec": {
   "display_name": "Python 3",
   "language": "python",
   "name": "python3"
  },
  "language_info": {
   "codemirror_mode": {
    "name": "ipython",
    "version": 3
   },
   "file_extension": ".py",
   "mimetype": "text/x-python",
   "name": "python",
   "nbconvert_exporter": "python",
   "pygments_lexer": "ipython3",
   "version": "3.7.0"
  }
 },
 "nbformat": 4,
 "nbformat_minor": 2
}
