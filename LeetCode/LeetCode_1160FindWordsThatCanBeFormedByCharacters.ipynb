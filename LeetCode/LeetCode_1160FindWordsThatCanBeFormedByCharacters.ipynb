{
 "cells": [
  {
   "cell_type": "markdown",
   "metadata": {},
   "source": [
    "# LeetCode #1160. Find Words That Can Be Formed by Characters\n",
    "\n",
    "## Question\n",
    "    \n",
    "https://leetcode.com/problems/find-words-that-can-be-formed-by-characters/\n",
    "\n",
    "    You are given an array of strings words and a string chars.\n",
    "    A string is good if it can be formed by characters from chars (each character can only be used once).\n",
    "    Return the sum of lengths of all good strings in words.\n",
    "\n",
    "Example 1:\n",
    "\n",
    "    Input: words = [\"cat\",\"bt\",\"hat\",\"tree\"], chars = \"atach\"\n",
    "    Output: 6\n",
    "\n",
    "    Explanation: \n",
    "    The strings that can be formed are \"cat\" and \"hat\" so the answer is 3 + 3 = 6.\n",
    "\n",
    "Example 2:\n",
    "\n",
    "    Input: words = [\"hello\",\"world\",\"leetcode\"], chars = \"welldonehoneyr\"\n",
    "    Output: 10\n",
    "\n",
    "    Explanation: \n",
    "    The strings that can be formed are \"hello\" and \"world\" so the answer is 5 + 5 = 10.\n",
    "\n",
    "Note:\n",
    "\n",
    "    1 <= words.length <= 1000\n",
    "    1 <= words[i].length, chars.length <= 100\n",
    "    All strings contain lowercase English letters only."
   ]
  },
  {
   "cell_type": "markdown",
   "metadata": {},
   "source": [
    "## My Solution"
   ]
  },
  {
   "cell_type": "code",
   "execution_count": 27,
   "metadata": {},
   "outputs": [],
   "source": [
    "def countCharacters(words, chars):\n",
    "    def w_in_word(word):\n",
    "        temp = list(chars)\n",
    "        for w in word:\n",
    "            if w in temp:\n",
    "                temp.remove(w)\n",
    "            else:\n",
    "                return False\n",
    "        return True\n",
    "    \n",
    "    count = 0\n",
    "    for word in words:\n",
    "        if w_in_word(word):\n",
    "            count += len(word)\n",
    "    return count"
   ]
  },
  {
   "cell_type": "code",
   "execution_count": 31,
   "metadata": {},
   "outputs": [
    {
     "data": {
      "text/plain": [
       "10"
      ]
     },
     "execution_count": 31,
     "metadata": {},
     "output_type": "execute_result"
    }
   ],
   "source": [
    "# test case\n",
    "words = [\"hello\",\"world\",\"leetcode\"]\n",
    "chars = \"welldonehoneyr\"\n",
    "countCharacters(words, chars)"
   ]
  },
  {
   "cell_type": "markdown",
   "metadata": {},
   "source": [
    "## My Result\n",
    "\n",
    "__Runtime__ : 196 ms, faster than 60.65% of Python3 online submissions for Find Words That Can Be Formed by Characters.\n",
    "\n",
    "__Memory Usage__ : 14.3 MB, less than 100.00% of Python3 online submissions for Find Words That Can Be Formed by Characters."
   ]
  },
  {
   "cell_type": "markdown",
   "metadata": {},
   "source": [
    "## @zigs' Solution"
   ]
  },
  {
   "cell_type": "code",
   "execution_count": 32,
   "metadata": {},
   "outputs": [],
   "source": [
    "def countCharacters(words, chars):\n",
    "    res = 0\n",
    "    for word in words:\n",
    "        indicator = True\n",
    "        for i in word:\n",
    "            if word.count(i) > chars.count(i):\n",
    "                indicator = False\n",
    "                break\n",
    "        if indicator:\n",
    "            res += len(word)\n",
    "    return res"
   ]
  },
  {
   "cell_type": "code",
   "execution_count": 33,
   "metadata": {},
   "outputs": [
    {
     "data": {
      "text/plain": [
       "6"
      ]
     },
     "execution_count": 33,
     "metadata": {},
     "output_type": "execute_result"
    }
   ],
   "source": [
    "# test case\n",
    "words = [\"cat\",\"bt\",\"hat\",\"tree\"]\n",
    "chars = \"atach\"\n",
    "countCharacters(words, chars)"
   ]
  },
  {
   "cell_type": "markdown",
   "metadata": {},
   "source": [
    "## @zigs' Result\n",
    "\n",
    "__Runtime__: 104 ms, faster than 92.15% of Python3 online submissions for Find Words That Can Be Formed by Characters.\n",
    "\n",
    "__Memory Usage__ : 14.2 MB, less than 100.00% of Python3 online submissions for Find Words That Can Be Formed by Characters."
   ]
  }
 ],
 "metadata": {
  "kernelspec": {
   "display_name": "Python 3",
   "language": "python",
   "name": "python3"
  },
  "language_info": {
   "codemirror_mode": {
    "name": "ipython",
    "version": 3
   },
   "file_extension": ".py",
   "mimetype": "text/x-python",
   "name": "python",
   "nbconvert_exporter": "python",
   "pygments_lexer": "ipython3",
   "version": "3.7.0"
  }
 },
 "nbformat": 4,
 "nbformat_minor": 2
}
