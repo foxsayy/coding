{
 "cells": [
  {
   "cell_type": "markdown",
   "metadata": {},
   "source": [
    "# LeetCode #118. Pascal's Triangle\n",
    "\n",
    "https://leetcode.com/problems/pascals-triangle/\n",
    "\n",
    "    Given a non-negative integer numRows, generate the first numRows of Pascal's triangle. \n",
    "    \n",
    "    In Pascal's triangle, each number is the sum of the two numbers directly above it.\n",
    "\n",
    "    Example:\n",
    "\n",
    "    Input: 5\n",
    "    Output:\n",
    "    [\n",
    "         [1],\n",
    "        [1,1],\n",
    "       [1,2,1],\n",
    "      [1,3,3,1],\n",
    "     [1,4,6,4,1]\n",
    "    ]\n"
   ]
  },
  {
   "cell_type": "markdown",
   "metadata": {},
   "source": [
    "## My Solution"
   ]
  },
  {
   "cell_type": "code",
   "execution_count": 2,
   "metadata": {},
   "outputs": [],
   "source": [
    "def generate(n):\n",
    "    if n == 0:\n",
    "        return []\n",
    "    if n == 1:\n",
    "        return [[1]]\n",
    "    if n == 2:\n",
    "        return [[1], [1, 1]]\n",
    "    if n == 3:\n",
    "        return [[1], [1, 1], [1, 2, 1]]\n",
    "    if n > 3:\n",
    "        z = [[1], [1, 1], [1, 2, 1]]\n",
    "        a = [1, 2, 1]\n",
    "        for j in range(n - 3):\n",
    "            x = []\n",
    "            x.append(1)\n",
    "            for i in range(len(a)-1):\n",
    "                x.append(a[i] + a[i + 1])\n",
    "            x.append(1)\n",
    "            a = x[:]\n",
    "            z.append(a)\n",
    "        return z"
   ]
  },
  {
   "cell_type": "code",
   "execution_count": 6,
   "metadata": {
    "scrolled": true
   },
   "outputs": [
    {
     "data": {
      "text/plain": [
       "[[1],\n",
       " [1, 1],\n",
       " [1, 2, 1],\n",
       " [1, 3, 3, 1],\n",
       " [1, 4, 6, 4, 1],\n",
       " [1, 5, 10, 10, 5, 1],\n",
       " [1, 6, 15, 20, 15, 6, 1],\n",
       " [1, 7, 21, 35, 35, 21, 7, 1]]"
      ]
     },
     "execution_count": 6,
     "metadata": {},
     "output_type": "execute_result"
    }
   ],
   "source": [
    "# test code\n",
    "generate(8)"
   ]
  },
  {
   "cell_type": "markdown",
   "metadata": {},
   "source": [
    "### About My Solution\n",
    "\n",
    "    d"
   ]
  },
  {
   "cell_type": "markdown",
   "metadata": {},
   "source": [
    "## My Result\n",
    "\n",
    "__Runtime__ : 44 ms, faster than 19.34% of Python3 online submissions for Pascal's Triangle.\n",
    "\n",
    "__Memory Usage__ : 13.2 MB, less than 45.95% of Python3 online submissions for Pascal's Triangle."
   ]
  },
  {
   "cell_type": "code",
   "execution_count": 170,
   "metadata": {},
   "outputs": [],
   "source": [
    "# n = 5\n",
    "def sol(n):\n",
    "    if n == 1:\n",
    "        return [[1]]\n",
    "    if n == 2:\n",
    "        return [[1], [1, 1]]\n",
    "    if n == 3:\n",
    "        return [[1], [1, 1], [1, 2, 1]]\n",
    "    if n > 3:\n",
    "        z = [[1], [1, 1], [1, 2, 1]]\n",
    "        a = [1, 2, 1]\n",
    "        for j in range(n - 3):\n",
    "            x = []\n",
    "            x.append(1)\n",
    "            for i in range(len(a)-1):\n",
    "                x.append(a[i] + a[i + 1])\n",
    "            x.append(1)\n",
    "            a = x.copy()\n",
    "            z.append(a)\n",
    "        return z"
   ]
  },
  {
   "cell_type": "code",
   "execution_count": 173,
   "metadata": {},
   "outputs": [
    {
     "data": {
      "text/plain": [
       "[[1],\n",
       " [1, 1],\n",
       " [1, 2, 1],\n",
       " [1, 3, 3, 1],\n",
       " [1, 4, 6, 4, 1],\n",
       " [1, 5, 10, 10, 5, 1],\n",
       " [1, 6, 15, 20, 15, 6, 1]]"
      ]
     },
     "execution_count": 173,
     "metadata": {},
     "output_type": "execute_result"
    }
   ],
   "source": [
    "sol(7)"
   ]
  },
  {
   "cell_type": "code",
   "execution_count": 140,
   "metadata": {},
   "outputs": [],
   "source": [
    "n = 4"
   ]
  },
  {
   "cell_type": "code",
   "execution_count": 151,
   "metadata": {},
   "outputs": [
    {
     "name": "stdout",
     "output_type": "stream",
     "text": [
      "[1, 3, 3, 1]\n",
      "[1, 3, 3, 1]\n",
      "[[1], [1, 1], [1, 2, 1], [1, 3, 3, 1]]\n"
     ]
    }
   ],
   "source": [
    "for j in range(4 - 3):\n",
    "    z = [[1], [1, 1], [1, 2, 1]]\n",
    "    a = [1, 2, 1]\n",
    "    x = []\n",
    "    x.append(1)\n",
    "    for i in range(2):\n",
    "        x.append(a[i] + a[i + 1])\n",
    "    x.append(1)\n",
    "    a = x.copy()\n",
    "    z.append(a)\n",
    "    print(x)\n",
    "    print(a)\n",
    "    print(z)"
   ]
  },
  {
   "cell_type": "code",
   "execution_count": 163,
   "metadata": {},
   "outputs": [
    {
     "name": "stdout",
     "output_type": "stream",
     "text": [
      "[[1], [1, 1], [1, 2, 1], [1, 3, 3, 1]]\n",
      "[[1], [1, 1], [1, 2, 1], [1, 3, 3, 1], [1, 4, 6, 4, 1]]\n",
      "[[1], [1, 1], [1, 2, 1], [1, 3, 3, 1], [1, 4, 6, 4, 1], [1, 5, 10, 10, 5, 1]]\n",
      "[[1], [1, 1], [1, 2, 1], [1, 3, 3, 1], [1, 4, 6, 4, 1], [1, 5, 10, 10, 5, 1], [1, 6, 15, 20, 15, 6, 1]]\n"
     ]
    }
   ],
   "source": [
    "z = [[1], [1, 1], [1, 2, 1]]\n",
    "a = [1, 2, 1]\n",
    "for j in range(7 - 3):\n",
    "    x = []\n",
    "    x.append(1)\n",
    "    for i in range(len(a)-1):\n",
    "        x.append(a[i] + a[i + 1])\n",
    "    x.append(1)\n",
    "    a = x.copy()\n",
    "    z.append(a)\n",
    "    print(z)"
   ]
  },
  {
   "cell_type": "markdown",
   "metadata": {},
   "source": [
    "## @girikuncoro's Solution"
   ]
  },
  {
   "cell_type": "code",
   "execution_count": 8,
   "metadata": {},
   "outputs": [],
   "source": [
    "def generate2(numRows):\n",
    "    pascal = [[1]*(i+1) for i in range(numRows)]\n",
    "    for i in range(numRows):\n",
    "        for j in range(1,i):\n",
    "            pascal[i][j] = pascal[i-1][j-1] + pascal[i-1][j]\n",
    "    return pascal"
   ]
  },
  {
   "cell_type": "code",
   "execution_count": 9,
   "metadata": {},
   "outputs": [
    {
     "data": {
      "text/plain": [
       "[[1],\n",
       " [1, 1],\n",
       " [1, 2, 1],\n",
       " [1, 3, 3, 1],\n",
       " [1, 4, 6, 4, 1],\n",
       " [1, 5, 10, 10, 5, 1],\n",
       " [1, 6, 15, 20, 15, 6, 1],\n",
       " [1, 7, 21, 35, 35, 21, 7, 1]]"
      ]
     },
     "execution_count": 9,
     "metadata": {},
     "output_type": "execute_result"
    }
   ],
   "source": [
    "# test code\n",
    "generate2(8)"
   ]
  },
  {
   "cell_type": "markdown",
   "metadata": {},
   "source": [
    "### About girikuncoro's Solution\n",
    "\n",
    "    d"
   ]
  },
  {
   "cell_type": "code",
   "execution_count": 46,
   "metadata": {},
   "outputs": [
    {
     "data": {
      "text/plain": [
       "[[1], [1, 1], [1, 1, 1], [1, 1, 1, 1]]"
      ]
     },
     "execution_count": 46,
     "metadata": {},
     "output_type": "execute_result"
    }
   ],
   "source": [
    "pascal = [[1]*(i+1) for i in range(4)]\n",
    "pascal"
   ]
  },
  {
   "cell_type": "code",
   "execution_count": 49,
   "metadata": {},
   "outputs": [],
   "source": [
    "for i in range(4):\n",
    "    for j in range(1,i):\n",
    "        pascal[i][j] = pascal[i-1][j-1] + pascal[i-1][j]"
   ]
  },
  {
   "cell_type": "code",
   "execution_count": 50,
   "metadata": {},
   "outputs": [
    {
     "data": {
      "text/plain": [
       "[[1], [1, 1], [1, 2, 1], [1, 3, 3, 1]]"
      ]
     },
     "execution_count": 50,
     "metadata": {},
     "output_type": "execute_result"
    }
   ],
   "source": [
    "pascal"
   ]
  },
  {
   "cell_type": "markdown",
   "metadata": {},
   "source": [
    "## @girikuncoro's Result\n",
    "\n",
    "__Runtime__ : 28 ms, faster than 99.52% of Python3 online submissions for Pascal's Triangle.\n",
    "\n",
    "__Memory Usage__ : 13 MB, less than 80.97% of Python3 online submissions for Pascal's Triangle."
   ]
  }
 ],
 "metadata": {
  "kernelspec": {
   "display_name": "Python 3",
   "language": "python",
   "name": "python3"
  },
  "language_info": {
   "codemirror_mode": {
    "name": "ipython",
    "version": 3
   },
   "file_extension": ".py",
   "mimetype": "text/x-python",
   "name": "python",
   "nbconvert_exporter": "python",
   "pygments_lexer": "ipython3",
   "version": "3.7.0"
  }
 },
 "nbformat": 4,
 "nbformat_minor": 2
}
