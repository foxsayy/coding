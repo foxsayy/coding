{
 "cells": [
  {
   "cell_type": "markdown",
   "metadata": {},
   "source": [
    "# Programmers Lv2. 올바른 괄호\n",
    "\n",
    "## Question\n",
    "https://programmers.co.kr/learn/courses/30/lessons/12909\n",
    "\n",
    "    괄호가 바르게 짝지어졌다는 것은 '(' 문자로 열렸으면 반드시 짝지어서 ')' 문자로 닫혀야 한다는 뜻입니다. 예를 들어\n",
    "\n",
    "    ()() 또는 (())() 는 올바른 괄호입니다.\n",
    "    )()( 또는 (()( 는 올바르지 않은 괄호입니다.\n",
    "    '(' 또는 ')' 로만 이루어진 문자열 s가 주어졌을 때, 문자열 s가 올바른 괄호이면 true를 return 하고, 올바르지 않은 괄호이면 false를 return 하는 solution 함수를 완성해 주세요.\n",
    "\n",
    "제한사항\n",
    "    \n",
    "    문자열 s의 길이 : 100,000 이하의 자연수\n",
    "    문자열 s는 '(' 또는 ')' 로만 이루어져 있습니다.\n",
    "    \n",
    "입출력 예\n",
    "    \n",
    "    s\tanswer\n",
    "    ()()\ttrue\n",
    "    (())()\ttrue\n",
    "    )()(\tfalse\n",
    "    (()(\tfalse\n",
    "    \n",
    "## My Solution"
   ]
  },
  {
   "cell_type": "code",
   "execution_count": 28,
   "metadata": {},
   "outputs": [],
   "source": [
    "def solution(par):\n",
    "    dic = {\n",
    "        \"(\" : 0, \n",
    "        \")\" : 0,\n",
    "    }\n",
    "    for p in par:\n",
    "        if p == '(':\n",
    "            dic['('] += 1\n",
    "        else:\n",
    "            dic[')'] += 1\n",
    "            if dic['('] < dic[')']:\n",
    "                return False\n",
    "    if dic['('] != dic[')']:\n",
    "        return False\n",
    "    return True"
   ]
  },
  {
   "cell_type": "code",
   "execution_count": 29,
   "metadata": {},
   "outputs": [
    {
     "data": {
      "text/plain": [
       "False"
      ]
     },
     "execution_count": 29,
     "metadata": {},
     "output_type": "execute_result"
    }
   ],
   "source": [
    "# test code\n",
    "par = '(()('\n",
    "solution(par)"
   ]
  },
  {
   "cell_type": "markdown",
   "metadata": {},
   "source": [
    "## Most Liked Solution"
   ]
  },
  {
   "cell_type": "code",
   "execution_count": 30,
   "metadata": {},
   "outputs": [],
   "source": [
    "def is_pair(s):\n",
    "    x = 0\n",
    "    for w in s:\n",
    "        if x < 0:\n",
    "            break\n",
    "        x = x+1 if w==\"(\" else x-1 if w==\")\" else x\n",
    "    return x==0"
   ]
  },
  {
   "cell_type": "code",
   "execution_count": 25,
   "metadata": {},
   "outputs": [
    {
     "data": {
      "text/plain": [
       "False"
      ]
     },
     "execution_count": 25,
     "metadata": {},
     "output_type": "execute_result"
    }
   ],
   "source": [
    "# test code\n",
    "par = '(()('\n",
    "is_pair(par)"
   ]
  }
 ],
 "metadata": {
  "kernelspec": {
   "display_name": "Python 3",
   "language": "python",
   "name": "python3"
  },
  "language_info": {
   "codemirror_mode": {
    "name": "ipython",
    "version": 3
   },
   "file_extension": ".py",
   "mimetype": "text/x-python",
   "name": "python",
   "nbconvert_exporter": "python",
   "pygments_lexer": "ipython3",
   "version": "3.7.0"
  }
 },
 "nbformat": 4,
 "nbformat_minor": 2
}
