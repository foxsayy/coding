{
 "cells": [
  {
   "cell_type": "markdown",
   "metadata": {},
   "source": [
    "# Programmers Lv2. 영어 끝말잇기\n",
    "\n",
    "## Question\n",
    "https://programmers.co.kr/learn/courses/30/lessons/12981\n",
    "\n",
    "    1부터 n까지 번호가 붙어있는 n명의 사람이 영어 끝말잇기를 하고 있습니다. \n",
    "    영어 끝말잇기는 다음과 같은 규칙으로 진행됩니다.\n",
    "\n",
    "    1번부터 번호 순서대로 한 사람씩 차례대로 단어를 말합니다.\n",
    "    마지막 사람이 단어를 말한 다음에는 다시 1번부터 시작합니다.\n",
    "    앞사람이 말한 단어의 마지막 문자로 시작하는 단어를 말해야 합니다.\n",
    "    이전에 등장했던 단어는 사용할 수 없습니다.\n",
    "    한 글자인 단어는 인정되지 않습니다.\n",
    "    다음은 3명이 끝말잇기를 하는 상황을 나타냅니다.\n",
    "\n",
    "    tank → kick → know → wheel → land → dream → mother → robot → tank\n",
    "\n",
    "    위 끝말잇기는 다음과 같이 진행됩니다.\n",
    "\n",
    "    1번 사람이 자신의 첫 번째 차례에 tank를 말합니다.\n",
    "    2번 사람이 자신의 첫 번째 차례에 kick을 말합니다.\n",
    "    3번 사람이 자신의 첫 번째 차례에 know를 말합니다.\n",
    "    1번 사람이 자신의 두 번째 차례에 wheel을 말합니다.\n",
    "    (계속 진행)\n",
    "    끝말잇기를 계속 진행해 나가다 보면, 3번 사람이 자신의 세 번째 차례에 말한 tank 라는 단어는 이전에 등장했던 단어이므로 탈락하게 됩니다.\n",
    "\n",
    "    사람의 수 n과 사람들이 순서대로 말한 단어 words 가 매개변수로 주어질 때, 가장 먼저 탈락하는 사람의 번호와 그 사람이 자신의 몇 번째 차례에 탈락하는지를 구해서 return 하도록 solution 함수를 완성해주세요.\n",
    "\n",
    "제한 사항\n",
    "    \n",
    "    끝말잇기에 참여하는 사람의 수 n은 2 이상 10 이하의 자연수입니다.\n",
    "    words는 끝말잇기에 사용한 단어들이 순서대로 들어있는 배열이며, 길이는 n 이상 100 이하입니다.\n",
    "    단어의 길이는 2 이상 50 이하입니다.\n",
    "    모든 단어는 알파벳 소문자로만 이루어져 있습니다.\n",
    "    끝말잇기에 사용되는 단어의 뜻(의미)은 신경 쓰지 않으셔도 됩니다.\n",
    "    정답은 [ 번호, 차례 ] 형태로 return 해주세요.\n",
    "    만약 주어진 단어들로 탈락자가 생기지 않는다면, [0, 0]을 return 해주세요.\n",
    "\n",
    "입출력 예\n",
    "\n",
    "    n\twords\tresult\n",
    "    3\t[tank, kick, know, wheel, land, dream, mother, robot, tank]\t[3,3]\n",
    "    5\t[hello, observe, effect, take, either, recognize, encourage, ensure, establish, hang, gather, refer, reference, estimate, executive]\t[0,0]\n",
    "    2\t[hello, one, even, never, now, world, draw]\t[1,3]\n",
    "\n",
    "입출력 예 설명\n",
    "\n",
    "    입출력 예 #1\n",
    "    3명의 사람이 끝말잇기에 참여하고 있습니다.\n",
    "\n",
    "    1번 사람 : tank, wheel, mother\n",
    "    2번 사람 : kick, land, robot\n",
    "    3번 사람 : know, dream, tank\n",
    "    와 같은 순서로 말을 하게 되며, 3번 사람이 자신의 세 번째 차례에 말한 tank라는 단어가 1번 사람이 자신의 첫 번째 차례에 말한 tank와 같으므로 3번 사람이 자신의 세 번째 차례로 말을 할 때 처음 탈락자가 나오게 됩니다.\n",
    "\n",
    "    입출력 예 #2\n",
    "    5명의 사람이 끝말잇기에 참여하고 있습니다.\n",
    "\n",
    "    1번 사람 : hello, recognize, gather\n",
    "    2번 사람 : observe, encourage, refer\n",
    "    3번 사람 : effect, ensure, reference\n",
    "    4번 사람 : take, establish, estimate\n",
    "    5번 사람 : either, hang, executive\n",
    "    와 같은 순서로 말을 하게 되며, 이 경우는 주어진 단어로만으로는 탈락자가 발생하지 않습니다. 따라서 [0, 0]을 return하면 됩니다.\n",
    "\n",
    "    입출력 예 #3\n",
    "    2명의 사람이 끝말잇기에 참여하고 있습니다.\n",
    "\n",
    "    1번 사람 : hello, even, now, draw\n",
    "    2번 사람 : one, never, world\n",
    "    와 같은 순서로 말을 하게 되며, 1번 사람이 자신의 세 번째 차례에 'r'로 시작하는 단어 대신, n으로 시작하는 now를 말했기 때문에 이때 처음 탈락자가 나오게 됩니다.\n",
    "\n",
    "\n",
    "## My Solution"
   ]
  },
  {
   "cell_type": "code",
   "execution_count": 2,
   "metadata": {},
   "outputs": [],
   "source": [
    "def solution(n, words):\n",
    "    out = [words[0]]\n",
    "    for i in range(1, len(words)):\n",
    "        if (words[i-1][-1] != words[i][0]) or (words[i] in out):\n",
    "            return [i % n + 1, i // n + 1] \n",
    "        out.append(words[i])\n",
    "    \n",
    "    return [0, 0]"
   ]
  },
  {
   "cell_type": "code",
   "execution_count": 3,
   "metadata": {},
   "outputs": [
    {
     "data": {
      "text/plain": [
       "[3, 3]"
      ]
     },
     "execution_count": 3,
     "metadata": {},
     "output_type": "execute_result"
    }
   ],
   "source": [
    "words = ['tank', 'kick', 'know', 'wheel', 'land', 'dream', 'mother', 'robot', 'tank']\n",
    "n = 3\n",
    "solution(n, words)"
   ]
  },
  {
   "cell_type": "markdown",
   "metadata": {},
   "source": [
    "## Most Liked Solution"
   ]
  },
  {
   "cell_type": "code",
   "execution_count": 4,
   "metadata": {},
   "outputs": [],
   "source": [
    "def solution(n, words):\n",
    "    for p in range(1, len(words)):\n",
    "        if words[p][0] != words[p-1][-1] or words[p] in words[:p]: return [(p%n)+1, (p//n)+1]\n",
    "    else:\n",
    "        return [0,0]"
   ]
  },
  {
   "cell_type": "code",
   "execution_count": 5,
   "metadata": {},
   "outputs": [
    {
     "data": {
      "text/plain": [
       "[3, 3]"
      ]
     },
     "execution_count": 5,
     "metadata": {},
     "output_type": "execute_result"
    }
   ],
   "source": [
    "words = ['tank', 'kick', 'know', 'wheel', 'land', 'dream', 'mother', 'robot', 'tank']\n",
    "n = 3\n",
    "solution(n, words)"
   ]
  }
 ],
 "metadata": {
  "kernelspec": {
   "display_name": "Python 3",
   "language": "python",
   "name": "python3"
  },
  "language_info": {
   "codemirror_mode": {
    "name": "ipython",
    "version": 3
   },
   "file_extension": ".py",
   "mimetype": "text/x-python",
   "name": "python",
   "nbconvert_exporter": "python",
   "pygments_lexer": "ipython3",
   "version": "3.7.0"
  }
 },
 "nbformat": 4,
 "nbformat_minor": 2
}
