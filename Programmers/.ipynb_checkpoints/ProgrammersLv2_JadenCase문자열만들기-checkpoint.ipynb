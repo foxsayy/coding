{
 "cells": [
  {
   "cell_type": "markdown",
   "metadata": {},
   "source": [
    "# Programmers Lv2. JadenCase 문자열 만들기\n",
    "\n",
    "## Question\n",
    "https://programmers.co.kr/learn/courses/30/lessons/12951\n",
    "\n",
    "    JadenCase란 모든 단어의 첫 문자가 대문자이고, 그 외의 알파벳은 소문자인 문자열입니다. \n",
    "    문자열 s가 주어졌을 때, s를 JadenCase로 바꾼 문자열을 리턴하는 함수, solution을 완성해주세요.\n",
    "\n",
    "제한 조건\n",
    "\n",
    "    s는 길이 1 이상인 문자열입니다.\n",
    "    s는 알파벳과 공백문자(\" \")로 이루어져 있습니다.\n",
    "    첫 문자가 영문이 아닐때에는 이어지는 영문은 소문자로 씁니다. ( 첫번째 입출력 예 참고 )\n",
    "\n",
    "입출력 예\n",
    "\n",
    "    s\treturn\n",
    "    3people unFollowed me\t3people Unfollowed Me\n",
    "    for the last week\tFor The Last Week\n",
    "\n",
    "\n",
    "## My Solution"
   ]
  },
  {
   "cell_type": "code",
   "execution_count": 22,
   "metadata": {},
   "outputs": [],
   "source": [
    "def solution(s):\n",
    "    s = s.split(' ')\n",
    "    for i in range(len(s)):\n",
    "        s[i] = s[i].capitalize()\n",
    "    return ' '.join(s)"
   ]
  },
  {
   "cell_type": "code",
   "execution_count": 23,
   "metadata": {},
   "outputs": [
    {
     "data": {
      "text/plain": [
       "'3people Unfollowed Me'"
      ]
     },
     "execution_count": 23,
     "metadata": {},
     "output_type": "execute_result"
    }
   ],
   "source": [
    "# test code\n",
    "s = '3people unFollowed me'\n",
    "solution(s)"
   ]
  },
  {
   "cell_type": "markdown",
   "metadata": {},
   "source": [
    "## Most Liked Solution"
   ]
  },
  {
   "cell_type": "code",
   "execution_count": 24,
   "metadata": {},
   "outputs": [],
   "source": [
    "def Jaden_Case(s):\n",
    "    answer =[]\n",
    "    for i in range(len(s.split())):\n",
    "        answer.append(s.split()[i][0].upper() + s.split()[i].lower()[1:]) \n",
    "    return \" \".join(answer)"
   ]
  },
  {
   "cell_type": "code",
   "execution_count": 25,
   "metadata": {},
   "outputs": [
    {
     "data": {
      "text/plain": [
       "'3people Unfollowed Me'"
      ]
     },
     "execution_count": 25,
     "metadata": {},
     "output_type": "execute_result"
    }
   ],
   "source": [
    "# test code\n",
    "s = '3people unFollowed me'\n",
    "Jaden_Case(s)"
   ]
  }
 ],
 "metadata": {
  "kernelspec": {
   "display_name": "Python 3",
   "language": "python",
   "name": "python3"
  },
  "language_info": {
   "codemirror_mode": {
    "name": "ipython",
    "version": 3
   },
   "file_extension": ".py",
   "mimetype": "text/x-python",
   "name": "python",
   "nbconvert_exporter": "python",
   "pygments_lexer": "ipython3",
   "version": "3.7.0"
  }
 },
 "nbformat": 4,
 "nbformat_minor": 2
}
