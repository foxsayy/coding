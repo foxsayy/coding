{
 "cells": [
  {
   "cell_type": "markdown",
   "metadata": {},
   "source": [
    "# Programmers Lv1. 완주하지 못한 선수\n",
    "\n",
    "## Question\n",
    "https://programmers.co.kr/learn/courses/30/lessons/42576\n",
    "\n",
    "    수많은 마라톤 선수들이 마라톤에 참여하였습니다. 단 한 명의 선수를 제외하고는 모든 선수가 마라톤을 완주하였습니다.\n",
    "    마라톤에 참여한 선수들의 이름이 담긴 배열 participant와 완주한 선수들의 이름이 담긴 배열 completion이 주어질 때, \n",
    "    완주하지 못한 선수의 이름을 return 하도록 solution 함수를 작성해주세요.\n",
    "\n",
    "제한사항\n",
    "\n",
    "    마라톤 경기에 참여한 선수의 수는 1명 이상 100,000명 이하입니다.\n",
    "        completion의 길이는 participant의 길이보다 1 작습니다.\n",
    "        참가자의 이름은 1개 이상 20개 이하의 알파벳 소문자로 이루어져 있습니다.\n",
    "        참가자 중에는 동명이인이 있을 수 있습니다.\n",
    "\n",
    "입출력 예\n",
    "\n",
    "    participant                               completion       return\n",
    "    [leo, kiki, eden]                         [eden, kiki]     leo\n",
    "    [marina, josipa, nikola, vinko, filipa]   [josipa, filipa, marina, nikola]     vinko\n",
    "    [mislav, stanko, mislav, ana]             [stanko, ana, mislav]\t    mislav\n",
    "\n",
    "## My Solution"
   ]
  },
  {
   "cell_type": "code",
   "execution_count": 30,
   "metadata": {},
   "outputs": [],
   "source": [
    "def solution(part, comp):\n",
    "    part.sort()\n",
    "    comp.sort()\n",
    "    try: \n",
    "        for i in range(len(part)):\n",
    "            if part[i] != comp[i]:\n",
    "                return part[i]\n",
    "    except:\n",
    "        return part[-1]"
   ]
  },
  {
   "cell_type": "code",
   "execution_count": 31,
   "metadata": {},
   "outputs": [
    {
     "data": {
      "text/plain": [
       "'leo'"
      ]
     },
     "execution_count": 31,
     "metadata": {},
     "output_type": "execute_result"
    }
   ],
   "source": [
    "part = ['leo', 'kiki', 'eden']\n",
    "comp = ['eden', 'kiki']\n",
    "solution(part, comp)"
   ]
  },
  {
   "cell_type": "markdown",
   "metadata": {},
   "source": [
    "## Most Liked Solution"
   ]
  },
  {
   "cell_type": "code",
   "execution_count": 32,
   "metadata": {},
   "outputs": [],
   "source": [
    "import collections\n",
    "\n",
    "def solution(participant, completion):\n",
    "    answer = collections.Counter(participant) - collections.Counter(completion)\n",
    "    return list(answer.keys())[0]"
   ]
  },
  {
   "cell_type": "code",
   "execution_count": 33,
   "metadata": {},
   "outputs": [
    {
     "data": {
      "text/plain": [
       "'leo'"
      ]
     },
     "execution_count": 33,
     "metadata": {},
     "output_type": "execute_result"
    }
   ],
   "source": [
    "part = ['leo', 'kiki', 'eden']\n",
    "comp = ['eden', 'kiki']\n",
    "solution(part, comp)"
   ]
  }
 ],
 "metadata": {
  "kernelspec": {
   "display_name": "Python 3",
   "language": "python",
   "name": "python3"
  },
  "language_info": {
   "codemirror_mode": {
    "name": "ipython",
    "version": 3
   },
   "file_extension": ".py",
   "mimetype": "text/x-python",
   "name": "python",
   "nbconvert_exporter": "python",
   "pygments_lexer": "ipython3",
   "version": "3.7.0"
  }
 },
 "nbformat": 4,
 "nbformat_minor": 2
}
