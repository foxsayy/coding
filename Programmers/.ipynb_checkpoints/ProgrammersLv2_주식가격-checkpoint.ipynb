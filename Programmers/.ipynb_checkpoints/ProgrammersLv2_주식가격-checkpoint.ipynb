{
 "cells": [
  {
   "cell_type": "markdown",
   "metadata": {},
   "source": [
    "# Programmers Lv2. 주식가격\n",
    "\n",
    "## Question\n",
    "https://programmers.co.kr/learn/courses/30/lessons/42584\n",
    "\n",
    "    초 단위로 기록된 주식가격이 담긴 배열 prices가 매개변수로 주어질 때, \n",
    "    가격이 떨어지지 않은 기간은 몇 초인지를 return 하도록 solution 함수를 완성하세요.\n",
    "\n",
    "#### 제한사항\n",
    "\n",
    "    prices의 각 가격은 1 이상 10,000 이하인 자연수입니다.\n",
    "    prices의 길이는 2 이상 100,000 이하입니다.\n",
    "\n",
    "#### 입출력 예\n",
    "\n",
    "    prices            return\n",
    "    [1, 2, 3, 2, 3]   [4, 3, 1, 1, 0]\n",
    "\n",
    "#### 입출력 예 설명\n",
    "\n",
    "    1초 시점의 ₩1은 끝까지 가격이 떨어지지 않았습니다.\n",
    "    2초 시점의 ₩2은 끝까지 가격이 떨어지지 않았습니다.\n",
    "    3초 시점의 ₩3은 1초뒤에 가격이 떨어집니다. 따라서 1초간 가격이 떨어지지 않은 것으로 봅니다.\n",
    "    4초 시점의 ₩2은 1초간 가격이 떨어지지 않았습니다.\n",
    "    5초 시점의 ₩3은 0초간 가격이 떨어지지 않았습니다.\n",
    "\n",
    "## My Solution"
   ]
  },
  {
   "cell_type": "code",
   "execution_count": 1,
   "metadata": {},
   "outputs": [],
   "source": [
    "def solution(prices):\n",
    "    result = [0] * len(prices)\n",
    "    for i, p in enumerate(prices):\n",
    "        for j, r in enumerate(prices[i+1:]):\n",
    "            if p > r:\n",
    "                result[i] = j + 1\n",
    "                break    \n",
    "            else:\n",
    "                result[i] = len(prices) - i - 1\n",
    "    return result"
   ]
  },
  {
   "cell_type": "code",
   "execution_count": 2,
   "metadata": {},
   "outputs": [
    {
     "data": {
      "text/plain": [
       "[4, 3, 1, 1, 0]"
      ]
     },
     "execution_count": 2,
     "metadata": {},
     "output_type": "execute_result"
    }
   ],
   "source": [
    "# test code\n",
    "prices = [1, 2, 3, 2, 3]\n",
    "solution(prices)"
   ]
  },
  {
   "cell_type": "markdown",
   "metadata": {},
   "source": [
    "## My Result\n",
    "\n",
    "    정확성: 66.7\n",
    "    효율성: 0.0\n",
    "    합계: 66.7 / 100.0"
   ]
  },
  {
   "cell_type": "markdown",
   "metadata": {},
   "source": [
    "## My Solution 2"
   ]
  },
  {
   "cell_type": "code",
   "execution_count": 9,
   "metadata": {},
   "outputs": [],
   "source": [
    "def solution(prices):\n",
    "    result = []\n",
    "    for i in range(len(prices)):\n",
    "        res = 0\n",
    "        for j in range(i + 1, len(prices)):\n",
    "            if prices[i] > prices[j]:\n",
    "                res += 1\n",
    "                break    \n",
    "            else:\n",
    "                res += 1\n",
    "        result.append(res)\n",
    "    return result"
   ]
  },
  {
   "cell_type": "code",
   "execution_count": 10,
   "metadata": {},
   "outputs": [
    {
     "data": {
      "text/plain": [
       "[4, 3, 1, 1, 0]"
      ]
     },
     "execution_count": 10,
     "metadata": {},
     "output_type": "execute_result"
    }
   ],
   "source": [
    "# test code\n",
    "prices = [1, 2, 3, 2, 3]\n",
    "solution(prices)"
   ]
  },
  {
   "cell_type": "markdown",
   "metadata": {},
   "source": [
    "## My Result 2\n",
    "\n",
    "    정확성: 66.7\n",
    "    효율성: 33.3\n",
    "    합계: 100.0 / 100.0"
   ]
  },
  {
   "cell_type": "markdown",
   "metadata": {},
   "source": [
    "## Most Liked Solution"
   ]
  },
  {
   "cell_type": "code",
   "execution_count": 11,
   "metadata": {},
   "outputs": [],
   "source": [
    "from collections import deque\n",
    "def solution(prices):\n",
    "    answer = []\n",
    "    prices = deque(prices)\n",
    "    while prices:\n",
    "        c = prices.popleft()\n",
    "\n",
    "        count = 0\n",
    "        for i in prices:\n",
    "            if c > i:\n",
    "                count += 1\n",
    "                break\n",
    "            count += 1\n",
    "\n",
    "        answer.append(count)\n",
    "\n",
    "    return answer"
   ]
  },
  {
   "cell_type": "code",
   "execution_count": 12,
   "metadata": {},
   "outputs": [
    {
     "data": {
      "text/plain": [
       "[4, 3, 1, 1, 0]"
      ]
     },
     "execution_count": 12,
     "metadata": {},
     "output_type": "execute_result"
    }
   ],
   "source": [
    "# test code\n",
    "prices = [1, 2, 3, 2, 3]\n",
    "solution(prices)"
   ]
  }
 ],
 "metadata": {
  "kernelspec": {
   "display_name": "Python 3",
   "language": "python",
   "name": "python3"
  },
  "language_info": {
   "codemirror_mode": {
    "name": "ipython",
    "version": 3
   },
   "file_extension": ".py",
   "mimetype": "text/x-python",
   "name": "python",
   "nbconvert_exporter": "python",
   "pygments_lexer": "ipython3",
   "version": "3.7.0"
  }
 },
 "nbformat": 4,
 "nbformat_minor": 2
}
