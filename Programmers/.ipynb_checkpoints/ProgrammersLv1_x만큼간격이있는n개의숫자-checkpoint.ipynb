{
 "cells": [
  {
   "cell_type": "markdown",
   "metadata": {},
   "source": [
    "# Programmers Lv1. x만큼 간격이 있는 n개의 숫자\n",
    "\n",
    "## Question\n",
    "https://programmers.co.kr/learn/courses/30/lessons/12954\n",
    "\n",
    "    함수 solution은 정수 x와 자연수 n을 입력 받아, x부터 시작해 x씩 증가하는 숫자를 n개 지니는 리스트를 리턴해야 합니다. 다음 제한 조건을 보고, 조건을 만족하는 함수, solution을 완성해주세요.\n",
    "\n",
    "제한 조건\n",
    "\n",
    "    x는 -10000000 이상, 10000000 이하인 정수입니다.\n",
    "    n은 1000 이하인 자연수입니다.\n",
    "\n",
    "입출력 예\n",
    "\n",
    "    x\tn\tanswer\n",
    "    2\t5\t[2,4,6,8,10]\n",
    "    4\t3\t[4,8,12]\n",
    "    -4\t2\t[-4, -8]\n",
    "\n",
    "## My Solution"
   ]
  },
  {
   "cell_type": "code",
   "execution_count": 13,
   "metadata": {},
   "outputs": [],
   "source": [
    "def solution(x, n):    \n",
    "    ans = x\n",
    "    answer = [ans]\n",
    "    for i in range(n-1):\n",
    "        ans += x\n",
    "        answer.append(ans)\n",
    "    return answer"
   ]
  },
  {
   "cell_type": "code",
   "execution_count": 18,
   "metadata": {},
   "outputs": [
    {
     "data": {
      "text/plain": [
       "[-4, -8]"
      ]
     },
     "execution_count": 18,
     "metadata": {},
     "output_type": "execute_result"
    }
   ],
   "source": [
    "# test code\n",
    "x, n = -4, 2\n",
    "solution(x, n)"
   ]
  },
  {
   "cell_type": "markdown",
   "metadata": {},
   "source": [
    "## Most Liked Solution"
   ]
  },
  {
   "cell_type": "code",
   "execution_count": 19,
   "metadata": {},
   "outputs": [],
   "source": [
    "def number_generator(x, n):\n",
    "    return [i * x + x for i in range(n)]"
   ]
  }
 ],
 "metadata": {
  "kernelspec": {
   "display_name": "Python 3",
   "language": "python",
   "name": "python3"
  },
  "language_info": {
   "codemirror_mode": {
    "name": "ipython",
    "version": 3
   },
   "file_extension": ".py",
   "mimetype": "text/x-python",
   "name": "python",
   "nbconvert_exporter": "python",
   "pygments_lexer": "ipython3",
   "version": "3.7.0"
  }
 },
 "nbformat": 4,
 "nbformat_minor": 2
}
