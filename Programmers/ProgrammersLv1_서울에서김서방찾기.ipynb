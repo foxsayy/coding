{
 "cells": [
  {
   "cell_type": "markdown",
   "metadata": {},
   "source": [
    "# Programmers Lv1. 서울에서 김서방 찾기\n",
    "\n",
    "## Question\n",
    "https://programmers.co.kr/learn/courses/30/lessons/12919\n",
    "\n",
    "    String형 배열 seoul의 element중 Kim의 위치 x를 찾아, \n",
    "    김서방은 x에 있다는 String을 반환하는 함수, solution을 완성하세요.\n",
    "    seoul에 Kim은 오직 한 번만 나타나며 잘못된 값이 입력되는 경우는 없습니다.\n",
    "\n",
    "제한 사항\n",
    "\n",
    "    seoul은 길이 1 이상, 1000 이하인 배열입니다.\n",
    "    seoul의 원소는 길이 1 이상, 20 이하인 문자열입니다.\n",
    "    Kim은 반드시 seoul 안에 포함되어 있습니다.\n",
    "\n",
    "입출력 예\n",
    "\n",
    "    seoul       return\n",
    "    [Jane, Kim]\t김서방은 1에 있다\n",
    "\n",
    "## My Solution"
   ]
  },
  {
   "cell_type": "code",
   "execution_count": 10,
   "metadata": {},
   "outputs": [],
   "source": [
    "def solution(seoul):\n",
    "    for i, s in enumerate(seoul):\n",
    "        if s == 'Kim':\n",
    "            answer = '김서방은 {}에 있다'.format(i)\n",
    "            return answer"
   ]
  },
  {
   "cell_type": "code",
   "execution_count": 11,
   "metadata": {},
   "outputs": [
    {
     "data": {
      "text/plain": [
       "'김서방은 1에 있다'"
      ]
     },
     "execution_count": 11,
     "metadata": {},
     "output_type": "execute_result"
    }
   ],
   "source": [
    "# test code\n",
    "seoul = ['Jane', 'Kim']\n",
    "solution(seoul)"
   ]
  },
  {
   "cell_type": "markdown",
   "metadata": {},
   "source": [
    "## Most Liked Solution"
   ]
  },
  {
   "cell_type": "code",
   "execution_count": 12,
   "metadata": {},
   "outputs": [],
   "source": [
    "def findKim(seoul):\n",
    "    return \"김서방은 {}에 있다\".format(seoul.index('Kim'))"
   ]
  },
  {
   "cell_type": "code",
   "execution_count": 13,
   "metadata": {},
   "outputs": [
    {
     "data": {
      "text/plain": [
       "'김서방은 1에 있다'"
      ]
     },
     "execution_count": 13,
     "metadata": {},
     "output_type": "execute_result"
    }
   ],
   "source": [
    "# test code\n",
    "seoul = ['Jane', 'Kim']\n",
    "findKim(seoul)"
   ]
  },
  {
   "cell_type": "markdown",
   "metadata": {},
   "source": [
    "index()를 사용하면 'Kim'의 인덱스를 바로 구할 수 있습니다."
   ]
  }
 ],
 "metadata": {
  "kernelspec": {
   "display_name": "Python 3",
   "language": "python",
   "name": "python3"
  },
  "language_info": {
   "codemirror_mode": {
    "name": "ipython",
    "version": 3
   },
   "file_extension": ".py",
   "mimetype": "text/x-python",
   "name": "python",
   "nbconvert_exporter": "python",
   "pygments_lexer": "ipython3",
   "version": "3.7.0"
  }
 },
 "nbformat": 4,
 "nbformat_minor": 2
}
