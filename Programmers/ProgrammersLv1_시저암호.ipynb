{
 "cells": [
  {
   "cell_type": "markdown",
   "metadata": {},
   "source": [
    "# Programmers Lv1. 시저 암호\n",
    "\n",
    "## Question\n",
    "https://programmers.co.kr/learn/courses/30/lessons/12926\n",
    "\n",
    "    어떤 문장의 각 알파벳을 일정한 거리만큼 밀어서 다른 알파벳으로 바꾸는 암호화 방식을 시저 암호라고 합니다. \n",
    "    예를 들어 AB는 1만큼 밀면 BC가 되고, 3만큼 밀면 DE가 됩니다. \n",
    "    z는 1만큼 밀면 a가 됩니다. \n",
    "    문자열 s와 거리 n을 입력받아 s를 n만큼 민 암호문을 만드는 함수, solution을 완성해 보세요.\n",
    "\n",
    "제한 조건\n",
    "\n",
    "    공백은 아무리 밀어도 공백입니다.\n",
    "    s는 알파벳 소문자, 대문자, 공백으로만 이루어져 있습니다.\n",
    "    s의 길이는 8000이하입니다.\n",
    "    n은 1 이상, 25이하인 자연수입니다.\n",
    "\n",
    "입출력 예\n",
    "\n",
    "    s       n\tresult\n",
    "    AB      1   BC\n",
    "    z       1   a\n",
    "    a B z   4   e F d\n",
    "\n",
    "## My Solution"
   ]
  },
  {
   "cell_type": "code",
   "execution_count": 54,
   "metadata": {},
   "outputs": [],
   "source": [
    "def solution(st, n):\n",
    "    import string\n",
    "    a = string.ascii_lowercase + string.ascii_lowercase\n",
    "    A = string.ascii_uppercase + string.ascii_uppercase\n",
    "\n",
    "    st = list(st)\n",
    "    for i in range(len(st)):\n",
    "        if st[i].isupper():\n",
    "            st[i] = A[A.index(st[i]) + n]\n",
    "        if st[i].islower():\n",
    "            st[i] = a[a.index(st[i]) + n]\n",
    "    return ''.join(st)"
   ]
  },
  {
   "cell_type": "code",
   "execution_count": 55,
   "metadata": {},
   "outputs": [
    {
     "data": {
      "text/plain": [
       "'BC'"
      ]
     },
     "execution_count": 55,
     "metadata": {},
     "output_type": "execute_result"
    }
   ],
   "source": [
    "# test code\n",
    "st = \"AB\"\n",
    "n = 1\n",
    "solution(st, n)"
   ]
  },
  {
   "cell_type": "markdown",
   "metadata": {},
   "source": [
    "## Most Liked Solution"
   ]
  },
  {
   "cell_type": "code",
   "execution_count": 56,
   "metadata": {},
   "outputs": [],
   "source": [
    "def caesar(s, n):\n",
    "    s = list(s)\n",
    "    for i in range(len(s)):\n",
    "        if s[i].isupper():\n",
    "            s[i]=chr((ord(s[i])-ord('A')+ n)%26+ord('A'))\n",
    "        elif s[i].islower():\n",
    "            s[i]=chr((ord(s[i])-ord('a')+ n)%26+ord('a'))\n",
    "\n",
    "    return \"\".join(s)"
   ]
  },
  {
   "cell_type": "code",
   "execution_count": 59,
   "metadata": {},
   "outputs": [
    {
     "data": {
      "text/plain": [
       "'Ed'"
      ]
     },
     "execution_count": 59,
     "metadata": {},
     "output_type": "execute_result"
    }
   ],
   "source": [
    "# test code\n",
    "st = \"Az\"\n",
    "n = 4\n",
    "caesar(st, n)"
   ]
  }
 ],
 "metadata": {
  "kernelspec": {
   "display_name": "Python 3",
   "language": "python",
   "name": "python3"
  },
  "language_info": {
   "codemirror_mode": {
    "name": "ipython",
    "version": 3
   },
   "file_extension": ".py",
   "mimetype": "text/x-python",
   "name": "python",
   "nbconvert_exporter": "python",
   "pygments_lexer": "ipython3",
   "version": "3.7.0"
  }
 },
 "nbformat": 4,
 "nbformat_minor": 2
}
