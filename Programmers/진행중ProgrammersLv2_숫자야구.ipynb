{
 "cells": [
  {
   "cell_type": "markdown",
   "metadata": {},
   "source": [
    "# Programmers Lv2. 숫자 야구\n",
    "\n",
    "## Question\n",
    "https://programmers.co.kr/learn/courses/30/lessons/42841\n",
    "\n",
    "    숫자 야구 게임이란 2명이 서로가 생각한 숫자를 맞추는 게임입니다.\n",
    "    각자 서로 다른 1~9까지 3자리 임의의 숫자를 정한 뒤 서로에게 3자리의 숫자를 불러서 결과를 확인합니다. \n",
    "    그리고 그 결과를 토대로 상대가 정한 숫자를 예상한 뒤 맞힙니다.\n",
    "\n",
    "    * 숫자는 맞지만, 위치가 틀렸을 때는 볼\n",
    "    * 숫자와 위치가 모두 맞을 때는 스트라이크\n",
    "    * 숫자와 위치가 모두 틀렸을 때는 아웃\n",
    "    \n",
    "    예를 들어, 아래의 경우가 있으면\n",
    "\n",
    "    A : 123\n",
    "    B : 1스트라이크 1볼.\n",
    "    A : 356\n",
    "    B : 1스트라이크 0볼.\n",
    "    A : 327\n",
    "    B : 2스트라이크 0볼.\n",
    "    A : 489\n",
    "    B : 0스트라이크 1볼.\n",
    "    이때 가능한 답은 324와 328 두 가지입니다.\n",
    "\n",
    "    질문한 세 자리의 수, 스트라이크의 수, 볼의 수를 담은 2차원 배열 baseball이 매개변수로 주어질 때, 가능한 답의 개수를 return 하도록 solution 함수를 작성해주세요.\n",
    "\n",
    "제한사항\n",
    "\n",
    "    질문의 수는 1 이상 100 이하의 자연수입니다.\n",
    "    baseball의 각 행은 [세 자리의 수, 스트라이크의 수, 볼의 수] 를 담고 있습니다.\n",
    "\n",
    "입출력 예\n",
    "\n",
    "    baseball\treturn\n",
    "    [[123, 1, 1], [356, 1, 0], [327, 2, 0], [489, 0, 1]]\t2\n",
    "    \n",
    "## My Solution"
   ]
  },
  {
   "cell_type": "code",
   "execution_count": 59,
   "metadata": {
    "scrolled": false
   },
   "outputs": [],
   "source": [
    "from itertools import permutations\n",
    "permutation = list(permutations('1234567890', 3))"
   ]
  },
  {
   "cell_type": "code",
   "execution_count": 60,
   "metadata": {
    "scrolled": true
   },
   "outputs": [
    {
     "data": {
      "text/plain": [
       "720"
      ]
     },
     "execution_count": 60,
     "metadata": {},
     "output_type": "execute_result"
    }
   ],
   "source": [
    "len(permutation)"
   ]
  },
  {
   "cell_type": "code",
   "execution_count": 61,
   "metadata": {},
   "outputs": [],
   "source": [
    "for i in range(len(permutation)):\n",
    "    if '0' in permutation[-1]:\n",
    "        permutation.pop(-1)"
   ]
  },
  {
   "cell_type": "code",
   "execution_count": 62,
   "metadata": {},
   "outputs": [
    {
     "data": {
      "text/plain": [
       "639"
      ]
     },
     "execution_count": 62,
     "metadata": {},
     "output_type": "execute_result"
    }
   ],
   "source": [
    "len(permutation)"
   ]
  },
  {
   "cell_type": "code",
   "execution_count": 71,
   "metadata": {},
   "outputs": [],
   "source": [
    "b = [123, 1, 1]"
   ]
  },
  {
   "cell_type": "code",
   "execution_count": null,
   "metadata": {},
   "outputs": [],
   "source": [
    "[123, 1, 1], [356, 1, 0], [327, 2, 0], [489, 0, 1]]"
   ]
  },
  {
   "cell_type": "code",
   "execution_count": null,
   "metadata": {},
   "outputs": [],
   "source": [
    "def play(b):\n",
    "    b = [123, 1, 1]\n",
    "    b_0 = list(str(b[0]))"
   ]
  },
  {
   "cell_type": "code",
   "execution_count": 70,
   "metadata": {},
   "outputs": [
    {
     "data": {
      "text/plain": [
       "['1', '2', '3']"
      ]
     },
     "execution_count": 70,
     "metadata": {},
     "output_type": "execute_result"
    }
   ],
   "source": [
    "b_0 = list(str(b[0]))\n",
    "b_0"
   ]
  },
  {
   "cell_type": "code",
   "execution_count": 75,
   "metadata": {},
   "outputs": [
    {
     "data": {
      "text/plain": [
       "(123, 1, 1)"
      ]
     },
     "execution_count": 75,
     "metadata": {},
     "output_type": "execute_result"
    }
   ],
   "source": [
    "tuple(b)"
   ]
  },
  {
   "cell_type": "code",
   "execution_count": null,
   "metadata": {},
   "outputs": [],
   "source": []
  },
  {
   "cell_type": "code",
   "execution_count": null,
   "metadata": {},
   "outputs": [],
   "source": []
  },
  {
   "cell_type": "code",
   "execution_count": null,
   "metadata": {},
   "outputs": [],
   "source": []
  },
  {
   "cell_type": "code",
   "execution_count": null,
   "metadata": {},
   "outputs": [],
   "source": []
  }
 ],
 "metadata": {
  "kernelspec": {
   "display_name": "Python 3",
   "language": "python",
   "name": "python3"
  },
  "language_info": {
   "codemirror_mode": {
    "name": "ipython",
    "version": 3
   },
   "file_extension": ".py",
   "mimetype": "text/x-python",
   "name": "python",
   "nbconvert_exporter": "python",
   "pygments_lexer": "ipython3",
   "version": "3.7.0"
  }
 },
 "nbformat": 4,
 "nbformat_minor": 2
}
