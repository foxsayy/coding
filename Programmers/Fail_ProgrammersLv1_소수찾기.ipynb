{
 "cells": [
  {
   "cell_type": "markdown",
   "metadata": {},
   "source": [
    "# Programmers Lv1. 소수 찾기\n",
    "\n",
    "## Question\n",
    "https://programmers.co.kr/learn/courses/30/lessons/12921\n",
    "\n",
    "    1부터 입력받은 숫자 n 사이에 있는 소수의 개수를 반환하는 함수, solution을 만들어 보세요.\n",
    "\n",
    "    소수는 1과 자기 자신으로만 나누어지는 수를 의미합니다.\n",
    "    (1은 소수가 아닙니다.)\n",
    "\n",
    "제한 조건\n",
    "\n",
    "    n은 2이상 1000000이하의 자연수입니다.\n",
    "\n",
    "입출력 예\n",
    "\n",
    "    n\tresult\n",
    "    10\t4\n",
    "    5\t3\n",
    "\n",
    "입출력 예 설명\n",
    "\n",
    "    입출력 예 #1\n",
    "    1부터 10 사이의 소수는 [2,3,5,7] 4개가 존재하므로 4를 반환\n",
    "\n",
    "    입출력 예 #2\n",
    "    1부터 5 사이의 소수는 [2,3,5] 3개가 존재하므로 3를 반환\n",
    "\n",
    "## My Solution"
   ]
  },
  {
   "cell_type": "code",
   "execution_count": 92,
   "metadata": {},
   "outputs": [],
   "source": [
    "def solution(n):\n",
    "    res = 0\n",
    "    for i in range(2, n+1):\n",
    "        chk = True\n",
    "        for j in range(2, i):\n",
    "            if i % j == 0:\n",
    "                chk = False\n",
    "                break\n",
    "        if chk:\n",
    "            res += 1\n",
    "    return res"
   ]
  },
  {
   "cell_type": "code",
   "execution_count": 98,
   "metadata": {},
   "outputs": [
    {
     "name": "stdout",
     "output_type": "stream",
     "text": [
      "i: 0 sol: 0\n",
      "i: 1 sol: 0\n",
      "i: 2 sol: 1\n",
      "i: 3 sol: 2\n",
      "i: 4 sol: 2\n",
      "i: 5 sol: 3\n",
      "i: 6 sol: 3\n",
      "i: 7 sol: 4\n",
      "i: 8 sol: 4\n",
      "i: 9 sol: 4\n",
      "i: 10 sol: 4\n",
      "i: 11 sol: 5\n",
      "i: 12 sol: 5\n",
      "i: 13 sol: 6\n",
      "i: 14 sol: 6\n"
     ]
    }
   ],
   "source": [
    "# test code\n",
    "for i in range(15):\n",
    "    print('i:', i, 'sol:', solution(i))"
   ]
  },
  {
   "cell_type": "markdown",
   "metadata": {},
   "source": [
    "## My Result \n",
    "    정확성: 56.3\n",
    "    효율성: 0.0\n",
    "    합계: 56.3 / 100.0"
   ]
  },
  {
   "cell_type": "markdown",
   "metadata": {},
   "source": [
    "## Most Liked Solution"
   ]
  },
  {
   "cell_type": "code",
   "execution_count": null,
   "metadata": {},
   "outputs": [],
   "source": []
  }
 ],
 "metadata": {
  "kernelspec": {
   "display_name": "Python 3",
   "language": "python",
   "name": "python3"
  },
  "language_info": {
   "codemirror_mode": {
    "name": "ipython",
    "version": 3
   },
   "file_extension": ".py",
   "mimetype": "text/x-python",
   "name": "python",
   "nbconvert_exporter": "python",
   "pygments_lexer": "ipython3",
   "version": "3.7.0"
  }
 },
 "nbformat": 4,
 "nbformat_minor": 2
}
