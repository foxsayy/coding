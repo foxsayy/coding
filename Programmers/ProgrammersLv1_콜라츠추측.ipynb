{
 "cells": [
  {
   "cell_type": "markdown",
   "metadata": {},
   "source": [
    "# Programmers Lv1. 콜라츠 추측\n",
    "\n",
    "## Question\n",
    "https://programmers.co.kr/learn/courses/30/lessons/12943\n",
    "\n",
    "    1937년 Collatz란 사람에 의해 제기된 이 추측은, \n",
    "    주어진 수가 1이 될때까지 다음 작업을 반복하면, 모든 수를 1로 만들 수 있다는 추측입니다. \n",
    "    작업은 다음과 같습니다.\n",
    "    1-1. 입력된 수가 짝수라면 2로 나눕니다. \n",
    "    1-2. 입력된 수가 홀수라면 3을 곱하고 1을 더합니다.\n",
    "    2. 결과로 나온 수에 같은 작업을 1이 될 때까지 반복합니다.\n",
    "    예를 들어, 입력된 수가 6이라면 6→3→10→5→16→8→4→2→1 이 되어 총 8번 만에 1이 됩니다. \n",
    "    위 작업을 몇 번이나 반복해야하는지 반환하는 함수, solution을 완성해 주세요. \n",
    "    단, 작업을 500번을 반복해도 1이 되지 않는다면 –1을 반환해 주세요.\n",
    "\n",
    "제한 사항\n",
    "    \n",
    "    입력된 수, num은 1 이상 8000000 미만인 정수입니다.\n",
    "\n",
    "입출력 예\n",
    "\n",
    "    n         result\n",
    "    6         8\n",
    "    16        4\n",
    "    626331    -1\n",
    "\n",
    "입출력 예 설명\n",
    "\n",
    "    입출력 예 #1\n",
    "    문제의 설명과 같습니다.\n",
    "\n",
    "    입출력 예 #2\n",
    "    16 -> 8 -> 4 -> 2 -> 1 이되어 총 4번만에 1이 됩니다.\n",
    "\n",
    "    입출력 예 #3\n",
    "    626331은 500번을 시도해도 1이 되지 못하므로 -1을 리턴해야합니다.\n",
    "\n",
    "## My Solution"
   ]
  },
  {
   "cell_type": "code",
   "execution_count": 1,
   "metadata": {},
   "outputs": [],
   "source": [
    "def solution(num):\n",
    "    k = 0\n",
    "    while num != 1:\n",
    "        k += 1\n",
    "        if k == 500:\n",
    "            return -1\n",
    "        if num % 2 == 0:\n",
    "            num /= 2\n",
    "        else:\n",
    "            num = num * 3 + 1\n",
    "    return k"
   ]
  },
  {
   "cell_type": "code",
   "execution_count": 4,
   "metadata": {
    "scrolled": true
   },
   "outputs": [
    {
     "data": {
      "text/plain": [
       "8"
      ]
     },
     "execution_count": 4,
     "metadata": {},
     "output_type": "execute_result"
    }
   ],
   "source": [
    "# test code\n",
    "num = 6\n",
    "solution(num)"
   ]
  }
 ],
 "metadata": {
  "kernelspec": {
   "display_name": "Python 3",
   "language": "python",
   "name": "python3"
  },
  "language_info": {
   "codemirror_mode": {
    "name": "ipython",
    "version": 3
   },
   "file_extension": ".py",
   "mimetype": "text/x-python",
   "name": "python",
   "nbconvert_exporter": "python",
   "pygments_lexer": "ipython3",
   "version": "3.7.0"
  }
 },
 "nbformat": 4,
 "nbformat_minor": 2
}
