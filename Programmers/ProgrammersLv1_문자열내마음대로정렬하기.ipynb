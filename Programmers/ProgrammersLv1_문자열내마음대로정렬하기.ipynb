{
 "cells": [
  {
   "cell_type": "markdown",
   "metadata": {},
   "source": [
    "# Programmers Lv1. 문자열 내 마음대로 정렬하기\n",
    "\n",
    "## Question\n",
    "https://programmers.co.kr/learn/courses/30/lessons/12915\n",
    "\n",
    "    문자열로 구성된 리스트 strings와, 정수 n이 주어졌을 때, 각 문자열의 인덱스 n번째 글자를 기준으로 오름차순 정렬하려 합니다. \n",
    "    예를 들어 strings가 [sun, bed, car]이고 n이 1이면 각 단어의 인덱스 1의 문자 u, e, a로 strings를 정렬합니다.\n",
    "\n",
    "제한 조건\n",
    "\n",
    "    strings는 길이 1 이상, 50이하인 배열입니다.\n",
    "    strings의 원소는 소문자 알파벳으로 이루어져 있습니다.\n",
    "    strings의 원소는 길이 1 이상, 100이하인 문자열입니다.\n",
    "    모든 strings의 원소의 길이는 n보다 큽니다.\n",
    "    인덱스 1의 문자가 같은 문자열이 여럿 일 경우, 사전순으로 앞선 문자열이 앞쪽에 위치합니다.\n",
    "\n",
    "입출력 예\n",
    "\n",
    "    strings            n\treturn\n",
    "    [sun, bed, car]    1\t[car, bed, sun]\n",
    "    [abce, abcd, cdx]  2\t[abcd, abce, cdx]\n",
    "\n",
    "입출력 예 설명\n",
    "\n",
    "    입출력 예 1\n",
    "    sun, bed, car의 1번째 인덱스 값은 각각 u, e, a 입니다. 이를 기준으로 strings를 정렬하면 [car, bed, sun] 입니다.\n",
    "\n",
    "    입출력 예 2\n",
    "    abce와 abcd, cdx의 2번째 인덱스 값은 c, c, x입니다. 따라서 정렬 후에는 cdx가 가장 뒤에 위치합니다. abce와 abcd는 사전순으로 정렬하면 abcd가 우선하므로, 답은 [abcd, abce, cdx] 입니다.\n",
    "    \n",
    "## My Solution"
   ]
  },
  {
   "cell_type": "code",
   "execution_count": 159,
   "metadata": {},
   "outputs": [],
   "source": [
    "def solution(strings, n):\n",
    "    strings.sort()\n",
    "    dic_s = {}\n",
    "    for s in strings:\n",
    "        dic_s[s] = s[n]\n",
    "    import operator\n",
    "    ans = sorted(dic_s.items(), key=operator.itemgetter(1, 0))\n",
    "    ans = [a[0] for a in ans]\n",
    "    return ans"
   ]
  },
  {
   "cell_type": "code",
   "execution_count": 166,
   "metadata": {},
   "outputs": [
    {
     "data": {
      "text/plain": [
       "['aca', 'bba', 'caa']"
      ]
     },
     "execution_count": 166,
     "metadata": {},
     "output_type": "execute_result"
    }
   ],
   "source": [
    "# test code\n",
    "strings = ['aca', 'bba', 'caa']\n",
    "n = 0\n",
    "solution(strings, n)"
   ]
  },
  {
   "cell_type": "markdown",
   "metadata": {},
   "source": [
    "## Most Liked Solution"
   ]
  },
  {
   "cell_type": "code",
   "execution_count": 167,
   "metadata": {},
   "outputs": [],
   "source": [
    "def strange_sort(strings, n):\n",
    "    return sorted(strings, key=lambda str: (str[n], str))"
   ]
  },
  {
   "cell_type": "code",
   "execution_count": 168,
   "metadata": {},
   "outputs": [
    {
     "data": {
      "text/plain": [
       "['aca', 'bba', 'caa']"
      ]
     },
     "execution_count": 168,
     "metadata": {},
     "output_type": "execute_result"
    }
   ],
   "source": [
    "# test code\n",
    "strings = ['aca', 'bba', 'caa']\n",
    "n = 2\n",
    "strange_sort(strings, n)"
   ]
  }
 ],
 "metadata": {
  "kernelspec": {
   "display_name": "Python 3",
   "language": "python",
   "name": "python3"
  },
  "language_info": {
   "codemirror_mode": {
    "name": "ipython",
    "version": 3
   },
   "file_extension": ".py",
   "mimetype": "text/x-python",
   "name": "python",
   "nbconvert_exporter": "python",
   "pygments_lexer": "ipython3",
   "version": "3.7.0"
  }
 },
 "nbformat": 4,
 "nbformat_minor": 2
}
