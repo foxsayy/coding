{
 "cells": [
  {
   "cell_type": "markdown",
   "metadata": {},
   "source": [
    "# Programmers Lv2. 124 나라의 숫자\n",
    "\n",
    "## Question\n",
    "https://programmers.co.kr/learn/courses/30/lessons/12899\n",
    "\n",
    "    124 나라가 있습니다. \n",
    "    124 나라에서는 10진법이 아닌 다음과 같은 자신들만의 규칙으로 수를 표현합니다.\n",
    "    124 나라에는 자연수만 존재합니다.\n",
    "    124 나라에는 모든 수를 표현할 때 1, 2, 4만 사용합니다.\n",
    "    예를 들어서 124 나라에서 사용하는 숫자는 다음과 같이 변환됩니다.\n",
    "\n",
    "    10진법 / 124 나라 / 10진법  / 124 나라\n",
    "    1     / 1\t    / 6     / 14\n",
    "    2     / 2\t    / 7     / 21\n",
    "    3     / 4\t    / 8     / 22\n",
    "    4     / 11\t   / 9     / 24\n",
    "    5     / 12\t   / 10    / 41\n",
    "\n",
    "    자연수 n이 매개변수로 주어질 때, n을 124 나라에서 사용하는 숫자로 바꾼 값을 return 하도록 solution 함수를 완성해 주세요.\n",
    "\n",
    "제한사항\n",
    "\n",
    "    n은 500,000,000이하의 자연수 입니다.\n",
    "\n",
    "입출력 예\n",
    "\n",
    "    n\tresult\n",
    "    1\t1\n",
    "    2\t2\n",
    "    3\t4\n",
    "    4\t11\n",
    "\n",
    "## My Solution"
   ]
  },
  {
   "cell_type": "code",
   "execution_count": 2,
   "metadata": {},
   "outputs": [],
   "source": [
    "def solution():\n",
    "    pass"
   ]
  },
  {
   "cell_type": "markdown",
   "metadata": {},
   "source": [
    "## Most Liked Solution"
   ]
  },
  {
   "cell_type": "code",
   "execution_count": null,
   "metadata": {},
   "outputs": [],
   "source": []
  }
 ],
 "metadata": {
  "kernelspec": {
   "display_name": "Python 3",
   "language": "python",
   "name": "python3"
  },
  "language_info": {
   "codemirror_mode": {
    "name": "ipython",
    "version": 3
   },
   "file_extension": ".py",
   "mimetype": "text/x-python",
   "name": "python",
   "nbconvert_exporter": "python",
   "pygments_lexer": "ipython3",
   "version": "3.7.0"
  }
 },
 "nbformat": 4,
 "nbformat_minor": 2
}
