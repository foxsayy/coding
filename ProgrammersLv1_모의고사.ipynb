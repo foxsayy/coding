{
 "cells": [
  {
   "cell_type": "markdown",
   "metadata": {},
   "source": [
    "# Programmers Lv1. 모의고사\n",
    "\n",
    "## Question\n",
    "https://programmers.co.kr/learn/courses/30/lessons/42840\n",
    "\n",
    "    수포자는 수학을 포기한 사람의 준말입니다. \n",
    "    수포자 삼인방은 모의고사에 수학 문제를 전부 찍으려 합니다. \n",
    "    수포자는 1번 문제부터 마지막 문제까지 다음과 같이 찍습니다.\n",
    "\n",
    "    1번 수포자가 찍는 방식: 1, 2, 3, 4, 5, 1, 2, 3, 4, 5, ...\n",
    "    2번 수포자가 찍는 방식: 2, 1, 2, 3, 2, 4, 2, 5, 2, 1, 2, 3, 2, 4, 2, 5, ...\n",
    "    3번 수포자가 찍는 방식: 3, 3, 1, 1, 2, 2, 4, 4, 5, 5, 3, 3, 1, 1, 2, 2, 4, 4, 5, 5, ...\n",
    "\n",
    "    1번 문제부터 마지막 문제까지의 정답이 순서대로 들은 배열 answers가 주어졌을 때, \n",
    "    가장 많은 문제를 맞힌 사람이 누구인지 배열에 담아 return 하도록 solution 함수를 작성해주세요.\n",
    "\n",
    "제한 조건\n",
    "\n",
    "    시험은 최대 10,000 문제로 구성되어있습니다.\n",
    "    문제의 정답은 1, 2, 3, 4, 5중 하나입니다.\n",
    "    가장 높은 점수를 받은 사람이 여럿일 경우, return하는 값을 오름차순 정렬해주세요.\n",
    "\n",
    "입출력 예\n",
    "\n",
    "    answers\treturn\n",
    "    [1,2,3,4,5]\t[1]\n",
    "    [1,3,2,4,2]\t[1,2,3]\n",
    "\n",
    "입출력 예 #1\n",
    "\n",
    "    수포자 1은 모든 문제를 맞혔습니다.\n",
    "    수포자 2는 모든 문제를 틀렸습니다.\n",
    "    수포자 3은 모든 문제를 틀렸습니다.\n",
    "    따라서 가장 문제를 많이 맞힌 사람은 수포자 1입니다.\n",
    "\n",
    "입출력 예 #2\n",
    "\n",
    "    모든 사람이 2문제씩을 맞췄습니다."
   ]
  },
  {
   "cell_type": "markdown",
   "metadata": {},
   "source": [
    "##  My Solution"
   ]
  },
  {
   "cell_type": "code",
   "execution_count": 1,
   "metadata": {},
   "outputs": [],
   "source": [
    "def solution(answers):\n",
    "    \n",
    "    ans1 = [1, 2, 3, 4, 5]\n",
    "    ans2 = [2, 1, 2, 3, 2, 4, 2, 5]\n",
    "    ans3 = [3, 3, 1, 1, 2, 2, 4, 4, 5, 5]\n",
    "    \n",
    "    while len(ans1) < len(answers):\n",
    "        ans1 += ans1\n",
    "    while len(ans2) < len(answers):\n",
    "        ans2 += ans2\n",
    "    while len(ans3) < len(answers):\n",
    "        ans3 += ans3\n",
    "\n",
    "    ans1 = ans1[:len(answers)]\n",
    "    ans2 = ans2[:len(answers)]\n",
    "    ans3 = ans3[:len(answers)]\n",
    "\n",
    "    dic = {}\n",
    "    dic[1] = sum([a==answers[i] for i, a in enumerate(ans1)])\n",
    "    dic[2] = sum([a==answers[i] for i, a in enumerate(ans2)])\n",
    "    dic[3] = sum([a==answers[i] for i, a in enumerate(ans3)])\n",
    "    \n",
    "    return [ans for ans, point in dic.items() if point == max(dic.values())]"
   ]
  },
  {
   "cell_type": "code",
   "execution_count": 2,
   "metadata": {},
   "outputs": [
    {
     "data": {
      "text/plain": [
       "[1, 2, 3]"
      ]
     },
     "execution_count": 2,
     "metadata": {},
     "output_type": "execute_result"
    }
   ],
   "source": [
    "# test code\n",
    "answers = [1,3,2,4,2]\n",
    "solution(answers)"
   ]
  },
  {
   "cell_type": "markdown",
   "metadata": {},
   "source": [
    "## Most Liked Solution"
   ]
  },
  {
   "cell_type": "code",
   "execution_count": 5,
   "metadata": {},
   "outputs": [],
   "source": [
    "def solution2(answers):\n",
    "    pattern1 = [1,2,3,4,5]\n",
    "    pattern2 = [2,1,2,3,2,4,2,5]\n",
    "    pattern3 = [3,3,1,1,2,2,4,4,5,5]\n",
    "    score = [0, 0, 0]\n",
    "    result = []\n",
    "\n",
    "    for idx, answer in enumerate(answers):\n",
    "        if answer == pattern1[idx%len(pattern1)]:\n",
    "            score[0] += 1\n",
    "        if answer == pattern2[idx%len(pattern2)]:\n",
    "            score[1] += 1\n",
    "        if answer == pattern3[idx%len(pattern3)]:\n",
    "            score[2] += 1\n",
    "\n",
    "    for idx, s in enumerate(score):\n",
    "        if s == max(score):\n",
    "            result.append(idx+1)\n",
    "\n",
    "    return result"
   ]
  },
  {
   "cell_type": "code",
   "execution_count": 6,
   "metadata": {},
   "outputs": [
    {
     "data": {
      "text/plain": [
       "[1, 2, 3]"
      ]
     },
     "execution_count": 6,
     "metadata": {},
     "output_type": "execute_result"
    }
   ],
   "source": [
    "# test code\n",
    "answers = [1,3,2,4,2]\n",
    "solution2(answers)"
   ]
  }
 ],
 "metadata": {
  "kernelspec": {
   "display_name": "Python 3",
   "language": "python",
   "name": "python3"
  },
  "language_info": {
   "codemirror_mode": {
    "name": "ipython",
    "version": 3
   },
   "file_extension": ".py",
   "mimetype": "text/x-python",
   "name": "python",
   "nbconvert_exporter": "python",
   "pygments_lexer": "ipython3",
   "version": "3.7.0"
  }
 },
 "nbformat": 4,
 "nbformat_minor": 2
}
