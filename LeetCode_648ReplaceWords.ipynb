{
 "cells": [
  {
   "cell_type": "markdown",
   "metadata": {},
   "source": [
    "# LeetCode #648. Replace Words\n",
    "\n",
    "    In English, we have a concept called root, which can be followed by some other words to form another longer word - let's call this word successor. For example, the root an, followed by other, which can form another word another.\n",
    "\n",
    "    Now, given a dictionary consisting of many roots and a sentence. You need to replace all the successor in the sentence with the root forming it. If a successor has many roots can form it, replace it with the root with the shortest length.\n",
    "\n",
    "    You need to output the sentence after the replacement.\n",
    "\n",
    "    Example 1:\n",
    "\n",
    "    Input: dict = [\"cat\", \"bat\", \"rat\"]\n",
    "    sentence = \"the cattle was rattled by the battery\"\n",
    "    Output: \"the cat was rat by the bat\"\n",
    "\n",
    "\n",
    "    Note:\n",
    "\n",
    "    The input will only have lower-case letters.\n",
    "    1 <= dict words number <= 1000\n",
    "    1 <= sentence words number <= 1000\n",
    "    1 <= root length <= 100\n",
    "    1 <= sentence words length <= 1000"
   ]
  },
  {
   "cell_type": "markdown",
   "metadata": {},
   "source": [
    "## My Solution"
   ]
  },
  {
   "cell_type": "code",
   "execution_count": 1,
   "metadata": {},
   "outputs": [],
   "source": [
    "def replaceWords(dic, sen):\n",
    "    sen = sen.split()\n",
    "    for i in range(len(sen)):\n",
    "        for j in range(len(dic)):\n",
    "            if dic[j] == sen[i][:len(dic[j])]:\n",
    "                sen[i] = dic[j]\n",
    "    return \" \".join(sen)"
   ]
  },
  {
   "cell_type": "code",
   "execution_count": 81,
   "metadata": {},
   "outputs": [
    {
     "data": {
      "text/plain": [
       "'the cat was rat by the bat'"
      ]
     },
     "execution_count": 81,
     "metadata": {},
     "output_type": "execute_result"
    }
   ],
   "source": [
    "# test code\n",
    "dic = [\"cat\", \"bat\", \"rat\"]\n",
    "sen= \"the cattle was rattled by the battery\"\n",
    "replaceWords(dic, sen)"
   ]
  },
  {
   "cell_type": "markdown",
   "metadata": {},
   "source": [
    "### About My Solution\n",
    "\n",
    "    dic = [\"cat\", \"bat\", \"rat\"]\n",
    "    sen = \"the cattle was rattled by the battery\" \n",
    "    \n",
    "    먼저 문장(sen)을 단어별로 나눠 리스트에 넣어줍니다.\n",
    "    >>> sen.split()\n",
    "    ['the', 'cattle', 'was', 'rattled', 'by', 'the', 'battery']\n",
    "    \n",
    "    for문이 문장 속 단어를 돌면서, 그 안에서 또 다른 for문이 딕셔너리 안의 단어를 돕니다. \n",
    "    딕셔너리 안의 단어와 문장 속 단어 앞부분(딕셔너리 단어 길이만큼)이 같을 경우 sen의 단어를 dic의 단어로 교체해줍니다.\n",
    "    >>> for i in range(len(sen)): \n",
    "            for j in range(len(dic)):\n",
    "                if dic[j] == sen[i][:len(dic[j])]: \n",
    "                sen[i] = dic[j]\n",
    "    \n",
    "    위 처리 후의 리스트 속 단어를 한 문장으로 합쳐줍니다. \n",
    "    >>> \" \".join(sen)"
   ]
  },
  {
   "cell_type": "markdown",
   "metadata": {},
   "source": [
    "## My Result\n",
    "\n",
    "__Runtime__ : 296 ms, faster than 12.57% of Python3 online submissions for Replace Words.\n",
    "\n",
    "__Memory Usage__: 17.1 MB, less than 50.17% of Python3 online submissions for Replace Words.\n"
   ]
  },
  {
   "cell_type": "markdown",
   "metadata": {},
   "source": [
    "## @guofei9987's Solution"
   ]
  },
  {
   "cell_type": "code",
   "execution_count": 186,
   "metadata": {},
   "outputs": [],
   "source": [
    "def replaceWords3(dic, sentence):\n",
    "    dict_dict = {i:len(i) for i in dic}\n",
    "    dict_values = list(set(dict_dict.values()))\n",
    "    words = sentence.split(sep=' ')\n",
    "    for i, word in enumerate(words):\n",
    "        for j in dict_values:\n",
    "            if word[:j] in dict_dict:\n",
    "                words[i] = word[:j]\n",
    "                break\n",
    "    return ' '.join(words)"
   ]
  },
  {
   "cell_type": "code",
   "execution_count": 188,
   "metadata": {
    "scrolled": true
   },
   "outputs": [
    {
     "data": {
      "text/plain": [
       "'the cataabb was rat by the bataa'"
      ]
     },
     "execution_count": 188,
     "metadata": {},
     "output_type": "execute_result"
    }
   ],
   "source": [
    "# test code\n",
    "dic = [\"cataabb\", \"bataa\", \"rat\"]\n",
    "sentence = \"the cataabbtle was rattled by the bataatery\"\n",
    "replaceWords3(dic, sentence)"
   ]
  },
  {
   "cell_type": "markdown",
   "metadata": {},
   "source": [
    "### About guofei9987's Solution\n",
    "\n",
    "    1) dic 속의 단어와 글자수를 키와 밸류로 갖는 딕셔너리를 생성합니다.\n",
    "    >>> {i:len(i) for i in dic}\n",
    "    {'cataabb': 7, 'bataa': 5, 'rat': 3}\n",
    "    \n",
    "    2) 위 딕셔너리의 밸류값들을 set을 이용해 중복이 없는 list로 만듭니다.\n",
    "       위 코드에서는 sort로 정렬해줬지만 set을 거치면 자동으로 정렬되므로 불필요해 보입니다.\n",
    "    >>> list(set(dict_dict.values()))\n",
    "    [3, 5, 7]\n",
    "    \n",
    "    3) sentence의 각 단어를 원소로 갖는 리스트를 만듭니다.\n",
    "    >>> words = sentence.split(sep=' ')\n",
    "    >>> words\n",
    "    ['the', 'cataabbtle', 'was', 'rattled', 'by', 'the', 'bataatery']\n",
    "    \n",
    "    4) words = ['the', 'cataabbtle', 'was', 'rattled', 'by', 'the', 'bataatery'] 에서 for문과\n",
    "    dict_values = [3, 5, 7] 에서 for문 이중 for문을 돌면서 단어 앞부분이 같은 경우 words의 단어를 바꿔줍니다. "
   ]
  },
  {
   "cell_type": "code",
   "execution_count": 180,
   "metadata": {},
   "outputs": [
    {
     "name": "stdout",
     "output_type": "stream",
     "text": [
      "\n",
      "i: 0 word: the\n",
      "   j: 3\n",
      "   j: 5\n",
      "   j: 7\n",
      "\n",
      "i: 1 word: cataabb\n",
      "   j: 3\n",
      "   j: 5\n",
      "   j: 7\n",
      "break!\n",
      "\n",
      "i: 2 word: was\n",
      "   j: 3\n",
      "   j: 5\n",
      "   j: 7\n",
      "\n",
      "i: 3 word: rat\n",
      "   j: 3\n",
      "break!\n",
      "\n",
      "i: 4 word: by\n",
      "   j: 3\n",
      "   j: 5\n",
      "   j: 7\n",
      "\n",
      "i: 5 word: the\n",
      "   j: 3\n",
      "   j: 5\n",
      "   j: 7\n",
      "\n",
      "i: 6 word: bataa\n",
      "   j: 3\n",
      "   j: 5\n",
      "break!\n",
      "the cataabb was rat by the bataa\n"
     ]
    }
   ],
   "source": [
    "for i, word in enumerate(words):\n",
    "    print(\"\")\n",
    "    print(\"i:\", i, \"word:\", word)\n",
    "    for j in dict_values:\n",
    "        print(\"   j:\", j)\n",
    "        if word[:j] in dict_dict:\n",
    "            words[i] = word[:j]\n",
    "            print(\"break!\")\n",
    "            break\n",
    "print(' '.join(words))"
   ]
  },
  {
   "cell_type": "markdown",
   "metadata": {},
   "source": [
    "## @guofei9987's Result\n",
    "\n",
    "__Runtime__ : 60 ms, faster than 97.99% of Python3 online submissions for Replace Words.\n",
    "\n",
    "__Memory Usage__ : 17.3 MB, less than 47.96% of Python3 online submissions for Replace Words."
   ]
  }
 ],
 "metadata": {
  "kernelspec": {
   "display_name": "Python 3",
   "language": "python",
   "name": "python3"
  },
  "language_info": {
   "codemirror_mode": {
    "name": "ipython",
    "version": 3
   },
   "file_extension": ".py",
   "mimetype": "text/x-python",
   "name": "python",
   "nbconvert_exporter": "python",
   "pygments_lexer": "ipython3",
   "version": "3.7.0"
  }
 },
 "nbformat": 4,
 "nbformat_minor": 2
}
