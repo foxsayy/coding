{
 "cells": [
  {
   "cell_type": "markdown",
   "metadata": {},
   "source": [
    "#### 문제\n",
    "\n",
    "- 복도 불 전구마다 불을 켜고 끄는 스위치가 있고 처음엔 모든 전구가 꺼져 있음\n",
    "- 관리자는 복도에 n개의 전구가 있으면 복도를 n번 왕복\n",
    "- i번째로 갈 때 그는 i로 나누어 떨어지는 위치에 있는 스위치만 누름\n",
    "- 처음 위치로 돌아올 때는 스위치를 건드리지 않음\n",
    "- i번째 왕복은 복도를 한 번 갔다가 오는 것으로 정의됨\n",
    "- 마지막 전구의 최종 상태는? \n",
    "\n",
    "__input__\n",
    "- 복도에 있는 n번째 전구를 나타내는 숫자가 입력(2^32-1 이하의 정수)\n",
    "- 0은 입력의 끝을 의미하며 그 값은 처리하지 않ㅇ므\n",
    "\n",
    "__output__\n",
    "- 전구가 켜져 있으면 yes, 꺼져 있으면 no. 테스트 케이스마다 한 줄에 하나씩 출력"
   ]
  },
  {
   "cell_type": "markdown",
   "metadata": {},
   "source": [
    "#### 풀이"
   ]
  },
  {
   "cell_type": "code",
   "execution_count": 11,
   "metadata": {},
   "outputs": [],
   "source": [
    "def light(n):\n",
    "    result = False\n",
    "    for i in range(1, n + 1):\n",
    "        if n % i == 0:\n",
    "            result = not result\n",
    "    \n",
    "    if result == False:\n",
    "        return \"no\"\n",
    "    else:\n",
    "        return \"yes\""
   ]
  },
  {
   "cell_type": "code",
   "execution_count": 12,
   "metadata": {},
   "outputs": [
    {
     "data": {
      "text/plain": [
       "'yes'"
      ]
     },
     "execution_count": 12,
     "metadata": {},
     "output_type": "execute_result"
    }
   ],
   "source": [
    "light(25)"
   ]
  },
  {
   "cell_type": "code",
   "execution_count": 13,
   "metadata": {},
   "outputs": [
    {
     "data": {
      "text/plain": [
       "'no'"
      ]
     },
     "execution_count": 13,
     "metadata": {},
     "output_type": "execute_result"
    }
   ],
   "source": [
    "light(3)"
   ]
  },
  {
   "cell_type": "code",
   "execution_count": null,
   "metadata": {},
   "outputs": [],
   "source": []
  }
 ],
 "metadata": {
  "kernelspec": {
   "display_name": "Python 3",
   "language": "python",
   "name": "python3"
  },
  "language_info": {
   "codemirror_mode": {
    "name": "ipython",
    "version": 3
   },
   "file_extension": ".py",
   "mimetype": "text/x-python",
   "name": "python",
   "nbconvert_exporter": "python",
   "pygments_lexer": "ipython3",
   "version": "3.7.0"
  }
 },
 "nbformat": 4,
 "nbformat_minor": 2
}
