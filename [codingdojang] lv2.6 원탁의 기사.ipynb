{
 "cells": [
  {
   "cell_type": "markdown",
   "metadata": {},
   "source": [
    "#### 문제\n",
    "\n",
    "http://codingdojang.com/scode/442\n",
    "\n",
    "아서 왕이 천장에 삼각형 창이 있는 방에 원탁을 놓으려 한다. 햇빛이 원탁 위를 비추게 하고 싶다.\n",
    "\n",
    "정오에 태양이 바로 머리 위에 있을 때는 원탁 전체에 햇빛이 비추도록 하려고 한다.\n",
    "\n",
    "원탁은 방 안의 특정한 삼각형 영역 안에 자리잡아야 하며 주어진 조건 내에서 최대한 큰 원탁을 만들어야 한다.\n",
    "\n",
    "해가 비추는 영역에 들어갈 수 있는 가장 큰 원탁의 반지름을 계산하는 프로그램을 만드시오.\n",
    "\n",
    "원탁의 세 변의 길이는 직접 입력해야 한다."
   ]
  },
  {
   "cell_type": "markdown",
   "metadata": {},
   "source": [
    "#### 필요한 것들\n",
    "- 헤론의 공식\n",
    "    - 삼각형의 넓이는 S, 세 변이 각각 a, b, c라 할 때 \n",
    "    - S = sqrt(s(s-a)(s-b)(s-c))\n",
    "    - s = (a + b + c) / 2"
   ]
  },
  {
   "cell_type": "markdown",
   "metadata": {},
   "source": [
    "#### 풀이"
   ]
  },
  {
   "cell_type": "code",
   "execution_count": 1,
   "metadata": {},
   "outputs": [],
   "source": [
    "import math\n",
    "\n",
    "def table(a, b, c):\n",
    "    s = (a + b + c) / 2\n",
    "    ss = math.sqrt(s*(s - a)*(s - b)*(s - c))\n",
    "    r = ss / s\n",
    "    return r"
   ]
  },
  {
   "cell_type": "code",
   "execution_count": 4,
   "metadata": {},
   "outputs": [
    {
     "data": {
      "text/plain": [
       "2.8867513459481287"
      ]
     },
     "execution_count": 4,
     "metadata": {},
     "output_type": "execute_result"
    }
   ],
   "source": [
    "table(10, 10, 10)"
   ]
  }
 ],
 "metadata": {
  "kernelspec": {
   "display_name": "Python 3",
   "language": "python",
   "name": "python3"
  },
  "language_info": {
   "codemirror_mode": {
    "name": "ipython",
    "version": 3
   },
   "file_extension": ".py",
   "mimetype": "text/x-python",
   "name": "python",
   "nbconvert_exporter": "python",
   "pygments_lexer": "ipython3",
   "version": "3.7.0"
  }
 },
 "nbformat": 4,
 "nbformat_minor": 2
}
