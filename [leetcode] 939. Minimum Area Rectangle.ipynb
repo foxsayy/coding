{
 "cells": [
  {
   "cell_type": "markdown",
   "metadata": {},
   "source": [
    "    Given a set of points in the xy-plane, determine the minimum area of a rectangle formed from these points, with sides parallel to the x and y axes.\n",
    "\n",
    "    If there isn't any rectangle, return 0.\n",
    "\n",
    "    Example 1:\n",
    "    Input: [[1,1],[1,3],[3,1],[3,3],[2,2]]\n",
    "    Output: 4\n",
    "    \n",
    "    Example 2:\n",
    "    Input: [[1,1],[1,3],[3,1],[3,3],[4,1],[4,3]]\n",
    "    Output: 2"
   ]
  },
  {
   "cell_type": "code",
   "execution_count": 39,
   "metadata": {},
   "outputs": [],
   "source": [
    "points = [[1,1],[1,3],[3,1],[3,3],[4,1],[4,3]]"
   ]
  },
  {
   "cell_type": "code",
   "execution_count": 40,
   "metadata": {},
   "outputs": [
    {
     "data": {
      "text/plain": [
       "6"
      ]
     },
     "execution_count": 40,
     "metadata": {},
     "output_type": "execute_result"
    }
   ],
   "source": [
    "n = len(points)\n",
    "n"
   ]
  },
  {
   "cell_type": "code",
   "execution_count": 41,
   "metadata": {},
   "outputs": [
    {
     "data": {
      "text/plain": [
       "{1, 3, 4}"
      ]
     },
     "execution_count": 41,
     "metadata": {},
     "output_type": "execute_result"
    }
   ],
   "source": [
    "set(x for x, y in points)"
   ]
  },
  {
   "cell_type": "code",
   "execution_count": 42,
   "metadata": {},
   "outputs": [
    {
     "data": {
      "text/plain": [
       "{1, 3}"
      ]
     },
     "execution_count": 42,
     "metadata": {},
     "output_type": "execute_result"
    }
   ],
   "source": [
    "set(y for x, y in points)"
   ]
  },
  {
   "cell_type": "code",
   "execution_count": 43,
   "metadata": {},
   "outputs": [
    {
     "name": "stdout",
     "output_type": "stream",
     "text": [
      "3\n",
      "2\n"
     ]
    }
   ],
   "source": [
    "nx = len(set(x for x, y in points))\n",
    "ny = len(set(y for x, y in points))\n",
    "print(nx)\n",
    "print(ny)"
   ]
  },
  {
   "cell_type": "code",
   "execution_count": 44,
   "metadata": {},
   "outputs": [],
   "source": [
    "from collections import defaultdict"
   ]
  },
  {
   "cell_type": "code",
   "execution_count": 45,
   "metadata": {},
   "outputs": [
    {
     "data": {
      "text/plain": [
       "defaultdict(list, {})"
      ]
     },
     "execution_count": 45,
     "metadata": {},
     "output_type": "execute_result"
    }
   ],
   "source": [
    "p = defaultdict(list)\n",
    "p"
   ]
  },
  {
   "cell_type": "code",
   "execution_count": 46,
   "metadata": {},
   "outputs": [
    {
     "name": "stdout",
     "output_type": "stream",
     "text": [
      "if, nx: 3 ny: 2\n",
      "defaultdict(<class 'list'>, {1: [1]})\n",
      "1\n",
      "1\n",
      "defaultdict(<class 'list'>, {1: [1, 3]})\n",
      "1\n",
      "3\n",
      "defaultdict(<class 'list'>, {1: [1, 3], 3: [1]})\n",
      "3\n",
      "1\n",
      "defaultdict(<class 'list'>, {1: [1, 3], 3: [1, 3]})\n",
      "3\n",
      "3\n",
      "defaultdict(<class 'list'>, {1: [1, 3], 3: [1, 3], 4: [1]})\n",
      "4\n",
      "1\n",
      "defaultdict(<class 'list'>, {1: [1, 3], 3: [1, 3], 4: [1, 3]})\n",
      "4\n",
      "3\n"
     ]
    }
   ],
   "source": [
    "if nx > ny:\n",
    "    print(\"if, nx:\", nx, \"ny:\", ny)\n",
    "    for x, y in points:\n",
    "        p[x].append(y)\n",
    "        print(p)\n",
    "        print(x)\n",
    "        print(y)\n",
    "else:\n",
    "    print(\"else, nx:\", nx, \"ny:\", ny)\n",
    "    for x, y in points:\n",
    "        p[y].append(x)        \n",
    "        print(p)\n",
    "        print(x)\n",
    "        print(y)"
   ]
  },
  {
   "cell_type": "code",
   "execution_count": 47,
   "metadata": {},
   "outputs": [],
   "source": [
    "lastx = {}\n",
    "res = float('inf')\n"
   ]
  },
  {
   "cell_type": "code",
   "execution_count": 50,
   "metadata": {},
   "outputs": [
    {
     "data": {
      "text/plain": [
       "2"
      ]
     },
     "execution_count": 50,
     "metadata": {},
     "output_type": "execute_result"
    }
   ],
   "source": [
    "len(p[x])"
   ]
  },
  {
   "cell_type": "code",
   "execution_count": 33,
   "metadata": {},
   "outputs": [
    {
     "data": {
      "text/plain": [
       "defaultdict(list, {1: [1, 3], 3: [1, 3], 4: [1, 3]})"
      ]
     },
     "execution_count": 33,
     "metadata": {},
     "output_type": "execute_result"
    }
   ],
   "source": [
    "for x in sorted(p):\n",
    "    p[x].sort()\n",
    "    for i in range(len(p[x])):\n",
    "        for j in range(i):\n",
    "            y1, y2 = p[x][j], p[x][i]\n",
    "            if (y1, y2) in lastx:\n",
    "                res = min(res, (x - lastx[y1, y2]) * (y2 - y1))\n",
    "            lastx[y1, y2] = x\n",
    "    return res if res < float('inf') else 0"
   ]
  },
  {
   "cell_type": "code",
   "execution_count": null,
   "metadata": {},
   "outputs": [],
   "source": [
    "def minAreaRect(self, points):\n",
    "    n = len(points)\n",
    "    nx = len(set(x for x, y in points))\n",
    "    ny = len(set(y for x, y in points))\n",
    "    if nx == n or ny == n:\n",
    "        return 0\n",
    "\n",
    "    p = collections.defaultdict(list)\n",
    "    if nx > ny:\n",
    "        for x, y in points:\n",
    "            p[x].append(y)\n",
    "    else:\n",
    "        for x, y in points:\n",
    "            p[y].append(x)\n",
    "\n",
    "    lastx = {}\n",
    "    res = float('inf')\n",
    "    for x in sorted(p):\n",
    "        p[x].sort()\n",
    "        for i in range(len(p[x])):\n",
    "            for j in range(i):\n",
    "                y1, y2 = p[x][j], p[x][i]\n",
    "                if (y1, y2) in lastx:\n",
    "                    res = min(res, (x - lastx[y1, y2]) * (y2 - y1))\n",
    "                lastx[y1, y2] = x\n",
    "    return res if res < float('inf') else 0"
   ]
  }
 ],
 "metadata": {
  "kernelspec": {
   "display_name": "Python 3",
   "language": "python",
   "name": "python3"
  },
  "language_info": {
   "codemirror_mode": {
    "name": "ipython",
    "version": 3
   },
   "file_extension": ".py",
   "mimetype": "text/x-python",
   "name": "python",
   "nbconvert_exporter": "python",
   "pygments_lexer": "ipython3",
   "version": "3.7.0"
  }
 },
 "nbformat": 4,
 "nbformat_minor": 2
}
