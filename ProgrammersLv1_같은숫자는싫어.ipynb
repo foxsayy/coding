{
 "cells": [
  {
   "cell_type": "markdown",
   "metadata": {},
   "source": [
    "# Programmers Lv1. 같은 숫자는 싫어\n",
    "\n",
    "## Question\n",
    "https://programmers.co.kr/learn/courses/30/lessons/12906\n",
    "\n",
    "    배열 arr가 주어집니다. \n",
    "    배열 arr의 각 원소는 숫자 0부터 9까지로 이루어져 있습니다. \n",
    "    이때, 배열 arr에서 연속적으로 나타나는 숫자는 하나만 남기고 전부 제거하려고 합니다. \n",
    "    단, 제거된 후 남은 수들을 반환할 때는 배열 arr의 원소들의 순서를 유지해야 합니다. \n",
    "    예를 들면,\n",
    "    arr = [1, 1, 3, 3, 0, 1, 1] 이면 [1, 3, 0, 1] 을 return 합니다.\n",
    "    arr = [4, 4, 4, 3, 3] 이면 [4, 3] 을 return 합니다.\n",
    "    배열 arr에서 연속적으로 나타나는 숫자는 제거하고 남은 수들을 return 하는 solution 함수를 완성해 주세요.\n",
    "\n",
    "제한사항\n",
    "\n",
    "    배열 arr의 크기 : 1,000,000 이하의 자연수\n",
    "    배열 arr의 원소의 크기 : 0보다 크거나 같고 9보다 작거나 같은 정수\n",
    "\n",
    "입출력 예\n",
    "\n",
    "    arr               answer\n",
    "    [1,1,3,3,0,1,1]   [1,3,0,1]\n",
    "    [4,4,4,3,3]       [4,3]\n",
    "\n",
    "## My Solution"
   ]
  },
  {
   "cell_type": "code",
   "execution_count": 1,
   "metadata": {},
   "outputs": [],
   "source": [
    "def solution(arr):\n",
    "    # arr이 [], [1]과 같은 모양일 경우\n",
    "    if len(arr) < 2:\n",
    "        return arr\n",
    "    answer = []\n",
    "    \n",
    "    # arr이 [0, 0, 0]의 모양일 경우\n",
    "    if len(set(arr)) == 1:\n",
    "        answer.append(arr[0])\n",
    "        return answer\n",
    "    \n",
    "    # 일반적인 경우\n",
    "    for i in range(len(arr)-1):\n",
    "        if arr[i] != arr[i+1]:\n",
    "            answer.append(arr[i])\n",
    "    if answer[-1] != arr[-1]:\n",
    "        answer.append(arr[-1])\n",
    "    return answer"
   ]
  },
  {
   "cell_type": "code",
   "execution_count": 2,
   "metadata": {
    "scrolled": true
   },
   "outputs": [
    {
     "data": {
      "text/plain": [
       "[1, 3, 0, 1]"
      ]
     },
     "execution_count": 2,
     "metadata": {},
     "output_type": "execute_result"
    }
   ],
   "source": [
    "# test code\n",
    "arr = [1,1,3,3,0,1,1]\n",
    "solution(arr)"
   ]
  },
  {
   "cell_type": "markdown",
   "metadata": {},
   "source": [
    "## My Result\n",
    "\n",
    "    정확성: 100.0\n",
    "    합계: 100.0 / 100.0"
   ]
  },
  {
   "cell_type": "markdown",
   "metadata": {},
   "source": [
    "## Most Liked Solution"
   ]
  },
  {
   "cell_type": "code",
   "execution_count": 3,
   "metadata": {},
   "outputs": [],
   "source": [
    "def no_continuous(s):\n",
    "    a = []\n",
    "    for i in s:\n",
    "        if a[-1:] == [i]: \n",
    "            print('i =',i, ' a[-1:] =', a[-1:])\n",
    "            continue\n",
    "        a.append(i)\n",
    "    return a"
   ]
  },
  {
   "cell_type": "code",
   "execution_count": 4,
   "metadata": {},
   "outputs": [
    {
     "name": "stdout",
     "output_type": "stream",
     "text": [
      "i = 1  a[-1:] = [1]\n",
      "i = 3  a[-1:] = [3]\n",
      "i = 1  a[-1:] = [1]\n"
     ]
    },
    {
     "data": {
      "text/plain": [
       "[1, 3, 0, 1]"
      ]
     },
     "execution_count": 4,
     "metadata": {},
     "output_type": "execute_result"
    }
   ],
   "source": [
    "# test code\n",
    "arr = [1,1,3,3,0,1,1]\n",
    "no_continuous(arr)"
   ]
  }
 ],
 "metadata": {
  "kernelspec": {
   "display_name": "Python 3",
   "language": "python",
   "name": "python3"
  },
  "language_info": {
   "codemirror_mode": {
    "name": "ipython",
    "version": 3
   },
   "file_extension": ".py",
   "mimetype": "text/x-python",
   "name": "python",
   "nbconvert_exporter": "python",
   "pygments_lexer": "ipython3",
   "version": "3.7.0"
  }
 },
 "nbformat": 4,
 "nbformat_minor": 2
}
