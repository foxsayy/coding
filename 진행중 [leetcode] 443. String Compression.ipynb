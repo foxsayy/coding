{
 "cells": [
  {
   "cell_type": "markdown",
   "metadata": {},
   "source": [
    "Given an array of characters, compress it in-place.\n",
    "\n",
    "The length after compression must always be smaller than or equal to the original array.\n",
    "\n",
    "Every element of the array should be a character (not int) of length 1.\n",
    "\n",
    "After you are done modifying the input array in-place, return the new length of the array.\n",
    "\n",
    " \n",
    "Follow up:\n",
    "Could you solve it using only O(1) extra space?"
   ]
  },
  {
   "cell_type": "code",
   "execution_count": 27,
   "metadata": {},
   "outputs": [],
   "source": [
    "def sol(char):\n",
    "    out = []\n",
    "    for i in range(1, len(char)):\n",
    "        num = 1\n",
    "        if len(char[i-1]) == len(char) + 1:\n",
    "            return out\n",
    "        elif char[i] != char[i+1] and num == 1:\n",
    "            out.append(char[i])\n",
    "        elif char[i] == char[i+1]:\n",
    "            num +=1\n",
    "        elif char[i] == char[i+1] and num != 1:\n",
    "            out.append(char[i])\n",
    "            out.append(str(num))"
   ]
  },
  {
   "cell_type": "code",
   "execution_count": 40,
   "metadata": {},
   "outputs": [],
   "source": [
    "char = [\"a\",\"b\",\"b\",\"c\",\"c\",\"c\"]\n",
    "out = []"
   ]
  },
  {
   "cell_type": "code",
   "execution_count": 77,
   "metadata": {},
   "outputs": [],
   "source": [
    "def sol(char):\n",
    "    out = []\n",
    "    num = 1\n",
    "    for i in range(1, len(char)):\n",
    "        if char[i-1] != char[i] and num == 1:\n",
    "            out.append(char[i-1])\n",
    "            print(\"i는\", i, \"1번 상황 num은\", num, 'out은', out, 'char[i-1], char[i]는', char[i-1], char[i])\n",
    "        elif char[i-1] != char[i] and num != 1:\n",
    "            out.append(char[i-1])\n",
    "            out.append(str(num))\n",
    "            print(\"i는\", i, \"2번 상황 num은\", num, 'out은', out, 'char[i-1], char[i]는', char[i-1], char[i])\n",
    "            num = 1\n",
    "        elif char[i-1] == char[i]:\n",
    "            num +=1\n",
    "            print(\"i는\", i, \"3번 상황 num은\", num, 'out은', out, 'char[i-1], char[i]는', char[i-1], char[i])\n",
    "    if num != 1:\n",
    "        out.append(char[len(char)-1])\n",
    "        out.append(str(num))\n",
    "    return out"
   ]
  },
  {
   "cell_type": "code",
   "execution_count": 78,
   "metadata": {},
   "outputs": [
    {
     "name": "stdout",
     "output_type": "stream",
     "text": [
      "i는 1 1번 상황 num은 1 out은 ['a'] char[i-1], char[i]는 a b\n",
      "i는 2 3번 상황 num은 2 out은 ['a'] char[i-1], char[i]는 b b\n",
      "i는 3 2번 상황 num은 2 out은 ['a', 'b', '2'] char[i-1], char[i]는 b c\n",
      "i는 4 3번 상황 num은 2 out은 ['a', 'b', '2'] char[i-1], char[i]는 c c\n",
      "i는 5 3번 상황 num은 3 out은 ['a', 'b', '2'] char[i-1], char[i]는 c c\n"
     ]
    },
    {
     "data": {
      "text/plain": [
       "['a', 'b', '2', 'c', '3']"
      ]
     },
     "execution_count": 78,
     "metadata": {},
     "output_type": "execute_result"
    }
   ],
   "source": [
    "sol(char)"
   ]
  },
  {
   "cell_type": "code",
   "execution_count": 82,
   "metadata": {},
   "outputs": [],
   "source": [
    "def sol(char):\n",
    "    out = []\n",
    "    num = 1\n",
    "    for i in range(1, len(char)):\n",
    "        if char[i-1] != char[i] and num == 1:\n",
    "            out.append(char[i-1])\n",
    "        elif char[i-1] != char[i] and num != 1:\n",
    "            out.append(char[i-1])\n",
    "            out.append(str(num))\n",
    "            num = 1\n",
    "        elif char[i-1] == char[i]:\n",
    "            num +=1\n",
    "    if num != 1:\n",
    "        out.append(char[len(char)-1])\n",
    "        out.append(str(num))\n",
    "    return out"
   ]
  },
  {
   "cell_type": "code",
   "execution_count": null,
   "metadata": {},
   "outputs": [],
   "source": []
  },
  {
   "cell_type": "code",
   "execution_count": 93,
   "metadata": {},
   "outputs": [],
   "source": [
    "char = [\"a\",\"b\",\"b\",\"c\",\"c\",\"c\"]\n",
    "char2 = [\"a\"]\n",
    "char3 = [\"a\",\"b\",\"b\",\"b\",\"b\",\"b\",\"b\",\"b\",\"b\",\"b\",\"b\",\"b\",\"b\"]"
   ]
  },
  {
   "cell_type": "code",
   "execution_count": 84,
   "metadata": {},
   "outputs": [
    {
     "data": {
      "text/plain": [
       "['a', 'b', '2', 'c', '3']"
      ]
     },
     "execution_count": 84,
     "metadata": {},
     "output_type": "execute_result"
    }
   ],
   "source": [
    "sol(char)"
   ]
  },
  {
   "cell_type": "code",
   "execution_count": 85,
   "metadata": {},
   "outputs": [
    {
     "data": {
      "text/plain": [
       "[]"
      ]
     },
     "execution_count": 85,
     "metadata": {},
     "output_type": "execute_result"
    }
   ],
   "source": [
    "sol(char2)"
   ]
  },
  {
   "cell_type": "code",
   "execution_count": 88,
   "metadata": {},
   "outputs": [],
   "source": [
    "x = sol(char3)"
   ]
  },
  {
   "cell_type": "code",
   "execution_count": 89,
   "metadata": {},
   "outputs": [
    {
     "data": {
      "text/plain": [
       "['a', 'b', '12']"
      ]
     },
     "execution_count": 89,
     "metadata": {},
     "output_type": "execute_result"
    }
   ],
   "source": [
    "list(x)"
   ]
  },
  {
   "cell_type": "code",
   "execution_count": 101,
   "metadata": {},
   "outputs": [],
   "source": [
    "def compress(chars):\n",
    "        left = i = 0\n",
    "        while i < len(chars):\n",
    "            char, length = chars[i], 1\n",
    "            print(\"1번\", 'char:', char, 'length:', length, 'i:', i)\n",
    "            while (i + 1) < len(chars) and char == chars[i + 1]:\n",
    "                length, i = length + 1, i + 1\n",
    "                print(\"  2번\", 'char:', char, 'length:', length, 'i:', i)\n",
    "            chars[left] = char\n",
    "            if length > 1:\n",
    "                len_str = str(length)\n",
    "                chars[left + 1:left + 1 + len(len_str)] = len_str\n",
    "                left += len(len_str)\n",
    "                print(\"    3번\", 'char:', char, 'length:', length, 'i:', i)\n",
    "            left, i = left + 1, i + 1\n",
    "            print(\"      4번\", 'char:', char, 'length:', length, 'i:', i)\n",
    "        return left"
   ]
  },
  {
   "cell_type": "code",
   "execution_count": 102,
   "metadata": {},
   "outputs": [
    {
     "name": "stdout",
     "output_type": "stream",
     "text": [
      "1번 char: a length: 1 i: 0\n",
      "      4번 char: a length: 1 i: 1\n",
      "1번 char: b length: 1 i: 1\n",
      "      4번 char: b length: 1 i: 2\n",
      "1번 char: 2 length: 1 i: 2\n",
      "      4번 char: 2 length: 1 i: 3\n",
      "1번 char: c length: 1 i: 3\n",
      "      4번 char: c length: 1 i: 4\n",
      "1번 char: 3 length: 1 i: 4\n",
      "      4번 char: 3 length: 1 i: 5\n",
      "1번 char: c length: 1 i: 5\n",
      "      4번 char: c length: 1 i: 6\n"
     ]
    },
    {
     "data": {
      "text/plain": [
       "6"
      ]
     },
     "execution_count": 102,
     "metadata": {},
     "output_type": "execute_result"
    }
   ],
   "source": [
    "compress(char)"
   ]
  },
  {
   "cell_type": "code",
   "execution_count": 103,
   "metadata": {},
   "outputs": [
    {
     "name": "stdout",
     "output_type": "stream",
     "text": [
      "1번 char: a length: 1 i: 0\n",
      "      4번 char: a length: 1 i: 1\n"
     ]
    },
    {
     "data": {
      "text/plain": [
       "1"
      ]
     },
     "execution_count": 103,
     "metadata": {},
     "output_type": "execute_result"
    }
   ],
   "source": [
    "compress(char2)"
   ]
  },
  {
   "cell_type": "code",
   "execution_count": 104,
   "metadata": {},
   "outputs": [
    {
     "name": "stdout",
     "output_type": "stream",
     "text": [
      "1번 char: a length: 1 i: 0\n",
      "      4번 char: a length: 1 i: 1\n",
      "1번 char: b length: 1 i: 1\n",
      "      4번 char: b length: 1 i: 2\n",
      "1번 char: 1 length: 1 i: 2\n",
      "      4번 char: 1 length: 1 i: 3\n",
      "1번 char: 2 length: 1 i: 3\n",
      "      4번 char: 2 length: 1 i: 4\n",
      "1번 char: b length: 1 i: 4\n",
      "      4번 char: b length: 1 i: 5\n",
      "1번 char: 9 length: 1 i: 5\n",
      "      4번 char: 9 length: 1 i: 6\n",
      "1번 char: b length: 1 i: 6\n",
      "  2번 char: b length: 2 i: 7\n",
      "  2번 char: b length: 3 i: 8\n",
      "  2번 char: b length: 4 i: 9\n",
      "  2번 char: b length: 5 i: 10\n",
      "  2번 char: b length: 6 i: 11\n",
      "  2번 char: b length: 7 i: 12\n",
      "    3번 char: b length: 7 i: 12\n",
      "      4번 char: b length: 7 i: 13\n"
     ]
    },
    {
     "data": {
      "text/plain": [
       "8"
      ]
     },
     "execution_count": 104,
     "metadata": {},
     "output_type": "execute_result"
    }
   ],
   "source": [
    "compress(char3)"
   ]
  },
  {
   "cell_type": "code",
   "execution_count": null,
   "metadata": {},
   "outputs": [],
   "source": []
  },
  {
   "cell_type": "code",
   "execution_count": null,
   "metadata": {},
   "outputs": [],
   "source": []
  },
  {
   "cell_type": "code",
   "execution_count": null,
   "metadata": {},
   "outputs": [],
   "source": [
    "def sol(char):\n",
    "    left = i = 0\n",
    "    while i < len(char):\n",
    "        char, length = chars[i], 1\n",
    "        while (i + 1) < len(char) and char == char[i + 1]:\n",
    "            "
   ]
  },
  {
   "cell_type": "code",
   "execution_count": null,
   "metadata": {},
   "outputs": [],
   "source": []
  }
 ],
 "metadata": {
  "kernelspec": {
   "display_name": "Python 3",
   "language": "python",
   "name": "python3"
  },
  "language_info": {
   "codemirror_mode": {
    "name": "ipython",
    "version": 3
   },
   "file_extension": ".py",
   "mimetype": "text/x-python",
   "name": "python",
   "nbconvert_exporter": "python",
   "pygments_lexer": "ipython3",
   "version": "3.7.0"
  }
 },
 "nbformat": 4,
 "nbformat_minor": 2
}
