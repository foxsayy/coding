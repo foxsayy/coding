{
 "cells": [
  {
   "cell_type": "markdown",
   "metadata": {},
   "source": [
    "# LeetCode #890. Find and Replace Pattern\n",
    "\n",
    "## Question\n",
    "\n",
    "https://leetcode.com/problems/find-and-replace-pattern/\n",
    "\n",
    "    You have a list of words and a pattern, and you want to know which words in words matches the pattern.\n",
    "    A word matches the pattern if there exists a permutation of letters p so that after replacing every letter x in the pattern with p(x), we get the desired word.\n",
    "    (Recall that a permutation of letters is a bijection from letters to letters: every letter maps to another letter, and no two letters map to the same letter.)\n",
    "    Return a list of the words in words that match the given pattern. \n",
    "    You may return the answer in any order.\n",
    "\n",
    "    Example 1:\n",
    "    Input: words = [\"abc\",\"deq\",\"mee\",\"aqq\",\"dkd\",\"ccc\"], pattern = \"abb\"\n",
    "    Output: [\"mee\",\"aqq\"]\n",
    "    Explanation: \"mee\" matches the pattern because there is a permutation {a -> m, b -> e, ...}. \n",
    "    \"ccc\" does not match the pattern because {a -> c, b -> c, ...} is not a permutation,\n",
    "    since a and b map to the same letter.\n",
    "\n",
    "    Note:\n",
    "    1 <= words.length <= 50\n",
    "    1 <= pattern.length = words[i].length <= 20"
   ]
  },
  {
   "cell_type": "markdown",
   "metadata": {},
   "source": [
    "## @lee215's Solution"
   ]
  },
  {
   "cell_type": "code",
   "execution_count": 1,
   "metadata": {},
   "outputs": [],
   "source": [
    "def findAndReplacePattern(words, p):\n",
    "    def F(w):\n",
    "        m = {}\n",
    "        return [m.setdefault(c, len(m)) for c in w]\n",
    "    return [w for w in words if F(w) == F(p)]"
   ]
  },
  {
   "cell_type": "code",
   "execution_count": 2,
   "metadata": {},
   "outputs": [
    {
     "data": {
      "text/plain": [
       "['mee', 'aqq']"
      ]
     },
     "execution_count": 2,
     "metadata": {},
     "output_type": "execute_result"
    }
   ],
   "source": [
    "# test code\n",
    "words = [\"abc\",\"deq\",\"mee\",\"aqq\",\"dkd\",\"ccc\"]\n",
    "p = \"abb\"\n",
    "\n",
    "findAndReplacePattern(words, p)"
   ]
  },
  {
   "cell_type": "markdown",
   "metadata": {},
   "source": [
    "### About lee215's Result\n",
    "\n",
    "\n",
    "\n"
   ]
  },
  {
   "cell_type": "markdown",
   "metadata": {},
   "source": [
    "## lee215's Result\n",
    "\n",
    "__Runtime__ : 20 ms, faster than 98.24% of Python online submissions for Find and Replace Pattern.\n",
    "\n",
    "__Memory Usage__ : 11.8 MB, less than 5.61% of Python online submissions for Find and Replace Pattern."
   ]
  }
 ],
 "metadata": {
  "kernelspec": {
   "display_name": "Python 3",
   "language": "python",
   "name": "python3"
  },
  "language_info": {
   "codemirror_mode": {
    "name": "ipython",
    "version": 3
   },
   "file_extension": ".py",
   "mimetype": "text/x-python",
   "name": "python",
   "nbconvert_exporter": "python",
   "pygments_lexer": "ipython3",
   "version": "3.7.0"
  }
 },
 "nbformat": 4,
 "nbformat_minor": 2
}
