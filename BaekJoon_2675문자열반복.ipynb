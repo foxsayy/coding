{
 "cells": [
  {
   "cell_type": "markdown",
   "metadata": {},
   "source": [
    "# BaekJoon_2675. 문자열 반복\n",
    "\n",
    "https://www.acmicpc.net/problem/2675\n",
    "\n",
    "## Question\n",
    "\n",
    "    문자열 S를 입력받은 후에, 각 문자를 R번 반복해 새 문자열 P를 만든 후 출력하는 프로그램을 작성하시오. \n",
    "    즉, 첫 번째 문자를 R번 반복하고, 두 번째 문자를 R번 반복하는 식으로 P를 만들면 된다. \n",
    "    S에는 QR Code \"alphanumeric\" 문자만 들어있다.\n",
    "\n",
    "    QR Code \"alphanumeric\" 문자는 0123456789ABCDEFGHIJKLMNOPQRSTUVWXYZ\\$%*+-./: 이다.\n",
    "\n",
    "입력\n",
    "    \n",
    "    첫째 줄에 테스트 케이스의 개수 T(1 ≤ T ≤ 1,000)가 주어진다. 각 테스트 케이스는 반복 횟수 R(1 ≤ R ≤ 8), 문자열 S가 공백으로 구분되어 주어진다. S의 길이는 적어도 1이며, 20글자를 넘지 않는다. \n",
    "\n",
    "출력\n",
    "\n",
    "    각 테스트 케이스에 대해 P를 출력한다.\n",
    "\n",
    "예제 입력 1 \n",
    "    \n",
    "    2\n",
    "    3 ABC\n",
    "    5 /HTP\n",
    "\n",
    "예제 출력 1 \n",
    "       \n",
    "    AAABBBCCC\n",
    "    /////HHHHHTTTTTPPPPP\n",
    "    \n",
    "## My Solution"
   ]
  },
  {
   "cell_type": "code",
   "execution_count": 33,
   "metadata": {},
   "outputs": [
    {
     "name": "stdout",
     "output_type": "stream",
     "text": [
      "2\n",
      "3 avb\n",
      "aaavvvbbb\n",
      "2 aad\n",
      "aaaadd\n"
     ]
    }
   ],
   "source": [
    "n = int(input())\n",
    "\n",
    "# S의 각 문자를 R번씩 반복하는 P를 출력합니다.\n",
    "def sol(R, S):\n",
    "    res = ''\n",
    "    for s in S:\n",
    "        res += s * R\n",
    "    return res\n",
    "\n",
    "for i in range(n):\n",
    "    M = input()\n",
    "    R = int(M.split(' ')[0])\n",
    "    S = M.split(' ')[1]\n",
    "    print(sol(R, S))"
   ]
  },
  {
   "cell_type": "markdown",
   "metadata": {},
   "source": [
    "## My Result\n",
    "\n",
    "    결과        / 메모리    / 시간  / 코드 길이\n",
    "    맞았습니다!! / 29056KB / 60ms / 207B"
   ]
  }
 ],
 "metadata": {
  "kernelspec": {
   "display_name": "Python 3",
   "language": "python",
   "name": "python3"
  },
  "language_info": {
   "codemirror_mode": {
    "name": "ipython",
    "version": 3
   },
   "file_extension": ".py",
   "mimetype": "text/x-python",
   "name": "python",
   "nbconvert_exporter": "python",
   "pygments_lexer": "ipython3",
   "version": "3.7.0"
  }
 },
 "nbformat": 4,
 "nbformat_minor": 2
}
