{
 "cells": [
  {
   "cell_type": "markdown",
   "metadata": {},
   "source": [
    "    Given a non-negative integer numRows, generate the first numRows of Pascal's triangle. "
   ]
  },
  {
   "cell_type": "code",
   "execution_count": 170,
   "metadata": {},
   "outputs": [],
   "source": [
    "# n = 5\n",
    "def sol(n):\n",
    "    if n == 1:\n",
    "        return [[1]]\n",
    "    if n == 2:\n",
    "        return [[1], [1, 1]]\n",
    "    if n == 3:\n",
    "        return [[1], [1, 1], [1, 2, 1]]\n",
    "    if n > 3:\n",
    "        z = [[1], [1, 1], [1, 2, 1]]\n",
    "        a = [1, 2, 1]\n",
    "        for j in range(n - 3):\n",
    "            x = []\n",
    "            x.append(1)\n",
    "            for i in range(len(a)-1):\n",
    "                x.append(a[i] + a[i + 1])\n",
    "            x.append(1)\n",
    "            a = x.copy()\n",
    "            z.append(a)\n",
    "        return z"
   ]
  },
  {
   "cell_type": "code",
   "execution_count": 173,
   "metadata": {},
   "outputs": [
    {
     "data": {
      "text/plain": [
       "[[1],\n",
       " [1, 1],\n",
       " [1, 2, 1],\n",
       " [1, 3, 3, 1],\n",
       " [1, 4, 6, 4, 1],\n",
       " [1, 5, 10, 10, 5, 1],\n",
       " [1, 6, 15, 20, 15, 6, 1]]"
      ]
     },
     "execution_count": 173,
     "metadata": {},
     "output_type": "execute_result"
    }
   ],
   "source": [
    "sol(7)"
   ]
  },
  {
   "cell_type": "code",
   "execution_count": 140,
   "metadata": {},
   "outputs": [],
   "source": [
    "n = 4"
   ]
  },
  {
   "cell_type": "code",
   "execution_count": 151,
   "metadata": {},
   "outputs": [
    {
     "name": "stdout",
     "output_type": "stream",
     "text": [
      "[1, 3, 3, 1]\n",
      "[1, 3, 3, 1]\n",
      "[[1], [1, 1], [1, 2, 1], [1, 3, 3, 1]]\n"
     ]
    }
   ],
   "source": [
    "for j in range(4 - 3):\n",
    "    z = [[1], [1, 1], [1, 2, 1]]\n",
    "    a = [1, 2, 1]\n",
    "    x = []\n",
    "    x.append(1)\n",
    "    for i in range(2):\n",
    "        x.append(a[i] + a[i + 1])\n",
    "    x.append(1)\n",
    "    a = x.copy()\n",
    "    z.append(a)\n",
    "    print(x)\n",
    "    print(a)\n",
    "    print(z)"
   ]
  },
  {
   "cell_type": "code",
   "execution_count": 163,
   "metadata": {},
   "outputs": [
    {
     "name": "stdout",
     "output_type": "stream",
     "text": [
      "[[1], [1, 1], [1, 2, 1], [1, 3, 3, 1]]\n",
      "[[1], [1, 1], [1, 2, 1], [1, 3, 3, 1], [1, 4, 6, 4, 1]]\n",
      "[[1], [1, 1], [1, 2, 1], [1, 3, 3, 1], [1, 4, 6, 4, 1], [1, 5, 10, 10, 5, 1]]\n",
      "[[1], [1, 1], [1, 2, 1], [1, 3, 3, 1], [1, 4, 6, 4, 1], [1, 5, 10, 10, 5, 1], [1, 6, 15, 20, 15, 6, 1]]\n"
     ]
    }
   ],
   "source": [
    "z = [[1], [1, 1], [1, 2, 1]]\n",
    "a = [1, 2, 1]\n",
    "for j in range(7 - 3):\n",
    "    x = []\n",
    "    x.append(1)\n",
    "    for i in range(len(a)-1):\n",
    "        x.append(a[i] + a[i + 1])\n",
    "    x.append(1)\n",
    "    a = x.copy()\n",
    "    z.append(a)\n",
    "    print(z)"
   ]
  },
  {
   "cell_type": "code",
   "execution_count": null,
   "metadata": {},
   "outputs": [],
   "source": []
  },
  {
   "cell_type": "markdown",
   "metadata": {},
   "source": [
    "#### 풀이"
   ]
  },
  {
   "cell_type": "code",
   "execution_count": 231,
   "metadata": {},
   "outputs": [],
   "source": [
    "def generate(n):\n",
    "        if n == 0:\n",
    "            return []\n",
    "        if n == 1:\n",
    "            return [[1]]\n",
    "        if n == 2:\n",
    "            return [[1], [1, 1]]\n",
    "        if n == 3:\n",
    "            return [[1], [1, 1], [1, 2, 1]]\n",
    "        if n > 3:\n",
    "            z = [[1], [1, 1], [1, 2, 1]]\n",
    "            a = [1, 2, 1]\n",
    "            for j in range(n - 3):\n",
    "                x = []\n",
    "                x.append(1)\n",
    "                for i in range(len(a)-1):\n",
    "                    x.append(a[i] + a[i + 1])\n",
    "                x.append(1)\n",
    "                a = x[:]\n",
    "                z.append(a)\n",
    "            return z"
   ]
  },
  {
   "cell_type": "code",
   "execution_count": 232,
   "metadata": {
    "scrolled": true
   },
   "outputs": [
    {
     "name": "stdout",
     "output_type": "stream",
     "text": [
      "CPU times: user 3 µs, sys: 1e+03 ns, total: 4 µs\n",
      "Wall time: 7.87 µs\n"
     ]
    },
    {
     "data": {
      "text/plain": [
       "[[1], [1, 1], [1, 2, 1], [1, 3, 3, 1]]"
      ]
     },
     "execution_count": 232,
     "metadata": {},
     "output_type": "execute_result"
    }
   ],
   "source": [
    "%time\n",
    "generate(4)"
   ]
  },
  {
   "cell_type": "code",
   "execution_count": null,
   "metadata": {},
   "outputs": [],
   "source": [
    "class Solution(object):\n",
    "    def generate(self, n):\n",
    "        if n == 0:\n",
    "            return []\n",
    "        if n == 1:\n",
    "            return [[1]]\n",
    "        if n == 2:\n",
    "            return [[1], [1, 1]]\n",
    "        if n == 3:\n",
    "            return [[1], [1, 1], [1, 2, 1]]\n",
    "        if n > 3:\n",
    "            z = [[1], [1, 1], [1, 2, 1]]\n",
    "            a = [1, 2, 1]\n",
    "            for j in range(n - 3):\n",
    "                x = []\n",
    "                x.append(1)\n",
    "                for i in range(len(a)-1):\n",
    "                    x.append(a[i] + a[i + 1])\n",
    "                x.append(1)\n",
    "                a = x[:]\n",
    "                z.append(a)\n",
    "            return z"
   ]
  }
 ],
 "metadata": {
  "kernelspec": {
   "display_name": "Python 3",
   "language": "python",
   "name": "python3"
  },
  "language_info": {
   "codemirror_mode": {
    "name": "ipython",
    "version": 3
   },
   "file_extension": ".py",
   "mimetype": "text/x-python",
   "name": "python",
   "nbconvert_exporter": "python",
   "pygments_lexer": "ipython3",
   "version": "3.7.0"
  }
 },
 "nbformat": 4,
 "nbformat_minor": 2
}
