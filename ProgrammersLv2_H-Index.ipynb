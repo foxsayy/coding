{
 "cells": [
  {
   "cell_type": "markdown",
   "metadata": {},
   "source": [
    "# Programmers Lv2. H-Index\n",
    "\n",
    "## Question\n",
    "https://programmers.co.kr/learn/courses/30/lessons/42747\n",
    "\n",
    "    H-Index는 과학자의 생산성과 영향력을 나타내는 지표입니다. \n",
    "    어느 과학자의 H-Index를 나타내는 값인 h를 구하려고 합니다. \n",
    "    위키백과1에 따르면, H-Index는 다음과 같이 구합니다.\n",
    "    어떤 과학자가 발표한 논문 n편 중, h번 이상 인용된 논문이 h편 이상이고 나머지 논문이 h번 이하 인용되었다면 h가 이 과학자의 H-Index입니다.\n",
    "    어떤 과학자가 발표한 논문의 인용 횟수를 담은 배열 citations가 매개변수로 주어질 때, \n",
    "    이 과학자의 H-Index를 return 하도록 solution 함수를 작성해주세요.\n",
    "\n",
    "제한사항\n",
    "\n",
    "    과학자가 발표한 논문의 수는 1편 이상 1,000편 이하입니다.\n",
    "    논문별 인용 횟수는 0회 이상 10,000회 이하입니다.\n",
    "\n",
    "입출력 예\n",
    "\n",
    "        citations\treturn\n",
    "    [3, 0, 6, 1, 5]\t3\n",
    "\n",
    "입출력 예 설명\n",
    "\n",
    "    이 과학자가 발표한 논문의 수는 5편이고, 그중 3편의 논문은 3회 이상 인용되었습니다. 그리고 나머지 2편의 논문은 3회 이하 인용되었기 때문에 이 과학자의 H-Index는 3입니다.\n"
   ]
  },
  {
   "cell_type": "markdown",
   "metadata": {},
   "source": [
    "## My Solution"
   ]
  },
  {
   "cell_type": "code",
   "execution_count": 1,
   "metadata": {},
   "outputs": [],
   "source": [
    "def solution(citations):\n",
    "    h = min(min(citations), len(citations))\n",
    "    while h < len([c for c in citations if c > h]):\n",
    "        h += 1\n",
    "    return h"
   ]
  },
  {
   "cell_type": "code",
   "execution_count": 58,
   "metadata": {},
   "outputs": [
    {
     "name": "stdout",
     "output_type": "stream",
     "text": [
      "citations의 길이 l: 5\n",
      "정렬된 citations: [0, 1, 3, 5, 6] \n",
      "\n",
      "citations[i]: 0 , l-i: 5\n",
      "citations[i]: 1 , l-i: 4\n",
      "citations[i]: 3 , l-i: 3\n",
      "\n",
      "citations[i] >= l-i 이므로 if문 발동! \n",
      "\n",
      " \t i: 2 , citation[i]: 3\n",
      "\t l: 5 , l-i: 3\n"
     ]
    },
    {
     "data": {
      "text/plain": [
       "3"
      ]
     },
     "execution_count": 58,
     "metadata": {},
     "output_type": "execute_result"
    }
   ],
   "source": [
    "# test code\n",
    "citations = [3, 0, 6, 1, 5]\n",
    "solution(citations)"
   ]
  },
  {
   "cell_type": "markdown",
   "metadata": {},
   "source": [
    "    h는 인용 횟수가 가장 적은 논문의 인용 횟수와 전체 논문 편수 사이의 숫자입니다. \n",
    "    따라서 둘 중 작은 숫자를 h로 설정해줍니다.\n",
    "    이후 h보다 인용횟수가 큰 논문인용횟수들의 리스트 길이가 h보다 작으면 계속 +1이 되도록 while문을 걸어줍니다. \n",
    "    논문인용횟수들의 리스트 길이가 h와 같아지면 while 문을 멈추고 h를 반환합니다."
   ]
  },
  {
   "cell_type": "markdown",
   "metadata": {},
   "source": [
    "## My Result\n",
    "\n",
    "    정확성: 100.0\n",
    "    합계: 100.0 / 100.0\n",
    "    \n",
    "## Most Liked Solution"
   ]
  },
  {
   "cell_type": "code",
   "execution_count": 56,
   "metadata": {},
   "outputs": [],
   "source": [
    "def solution(citations):\n",
    "    citations = sorted(citations)\n",
    "    l = len(citations)\n",
    "    print('citations의 길이 l:', l)\n",
    "    print('정렬된 citations:', citations, '\\n')\n",
    "    for i in range(l):\n",
    "        print('citations[i]:', citations[i], ', l-i:', l-i)\n",
    "        if citations[i] >= l-i:\n",
    "            print('\\ncitations[i] >= l-i 이므로 if문 발동! \\n\\n \\t i:',i, ', citation[i]:', citations[i])\n",
    "            print('\\t l:', l, ', l-i:', l-i)\n",
    "            return l-i\n",
    "    return 0"
   ]
  },
  {
   "cell_type": "code",
   "execution_count": 57,
   "metadata": {},
   "outputs": [
    {
     "name": "stdout",
     "output_type": "stream",
     "text": [
      "citations의 길이 l: 5\n",
      "정렬된 citations: [0, 1, 3, 5, 6] \n",
      "\n",
      "citations[i]: 0 , l-i: 5\n",
      "citations[i]: 1 , l-i: 4\n",
      "citations[i]: 3 , l-i: 3\n",
      "\n",
      "citations[i] >= l-i 이므로 if문 발동! \n",
      "\n",
      " \t i: 2 , citation[i]: 3\n",
      "\t l: 5 , l-i: 3\n"
     ]
    },
    {
     "data": {
      "text/plain": [
       "3"
      ]
     },
     "execution_count": 57,
     "metadata": {},
     "output_type": "execute_result"
    }
   ],
   "source": [
    "# test code\n",
    "citations = [3, 0, 6, 1, 5]\n",
    "solution(citations)"
   ]
  }
 ],
 "metadata": {
  "kernelspec": {
   "display_name": "Python 3",
   "language": "python",
   "name": "python3"
  },
  "language_info": {
   "codemirror_mode": {
    "name": "ipython",
    "version": 3
   },
   "file_extension": ".py",
   "mimetype": "text/x-python",
   "name": "python",
   "nbconvert_exporter": "python",
   "pygments_lexer": "ipython3",
   "version": "3.7.0"
  }
 },
 "nbformat": 4,
 "nbformat_minor": 2
}
