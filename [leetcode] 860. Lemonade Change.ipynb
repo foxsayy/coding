{
 "cells": [
  {
   "cell_type": "markdown",
   "metadata": {},
   "source": [
    "    At a lemonade stand, each lemonade costs $5. \n",
    "    Customers are standing in a queue to buy from you, and order one at a time (in the order specified by bills).\n",
    "    Each customer will only buy one lemonade and pay with either a $5, $10, or $20 bill.  You must provide the correct change to each customer, so that the net transaction is that the customer pays $5.\n",
    "    Note that you don't have any change in hand at first.\n",
    "    Return true if and only if you can provide every customer with correct change.\n",
    "\n",
    "    Example 1:\n",
    "    Input: [5,5,5,10,20]\n",
    "    Output: true\n",
    "\n",
    "    Explanation: \n",
    "    From the first 3 customers, we collect three $5 bills in order.\n",
    "    From the fourth customer, we collect a $10 bill and give back a $5.\n",
    "    From the fifth customer, we give a $10 bill and a $5 bill.\n",
    "    Since all customers got correct change, we output true.\n",
    "    \n",
    "    Example 2:\n",
    "    Input: [5,5,10]\n",
    "    Output: true\n",
    "\n",
    "    Example 3:\n",
    "    Input: [10,10]\n",
    "    Output: false\n",
    "\n",
    "    Example 4:\n",
    "    Input: [5,5,10,10,20]\n",
    "    Output: false\n",
    "    \n",
    "    Explanation: \n",
    "    From the first two customers in order, we collect two $5 bills.\n",
    "    For the next two customers in order, we collect a $10 bill and give back a $5 bill.\n",
    "    For the last customer, we can't give change of $15 back because we only have two $10 bills.\n",
    "    Since not every customer received correct change, the answer is false."
   ]
  },
  {
   "cell_type": "code",
   "execution_count": 10,
   "metadata": {},
   "outputs": [],
   "source": [
    "b1 = [5,5,10,10,20]"
   ]
  },
  {
   "cell_type": "markdown",
   "metadata": {},
   "source": [
    "#### 풀이"
   ]
  },
  {
   "cell_type": "code",
   "execution_count": 51,
   "metadata": {},
   "outputs": [],
   "source": [
    "def lemonadeChange(b1):\n",
    "    cash = {\n",
    "        5 : 0,\n",
    "        10 : 0,\n",
    "        20 : 0,\n",
    "    }\n",
    "\n",
    "    for i in range(len(b1)):\n",
    "        if b1[i] == 10:\n",
    "            cash[10] += 1\n",
    "            cash[5] -= 1\n",
    "        if cash[5] == -1:\n",
    "            return False\n",
    "        if b1[i] == 20:\n",
    "            if cash[10] > 0 and cash[5] > 0:\n",
    "                cash[10] -= 1\n",
    "                cash[5] -=1\n",
    "            elif cash[5] > 2:\n",
    "                cash[5] -= 3\n",
    "            else:\n",
    "                return False\n",
    "        if cash[5] == -1 or cash[10] == -1:\n",
    "            return False       \n",
    "        if b1[i] == 5:\n",
    "            cash[5] += 1\n",
    "    return True"
   ]
  },
  {
   "cell_type": "markdown",
   "metadata": {},
   "source": [
    "#### 보다 효율적이고 이해하기 쉬운 풀이"
   ]
  },
  {
   "cell_type": "code",
   "execution_count": 53,
   "metadata": {},
   "outputs": [],
   "source": [
    "def lemonadeChange(bills):\n",
    "        five = ten = 0\n",
    "        for i in bills:\n",
    "            if i == 5: five += 1\n",
    "            elif i == 10: five, ten = five - 1, ten + 1\n",
    "            elif ten > 0: five, ten = five - 1, ten - 1\n",
    "            else: five -= 3\n",
    "            if five < 0: return False\n",
    "        return True"
   ]
  },
  {
   "cell_type": "code",
   "execution_count": 54,
   "metadata": {},
   "outputs": [
    {
     "data": {
      "text/plain": [
       "True"
      ]
     },
     "execution_count": 54,
     "metadata": {},
     "output_type": "execute_result"
    }
   ],
   "source": [
    "b1 = [5,5,5,10,20]\n",
    "lemonadeChange(b1)"
   ]
  },
  {
   "cell_type": "code",
   "execution_count": 55,
   "metadata": {},
   "outputs": [
    {
     "data": {
      "text/plain": [
       "True"
      ]
     },
     "execution_count": 55,
     "metadata": {},
     "output_type": "execute_result"
    }
   ],
   "source": [
    "b2 = [5,5,10]\n",
    "lemonadeChange(b2)"
   ]
  },
  {
   "cell_type": "code",
   "execution_count": 56,
   "metadata": {},
   "outputs": [
    {
     "data": {
      "text/plain": [
       "False"
      ]
     },
     "execution_count": 56,
     "metadata": {},
     "output_type": "execute_result"
    }
   ],
   "source": [
    "b3 = [10,10]\n",
    "lemonadeChange(b3)"
   ]
  },
  {
   "cell_type": "code",
   "execution_count": 57,
   "metadata": {},
   "outputs": [
    {
     "data": {
      "text/plain": [
       "False"
      ]
     },
     "execution_count": 57,
     "metadata": {},
     "output_type": "execute_result"
    }
   ],
   "source": [
    "b4 = [5,5,10,10,20]\n",
    "lemonadeChange(b4)"
   ]
  },
  {
   "cell_type": "code",
   "execution_count": 58,
   "metadata": {},
   "outputs": [
    {
     "data": {
      "text/plain": [
       "False"
      ]
     },
     "execution_count": 58,
     "metadata": {},
     "output_type": "execute_result"
    }
   ],
   "source": [
    "b5 = [5,5,5,20,5,5,5,20,5,5,5,10,5,20,10,20,10,20,5,5]\n",
    "lemonadeChange(b5)"
   ]
  }
 ],
 "metadata": {
  "kernelspec": {
   "display_name": "Python 3",
   "language": "python",
   "name": "python3"
  },
  "language_info": {
   "codemirror_mode": {
    "name": "ipython",
    "version": 3
   },
   "file_extension": ".py",
   "mimetype": "text/x-python",
   "name": "python",
   "nbconvert_exporter": "python",
   "pygments_lexer": "ipython3",
   "version": "3.7.0"
  }
 },
 "nbformat": 4,
 "nbformat_minor": 2
}
