{
 "cells": [
  {
   "cell_type": "markdown",
   "metadata": {},
   "source": [
    "# BaekJoon #11399. ATM\n",
    "\n",
    "## Question\n",
    "https://www.acmicpc.net/problem/11399\n",
    "\n",
    "    인하은행에는 ATM이 1대밖에 없다. 지금 이 ATM앞에 N명의 사람들이 줄을 서있다. 사람은 1번부터 N번까지 번호가 매겨져 있으며, i번 사람이 돈을 인출하는데 걸리는 시간은 Pi분이다.\n",
    "\n",
    "    사람들이 줄을 서는 순서에 따라서, 돈을 인출하는데 필요한 시간의 합이 달라지게 된다. \n",
    "    예를 들어, 총 5명이 있고, P1 = 3, P2 = 1, P3 = 4, P4 = 3, P5 = 2 인 경우를 생각해보자. \n",
    "    \n",
    "    [1, 2, 3, 4, 5] 순서로 줄을 선다면, \n",
    "    1번 사람은 3분만에 돈을 뽑을 수 있다. \n",
    "    2번 사람은 1번 사람이 돈을 뽑을 때 까지 기다려야 하기 때문에, 3+1 = 4분이 걸리게 된다. \n",
    "    3번 사람은 1번, 2번 사람이 돈을 뽑을 때까지 기다려야 하기 때문에, 총 3+1+4 = 8분이 필요하게 된다. \n",
    "    4번 사람은 3+1+4+3 = 11분, 5번 사람은 3+1+4+3+2 = 13분이 걸리게 된다. \n",
    "    이 경우에 각 사람이 돈을 인출하는데 필요한 시간의 합은 3+4+8+11+13 = 39분이 된다.\n",
    "\n",
    "    줄을 [2, 5, 1, 4, 3] 순서로 줄을 서면, \n",
    "    2번 사람은 1분만에, \n",
    "    5번 사람은 1+2 = 3분, \n",
    "    1번 사람은 1+2+3 = 6분, \n",
    "    4번 사람은 1+2+3+3 = 9분, \n",
    "    3번 사람은 1+2+3+3+4 = 13분이 걸리게 된다. \n",
    "    각 사람이 돈을 인출하는데 필요한 시간의 합은 1+3+6+9+13 = 32분이다. \n",
    "    이 방법보다 더 필요한 시간의 합을 최소로 만들 수는 없다.\n",
    "\n",
    "    줄을 서 있는 사람의 수 N과 각 사람이 돈을 인출하는데 걸리는 시간 Pi가 주어졌을 때, \n",
    "    각 사람이 돈을 인출하는데 필요한 시간의 합의 최솟값을 구하는 프로그램을 작성하시오.\n",
    "\n",
    "입력\n",
    "\n",
    "    첫째 줄에 사람의 수 N(1 ≤ N ≤ 1,000)이 주어진다. \n",
    "    둘째 줄에는 각 사람이 돈을 인출하는데 걸리는 시간 Pi가 주어진다. (1 ≤ Pi ≤ 1,000)\n",
    "\n",
    "출력\n",
    "    \n",
    "    첫째 줄에 각 사람이 돈을 인출하는데 필요한 시간의 합의 최솟값을 출력한다.\n",
    "\n",
    "예제 입력 1 \n",
    "    \n",
    "    5\n",
    "    3 1 4 3 2\n",
    "    \n",
    "예제 출력 1 \n",
    "    \n",
    "    32"
   ]
  },
  {
   "cell_type": "markdown",
   "metadata": {},
   "source": [
    "## My Solution"
   ]
  },
  {
   "cell_type": "code",
   "execution_count": 79,
   "metadata": {},
   "outputs": [
    {
     "name": "stdout",
     "output_type": "stream",
     "text": [
      "5\n",
      "3 1 4 3 2\n",
      "32\n"
     ]
    }
   ],
   "source": [
    "def sol(n, l):\n",
    "    l = l.replace(\" \", \"\")\n",
    "    l = [int (i) for i in l]\n",
    "    l.sort()\n",
    "    res = 0\n",
    "    for i in range(n):\n",
    "        res += sum(l[:i+1])\n",
    "    return res\n",
    "\n",
    "def main():\n",
    "    n = int(input())\n",
    "    l = input()\n",
    "    print(sol(n, l))\n",
    "\n",
    "if __name__ == '__main__':\n",
    "    main()"
   ]
  }
 ],
 "metadata": {
  "kernelspec": {
   "display_name": "Python 3",
   "language": "python",
   "name": "python3"
  },
  "language_info": {
   "codemirror_mode": {
    "name": "ipython",
    "version": 3
   },
   "file_extension": ".py",
   "mimetype": "text/x-python",
   "name": "python",
   "nbconvert_exporter": "python",
   "pygments_lexer": "ipython3",
   "version": "3.7.0"
  }
 },
 "nbformat": 4,
 "nbformat_minor": 2
}
