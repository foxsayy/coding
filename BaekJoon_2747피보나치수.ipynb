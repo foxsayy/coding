{
 "cells": [
  {
   "cell_type": "markdown",
   "metadata": {},
   "source": [
    "# BaekJoon #2747. 피보나치 수\n",
    "\n",
    "## Question\n",
    "https://www.acmicpc.net/problem/2747\n",
    "\n",
    "문제\n",
    "\n",
    "    피보나치 수는 0과 1로 시작한다. 0번째 피보나치 수는 0이고, 1번째 피보나치 수는 1이다. 그 다음 2번째 부터는 바로 앞 두 피보나치 수의 합이 된다.\n",
    "\n",
    "    이를 식으로 써보면 Fn = Fn-1 + Fn-2 (n>=2)가 된다.\n",
    "\n",
    "    n=17일때 까지 피보나치 수를 써보면 다음과 같다.\n",
    "\n",
    "    0, 1, 1, 2, 3, 5, 8, 13, 21, 34, 55, 89, 144, 233, 377, 610, 987, 1597\n",
    "\n",
    "    n이 주어졌을 때, n번째 피보나치 수를 구하는 프로그램을 작성하시오.\n",
    "\n",
    "입력\n",
    "\n",
    "    첫째 줄에 n이 주어진다. n은 45보다 작거나 같은 자연수이다.\n",
    "\n",
    "출력\n",
    "\n",
    "    첫째 줄에 n번째 피보나치 수를 출력한다.\n",
    "\n",
    "예제 입력 1 \n",
    "\n",
    "    10\n",
    "\n",
    "예제 출력 1 \n",
    "\n",
    "    55"
   ]
  },
  {
   "cell_type": "markdown",
   "metadata": {},
   "source": [
    "## My Solution (재귀)"
   ]
  },
  {
   "cell_type": "code",
   "execution_count": 27,
   "metadata": {},
   "outputs": [
    {
     "name": "stdout",
     "output_type": "stream",
     "text": [
      "10\n",
      "55\n"
     ]
    }
   ],
   "source": [
    "def sol(n):\n",
    "    if n < 2:\n",
    "        return n\n",
    "    else:\n",
    "        return sol(n-1) + sol(n-2)\n",
    "    \n",
    "def main():\n",
    "    n = int(input())\n",
    "    print(sol(n))\n",
    "\n",
    "if __name__ == '__main__':\n",
    "    main()"
   ]
  },
  {
   "cell_type": "markdown",
   "metadata": {},
   "source": [
    "## My Result(재귀)\n",
    "시간 초과"
   ]
  },
  {
   "cell_type": "markdown",
   "metadata": {},
   "source": [
    "## My Solution(반복문)"
   ]
  },
  {
   "cell_type": "code",
   "execution_count": 28,
   "metadata": {},
   "outputs": [
    {
     "name": "stdout",
     "output_type": "stream",
     "text": [
      "10\n",
      "55\n"
     ]
    }
   ],
   "source": [
    "def sol(n):\n",
    "    a, b = 0, 1\n",
    "    if n == 0:\n",
    "        return 0\n",
    "    elif n == 1:\n",
    "        return 1\n",
    "    for i in range(n-1):\n",
    "        temp = b\n",
    "        a, b = temp, a + b\n",
    "    return b\n",
    "\n",
    "def main():\n",
    "    n = int(input())\n",
    "    print(sol(n))\n",
    "\n",
    "if __name__ == '__main__':\n",
    "    main()"
   ]
  },
  {
   "cell_type": "markdown",
   "metadata": {},
   "source": [
    "## My Result(반복문)\n",
    "    결과       메모리    시간    코드 길이\n",
    "    맞았습니다  29056KB\t60ms    266B"
   ]
  }
 ],
 "metadata": {
  "kernelspec": {
   "display_name": "Python 3",
   "language": "python",
   "name": "python3"
  },
  "language_info": {
   "codemirror_mode": {
    "name": "ipython",
    "version": 3
   },
   "file_extension": ".py",
   "mimetype": "text/x-python",
   "name": "python",
   "nbconvert_exporter": "python",
   "pygments_lexer": "ipython3",
   "version": "3.7.0"
  }
 },
 "nbformat": 4,
 "nbformat_minor": 2
}
