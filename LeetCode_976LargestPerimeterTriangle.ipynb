{
 "cells": [
  {
   "cell_type": "markdown",
   "metadata": {},
   "source": [
    "# LeetCode #976. Largest Perimeter Triangle\n",
    "\n",
    "## Question\n",
    "https://leetcode.com/problems/largest-perimeter-triangle/\n",
    "\n",
    "    Given an array A of positive lengths, return the largest perimeter of a triangle with non-zero area, formed from 3 of these lengths.\n",
    "\n",
    "    If it is impossible to form any triangle of non-zero area, return 0.\n",
    "\n",
    "Example 1:\n",
    "\n",
    "    Input: [2,1,2]\n",
    "    Output: 5\n",
    "\n",
    "Example 2:\n",
    "\n",
    "    Input: [1,2,1]\n",
    "    Output: 0\n",
    "\n",
    "Example 3:\n",
    "\n",
    "    Input: [3,2,3,4]\n",
    "    Output: 10\n",
    "\n",
    "Example 4:\n",
    "\n",
    "    Input: [3,6,2,3]\n",
    "    Output: 8\n",
    " \n",
    "Note:\n",
    "\n",
    "    3 <= A.length <= 10000\n",
    "    1 <= A[i] <= 10^6"
   ]
  },
  {
   "cell_type": "markdown",
   "metadata": {},
   "source": [
    "## My Solution"
   ]
  },
  {
   "cell_type": "code",
   "execution_count": 1,
   "metadata": {},
   "outputs": [],
   "source": [
    "def largestPerimeter(A):\n",
    "    A = sorted(A)[::-1]\n",
    "    while len(A) > 3:\n",
    "        if A[0] >= A[1] + A[2]:\n",
    "            A.pop(0)\n",
    "        else:\n",
    "            break\n",
    "    if A[0] >= A[1] + A[2]:\n",
    "        return 0\n",
    "    return A[0] + A[1] + A[2]"
   ]
  },
  {
   "cell_type": "code",
   "execution_count": 2,
   "metadata": {},
   "outputs": [
    {
     "data": {
      "text/plain": [
       "8"
      ]
     },
     "execution_count": 2,
     "metadata": {},
     "output_type": "execute_result"
    }
   ],
   "source": [
    "# test code\n",
    "A = [3,6,2,3]\n",
    "largestPerimeter(A)"
   ]
  },
  {
   "cell_type": "markdown",
   "metadata": {},
   "source": [
    "## My Result\n",
    "\n",
    "__Runtime__ : 184 ms, faster than 63.16% of Python online submissions for Largest Perimeter Triangle.\n",
    "\n",
    "__Memory Usage__ : 12.8 MB, less than 36.92% of Python online submissions for Largest Perimeter Triangle."
   ]
  },
  {
   "cell_type": "markdown",
   "metadata": {},
   "source": [
    "## @lee215's Solution"
   ]
  },
  {
   "cell_type": "code",
   "execution_count": 3,
   "metadata": {},
   "outputs": [],
   "source": [
    "def largestPerimeter(A):\n",
    "    A = sorted(A)[::-1]   # A를 내림차순으로 정렬합니다.\n",
    "    \n",
    "    for i in range(len(A) - 2):  # A의 길이-2 만큼 for문을 돌립니다.\n",
    "        if A[i] < A[i + 1] + A[i + 2]:  # 가장 큰 변의 길이가 다른 두 변의 길이를 합친 것보다 작을 경우\n",
    "            return A[i] + A[i + 1] + A[i + 2] # 변의 길이들의 합을 반환합니다.\n",
    "    # 가장 큰 변의 길이가 다른 두 변의 길이를 합친것보다 크거나 같을 경우 0을 반환합니다.\n",
    "    return 0"
   ]
  },
  {
   "cell_type": "code",
   "execution_count": 4,
   "metadata": {},
   "outputs": [
    {
     "data": {
      "text/plain": [
       "8"
      ]
     },
     "execution_count": 4,
     "metadata": {},
     "output_type": "execute_result"
    }
   ],
   "source": [
    "# test code\n",
    "A = [3,6,2,3]\n",
    "largestPerimeter(A)"
   ]
  },
  {
   "cell_type": "markdown",
   "metadata": {},
   "source": [
    "## @lee215's Result\n",
    "\n",
    "__Runtime__ : 172 ms, faster than 78.61% of Python online submissions for Largest Perimeter Triangle.\n",
    "\n",
    "__Memory Usage__ : 12.7 MB, less than 49.74% of Python online submissions for Largest Perimeter Triangle."
   ]
  }
 ],
 "metadata": {
  "kernelspec": {
   "display_name": "Python 3",
   "language": "python",
   "name": "python3"
  },
  "language_info": {
   "codemirror_mode": {
    "name": "ipython",
    "version": 3
   },
   "file_extension": ".py",
   "mimetype": "text/x-python",
   "name": "python",
   "nbconvert_exporter": "python",
   "pygments_lexer": "ipython3",
   "version": "3.7.0"
  }
 },
 "nbformat": 4,
 "nbformat_minor": 2
}
