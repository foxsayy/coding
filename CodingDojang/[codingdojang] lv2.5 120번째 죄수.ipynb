{
 "cells": [
  {
   "cell_type": "markdown",
   "metadata": {},
   "source": [
    "#### 문제\n",
    "- 감옥에 120명의 죄수가 있음\n",
    "- 간수는 120번 동안 다음 조건에 지나간다\n",
    "- 처음에 문은 모두 닫혀 있음\n",
    "- n번째 지나갈때 n의 배수인 문들이 열려 있으면 닫고, 닫혀 있으면 연다.\n",
    "- 마지막에 문이 열려 있으면 죄수는 석방\n",
    "- 몇 명의 죄수가 석방될까?"
   ]
  },
  {
   "cell_type": "markdown",
   "metadata": {},
   "source": [
    "####  풀이"
   ]
  },
  {
   "cell_type": "markdown",
   "metadata": {},
   "source": [
    "- n번 문은 n의 약수일 때 열리고 닫히고 함\n",
    "- 약수의 갯수가 홀수이면 석방됨\n",
    "- 약수의 갯수가 홀수인 수는 제곱수 (1, 4, 9, 16 등)"
   ]
  },
  {
   "cell_type": "code",
   "execution_count": 15,
   "metadata": {},
   "outputs": [
    {
     "data": {
      "text/plain": [
       "10"
      ]
     },
     "execution_count": 15,
     "metadata": {},
     "output_type": "execute_result"
    }
   ],
   "source": [
    "import math\n",
    "\n",
    "out = 0\n",
    "for i in range(1, 121):\n",
    "    if math.sqrt(i)%1==0:\n",
    "        out += 1\n",
    "out"
   ]
  },
  {
   "cell_type": "code",
   "execution_count": null,
   "metadata": {},
   "outputs": [],
   "source": []
  }
 ],
 "metadata": {
  "kernelspec": {
   "display_name": "Python 3",
   "language": "python",
   "name": "python3"
  },
  "language_info": {
   "codemirror_mode": {
    "name": "ipython",
    "version": 3
   },
   "file_extension": ".py",
   "mimetype": "text/x-python",
   "name": "python",
   "nbconvert_exporter": "python",
   "pygments_lexer": "ipython3",
   "version": "3.7.0"
  }
 },
 "nbformat": 4,
 "nbformat_minor": 2
}
