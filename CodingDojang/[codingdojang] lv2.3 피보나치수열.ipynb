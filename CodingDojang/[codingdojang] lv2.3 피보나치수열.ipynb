{
 "cells": [
  {
   "cell_type": "markdown",
   "metadata": {},
   "source": [
    "#### 문제\n",
    "첫번째 항의 값이 0이고 두번째 항의 값이 1일때 이후의 항들은 이전의 두 항을 더한 값으로 이루어지는 수열\n",
    "\n",
    "예) 0, 1, 1, 2, 3, 5, 8, 13, 21, 34\n",
    "\n",
    "인풋을 정수 n으로 받았을때 n 이하까지의 피보나치 수열을 출력하는 프로그램 작성"
   ]
  },
  {
   "cell_type": "code",
   "execution_count": 5,
   "metadata": {},
   "outputs": [
    {
     "name": "stdout",
     "output_type": "stream",
     "text": [
      "숫자를 입력하세요 :50\n",
      "0, 1, 1, 2, 3, 5, 8, 13, 21, 34, "
     ]
    }
   ],
   "source": [
    "inputrange = int(input(\"숫자를 입력하세요 :\"))\n",
    "\n",
    "first = 0\n",
    "second = 1\n",
    "third = 0\n",
    "\n",
    "while first < inputrange:\n",
    "    print(first, end=', ')\n",
    "    third = first + second\n",
    "    first = second\n",
    "    second = third"
   ]
  }
 ],
 "metadata": {
  "kernelspec": {
   "display_name": "Python 3",
   "language": "python",
   "name": "python3"
  },
  "language_info": {
   "codemirror_mode": {
    "name": "ipython",
    "version": 3
   },
   "file_extension": ".py",
   "mimetype": "text/x-python",
   "name": "python",
   "nbconvert_exporter": "python",
   "pygments_lexer": "ipython3",
   "version": "3.7.0"
  }
 },
 "nbformat": 4,
 "nbformat_minor": 2
}
