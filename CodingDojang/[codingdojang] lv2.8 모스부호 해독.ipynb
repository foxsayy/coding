{
 "cells": [
  {
   "cell_type": "markdown",
   "metadata": {},
   "source": [
    "#### 문제\n",
    "문자열 형식으로 입력받은 모스코드 dot / dash 를 해독해 영어 문장으로 출력하는 프로그램 작성\n",
    "\n",
    "글자와 글자 사이는 공백 하나\n",
    "\n",
    "단어와 단어 사이는 공백 두 개\n",
    "\n",
    "다음 모스 부호는 he sleeps early 로 해석\n",
    "\n",
    ".... . ... .-.. . . .--. ... . .- .-. .-.. -.--"
   ]
  },
  {
   "cell_type": "code",
   "execution_count": 3,
   "metadata": {},
   "outputs": [],
   "source": [
    "morse = {\n",
    "    'A' : '.-',\n",
    "    'B' : '-...',\n",
    "    'C' : '-.-.',\n",
    "    'D' : '-..',\n",
    "    'E' : '.',\n",
    "    'F' : '..-.',\n",
    "    'G' : '--.',\n",
    "    'H' : '....',\n",
    "    'I' : '..',\n",
    "    'J' : '.---',\n",
    "    'K' : '-.-',\n",
    "    'L' : '.-..',\n",
    "    'M' : '--',\n",
    "    'N' : '-.',\n",
    "    'O' : '---',\n",
    "    'P' : '.--.',\n",
    "    'Q' : '--.-',\n",
    "    'R' : '.-.',\n",
    "    'S' : '...',\n",
    "    'T' : '-',\n",
    "    'U' : '..-',\n",
    "    'V' : '...-',\n",
    "    'W' : '.--',\n",
    "    'X' : '-..-',\n",
    "    'Y' : '-.--',\n",
    "    'Z' : '--..',\n",
    "}"
   ]
  },
  {
   "cell_type": "code",
   "execution_count": 14,
   "metadata": {},
   "outputs": [],
   "source": [
    "new_morse = {}\n",
    "for k, v in morse.items():\n",
    "    new_morse[v] = k"
   ]
  },
  {
   "cell_type": "code",
   "execution_count": 38,
   "metadata": {},
   "outputs": [],
   "source": [
    "morse = new_morse"
   ]
  },
  {
   "cell_type": "code",
   "execution_count": 39,
   "metadata": {},
   "outputs": [
    {
     "data": {
      "text/plain": [
       "{'.-': 'A',\n",
       " '-...': 'B',\n",
       " '-.-.': 'C',\n",
       " '-..': 'D',\n",
       " '.': 'E',\n",
       " '..-.': 'F',\n",
       " '--.': 'G',\n",
       " '....': 'H',\n",
       " '..': 'I',\n",
       " '.---': 'J',\n",
       " '-.-': 'K',\n",
       " '.-..': 'L',\n",
       " '--': 'M',\n",
       " '-.': 'N',\n",
       " '---': 'O',\n",
       " '.--.': 'P',\n",
       " '--.-': 'Q',\n",
       " '.-.': 'R',\n",
       " '...': 'S',\n",
       " '-': 'T',\n",
       " '..-': 'U',\n",
       " '...-': 'V',\n",
       " '.--': 'W',\n",
       " '-..-': 'X',\n",
       " '-.--': 'Y',\n",
       " '--..': 'Z'}"
      ]
     },
     "execution_count": 39,
     "metadata": {},
     "output_type": "execute_result"
    }
   ],
   "source": [
    "morse"
   ]
  },
  {
   "cell_type": "code",
   "execution_count": 56,
   "metadata": {},
   "outputs": [],
   "source": [
    "sample = \".... .  ... .-.. . . .--. ...  . .- .-. .-.. -.--\""
   ]
  },
  {
   "cell_type": "code",
   "execution_count": 57,
   "metadata": {},
   "outputs": [
    {
     "data": {
      "text/plain": [
       "['....',\n",
       " '.',\n",
       " '',\n",
       " '...',\n",
       " '.-..',\n",
       " '.',\n",
       " '.',\n",
       " '.--.',\n",
       " '...',\n",
       " '',\n",
       " '.',\n",
       " '.-',\n",
       " '.-.',\n",
       " '.-..',\n",
       " '-.--']"
      ]
     },
     "execution_count": 57,
     "metadata": {},
     "output_type": "execute_result"
    }
   ],
   "source": [
    "sample.split(\" \")"
   ]
  },
  {
   "cell_type": "code",
   "execution_count": 66,
   "metadata": {},
   "outputs": [],
   "source": [
    "def mor(sentence):\n",
    "    word = sentence.split(\" \")\n",
    "    print(\"모스부호 결과값:\", end=\"\")\n",
    "    for i in word:\n",
    "        if (''==i):\n",
    "            print(\" \", end=\"\")\n",
    "        else:\n",
    "            print(morse[i], end=\"\")"
   ]
  },
  {
   "cell_type": "code",
   "execution_count": 67,
   "metadata": {},
   "outputs": [
    {
     "name": "stdout",
     "output_type": "stream",
     "text": [
      "모스부호 결과값:HE SLEEPS EARLY"
     ]
    }
   ],
   "source": [
    "mor(sample)"
   ]
  }
 ],
 "metadata": {
  "kernelspec": {
   "display_name": "Python 3",
   "language": "python",
   "name": "python3"
  },
  "language_info": {
   "codemirror_mode": {
    "name": "ipython",
    "version": 3
   },
   "file_extension": ".py",
   "mimetype": "text/x-python",
   "name": "python",
   "nbconvert_exporter": "python",
   "pygments_lexer": "ipython3",
   "version": "3.7.0"
  }
 },
 "nbformat": 4,
 "nbformat_minor": 2
}
