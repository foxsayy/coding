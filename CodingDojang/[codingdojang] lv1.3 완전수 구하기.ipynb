{
 "cells": [
  {
   "cell_type": "markdown",
   "metadata": {},
   "source": [
    "#### 문제\n",
    "\n",
    "http://codingdojang.com/scode/539\n",
    "\n",
    "완전수란 자기 자신을 제외한 모든 양의 약수들의 합이 자기 자신이 되는 자연수\n",
    "\n",
    "- 6: 6=1+2+3 // 1,2,3은 각각 6의 약수\n",
    "- 28: 28=1+2+4+7+14 // 1,2,4,7,14는 각각 28의 약수\n",
    "\n",
    "입력으로 자연수 N을 받고, 출력으로 N 이하의 모든 완전수를 출력하는 코드를 작성하라"
   ]
  },
  {
   "cell_type": "markdown",
   "metadata": {},
   "source": [
    "#### 풀이"
   ]
  },
  {
   "cell_type": "code",
   "execution_count": 5,
   "metadata": {},
   "outputs": [
    {
     "name": "stdout",
     "output_type": "stream",
     "text": [
      "숫자를 입력하세요 :1000\n",
      "6\n",
      "28\n",
      "496\n"
     ]
    }
   ],
   "source": [
    "num = int(input(\"숫자를 입력하세요 :\"))\n",
    "result = 0\n",
    "\n",
    "for i in range(1, num + 1):\n",
    "    for j in range(1, i):\n",
    "        if i % j == 0:\n",
    "            result += j\n",
    "    if result == i:\n",
    "        print(\"%d\" % (result))\n",
    "        \n",
    "    result = 0"
   ]
  },
  {
   "cell_type": "markdown",
   "metadata": {},
   "source": [
    "#### 풀이2"
   ]
  },
  {
   "cell_type": "code",
   "execution_count": 14,
   "metadata": {},
   "outputs": [
    {
     "name": "stdout",
     "output_type": "stream",
     "text": [
      "숫자를 입력하세요 :1000\n",
      "[6, 28, 496]\n"
     ]
    }
   ],
   "source": [
    "num = int(input(\"숫자를 입력하세요 :\"))\n",
    "print([x for x in range(1, num+1) if x==sum(y for y in range(1, x) if x%y==0)])"
   ]
  }
 ],
 "metadata": {
  "kernelspec": {
   "display_name": "Python 3",
   "language": "python",
   "name": "python3"
  },
  "language_info": {
   "codemirror_mode": {
    "name": "ipython",
    "version": 3
   },
   "file_extension": ".py",
   "mimetype": "text/x-python",
   "name": "python",
   "nbconvert_exporter": "python",
   "pygments_lexer": "ipython3",
   "version": "3.7.0"
  }
 },
 "nbformat": 4,
 "nbformat_minor": 2
}
