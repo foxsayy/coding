{
 "cells": [
  {
   "cell_type": "markdown",
   "metadata": {},
   "source": [
    "# LeetCode #242. Valid Anagram\n",
    "\n",
    "## Question\n",
    "https://leetcode.com/problems/add-strings/\n",
    "\n",
    "    Given two non-negative integers num1 and num2 represented as string, return the sum of num1 and num2.\n",
    "\n",
    "    Note:\n",
    "    The length of both num1 and num2 is < 5100.\n",
    "    Both num1 and num2 contains only digits 0-9.\n",
    "    Both num1 and num2 does not contain any leading zero.\n",
    "    You must not use any built-in BigInteger library or convert the inputs to integer directly."
   ]
  },
  {
   "cell_type": "markdown",
   "metadata": {},
   "source": [
    "## My Solution"
   ]
  },
  {
   "cell_type": "code",
   "execution_count": 1,
   "metadata": {},
   "outputs": [],
   "source": [
    "def addStrings(num1, num2):\n",
    "    return str(int(num1) + int(num2))"
   ]
  },
  {
   "cell_type": "code",
   "execution_count": 2,
   "metadata": {},
   "outputs": [
    {
     "data": {
      "text/plain": [
       "'176'"
      ]
     },
     "execution_count": 2,
     "metadata": {},
     "output_type": "execute_result"
    }
   ],
   "source": [
    "# test code\n",
    "num1, num2 = '127', '49'\n",
    "addStrings(num1, num2)"
   ]
  },
  {
   "cell_type": "markdown",
   "metadata": {},
   "source": [
    "### About My Solution\n",
    "\n",
    "    input을 interger로 바로 바꾸지 말라는 요건을 충족시키지 못함."
   ]
  },
  {
   "cell_type": "markdown",
   "metadata": {},
   "source": [
    "## My Result\n",
    "\n",
    "__Runtime__ : 20 ms, faster than 99.89% of Python online submissions for Add Strings.\n",
    "\n",
    "__Memory Usage__ : 11.9 MB, less than 5.69% of Python online submissions for Add Strings."
   ]
  },
  {
   "cell_type": "markdown",
   "metadata": {},
   "source": [
    "## @dalwise's Solution"
   ]
  },
  {
   "cell_type": "code",
   "execution_count": 5,
   "metadata": {},
   "outputs": [],
   "source": [
    "import itertools\n",
    "\n",
    "def addStrings(num1, num2):\n",
    "    z = itertools.zip_longest(num1[::-1], num2[::-1], fillvalue='0')\n",
    "    res, carry, zero2 = [], 0, 2*ord('0')\n",
    "    for i in z:\n",
    "        cur_sum = ord(i[0]) + ord(i[1]) - zero2 + carry\n",
    "        res.append(str(cur_sum % 10))\n",
    "        carry = cur_sum // 10\n",
    "    return ('1' if carry else '') + ''.join(res[::-1])"
   ]
  },
  {
   "cell_type": "code",
   "execution_count": 6,
   "metadata": {},
   "outputs": [
    {
     "data": {
      "text/plain": [
       "'176'"
      ]
     },
     "execution_count": 6,
     "metadata": {},
     "output_type": "execute_result"
    }
   ],
   "source": [
    "# test code\n",
    "num1, num2 = '127', '49'\n",
    "addStrings(num1, num2)"
   ]
  },
  {
   "cell_type": "markdown",
   "metadata": {},
   "source": [
    "### About dalwise's Solution\n",
    "\n",
    "    num1 = '123', num2 = '45' 일 경우 num1[::-1], num2[::-1]은 각각 해당 문자를 역순으로 뱉어냅니다.\n",
    "    >>> num1[::-1]\n",
    "    '321'\n",
    "    >>> num2[::-1]\n",
    "    '54'\n",
    "\n",
    "    zip() 함수는 동일한 길이를 가진 자료형을 묶어줍니다.\n",
    "    길이가 다를 경우 itertools.zip_longest(*iterables, fillvalue=None) 함수를 쓸 수 있습니다.\n",
    "    fillvalue= 인자에 값을 따로 지정해 줄 수도 있습니다.\n",
    "    >>> list(itertools.zip_longest(num1[::-1], num2[::-1], fillvalue='0'))\n",
    "    [('3', '5'), ('2', '4'), ('1', '0')]\n",
    "    \n",
    "    각 숫자의 아스키 코드번호에서 0에 해당하는 아스키 코드번호를 빼준 뒤 아래와 같이 계산합니다."
   ]
  },
  {
   "cell_type": "code",
   "execution_count": 9,
   "metadata": {},
   "outputs": [],
   "source": [
    "num1, num2 = '127', '49'\n",
    "z = itertools.zip_longest(num1[::-1], num2[::-1], fillvalue='0')"
   ]
  },
  {
   "cell_type": "code",
   "execution_count": 10,
   "metadata": {},
   "outputs": [
    {
     "name": "stdout",
     "output_type": "stream",
     "text": [
      "i[0]:  7\n",
      "i[1]:  9\n",
      "ord(i[0]):  55\n",
      "ord(i[1]):  57\n",
      "zero2:  96\n",
      "carry:  0\n",
      "cur_sum:  16\n",
      "str(cur_sum % 10):  6\n",
      "res:  ['6']\n",
      "carry:  1\n",
      "16 \n",
      "\n",
      "i[0]:  2\n",
      "i[1]:  4\n",
      "ord(i[0]):  50\n",
      "ord(i[1]):  52\n",
      "zero2:  96\n",
      "carry:  1\n",
      "cur_sum:  7\n",
      "str(cur_sum % 10):  7\n",
      "res:  ['6', '7']\n",
      "carry:  0\n",
      "76 \n",
      "\n",
      "i[0]:  1\n",
      "i[1]:  0\n",
      "ord(i[0]):  49\n",
      "ord(i[1]):  48\n",
      "zero2:  96\n",
      "carry:  0\n",
      "cur_sum:  1\n",
      "str(cur_sum % 10):  1\n",
      "res:  ['6', '7', '1']\n",
      "carry:  0\n",
      "176 \n",
      "\n"
     ]
    }
   ],
   "source": [
    "res, carry, zero2 = [], 0, 2*ord('0')\n",
    "for i in z:\n",
    "    print(\"i[0]: \", i[0])\n",
    "    print(\"i[1]: \", i[1])\n",
    "    print(\"ord(i[0]): \", ord(i[0]))\n",
    "    print(\"ord(i[1]): \", ord(i[1]))\n",
    "    print(\"zero2: \", zero2)\n",
    "    print(\"carry: \", carry)\n",
    "    cur_sum = ord(i[0]) + ord(i[1]) - zero2 + carry\n",
    "    print(\"cur_sum: \", cur_sum)\n",
    "    print(\"str(cur_sum % 10): \", str(cur_sum % 10))\n",
    "    res.append(str(cur_sum % 10))\n",
    "    print(\"res: \", res)\n",
    "    carry = cur_sum // 10\n",
    "    print(\"carry: \", carry)\n",
    "    print(('1' if carry else '') + ''.join(res[::-1]), '\\n')"
   ]
  },
  {
   "cell_type": "markdown",
   "metadata": {},
   "source": [
    "## @dalwise's Result\n",
    "\n",
    "__Runtime__ : 32 ms, faster than 86.35% of Python online submissions for Add Strings.\n",
    "\n",
    "__Memory Usage__ : 12.1 MB, less than 5.69% of Python online submissions for Add Strings."
   ]
  }
 ],
 "metadata": {
  "kernelspec": {
   "display_name": "Python 3",
   "language": "python",
   "name": "python3"
  },
  "language_info": {
   "codemirror_mode": {
    "name": "ipython",
    "version": 3
   },
   "file_extension": ".py",
   "mimetype": "text/x-python",
   "name": "python",
   "nbconvert_exporter": "python",
   "pygments_lexer": "ipython3",
   "version": "3.7.0"
  }
 },
 "nbformat": 4,
 "nbformat_minor": 2
}
