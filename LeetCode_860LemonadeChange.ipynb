{
 "cells": [
  {
   "cell_type": "markdown",
   "metadata": {},
   "source": [
    "# LeetCode #860. Lemonade Change\n",
    "\n",
    "    At a lemonade stand, each lemonade costs $5.\n",
    "Customers are standing in a queue to buy from you, and order one at a time (in the order specified by bills).\n",
    "Each customer will only buy one lemonade and pay with either a $5, $10, or $20 bill.  You must provide the correct change to each customer, so that the net transaction is that the customer pays $5.\n",
    "    Note that you don't have any change in hand at first.\n",
    "    Return true if and only if you can provide every customer with correct change.\n",
    "\n",
    "    Example 1:\n",
    "    Input: [5,5,5,10,20]\n",
    "    Output: true\n",
    "\n",
    "    Explanation: \n",
    "    From the first 3 customers, we collect three $5 bills in order.\n",
    "From the fourth customer, we collect a $10 bill and give back a $5.\n",
    "From the fifth customer, we give a $10 bill and a $5 bill.\n",
    "    Since all customers got correct change, we output true.\n",
    "    \n",
    "    Example 2:\n",
    "    Input: [5,5,10]\n",
    "    Output: true\n",
    "\n",
    "    Example 3:\n",
    "    Input: [10,10]\n",
    "    Output: false\n",
    "\n",
    "    Example 4:\n",
    "    Input: [5,5,10,10,20]\n",
    "    Output: false\n",
    "    \n",
    "    Explanation: \n",
    "    From the first two customers in order, we collect two $5 bills.\n",
    "For the next two customers in order, we collect a $10 bill and give back a $5 bill.\n",
    "For the last customer, we can't give change of $15 back because we only have two $10 bills.\n",
    "    Since not every customer received correct change, the answer is false."
   ]
  },
  {
   "cell_type": "markdown",
   "metadata": {},
   "source": [
    "## My Solution"
   ]
  },
  {
   "cell_type": "code",
   "execution_count": 1,
   "metadata": {},
   "outputs": [],
   "source": [
    "def lemonadeChange(b1):\n",
    "    \n",
    "    ### 가진 5달러, 10달러, 20달러의 수를 저장합니다.\n",
    "    cash = {\n",
    "        5 : 0,\n",
    "        10 : 0,\n",
    "        20 : 0,\n",
    "    }\n",
    "\n",
    "    ### 총 손님의 수만큼 for문이 돕니다.\n",
    "    for i in range(len(b1)):\n",
    "        \n",
    "        ### 10달러를 받을 경우 10달러 +1, 거스름돈 5달러 -1\n",
    "        if b1[i] == 10:\n",
    "            cash[10] += 1\n",
    "            cash[5] -= 1\n",
    "            \n",
    "        ### 가진 5달러가 -1이 되면 False를 반환합니다\n",
    "        if cash[5] == -1:\n",
    "            return False\n",
    "        \n",
    "        ### 20달러를 받을 경우 경우의 수에 따라 대응합니다. \n",
    "        if b1[i] == 20:\n",
    "            \n",
    "            ### 10달러와 5달러가 둘 다 있을 경우 거스름돈으로 10달러 -1, 5달러 -1\n",
    "            if cash[10] > 0 and cash[5] > 0:\n",
    "                cash[10] -= 1\n",
    "                cash[5] -=1\n",
    "                \n",
    "            ### 그게 아니고 5달러가 2장 초과해 있을 경우 거스름돈으로 5달러 -3\n",
    "            elif cash[5] > 2:\n",
    "                cash[5] -= 3\n",
    "                \n",
    "            ### 위 두가지 경우 모두 아닐 경우 거스름돈을 줄 수 없으므로 False를 반환합니다.\n",
    "            else:\n",
    "                return False\n",
    "        \n",
    "        ### 거스름돈을 주고 나서 5달러나 10달러짜리가 -1이 될 경우 False를 반환합니다.\n",
    "        if cash[5] == -1 or cash[10] == -1:\n",
    "            return False   \n",
    "        \n",
    "        ### 5달러짜리를 받은 경우 그냥 5달러 +1\n",
    "        if b1[i] == 5:\n",
    "            cash[5] += 1\n",
    "    \n",
    "    ### 위에서 False를 반환하지 않았다면 True를 반환합니다.\n",
    "    return True"
   ]
  },
  {
   "cell_type": "code",
   "execution_count": 2,
   "metadata": {},
   "outputs": [
    {
     "data": {
      "text/plain": [
       "False"
      ]
     },
     "execution_count": 2,
     "metadata": {},
     "output_type": "execute_result"
    }
   ],
   "source": [
    "# test code\n",
    "b1 = [5,5,10,10,20]\n",
    "lemonadeChange(b1)"
   ]
  },
  {
   "cell_type": "markdown",
   "metadata": {},
   "source": [
    "### About My Solution\n",
    "\n",
    "    5달러, 10달러, 20달러별로 몇 장 있는지 저장하는 딕셔너리를 만듭니다.\n",
    "    경우의 수에 따라 True와 False를 반환합니다. (위 코드에 표기)\n",
    "    경우의 수를 더 단순화하지 못한 점이 아쉽습니다."
   ]
  },
  {
   "cell_type": "markdown",
   "metadata": {},
   "source": [
    "## My Result\n",
    "\n",
    "__Runtime__ : 64 ms, faster than 29.79% of Python3 online submissions for Lemonade Change.\n",
    "\n",
    "__Memory Usage__ : 13.4 MB, less than 36.62% of Python3 online submissions for Lemonade Change."
   ]
  },
  {
   "cell_type": "markdown",
   "metadata": {},
   "source": [
    "## @lee215's Solution"
   ]
  },
  {
   "cell_type": "code",
   "execution_count": 3,
   "metadata": {},
   "outputs": [],
   "source": [
    "def lemonadeChange(bills):\n",
    "    five = ten = 0\n",
    "    for i in bills:\n",
    "        if i == 5: \n",
    "            five += 1\n",
    "        elif i == 10: \n",
    "            five, ten = five - 1, ten + 1\n",
    "        elif ten > 0: \n",
    "            five, ten = five - 1, ten - 1\n",
    "        else: five -= 3\n",
    "        if five < 0: \n",
    "            return False\n",
    "    return True"
   ]
  },
  {
   "cell_type": "code",
   "execution_count": 6,
   "metadata": {},
   "outputs": [
    {
     "data": {
      "text/plain": [
       "True"
      ]
     },
     "execution_count": 6,
     "metadata": {},
     "output_type": "execute_result"
    }
   ],
   "source": [
    "# test code\n",
    "bills = [5,5,10]\n",
    "lemonadeChange(bills)"
   ]
  },
  {
   "cell_type": "markdown",
   "metadata": {},
   "source": [
    "### About lee215's Solution\n",
    "    \n",
    "    My Solution에서 5, 10, 15를 딕셔너리로 지정한 것과 달리, 그냥 숫자로 저장했다.\n",
    "    for문이 리스트를 돌면서,\n",
    "    => 5달러일 경우 five +1\n",
    "    => 10러일 경우 five -1, ten +1\n",
    "    => 그 외의 경우(15달러)면서 ten이 0보다 클 경우 ten -1, five -1\n",
    "    => 그 외의 경우 five -3\n",
    "    five가 0보다 작아지면 False를, 그 외의 경우 True를 반환합니다."
   ]
  },
  {
   "cell_type": "markdown",
   "metadata": {},
   "source": [
    "## @lee215's Result\n",
    "\n",
    "__Runtime__ : 48 ms, faster than 91.59% of Python3 online submissions for Lemonade Change.\n",
    "\n",
    "__Memory Usage__ : 13.4 MB, less than 42.94% of Python3 online submissions for Lemonade Change."
   ]
  }
 ],
 "metadata": {
  "kernelspec": {
   "display_name": "Python 3",
   "language": "python",
   "name": "python3"
  },
  "language_info": {
   "codemirror_mode": {
    "name": "ipython",
    "version": 3
   },
   "file_extension": ".py",
   "mimetype": "text/x-python",
   "name": "python",
   "nbconvert_exporter": "python",
   "pygments_lexer": "ipython3",
   "version": "3.7.0"
  }
 },
 "nbformat": 4,
 "nbformat_minor": 2
}
