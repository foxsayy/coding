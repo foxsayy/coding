{
 "cells": [
  {
   "cell_type": "markdown",
   "metadata": {},
   "source": [
    "# LeetCode #922. Sort Array By Parity II\n",
    "\n",
    "## Question\n",
    "https://leetcode.com/problems/sort-array-by-parity-ii/\n",
    "\n",
    "    Given an array A of non-negative integers, half of the integers in A are odd, and half of the integers are even.\n",
    "\n",
    "    Sort the array so that whenever A[i] is odd, i is odd; and whenever A[i] is even, i is even.\n",
    "\n",
    "    You may return any answer array that satisfies this condition.\n",
    "\n",
    "Example 1:\n",
    "\n",
    "    Input: [4,2,5,7]\n",
    "    Output: [4,5,2,7]\n",
    "    Explanation: [4,7,2,5], [2,5,4,7], [2,7,4,5] would also have been accepted.\n",
    " \n",
    "Note:\n",
    "\n",
    "    2 <= A.length <= 20000\n",
    "    A.length % 2 == 0\n",
    "    0 <= A[i] <= 1000"
   ]
  },
  {
   "cell_type": "markdown",
   "metadata": {},
   "source": [
    "## My Solution"
   ]
  },
  {
   "cell_type": "code",
   "execution_count": 48,
   "metadata": {},
   "outputs": [],
   "source": [
    "def sortArrayByParityII(A):\n",
    "    even, odd = [], []\n",
    "    for a in A:\n",
    "        if a % 2 == 0:\n",
    "            even.append(a)\n",
    "        else:\n",
    "            odd.append(a)\n",
    "    even, odd\n",
    "    res = []\n",
    "    for i in range(len(even)):\n",
    "        res.append(even[i])\n",
    "        res.append(odd[i])\n",
    "    return res"
   ]
  },
  {
   "cell_type": "code",
   "execution_count": 49,
   "metadata": {},
   "outputs": [
    {
     "data": {
      "text/plain": [
       "[4, 5, 2, 7]"
      ]
     },
     "execution_count": 49,
     "metadata": {},
     "output_type": "execute_result"
    }
   ],
   "source": [
    "# test code (Output: [4,5,2,7], [4,7,2,5], [2,5,4,7], [2,7,4,5])\n",
    "A = [4,2,5,7]\n",
    "sortArrayByParityII(A)"
   ]
  },
  {
   "cell_type": "markdown",
   "metadata": {},
   "source": [
    "짝수를 모으는 리스트 even과 홀수를 모으는 리스트 odd를 만듭니다.\n",
    "\n",
    "even과 odd에서 각각 하나씩 차례로 뽑아 리스트를 만듭니다."
   ]
  },
  {
   "cell_type": "markdown",
   "metadata": {},
   "source": [
    "## My Result\n",
    "\n",
    "__Runtime__ : 196 ms, faster than 60.75% of Python online submissions for Sort Array By Parity II.\n",
    "\n",
    "__Memory Usage__ : 14.1 MB, less than 18.64% of Python online submissions for Sort Array By Parity II."
   ]
  },
  {
   "cell_type": "markdown",
   "metadata": {},
   "source": [
    "## @Peregrin's Solution"
   ]
  },
  {
   "cell_type": "code",
   "execution_count": 51,
   "metadata": {},
   "outputs": [],
   "source": [
    "def sortArrayByParityII(a):\n",
    "    i = 0 # pointer for even misplaced 짝수 포인터\n",
    "    j = 1 # pointer for odd misplaced  홀수 포인터\n",
    "    sz = len(a)\n",
    "\n",
    "    # invariant: for every misplaced odd there is misplaced even\n",
    "    # since there is just enough space for odds and evens\n",
    "\n",
    "    while i < sz and j < sz:  # i와 j가 전체 길이보다 작을때\n",
    "        if a[i] % 2 == 0:     # a[i]가 짝수가 맞으면 i += 2\n",
    "            i += 2\n",
    "        elif a[j] % 2 == 1:   # a[j]가 홀수가 맞으면 j += 2\n",
    "            j += 2\n",
    "        else:                 # ㅇ\n",
    "            # a[i] % 2 == 1 AND a[j] % 2 == 0\n",
    "            a[i],a[j] = a[j],a[i]\n",
    "            i += 2\n",
    "            j += 2\n",
    "\n",
    "    return a"
   ]
  },
  {
   "cell_type": "code",
   "execution_count": 52,
   "metadata": {},
   "outputs": [
    {
     "data": {
      "text/plain": [
       "[4, 5, 2, 7]"
      ]
     },
     "execution_count": 52,
     "metadata": {},
     "output_type": "execute_result"
    }
   ],
   "source": [
    "# test code (Output: [4,5,2,7], [4,7,2,5], [2,5,4,7], [2,7,4,5])\n",
    "A = [4,2,5,7]\n",
    "sortArrayByParityII(A)"
   ]
  },
  {
   "cell_type": "code",
   "execution_count": null,
   "metadata": {},
   "outputs": [],
   "source": [
    "## \n",
    "\n",
    "Runtime: 184 ms, faster than 78.66% of Python online submissions for Sort Array By Parity II.\n",
    "Memory Usage: 13.9 MB, less than 45.68% of Python online submissions for Sort Array By Parity II."
   ]
  }
 ],
 "metadata": {
  "kernelspec": {
   "display_name": "Python 3",
   "language": "python",
   "name": "python3"
  },
  "language_info": {
   "codemirror_mode": {
    "name": "ipython",
    "version": 3
   },
   "file_extension": ".py",
   "mimetype": "text/x-python",
   "name": "python",
   "nbconvert_exporter": "python",
   "pygments_lexer": "ipython3",
   "version": "3.7.0"
  }
 },
 "nbformat": 4,
 "nbformat_minor": 2
}
