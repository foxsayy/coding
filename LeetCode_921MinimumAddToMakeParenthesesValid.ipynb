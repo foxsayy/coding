{
 "cells": [
  {
   "cell_type": "markdown",
   "metadata": {},
   "source": [
    "# LeetCode #763. Partition Labels\n",
    "\n",
    "## Question\n",
    "https://leetcode.com/problems/minimum-add-to-make-parentheses-valid/\n",
    "\n",
    "    Given a string S of '(' and ')' parentheses, we add the minimum number of parentheses ( '(' or ')', and in any positions ) so that the resulting parentheses string is valid.\n",
    "\n",
    "    Formally, a parentheses string is valid if and only if:\n",
    "\n",
    "    It is the empty string, or\n",
    "    It can be written as AB (A concatenated with B), where A and B are valid strings, or\n",
    "    It can be written as (A), where A is a valid string.\n",
    "    Given a parentheses string, return the minimum number of parentheses we must add to make the resulting string valid.\n",
    "\n",
    "Example 1:\n",
    "\n",
    "    Input: \"())\"\n",
    "    Output: 1\n",
    "    \n",
    "Example 2:\n",
    "\n",
    "    Input: \"(((\"\n",
    "    Output: 3\n",
    "    \n",
    "Example 3:\n",
    "\n",
    "    Input: \"()\"\n",
    "    Output: 0\n",
    "    \n",
    "Example 4:\n",
    "\n",
    "    Input: \"()))((\"\n",
    "    Output: 4\n",
    "\n",
    "Note:\n",
    "\n",
    "    S.length <= 1000\n",
    "    S only consists of '(' and ')' characters."
   ]
  },
  {
   "cell_type": "markdown",
   "metadata": {},
   "source": [
    "## My Solution"
   ]
  },
  {
   "cell_type": "code",
   "execution_count": 12,
   "metadata": {},
   "outputs": [],
   "source": [
    "def minAddToMakeValid(S):\n",
    "    for i in range(len(S)//2):\n",
    "        S = S.replace(\"()\", \"\")\n",
    "    return len(S)"
   ]
  },
  {
   "cell_type": "code",
   "execution_count": 16,
   "metadata": {},
   "outputs": [
    {
     "data": {
      "text/plain": [
       "3"
      ]
     },
     "execution_count": 16,
     "metadata": {},
     "output_type": "execute_result"
    }
   ],
   "source": [
    "# test code (Output: 3)\n",
    "S = \"(()))((\"\n",
    "minAddToMakeValid(S)"
   ]
  },
  {
   "cell_type": "markdown",
   "metadata": {},
   "source": [
    "## My Result\n",
    "\n",
    "__Runtime__ : 16 ms, faster than 96.24% of Python online submissions for Minimum Add to Make Parentheses Valid.\n",
    "\n",
    "__Memory Usage__ : 11.7 MB, less than 57.33% of Python online submissions for Minimum Add to Make Parentheses Valid."
   ]
  },
  {
   "cell_type": "markdown",
   "metadata": {},
   "source": [
    "## @abcd28s's Solution"
   ]
  },
  {
   "cell_type": "code",
   "execution_count": 19,
   "metadata": {},
   "outputs": [],
   "source": [
    "def minAddToMakeValid(S):\n",
    "    while \"()\" in S:\n",
    "        S = S.replace(\"()\", \"\")        \n",
    "    return len(S)"
   ]
  },
  {
   "cell_type": "code",
   "execution_count": 20,
   "metadata": {},
   "outputs": [
    {
     "data": {
      "text/plain": [
       "3"
      ]
     },
     "execution_count": 20,
     "metadata": {},
     "output_type": "execute_result"
    }
   ],
   "source": [
    "# test code (Output: 3)\n",
    "S = \"(()))((\"\n",
    "minAddToMakeValid(S)"
   ]
  },
  {
   "cell_type": "markdown",
   "metadata": {},
   "source": [
    "## @abcd28s' Result\n",
    "\n",
    "__Runtime__ : 12 ms, faster than 99.04% of Python online submissions for Minimum Add to Make Parentheses Valid.\n",
    "\n",
    "__Memory Usage__ : 11.7 MB, less than 80.46% of Python online submissions for Minimum Add to Make Parentheses Valid."
   ]
  }
 ],
 "metadata": {
  "kernelspec": {
   "display_name": "Python 3",
   "language": "python",
   "name": "python3"
  },
  "language_info": {
   "codemirror_mode": {
    "name": "ipython",
    "version": 3
   },
   "file_extension": ".py",
   "mimetype": "text/x-python",
   "name": "python",
   "nbconvert_exporter": "python",
   "pygments_lexer": "ipython3",
   "version": "3.7.0"
  }
 },
 "nbformat": 4,
 "nbformat_minor": 2
}
