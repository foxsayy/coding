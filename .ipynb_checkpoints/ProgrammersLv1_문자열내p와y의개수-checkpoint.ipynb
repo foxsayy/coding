{
 "cells": [
  {
   "cell_type": "markdown",
   "metadata": {},
   "source": [
    "# Programmers Lv1. 문자열 내 p와 y의 개수\n",
    "\n",
    "## Question\n",
    "https://programmers.co.kr/learn/courses/30/lessons/12916\n",
    "\n",
    "    대문자와 소문자가 섞여있는 문자열 s가 주어집니다. s에 'p'의 개수와 'y'의 개수를 비교해 같으면 True, 다르면 False를 return 하는 solution를 완성하세요. 'p', 'y' 모두 하나도 없는 경우는 항상 True를 리턴합니다. 단, 개수를 비교할 때 대문자와 소문자는 구별하지 않습니다.\n",
    "\n",
    "    예를들어 s가 pPoooyY면 true를 return하고 Pyy라면 false를 return합니다.\n",
    "\n",
    "제한사항\n",
    "\n",
    "    문자열 s의 길이 : 50 이하의 자연수\n",
    "    문자열 s는 알파벳으로만 이루어져 있습니다.\n",
    "\n",
    "입출력 예\n",
    "\n",
    "    s         answer\n",
    "    pPoooyY   true\n",
    "    Pyy       false\n",
    "\n",
    "입출력 예 설명\n",
    "\n",
    "    입출력 예 #1\n",
    "    'p'의 개수 2개, 'y'의 개수 2개로 같으므로 true를 return 합니다.\n",
    "\n",
    "    입출력 예 #2\n",
    "    'p'의 개수 1개, 'y'의 개수 2개로 다르므로 false를 return 합니다.\n",
    "    \n",
    "## My Solution"
   ]
  },
  {
   "cell_type": "code",
   "execution_count": 5,
   "metadata": {},
   "outputs": [],
   "source": [
    "def solution(st):\n",
    "    a = 0\n",
    "    for s in st:\n",
    "        if s == 'p' or s == 'P':\n",
    "            a += 1\n",
    "        if s == 'y' or s == 'Y':\n",
    "            a -= 1\n",
    "    return not(bool(a))"
   ]
  },
  {
   "cell_type": "code",
   "execution_count": 7,
   "metadata": {},
   "outputs": [
    {
     "data": {
      "text/plain": [
       "False"
      ]
     },
     "execution_count": 7,
     "metadata": {},
     "output_type": "execute_result"
    }
   ],
   "source": [
    "# test code\n",
    "st = 'Pyy'\n",
    "solution(st)"
   ]
  },
  {
   "cell_type": "markdown",
   "metadata": {},
   "source": [
    "## My Result\n",
    "\n",
    "    정확성: 100.0\n",
    "    합계: 100.0 / 100.0\n",
    "    \n",
    "## Most Liked Solution"
   ]
  },
  {
   "cell_type": "code",
   "execution_count": 8,
   "metadata": {},
   "outputs": [],
   "source": [
    "def numPY(s):\n",
    "    return s.lower().count('p') == s.lower().count('y')"
   ]
  },
  {
   "cell_type": "code",
   "execution_count": 9,
   "metadata": {},
   "outputs": [
    {
     "data": {
      "text/plain": [
       "False"
      ]
     },
     "execution_count": 9,
     "metadata": {},
     "output_type": "execute_result"
    }
   ],
   "source": [
    "# test code\n",
    "st = 'Pyy'\n",
    "numPY(st)"
   ]
  }
 ],
 "metadata": {
  "kernelspec": {
   "display_name": "Python 3",
   "language": "python",
   "name": "python3"
  },
  "language_info": {
   "codemirror_mode": {
    "name": "ipython",
    "version": 3
   },
   "file_extension": ".py",
   "mimetype": "text/x-python",
   "name": "python",
   "nbconvert_exporter": "python",
   "pygments_lexer": "ipython3",
   "version": "3.7.0"
  }
 },
 "nbformat": 4,
 "nbformat_minor": 2
}
