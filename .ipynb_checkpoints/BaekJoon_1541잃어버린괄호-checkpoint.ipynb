{
 "cells": [
  {
   "cell_type": "markdown",
   "metadata": {},
   "source": [
    "# BaekJoon #1541. 잃어버린 괄호\n",
    "\n",
    "## Question\n",
    "https://www.acmicpc.net/problem/1541\n",
    "\n",
    "    세준이는 양수와 +, -, 그리고 괄호를 가지고 길이가 최대 50인 식을 만들었다. \n",
    "    그리고 나서 세준이는 괄호를 모두 지웠다.\n",
    "    그리고 나서 세준이는 괄호를 적절히 쳐서 이 식의 값을 최소로 만들려고 한다.\n",
    "    괄호를 적절히 쳐서 이 식의 값을 최소로 만드는 프로그램을 작성하시오.\n",
    "\n",
    "입력\n",
    "\n",
    "    첫째 줄에 식이 주어진다. 식은 ‘0’~‘9’, ‘+’, 그리고 ‘-’만으로 이루어져 있고, 가장 처음과 마지막 문자는 숫자이다. \n",
    "    그리고 연속해서 두 개 이상의 연산자가 나타나지 않고, 5자리보다 많이 연속되는 숫자는 없다. \n",
    "    수는 0으로 시작할 수 있다.\n",
    "\n",
    "출력\n",
    "    \n",
    "    첫째 줄에 정답을 출력한다.\n",
    "\n",
    "예제 입력 1 \n",
    "\n",
    "    55-50+40\n",
    "\n",
    "예제 출력 1 \n",
    "\n",
    "    -35"
   ]
  },
  {
   "cell_type": "markdown",
   "metadata": {},
   "source": [
    "## My Solution"
   ]
  },
  {
   "cell_type": "code",
   "execution_count": 185,
   "metadata": {},
   "outputs": [
    {
     "name": "stdout",
     "output_type": "stream",
     "text": [
      "55-50+40\n",
      "-35\n"
     ]
    }
   ],
   "source": [
    "def sol(n):\n",
    "    sign = []\n",
    "    for s in n:\n",
    "        if s == '+':\n",
    "            sign.append(s)\n",
    "        if s == '-':\n",
    "            sign.append(s)\n",
    "            break\n",
    "\n",
    "    if '-' in sign:\n",
    "        index = len(sign)\n",
    "    else:\n",
    "        index = len(sign) + 1\n",
    "    \n",
    "    n = n.split('-')\n",
    "    n = \" \".join(n)\n",
    "    n = n.split('+')\n",
    "    n = \" \".join(n)\n",
    "    n = n.split(' ')\n",
    "    n = [int(i) for i in n]\n",
    "    pos = sum(n[:index])\n",
    "    neg = sum(n[index:]) * -1\n",
    "    return pos + neg\n",
    " \n",
    "def main():\n",
    "    n = input()\n",
    "    print(sol(n))\n",
    "\n",
    "if __name__ == '__main__':\n",
    "    main()"
   ]
  },
  {
   "cell_type": "markdown",
   "metadata": {},
   "source": [
    "## My Result\n",
    "\n",
    "    결과        메모리     시간     코드 길이\n",
    "    맞았습니다   29056KB   56ms    541B"
   ]
  }
 ],
 "metadata": {
  "kernelspec": {
   "display_name": "Python 3",
   "language": "python",
   "name": "python3"
  },
  "language_info": {
   "codemirror_mode": {
    "name": "ipython",
    "version": 3
   },
   "file_extension": ".py",
   "mimetype": "text/x-python",
   "name": "python",
   "nbconvert_exporter": "python",
   "pygments_lexer": "ipython3",
   "version": "3.7.0"
  }
 },
 "nbformat": 4,
 "nbformat_minor": 2
}
