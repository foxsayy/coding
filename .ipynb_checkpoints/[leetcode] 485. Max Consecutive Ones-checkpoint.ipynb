{
 "cells": [
  {
   "cell_type": "markdown",
   "metadata": {},
   "source": [
    "    Given a binary array, find the maximum number of consecutive 1s in this array.\n",
    "\n",
    "    Example 1:\n",
    "    Input: [1,1,0,1,1,1]\n",
    "    Output: 3\n",
    "    \n",
    "    Explanation: The first two digits or the last three digits are consecutive 1s.\n",
    "        The maximum number of consecutive 1s is 3.\n",
    "        \n",
    "    Note:\n",
    "    The input array will only contain 0 and 1.\n",
    "    The length of input array is a positive integer and will not exceed 10,000"
   ]
  },
  {
   "cell_type": "code",
   "execution_count": 19,
   "metadata": {},
   "outputs": [],
   "source": [
    "nums = [1, 0]"
   ]
  },
  {
   "cell_type": "code",
   "execution_count": 23,
   "metadata": {},
   "outputs": [
    {
     "data": {
      "text/plain": [
       "1"
      ]
     },
     "execution_count": 23,
     "metadata": {},
     "output_type": "execute_result"
    }
   ],
   "source": [
    "nums.count(1)"
   ]
  },
  {
   "cell_type": "markdown",
   "metadata": {},
   "source": [
    "#### 느린 풀이"
   ]
  },
  {
   "cell_type": "code",
   "execution_count": 60,
   "metadata": {},
   "outputs": [],
   "source": [
    "def findMaxConsecutiveOnes(nums):\n",
    "    if len(nums) <= 2:\n",
    "        return nums.count(1)\n",
    "    else:\n",
    "        res = 0\n",
    "        temp = 1\n",
    "        for i in range(0, len(nums) - 1):\n",
    "            if nums[i] == nums[i+1] and nums[i] == 1:\n",
    "                temp += 1\n",
    "            res = max(res, temp)\n",
    "            if nums[i] != nums[i+1]:\n",
    "                temp = 1\n",
    "            print(\"res : \", res, \"temp : \", temp)\n",
    "\n",
    "        return res"
   ]
  },
  {
   "cell_type": "code",
   "execution_count": 61,
   "metadata": {},
   "outputs": [
    {
     "name": "stdout",
     "output_type": "stream",
     "text": [
      "res :  2 temp :  2\n",
      "res :  3 temp :  3\n",
      "res :  3 temp :  1\n",
      "res :  3 temp :  1\n",
      "res :  3 temp :  1\n",
      "res :  3 temp :  1\n",
      "res :  3 temp :  2\n",
      "res :  3 temp :  3\n",
      "res :  4 temp :  4\n",
      "res :  5 temp :  5\n",
      "res :  6 temp :  6\n"
     ]
    },
    {
     "data": {
      "text/plain": [
       "6"
      ]
     },
     "execution_count": 61,
     "metadata": {},
     "output_type": "execute_result"
    }
   ],
   "source": [
    "nums = [1,1, 1, 0,0, 0, 1, 1, 1 ,1, 1, 1]\n",
    "findMaxConsecutiveOnes(nums)"
   ]
  },
  {
   "cell_type": "code",
   "execution_count": 89,
   "metadata": {},
   "outputs": [],
   "source": [
    "nums = [1,1,0, 0, 1, 0, 1, 1, 1, 1 ,1, 1, 1]"
   ]
  },
  {
   "cell_type": "code",
   "execution_count": 85,
   "metadata": {},
   "outputs": [
    {
     "data": {
      "text/plain": [
       "'1100101111111'"
      ]
     },
     "execution_count": 85,
     "metadata": {},
     "output_type": "execute_result"
    }
   ],
   "source": [
    "nums2 = \"\".join(map(str,nums))\n",
    "nums2"
   ]
  },
  {
   "cell_type": "code",
   "execution_count": 86,
   "metadata": {},
   "outputs": [
    {
     "data": {
      "text/plain": [
       "['11', '', '1', '1111111']"
      ]
     },
     "execution_count": 86,
     "metadata": {},
     "output_type": "execute_result"
    }
   ],
   "source": [
    "nums3 = nums2.split('0')\n",
    "nums3"
   ]
  },
  {
   "cell_type": "code",
   "execution_count": 87,
   "metadata": {},
   "outputs": [
    {
     "data": {
      "text/plain": [
       "4"
      ]
     },
     "execution_count": 87,
     "metadata": {},
     "output_type": "execute_result"
    }
   ],
   "source": [
    "len(nums3)"
   ]
  },
  {
   "cell_type": "markdown",
   "metadata": {},
   "source": [
    "#### 그나마 나은 풀이"
   ]
  },
  {
   "cell_type": "code",
   "execution_count": null,
   "metadata": {},
   "outputs": [],
   "source": [
    "def findMaxConsecutiveOnes(nums):\n",
    "    nums = \"\".join(map(str,nums))\n",
    "    nums = nums.split('0')\n",
    "    res = 0\n",
    "    for i in range(len(nums)):\n",
    "        res = max(len(nums[i]), res)\n",
    "    return res"
   ]
  },
  {
   "cell_type": "markdown",
   "metadata": {},
   "source": [
    "#### 다른 풀이(runtime은 높아졌지만 memory 는 낮아짐)"
   ]
  },
  {
   "cell_type": "code",
   "execution_count": 88,
   "metadata": {},
   "outputs": [],
   "source": [
    "def findMaxConsecutiveOnes(nums):\n",
    "    cnt = 0\n",
    "    ans = 0\n",
    "    for num in nums:\n",
    "        if num == 1:\n",
    "            cnt += 1\n",
    "            ans = max(ans, cnt)\n",
    "        else:\n",
    "            cnt = 0\n",
    "    return ans"
   ]
  },
  {
   "cell_type": "code",
   "execution_count": 90,
   "metadata": {},
   "outputs": [
    {
     "data": {
      "text/plain": [
       "7"
      ]
     },
     "execution_count": 90,
     "metadata": {},
     "output_type": "execute_result"
    }
   ],
   "source": [
    "findMaxConsecutiveOnes(nums)"
   ]
  }
 ],
 "metadata": {
  "kernelspec": {
   "display_name": "Python 3",
   "language": "python",
   "name": "python3"
  },
  "language_info": {
   "codemirror_mode": {
    "name": "ipython",
    "version": 3
   },
   "file_extension": ".py",
   "mimetype": "text/x-python",
   "name": "python",
   "nbconvert_exporter": "python",
   "pygments_lexer": "ipython3",
   "version": "3.7.0"
  }
 },
 "nbformat": 4,
 "nbformat_minor": 2
}
