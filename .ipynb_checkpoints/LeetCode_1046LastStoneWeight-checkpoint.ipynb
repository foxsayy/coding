{
 "cells": [
  {
   "cell_type": "markdown",
   "metadata": {},
   "source": [
    "# LeetCode #1046. Last Stone Weight\n",
    "\n",
    "## Question\n",
    "https://leetcode.com/problems/last-stone-weight/\n",
    "\n",
    "    We have a collection of rocks, each rock has a positive integer weight.\n",
    "\n",
    "    Each turn, we choose the two heaviest rocks and smash them together.  Suppose the stones have weights x and y with x <= y.  The result of this smash is:\n",
    "\n",
    "    If x == y, both stones are totally destroyed;\n",
    "    If x != y, the stone of weight x is totally destroyed, and the stone of weight y has new weight y-x.\n",
    "    At the end, there is at most 1 stone left.  Return the weight of this stone (or 0 if there are no stones left.)\n",
    "\n",
    "    Example 1:\n",
    "    Input: [2,7,4,1,8,1]\n",
    "    Output: 1\n",
    "    Explanation: \n",
    "    We combine 7 and 8 to get 1 so the array converts to [2,4,1,1,1] then,\n",
    "    we combine 2 and 4 to get 2 so the array converts to [2,1,1,1] then,\n",
    "    we combine 2 and 1 to get 1 so the array converts to [1,1,1] then,\n",
    "    we combine 1 and 1 to get 0 so the array converts to [1] then that's the value of last stone."
   ]
  },
  {
   "cell_type": "markdown",
   "metadata": {},
   "source": [
    "## My Solution"
   ]
  },
  {
   "cell_type": "code",
   "execution_count": 56,
   "metadata": {},
   "outputs": [],
   "source": [
    "def lastStoneWeight(stones):\n",
    "\n",
    "    while len(stones) >= 2:\n",
    "        stones.sort(reverse=True)\n",
    "        if stones[0] != stones[1]:\n",
    "            add = stones[0] - stones[1]\n",
    "            stones.append(add)\n",
    "        stones.pop(0)\n",
    "        stones.pop(0)\n",
    "    if len(stones) == 0:\n",
    "        return 0\n",
    "    elif len(stones) == 1:\n",
    "        return stones[0]"
   ]
  },
  {
   "cell_type": "code",
   "execution_count": 59,
   "metadata": {},
   "outputs": [
    {
     "data": {
      "text/plain": [
       "1"
      ]
     },
     "execution_count": 59,
     "metadata": {},
     "output_type": "execute_result"
    }
   ],
   "source": [
    "# test code (output = 1)\n",
    "stones = [2,7,4,1,8,1]\n",
    "lastStoneWeight(stones)"
   ]
  },
  {
   "cell_type": "markdown",
   "metadata": {},
   "source": [
    "    1) 리스트를 내림차순으로 정렬합니다.\n",
    "    2) 리스트의 0번째와 1번째 수를 비교한 값이 같으면 숫자의 차를 리스트에 추가합니다.\n",
    "    3) 0번째 수와 1번째 수를 pop으로 제거합니다.\n",
    "    4) 리스트 수가 1개 혹은 0개가 될때까지 위 과정을 반복합니다."
   ]
  },
  {
   "cell_type": "markdown",
   "metadata": {},
   "source": [
    "## My Result \n",
    "\n",
    "__Runtime__ : 12 ms, faster than 96.88% of Python online submissions for Last Stone Weight.\n",
    "\n",
    "__Memory Usage__ : 11.8 MB, less than 100.00% of Python online submissions for Last Stone Weight."
   ]
  }
 ],
 "metadata": {
  "kernelspec": {
   "display_name": "Python 3",
   "language": "python",
   "name": "python3"
  },
  "language_info": {
   "codemirror_mode": {
    "name": "ipython",
    "version": 3
   },
   "file_extension": ".py",
   "mimetype": "text/x-python",
   "name": "python",
   "nbconvert_exporter": "python",
   "pygments_lexer": "ipython3",
   "version": "3.7.0"
  }
 },
 "nbformat": 4,
 "nbformat_minor": 2
}
