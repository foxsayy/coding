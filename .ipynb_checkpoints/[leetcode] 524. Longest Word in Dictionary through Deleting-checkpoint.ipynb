{
 "cells": [
  {
   "cell_type": "markdown",
   "metadata": {},
   "source": [
    "    Given a string and a string dictionary, find the longest string in the dictionary that can be formed by deleting some characters of the given string. If there are more than one possible results, return the longest word with the smallest lexicographical order. If there is no possible result, return the empty string.\n",
    "\n",
    "    Example 1:\n",
    "    Input:\n",
    "    s = \"abpcplea\", d = [\"ale\",\"apple\",\"monkey\",\"plea\"]\n",
    "\n",
    "    Output: \n",
    "    \"apple\"\n",
    "\n",
    "    Example 2:\n",
    "    Input:\n",
    "    s = \"abpcplea\", d = [\"a\",\"b\",\"c\"]\n",
    "\n",
    "    Output: \n",
    "    \"a\"\n",
    "    \n",
    "    Note:\n",
    "    All the strings in the input will only contain lower-case letters.\n",
    "    The size of the dictionary won't exceed 1,000.\n",
    "    The length of all the strings in the input won't exceed 1,000."
   ]
  },
  {
   "cell_type": "code",
   "execution_count": 162,
   "metadata": {},
   "outputs": [],
   "source": [
    "S = \"ab\"\n",
    "D = [\"apple\",\"monkey\",\"plea\",\"ale\"]"
   ]
  },
  {
   "cell_type": "code",
   "execution_count": 177,
   "metadata": {},
   "outputs": [],
   "source": [
    "S = \"bab\"\n",
    "D = [\"ba\",\"ab\",\"a\",\"b\"]"
   ]
  },
  {
   "cell_type": "code",
   "execution_count": 178,
   "metadata": {},
   "outputs": [
    {
     "data": {
      "text/plain": [
       "'ab'"
      ]
     },
     "execution_count": 178,
     "metadata": {},
     "output_type": "execute_result"
    }
   ],
   "source": [
    "findLongestWord(S, D)"
   ]
  },
  {
   "cell_type": "code",
   "execution_count": 179,
   "metadata": {},
   "outputs": [],
   "source": [
    "def findLongestWord(S, D):\n",
    "    D.sort(key = lambda x: (-len(x), x))\n",
    "    for word in D:\n",
    "        i = 0\n",
    "        for c in S:\n",
    "            if i < len(word) and word[i] == c:\n",
    "                i += 1\n",
    "        if i == len(word):\n",
    "            return word\n",
    "    return \"\""
   ]
  },
  {
   "cell_type": "code",
   "execution_count": 180,
   "metadata": {},
   "outputs": [
    {
     "data": {
      "text/plain": [
       "'ab'"
      ]
     },
     "execution_count": 180,
     "metadata": {},
     "output_type": "execute_result"
    }
   ],
   "source": [
    "findLongestWord(S, D)"
   ]
  }
 ],
 "metadata": {
  "kernelspec": {
   "display_name": "Python 3",
   "language": "python",
   "name": "python3"
  },
  "language_info": {
   "codemirror_mode": {
    "name": "ipython",
    "version": 3
   },
   "file_extension": ".py",
   "mimetype": "text/x-python",
   "name": "python",
   "nbconvert_exporter": "python",
   "pygments_lexer": "ipython3",
   "version": "3.7.0"
  }
 },
 "nbformat": 4,
 "nbformat_minor": 2
}
