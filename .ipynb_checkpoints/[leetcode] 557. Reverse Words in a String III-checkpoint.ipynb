{
 "cells": [
  {
   "cell_type": "markdown",
   "metadata": {},
   "source": [
    "# LeetCode #557. Reverse Words in a String III\n",
    "\n",
    "https://leetcode.com/problems/reverse-words-in-a-string-iii/\n",
    "\n",
    "    Given a string, you need to reverse the order of characters in each word within a sentence while still preserving whitespace and initial word order.\n",
    "\n",
    "    Example 1:\n",
    "    Input: \"Let's take LeetCode contest\"\n",
    "    Output: \"s'teL ekat edoCteeL tsetnoc\"\n",
    "    Note: In the string, each word is separated by single space and there will not be any extra space in the string.\n",
    "\n"
   ]
  },
  {
   "cell_type": "markdown",
   "metadata": {},
   "source": [
    "## My Solution"
   ]
  },
  {
   "cell_type": "code",
   "execution_count": 7,
   "metadata": {},
   "outputs": [],
   "source": [
    "def reverseWords(s):\n",
    "    s_list = s.split(\" \")\n",
    "    s_list_rev = []\n",
    "    for i in range(len(s_list)):\n",
    "        s_list_rev.append(s_list[i][::-1])\n",
    "    rev = str()\n",
    "    for i in range(len(s_list_rev)):\n",
    "        rev += s_list_rev[i]\n",
    "        rev += \" \"\n",
    "    return rev[:-1]"
   ]
  },
  {
   "cell_type": "code",
   "execution_count": 8,
   "metadata": {},
   "outputs": [
    {
     "data": {
      "text/plain": [
       "\"s'teL ekat edoCteeL tsetnoc\""
      ]
     },
     "execution_count": 8,
     "metadata": {},
     "output_type": "execute_result"
    }
   ],
   "source": [
    "# test code\n",
    "s = \"Let's take LeetCode contest\"\n",
    "reverseWords(s)"
   ]
  },
  {
   "cell_type": "markdown",
   "metadata": {},
   "source": [
    "### About My Solution\n",
    "\n",
    "    1) 입력받은 문장의 단어들로 이루어진 리스트를 만듭니다.\n",
    "    [\"Let's\", 'take', 'LeetCode', 'contest']\n",
    "    \n",
    "    2) 임시 리스트를 만든 뒤 각 단어를 거꾸로 쓴 단어들로 이루어진 리스트를 만듭니다.\n",
    "    \n",
    "    3) 문자열을 띄어쓰기(\" \")로 이어 붙입니다. "
   ]
  },
  {
   "cell_type": "markdown",
   "metadata": {},
   "source": [
    "## My Result\n",
    "\n",
    "__Runtime__ : 40 ms, faster than 87.52% of Python3 online submissions for Reverse Words in a String III.\n",
    "\n",
    "__Memory Usage__ : 13.5 MB, less than 58.82% of Python3 online submissions for Reverse Words in a String III."
   ]
  },
  {
   "cell_type": "markdown",
   "metadata": {},
   "source": [
    "## @StefanPochmann's Solution"
   ]
  },
  {
   "cell_type": "code",
   "execution_count": 11,
   "metadata": {},
   "outputs": [],
   "source": [
    "def reverseWords(s):\n",
    "    return ' '.join(x[::-1] for x in s.split())"
   ]
  },
  {
   "cell_type": "code",
   "execution_count": 12,
   "metadata": {},
   "outputs": [
    {
     "data": {
      "text/plain": [
       "\"s'teL ekat edoCteeL tsetnoc\""
      ]
     },
     "execution_count": 12,
     "metadata": {},
     "output_type": "execute_result"
    }
   ],
   "source": [
    "# test code\n",
    "s = \"Let's take LeetCode contest\"\n",
    "reverseWords(s)"
   ]
  },
  {
   "cell_type": "markdown",
   "metadata": {},
   "source": [
    "### About StefanPochmann's Solution\n",
    "\n",
    "    한 줄로 처리.."
   ]
  },
  {
   "cell_type": "markdown",
   "metadata": {},
   "source": [
    "## @StefanPochmann's Result\n",
    "\n",
    "__Runtime__: 40 ms, faster than 87.52% of Python3 online submissions for Reverse Words in a String III.\n",
    "\n",
    "__Memory Usage__: 13.5 MB, less than 36.53% of Python3 online submissions for Reverse Words in a String III."
   ]
  }
 ],
 "metadata": {
  "kernelspec": {
   "display_name": "Python 3",
   "language": "python",
   "name": "python3"
  },
  "language_info": {
   "codemirror_mode": {
    "name": "ipython",
    "version": 3
   },
   "file_extension": ".py",
   "mimetype": "text/x-python",
   "name": "python",
   "nbconvert_exporter": "python",
   "pygments_lexer": "ipython3",
   "version": "3.7.0"
  }
 },
 "nbformat": 4,
 "nbformat_minor": 2
}
