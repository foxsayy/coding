{
 "cells": [
  {
   "cell_type": "markdown",
   "metadata": {},
   "source": [
    "# LeetCode #455. Assign Cookies\n",
    "\n",
    "## Question\n",
    "https://leetcode.com/problems/assign-cookies/\n",
    "\n",
    "    Assume you are an awesome parent and want to give your children some cookies. But, you should give each child at most one cookie. Each child i has a greed factor gi, which is the minimum size of a cookie that the child will be content with; and each cookie j has a size sj. If sj >= gi, we can assign the cookie j to the child i, and the child i will be content. Your goal is to maximize the number of your content children and output the maximum number.\n",
    "\n",
    "    Note:\n",
    "    You may assume the greed factor is always positive. \n",
    "    You cannot assign more than one cookie to one child.\n",
    "\n",
    "Example 1:\n",
    "\n",
    "    Input: [1,2,3], [1,1]\n",
    "\n",
    "    Output: 1\n",
    "\n",
    "    Explanation: You have 3 children and 2 cookies. The greed factors of 3 children are 1, 2, 3. \n",
    "    And even though you have 2 cookies, since their size is both 1, you could only make the child whose greed factor is 1 content.\n",
    "    You need to output 1.\n",
    "\n",
    "Example 2:\n",
    "\n",
    "    Input: [1,2], [1,2,3]\n",
    "\n",
    "    Output: 2\n",
    "\n",
    "    Explanation: You have 2 children and 3 cookies. The greed factors of 2 children are 1, 2. \n",
    "    You have 3 cookies and their sizes are big enough to gratify all of the children, \n",
    "    You need to output 2."
   ]
  },
  {
   "cell_type": "code",
   "execution_count": 7,
   "metadata": {},
   "outputs": [],
   "source": [
    "def findContentChildren(g, s):\n",
    "    pass"
   ]
  },
  {
   "cell_type": "code",
   "execution_count": 10,
   "metadata": {},
   "outputs": [],
   "source": [
    "# test code (output = 1)\n",
    "g = [1,2,3] # children\n",
    "s = [1,1]   # cookie size\n",
    "findContentChildren(g, s)"
   ]
  },
  {
   "cell_type": "code",
   "execution_count": 11,
   "metadata": {},
   "outputs": [],
   "source": [
    "# test code (output = 2)\n",
    "g = [1,2] # children\n",
    "s = [1,2,3]  # cookie size\n",
    "findContentChildren(g, s)"
   ]
  },
  {
   "cell_type": "code",
   "execution_count": null,
   "metadata": {},
   "outputs": [],
   "source": [
    "def findContentChildren(g, s):\n",
    "    res = 0\n",
    "    # g == s이면 res에 1을 더하고 뺀다\n",
    "    for i in range():"
   ]
  },
  {
   "cell_type": "code",
   "execution_count": 12,
   "metadata": {},
   "outputs": [
    {
     "data": {
      "text/plain": [
       "[1, 2, 3]"
      ]
     },
     "execution_count": 12,
     "metadata": {},
     "output_type": "execute_result"
    }
   ],
   "source": [
    "s"
   ]
  },
  {
   "cell_type": "code",
   "execution_count": 13,
   "metadata": {},
   "outputs": [],
   "source": [
    "s.remove(3)"
   ]
  },
  {
   "cell_type": "code",
   "execution_count": 15,
   "metadata": {},
   "outputs": [],
   "source": [
    "s.remove(1)"
   ]
  },
  {
   "cell_type": "code",
   "execution_count": null,
   "metadata": {},
   "outputs": [],
   "source": []
  }
 ],
 "metadata": {
  "kernelspec": {
   "display_name": "Python 3",
   "language": "python",
   "name": "python3"
  },
  "language_info": {
   "codemirror_mode": {
    "name": "ipython",
    "version": 3
   },
   "file_extension": ".py",
   "mimetype": "text/x-python",
   "name": "python",
   "nbconvert_exporter": "python",
   "pygments_lexer": "ipython3",
   "version": "3.7.0"
  }
 },
 "nbformat": 4,
 "nbformat_minor": 2
}
