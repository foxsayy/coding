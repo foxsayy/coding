{
 "cells": [
  {
   "cell_type": "markdown",
   "metadata": {},
   "source": [
    "# LeetCode #1029. Two City Scheduling\n",
    "\n",
    "\n",
    "## Question\n",
    "https://leetcode.com/problems/two-city-scheduling/\n",
    "\n",
    "    There are 2N people a company is planning to interview. The cost of flying the i-th person to city A is costs[i][0], and the cost of flying the i-th person to city B is costs[i][1].\n",
    "\n",
    "    Return the minimum cost to fly every person to a city such that exactly N people arrive in each city.\n",
    "\n",
    "\n",
    "\n",
    "    Example 1:\n",
    "\n",
    "    Input: [[10,20],[30,200],[400,50],[30,20]]\n",
    "    Output: 110\n",
    "    Explanation: \n",
    "    The first person goes to city A for a cost of 10.\n",
    "    The second person goes to city A for a cost of 30.\n",
    "    The third person goes to city B for a cost of 50.\n",
    "    The fourth person goes to city B for a cost of 20.\n",
    "\n",
    "    The total minimum cost is 10 + 30 + 50 + 20 = 110 to have half the people interviewing in each city."
   ]
  },
  {
   "cell_type": "markdown",
   "metadata": {},
   "source": [
    "## My Solution\n",
    "\n",
    "Failed\n",
    "\n",
    "## My Result\n",
    "\n",
    "Failed"
   ]
  },
  {
   "cell_type": "markdown",
   "metadata": {},
   "source": [
    "## @JLepere2's Solution"
   ]
  },
  {
   "cell_type": "code",
   "execution_count": 75,
   "metadata": {},
   "outputs": [],
   "source": [
    "def twoCitySchedCost(costs):\n",
    "    costs = sorted(costs, key=lambda cost: cost[0]-cost[1])\n",
    "    return sum(cost[0] for cost in costs[:len(costs)//2]) + sum(cost[1] for cost in costs[len(costs)//2:])"
   ]
  },
  {
   "cell_type": "code",
   "execution_count": 86,
   "metadata": {},
   "outputs": [
    {
     "data": {
      "text/plain": [
       "1859"
      ]
     },
     "execution_count": 86,
     "metadata": {},
     "output_type": "execute_result"
    }
   ],
   "source": [
    "# test code (output = 1859)\n",
    "costs = [[259,770],[448,54],[926,667],[184,139],[840,118],[577,469]]\n",
    "twoCitySchedCost(costs)"
   ]
  },
  {
   "cell_type": "markdown",
   "metadata": {},
   "source": [
    "### About JLepere2's Solution"
   ]
  },
  {
   "cell_type": "code",
   "execution_count": 92,
   "metadata": {},
   "outputs": [
    {
     "data": {
      "text/plain": [
       "[[259, 770], [184, 139], [577, 469], [926, 667], [448, 54], [840, 118]]"
      ]
     },
     "execution_count": 92,
     "metadata": {},
     "output_type": "execute_result"
    }
   ],
   "source": [
    "# A cost와 B cost의 차를 오름차순으로 정렬합니다.\n",
    "costs = sorted(costs, key=lambda cost: cost[0]-cost[1])\n",
    "costs"
   ]
  },
  {
   "cell_type": "code",
   "execution_count": 93,
   "metadata": {},
   "outputs": [
    {
     "data": {
      "text/plain": [
       "(-511, 45, 108, 259, 394, 722)"
      ]
     },
     "execution_count": 93,
     "metadata": {},
     "output_type": "execute_result"
    }
   ],
   "source": [
    "259-770, 184-139, 577-469, 926-667, 448-54, 840-118"
   ]
  },
  {
   "cell_type": "markdown",
   "metadata": {},
   "source": [
    "오름차순으로 정렬한 리스트 앞부분에서는 A의 비용이 B의 비용보다 작습니다."
   ]
  },
  {
   "cell_type": "code",
   "execution_count": 97,
   "metadata": {},
   "outputs": [
    {
     "data": {
      "text/plain": [
       "1020"
      ]
     },
     "execution_count": 97,
     "metadata": {},
     "output_type": "execute_result"
    }
   ],
   "source": [
    "# 오름차순으로 정렬한 리스트에서 앞쪽 절반의 A 비용을 더합니다.\n",
    "a = sum(cost[0] for cost in costs[:len(costs)//2])\n",
    "a"
   ]
  },
  {
   "cell_type": "code",
   "execution_count": 98,
   "metadata": {},
   "outputs": [
    {
     "data": {
      "text/plain": [
       "839"
      ]
     },
     "execution_count": 98,
     "metadata": {},
     "output_type": "execute_result"
    }
   ],
   "source": [
    "# 오름차순으로 정렬한 리스트에서 뒷쪽 절반의 B 비용을 더합니다.\n",
    "b = sum(cost[1] for cost in costs[len(costs)//2:])\n",
    "b"
   ]
  },
  {
   "cell_type": "code",
   "execution_count": 99,
   "metadata": {},
   "outputs": [
    {
     "data": {
      "text/plain": [
       "1859"
      ]
     },
     "execution_count": 99,
     "metadata": {},
     "output_type": "execute_result"
    }
   ],
   "source": [
    "a + b"
   ]
  },
  {
   "cell_type": "markdown",
   "metadata": {},
   "source": [
    "## @JLepere2's Result\n",
    "\n",
    "__Runtime__ : 24 ms, faster than 94.89% of Python online submissions for Two City Scheduling.\n",
    "\n",
    "__Memory Usage__ : 11.8 MB, less than 58.85% of Python online submissions for Two City Scheduling."
   ]
  }
 ],
 "metadata": {
  "kernelspec": {
   "display_name": "Python 3",
   "language": "python",
   "name": "python3"
  },
  "language_info": {
   "codemirror_mode": {
    "name": "ipython",
    "version": 3
   },
   "file_extension": ".py",
   "mimetype": "text/x-python",
   "name": "python",
   "nbconvert_exporter": "python",
   "pygments_lexer": "ipython3",
   "version": "3.7.0"
  }
 },
 "nbformat": 4,
 "nbformat_minor": 2
}
