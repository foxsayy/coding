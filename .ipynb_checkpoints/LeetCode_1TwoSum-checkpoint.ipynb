{
 "cells": [
  {
   "cell_type": "markdown",
   "metadata": {},
   "source": [
    "# LeetCode #1.Two Sum\n",
    "\n",
    "## Question\n",
    "    \n",
    "https://leetcode.com/problems/two-sum/\n",
    "\n",
    "    Given an array of integers, return indices of the two numbers such that they add up to a specific target.\n",
    "    You may assume that each input would have exactly one solution, and you may not use the same element twice.\n",
    "\n",
    "    Example:\n",
    "    Given nums = [2, 7, 11, 15], target = 9,\n",
    "    Because nums[0] + nums[1] = 2 + 7 = 9,\n",
    "    return [0, 1]."
   ]
  },
  {
   "cell_type": "markdown",
   "metadata": {},
   "source": [
    "## My Solution"
   ]
  },
  {
   "cell_type": "code",
   "execution_count": 11,
   "metadata": {},
   "outputs": [],
   "source": [
    "def twoSum(nums, target):\n",
    "    for i in range(len(nums)):\n",
    "        for j in range(len(nums)):\n",
    "            if nums[i] + nums[j] == target and i != j:\n",
    "                return [i, j]"
   ]
  },
  {
   "cell_type": "code",
   "execution_count": 28,
   "metadata": {},
   "outputs": [
    {
     "data": {
      "text/plain": [
       "[0, 1]"
      ]
     },
     "execution_count": 28,
     "metadata": {},
     "output_type": "execute_result"
    }
   ],
   "source": [
    "# test code\n",
    "nums = [2, 7, 11, 15]\n",
    "t = 9\n",
    "twoSum(nums, t1)"
   ]
  },
  {
   "cell_type": "code",
   "execution_count": 23,
   "metadata": {},
   "outputs": [
    {
     "data": {
      "text/plain": [
       "[0, 4]"
      ]
     },
     "execution_count": 23,
     "metadata": {},
     "output_type": "execute_result"
    }
   ],
   "source": [
    "# test code\n",
    "nums2 = [1, 3, 4, 9, 12]\n",
    "t2 = 13\n",
    "twoSum(nums2, t2)"
   ]
  },
  {
   "cell_type": "markdown",
   "metadata": {},
   "source": [
    "### About My Solution\n",
    "\n",
    "    이중 for문을 사용한 매우 비효율적인 코드입니다. "
   ]
  },
  {
   "cell_type": "markdown",
   "metadata": {},
   "source": [
    "## My Result\n",
    "\n",
    "__Runtime__ : 7656 ms, faster than 5.00% of Python3 online submissions for Two Sum.\n",
    "\n",
    "__Memory Usage__ : 13.7 MB, less than 37.01% of Python3 online submissions for Two Sum."
   ]
  },
  {
   "cell_type": "markdown",
   "metadata": {},
   "source": [
    "## @Nathan_Fegard's Solution"
   ]
  },
  {
   "cell_type": "code",
   "execution_count": 24,
   "metadata": {},
   "outputs": [],
   "source": [
    "def twoSum2(nums, target):\n",
    "#     if len(nums) <= 1:\n",
    "#         return False\n",
    "    buff_dict = {}\n",
    "    for i in range(len(nums)):\n",
    "        if nums[i] in buff_dict:\n",
    "            return [buff_dict[nums[i]], i]\n",
    "        else:\n",
    "            buff_dict[target - nums[i]] = i"
   ]
  },
  {
   "cell_type": "markdown",
   "metadata": {},
   "source": [
    "### About Nathan_Fegard's Solution\n",
    "\n",
    "    num[i] + num[j] = t가 되는 i와 j 값을 찾아야 합니다.\n",
    "    nums = [1, 3, 4, 9, 12], t = 13일 때\n",
    "    리스트 앞쪽부터 t - nums[i] 를 계산하면 12, 10, 9, 4, 1입니다. \n",
    "    계산하면서 `buff_dict` 딕셔너리에 t - nums[i] : i 형태로 입력해주면 다음 형태로 들어가게 됩니다. \n",
    "    {12: 0,\n",
    "     10: 1,\n",
    "      9: 2,\n",
    "      4: 3,\n",
    "      1: 4,} \n",
    "    for 문이 도는 도중에 nums 속 숫자가 딕셔너리 키 값에 있을 경우의 밸류 값과 nums 속 숫자를 가리키는 i값이 문제에서 원하는 답입니다. \n",
    "    위의 경우 i=3 일 때 num[i]값인 9가 딕셔너리 안에 있으므로 9의 밸류 값인 2와 i값인 3, [2, 3]이 답이 됩니다. "
   ]
  },
  {
   "cell_type": "code",
   "execution_count": 62,
   "metadata": {
    "scrolled": true
   },
   "outputs": [
    {
     "name": "stdout",
     "output_type": "stream",
     "text": [
      "for 문의 시작, i: 0\n",
      "buff_dict:  {}\n",
      "t - nums[i]:  12    i:  0 \n",
      "\n",
      "for 문의 시작, i: 1\n",
      "buff_dict:  {12: 0}\n",
      "t - nums[i]:  10    i:  1 \n",
      "\n",
      "for 문의 시작, i: 2\n",
      "buff_dict:  {12: 0, 10: 1}\n",
      "t - nums[i]:  9    i:  2 \n",
      "\n",
      "for 문의 시작, i: 3\n",
      "buff_dict:  {12: 0, 10: 1, 9: 2}\n",
      "result:  [2, 3]   t:  13\n",
      "Done! \n",
      "\n"
     ]
    }
   ],
   "source": [
    "nums = [1, 3, 4, 9, 12]\n",
    "t = 13\n",
    "buff_dict = {}\n",
    "\n",
    "for i in range(len(nums)):\n",
    "    print(\"for 문의 시작, i: {}\".format(i))\n",
    "    print(\"buff_dict: \", buff_dict)\n",
    "    \n",
    "    if nums[i] in buff_dict:\n",
    "        print(\"result: \", [buff_dict[nums[i]], i], \"  t: \", t)\n",
    "        print(\"Done!\", \"\\n\")\n",
    "        break\n",
    "    \n",
    "    else:\n",
    "        print(\"t - nums[i]: \", t-nums[i], \"   i: \", i, \"\\n\")\n",
    "        buff_dict[t - nums[i]] = i"
   ]
  },
  {
   "cell_type": "markdown",
   "metadata": {},
   "source": [
    "## @Nathan_Fegard's Result\n",
    "\n",
    "__Runtime__ : 32 ms, faster than 99.90% of Python3 online submissions for Two Sum.\n",
    "\n",
    "__Memory Usage__ : 14.7 MB, less than 5.08% of Python3 online submissions for Two Sum."
   ]
  }
 ],
 "metadata": {
  "kernelspec": {
   "display_name": "Python 3",
   "language": "python",
   "name": "python3"
  },
  "language_info": {
   "codemirror_mode": {
    "name": "ipython",
    "version": 3
   },
   "file_extension": ".py",
   "mimetype": "text/x-python",
   "name": "python",
   "nbconvert_exporter": "python",
   "pygments_lexer": "ipython3",
   "version": "3.7.0"
  }
 },
 "nbformat": 4,
 "nbformat_minor": 2
}
