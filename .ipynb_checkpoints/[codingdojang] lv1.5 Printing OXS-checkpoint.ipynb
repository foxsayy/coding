{
 "cells": [
  {
   "cell_type": "markdown",
   "metadata": {},
   "source": [
    "#### 문제\n",
    "\n",
    "input은 int n을 입력받아 \n",
    "\n",
    "첫번째 row는 (n-1)의 O와 X, \n",
    "\n",
    "두번째 row는 (n-2)의 O와 XX, \n",
    "\n",
    "세번째 row는 (n-3)의 O와 XXX,.\n",
    "\n",
    "n번째 row는 n개의 X을 출력하라"
   ]
  },
  {
   "cell_type": "markdown",
   "metadata": {},
   "source": [
    "#### 풀이"
   ]
  },
  {
   "cell_type": "code",
   "execution_count": 1,
   "metadata": {},
   "outputs": [],
   "source": [
    "def ox(n):\n",
    "    for i in range(1, n + 1):\n",
    "        print('0' * (n - i) + 'X' * i)"
   ]
  },
  {
   "cell_type": "code",
   "execution_count": 7,
   "metadata": {},
   "outputs": [
    {
     "name": "stdout",
     "output_type": "stream",
     "text": [
      "000000X\n",
      "00000XX\n",
      "0000XXX\n",
      "000XXXX\n",
      "00XXXXX\n",
      "0XXXXXX\n",
      "XXXXXXX\n"
     ]
    }
   ],
   "source": [
    "ox(7)"
   ]
  }
 ],
 "metadata": {
  "kernelspec": {
   "display_name": "Python 3",
   "language": "python",
   "name": "python3"
  },
  "language_info": {
   "codemirror_mode": {
    "name": "ipython",
    "version": 3
   },
   "file_extension": ".py",
   "mimetype": "text/x-python",
   "name": "python",
   "nbconvert_exporter": "python",
   "pygments_lexer": "ipython3",
   "version": "3.7.0"
  }
 },
 "nbformat": 4,
 "nbformat_minor": 2
}
