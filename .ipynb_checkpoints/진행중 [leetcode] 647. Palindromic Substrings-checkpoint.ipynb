{
 "cells": [
  {
   "cell_type": "markdown",
   "metadata": {},
   "source": [
    "    Given a string, your task is to count how many palindromic substrings in this string.\n",
    "\n",
    "    The substrings with different start indexes or end indexes are counted as different substrings even they consist of same characters.\n",
    "\n",
    "    Example 1:\n",
    "    Input: \"abc\"\n",
    "    Output: 3\n",
    "    Explanation: Three palindromic strings: \"a\", \"b\", \"c\".\n",
    "\n",
    "    Example 2:\n",
    "    Input: \"aaa\"\n",
    "    Output: 6\n",
    "\n",
    "    Explanation: Six palindromic strings: \"a\", \"a\", \"a\", \"aa\", \"aa\", \"aaa\".\n",
    "\n",
    "    Note:\n",
    "    The input string length won't exceed 1000."
   ]
  },
  {
   "cell_type": "code",
   "execution_count": 117,
   "metadata": {},
   "outputs": [],
   "source": [
    "s = \"abc\"\n",
    "n = len(s)"
   ]
  },
  {
   "cell_type": "code",
   "execution_count": 119,
   "metadata": {},
   "outputs": [
    {
     "ename": "SyntaxError",
     "evalue": "invalid syntax (<ipython-input-119-e0034c39d4ff>, line 1)",
     "output_type": "error",
     "traceback": [
      "\u001b[0;36m  File \u001b[0;32m\"<ipython-input-119-e0034c39d4ff>\"\u001b[0;36m, line \u001b[0;32m1\u001b[0m\n\u001b[0;31m    s[::-1][(len(s)-2:len(s)]\u001b[0m\n\u001b[0m                     ^\u001b[0m\n\u001b[0;31mSyntaxError\u001b[0m\u001b[0;31m:\u001b[0m invalid syntax\n"
     ]
    }
   ],
   "source": [
    "s[::-1][3:len(s)]"
   ]
  },
  {
   "cell_type": "code",
   "execution_count": null,
   "metadata": {},
   "outputs": [],
   "source": [
    "# len(s)가 n이면\n",
    "# 1개 단어 = n\n",
    "\n",
    "res = len(s)\n",
    "# 2개 단어 \n",
    "for i in range(len(s)-1):\n",
    "    if s[i:i+2] == s[::-1][(len(s)-2:len(s)]:\n",
    "        res += 1"
   ]
  },
  {
   "cell_type": "code",
   "execution_count": 107,
   "metadata": {},
   "outputs": [
    {
     "name": "stdout",
     "output_type": "stream",
     "text": [
      "a[i:i+2]: ab\n",
      "a[::-1][n-2:n]: ba\n",
      "False\n",
      "a[i:i+2]: ba\n",
      "a[::-1][n-2:n]: ba\n",
      "True\n",
      "a[i:i+2]: aa\n",
      "a[::-1][n-2:n]: ba\n",
      "False\n",
      "a[i:i+3]: aba\n",
      "a[::-1][n-3:n]: aba\n",
      "a[i:i+3]: baa\n",
      "a[::-1][n-3:n]: aba\n"
     ]
    },
    {
     "data": {
      "text/plain": [
       "6"
      ]
     },
     "execution_count": 107,
     "metadata": {},
     "output_type": "execute_result"
    }
   ],
   "source": [
    "\n",
    "# 3개 단어\n",
    "for i in range(len(s)-2):\n",
    "    if s[i:i+3] == s[::-1][n-3:n]:\n",
    "        res +=1\n",
    "\n",
    "res"
   ]
  },
  {
   "cell_type": "code",
   "execution_count": null,
   "metadata": {},
   "outputs": [],
   "source": [
    "[::-1]"
   ]
  },
  {
   "cell_type": "code",
   "execution_count": 54,
   "metadata": {},
   "outputs": [],
   "source": []
  },
  {
   "cell_type": "code",
   "execution_count": 55,
   "metadata": {},
   "outputs": [
    {
     "data": {
      "text/plain": [
       "5"
      ]
     },
     "execution_count": 55,
     "metadata": {},
     "output_type": "execute_result"
    }
   ],
   "source": [
    "res"
   ]
  },
  {
   "cell_type": "code",
   "execution_count": null,
   "metadata": {},
   "outputs": [],
   "source": []
  },
  {
   "cell_type": "code",
   "execution_count": 2,
   "metadata": {},
   "outputs": [
    {
     "data": {
      "text/plain": [
       "'ab'"
      ]
     },
     "execution_count": 2,
     "metadata": {},
     "output_type": "execute_result"
    }
   ],
   "source": [
    "a = \"abcde\"\n",
    "a[0:2] a[i:i+2]"
   ]
  },
  {
   "cell_type": "code",
   "execution_count": 21,
   "metadata": {},
   "outputs": [
    {
     "data": {
      "text/plain": [
       "'ba'"
      ]
     },
     "execution_count": 21,
     "metadata": {},
     "output_type": "execute_result"
    }
   ],
   "source": [
    "a[::-1][3:5] a[::-1][len(s)-2:len(s)]"
   ]
  },
  {
   "cell_type": "code",
   "execution_count": 97,
   "metadata": {},
   "outputs": [],
   "source": [
    "def countSubstrings(s):\n",
    "    res = len(s)\n",
    "    for j in range(1, len(s)):\n",
    "        for i in range(len(s)-j):\n",
    "            print(\"J, I:\", j, i)\n",
    "            print(s[i:i+j+1], s[::-1][len(s)-(j+1):len(s)])\n",
    "            if s[i:i+j+1] == s[::-1][len(s)-(j+1):len(s)]:\n",
    "                res+=1\n",
    "                print(True)\n",
    "            else: print(False)\n",
    "    return res"
   ]
  },
  {
   "cell_type": "code",
   "execution_count": 98,
   "metadata": {},
   "outputs": [
    {
     "name": "stdout",
     "output_type": "stream",
     "text": [
      "J, I: 1 0\n",
      "ab ba\n",
      "False\n",
      "J, I: 1 1\n",
      "ba ba\n",
      "True\n",
      "J, I: 2 0\n",
      "aba aba\n",
      "True\n"
     ]
    },
    {
     "data": {
      "text/plain": [
       "5"
      ]
     },
     "execution_count": 98,
     "metadata": {},
     "output_type": "execute_result"
    }
   ],
   "source": [
    "a = \"aba\"\n",
    "countSubstrings(a)"
   ]
  },
  {
   "cell_type": "code",
   "execution_count": 91,
   "metadata": {},
   "outputs": [
    {
     "name": "stdout",
     "output_type": "stream",
     "text": [
      "ab ba\n",
      "False\n",
      "bc ba\n",
      "False\n",
      "abc cba\n",
      "False\n"
     ]
    },
    {
     "data": {
      "text/plain": [
       "3"
      ]
     },
     "execution_count": 91,
     "metadata": {},
     "output_type": "execute_result"
    }
   ],
   "source": [
    "b = \"abc\"\n",
    "countSubstrings(b)"
   ]
  },
  {
   "cell_type": "code",
   "execution_count": 92,
   "metadata": {},
   "outputs": [
    {
     "name": "stdout",
     "output_type": "stream",
     "text": [
      "ab aa\n",
      "True\n",
      "bc aa\n",
      "True\n",
      "abc aaa\n",
      "True\n"
     ]
    },
    {
     "data": {
      "text/plain": [
       "6"
      ]
     },
     "execution_count": 92,
     "metadata": {},
     "output_type": "execute_result"
    }
   ],
   "source": [
    "c = \"aaa\"\n",
    "countSubstrings(c)"
   ]
  },
  {
   "cell_type": "code",
   "execution_count": null,
   "metadata": {},
   "outputs": [],
   "source": []
  },
  {
   "cell_type": "code",
   "execution_count": null,
   "metadata": {},
   "outputs": [],
   "source": []
  }
 ],
 "metadata": {
  "kernelspec": {
   "display_name": "Python 3",
   "language": "python",
   "name": "python3"
  },
  "language_info": {
   "codemirror_mode": {
    "name": "ipython",
    "version": 3
   },
   "file_extension": ".py",
   "mimetype": "text/x-python",
   "name": "python",
   "nbconvert_exporter": "python",
   "pygments_lexer": "ipython3",
   "version": "3.7.0"
  }
 },
 "nbformat": 4,
 "nbformat_minor": 2
}
