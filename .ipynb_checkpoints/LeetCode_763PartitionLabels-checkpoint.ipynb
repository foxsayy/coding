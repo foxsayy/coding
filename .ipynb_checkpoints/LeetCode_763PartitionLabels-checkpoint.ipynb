{
 "cells": [
  {
   "cell_type": "markdown",
   "metadata": {},
   "source": [
    "# LeetCode #763. Partition Labels\n",
    "\n",
    "## Question\n",
    "https://leetcode.com/problems/partition-labels/\n",
    "\n",
    "    A string S of lowercase letters is given. We want to partition this string into as many parts as possible so that each letter appears in at most one part, and return a list of integers representing the size of these parts.\n",
    "\n",
    "Example 1:\n",
    "\n",
    "    Input: S = \"ababcbacadefegdehijhklij\"\n",
    "    Output: [9,7,8]\n",
    "    \n",
    "    Explanation:\n",
    "    The partition is \"ababcbaca\", \"defegde\", \"hijhklij\".\n",
    "    This is a partition so that each letter appears in at most one part.\n",
    "    A partition like \"ababcbacadefegde\", \"hijhklij\" is incorrect, because it splits S into less parts.\n",
    "    \n",
    "Note:\n",
    "\n",
    "    S will have length in range [1, 500].\n",
    "    S will consist of lowercase letters ('a' to 'z') only."
   ]
  },
  {
   "cell_type": "markdown",
   "metadata": {},
   "source": [
    "## My Solution"
   ]
  },
  {
   "cell_type": "code",
   "execution_count": 1,
   "metadata": {},
   "outputs": [],
   "source": [
    "def partitionLabels(S):\n",
    "    res = []\n",
    "    while bool(S):\n",
    "        for i in range(len(S)):\n",
    "            if S[0] == S[i]:\n",
    "                point = i\n",
    "        temp = S[:point+1]\n",
    "        \n",
    "        for i in range(len(S)):\n",
    "            if S[i] in set(temp):\n",
    "                point = i\n",
    "                temp = S[:i+1]\n",
    "        res.append(point+1)\n",
    "        S = S[point+1:]\n",
    "    return res"
   ]
  },
  {
   "cell_type": "code",
   "execution_count": 2,
   "metadata": {},
   "outputs": [
    {
     "data": {
      "text/plain": [
       "[9, 7, 8]"
      ]
     },
     "execution_count": 2,
     "metadata": {},
     "output_type": "execute_result"
    }
   ],
   "source": [
    "# test code (Output: [9,7,8])\n",
    "S = \"ababcbacadefegdehijhklij\"\n",
    "partitionLabels(S)"
   ]
  },
  {
   "cell_type": "code",
   "execution_count": 3,
   "metadata": {
    "scrolled": true
   },
   "outputs": [
    {
     "data": {
      "text/plain": [
       "[13, 1, 1]"
      ]
     },
     "execution_count": 3,
     "metadata": {},
     "output_type": "execute_result"
    }
   ],
   "source": [
    "# test code (Output: [13,1,1])\n",
    "S = \"qiejxqfnqceocmy\"\n",
    "partitionLabels(S)"
   ]
  },
  {
   "cell_type": "markdown",
   "metadata": {},
   "source": [
    "## My Result\n",
    "\n",
    "__Runtime__ : 248 ms, faster than 5.11% of Python online submissions for Partition Labels.\n",
    "\n",
    "__Memory Usage__ : 11.8 MB, less than 46.23% of Python online submissions for Partition Labels."
   ]
  },
  {
   "cell_type": "markdown",
   "metadata": {},
   "source": [
    "## @cslzy's Solution"
   ]
  },
  {
   "cell_type": "code",
   "execution_count": 4,
   "metadata": {},
   "outputs": [],
   "source": [
    "def partitionLabels(S):\n",
    "\n",
    "    dic = {}\n",
    "    for i, c in enumerate(S):\n",
    "        dic[c] = i\n",
    "\n",
    "    cur_max = 0\n",
    "    res = []\n",
    "    count = 0\n",
    "\n",
    "    for i, c in enumerate(S):\n",
    "        count += 1\n",
    "        cur_max = max(cur_max, dic[c])\n",
    "\n",
    "        if cur_max == i:\n",
    "            res.append(count)\n",
    "            count = 0\n",
    "    return res"
   ]
  },
  {
   "cell_type": "code",
   "execution_count": 5,
   "metadata": {},
   "outputs": [
    {
     "data": {
      "text/plain": [
       "[9, 7, 8]"
      ]
     },
     "execution_count": 5,
     "metadata": {},
     "output_type": "execute_result"
    }
   ],
   "source": [
    "# test code (Output: [9,7,8])\n",
    "S = \"ababcbacadefegdehijhklij\"\n",
    "partitionLabels(S)"
   ]
  },
  {
   "cell_type": "markdown",
   "metadata": {},
   "source": [
    "### About cslzy's Solution"
   ]
  },
  {
   "cell_type": "code",
   "execution_count": 6,
   "metadata": {},
   "outputs": [
    {
     "data": {
      "text/plain": [
       "{'a': 8,\n",
       " 'b': 5,\n",
       " 'c': 7,\n",
       " 'd': 14,\n",
       " 'e': 15,\n",
       " 'f': 11,\n",
       " 'g': 13,\n",
       " 'h': 19,\n",
       " 'i': 22,\n",
       " 'j': 23,\n",
       " 'k': 20,\n",
       " 'l': 21}"
      ]
     },
     "execution_count": 6,
     "metadata": {},
     "output_type": "execute_result"
    }
   ],
   "source": [
    "S = \"ababcbacadefegdehijhklij\"\n",
    "dic = {}\n",
    "\n",
    "# 키: 알파벳, 밸류: 알파벳이 마지막에 나올때의 인덱스\n",
    "for i, c in enumerate(S):\n",
    "    dic[c] = i\n",
    "dic"
   ]
  },
  {
   "cell_type": "code",
   "execution_count": 7,
   "metadata": {
    "scrolled": false
   },
   "outputs": [
    {
     "name": "stdout",
     "output_type": "stream",
     "text": [
      "i: 0  c: a  count: 1  cur_max: 8\n",
      "i: 1  c: b  count: 2  cur_max: 8\n",
      "i: 2  c: a  count: 3  cur_max: 8\n",
      "i: 3  c: b  count: 4  cur_max: 8\n",
      "i: 4  c: c  count: 5  cur_max: 8\n",
      "i: 5  c: b  count: 6  cur_max: 8\n",
      "i: 6  c: a  count: 7  cur_max: 8\n",
      "i: 7  c: c  count: 8  cur_max: 8\n",
      "i: 8  c: a  count: 9  cur_max: 8\n",
      "**append(count): 9\n",
      "i: 9  c: d  count: 1  cur_max: 14\n",
      "i: 10  c: e  count: 2  cur_max: 15\n",
      "i: 11  c: f  count: 3  cur_max: 15\n",
      "i: 12  c: e  count: 4  cur_max: 15\n",
      "i: 13  c: g  count: 5  cur_max: 15\n",
      "i: 14  c: d  count: 6  cur_max: 15\n",
      "i: 15  c: e  count: 7  cur_max: 15\n",
      "**append(count): 7\n",
      "i: 16  c: h  count: 1  cur_max: 19\n",
      "i: 17  c: i  count: 2  cur_max: 22\n",
      "i: 18  c: j  count: 3  cur_max: 23\n",
      "i: 19  c: h  count: 4  cur_max: 23\n",
      "i: 20  c: k  count: 5  cur_max: 23\n",
      "i: 21  c: l  count: 6  cur_max: 23\n",
      "i: 22  c: i  count: 7  cur_max: 23\n",
      "i: 23  c: j  count: 8  cur_max: 23\n",
      "**append(count): 8\n"
     ]
    },
    {
     "data": {
      "text/plain": [
       "[9, 7, 8]"
      ]
     },
     "execution_count": 7,
     "metadata": {},
     "output_type": "execute_result"
    }
   ],
   "source": [
    "cur_max = 0\n",
    "res = []\n",
    "count = 0\n",
    "\n",
    "# cur_max와 i가 같을 때의 count가 한 묶음의 길이입니다.\n",
    "for i, c in enumerate(S):\n",
    "    count += 1\n",
    "    cur_max = max(cur_max, dic[c])\n",
    "    print('i:', i, ' c:', c, ' count:', count, ' cur_max:', cur_max)\n",
    "    if cur_max == i:\n",
    "        res.append(count)\n",
    "        print(\"**append(count):\", count)\n",
    "        count = 0\n",
    "res"
   ]
  },
  {
   "cell_type": "markdown",
   "metadata": {},
   "source": [
    "## @cslzy's Result\n",
    "\n",
    "__Runtime__ : 20 ms, faster than 97.52% of Python online submissions for Partition Labels.\n",
    "\n",
    "__Memory Usage__ : 11.9 MB, less than 19.51% of Python online submissions for Partition Labels."
   ]
  }
 ],
 "metadata": {
  "kernelspec": {
   "display_name": "Python 3",
   "language": "python",
   "name": "python3"
  },
  "language_info": {
   "codemirror_mode": {
    "name": "ipython",
    "version": 3
   },
   "file_extension": ".py",
   "mimetype": "text/x-python",
   "name": "python",
   "nbconvert_exporter": "python",
   "pygments_lexer": "ipython3",
   "version": "3.7.0"
  }
 },
 "nbformat": 4,
 "nbformat_minor": 2
}
