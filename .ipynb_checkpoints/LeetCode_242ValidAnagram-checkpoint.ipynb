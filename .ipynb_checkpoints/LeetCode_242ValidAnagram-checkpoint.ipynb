{
 "cells": [
  {
   "cell_type": "markdown",
   "metadata": {},
   "source": [
    "# LeetCode #242. Valid Anagram\n",
    "\n",
    "## Question\n",
    "    \n",
    "https://leetcode.com/problems/valid-anagram/\n",
    "\n",
    "\n",
    "    Given two strings s and t , write a function to determine if t is an anagram of s.\n",
    "\n",
    "    Example 1:\n",
    "    Input: s = \"anagram\", t = \"nagaram\"\n",
    "    Output: true\n",
    "\n",
    "    Example 2:\n",
    "    Input: s = \"rat\", t = \"car\"\n",
    "    Output: false\n",
    "    \n",
    "    Note:\n",
    "    You may assume the string contains only lowercase alphabets.\n",
    "\n",
    "    Follow up:\n",
    "    What if the inputs contain unicode characters? How would you adapt your solution to such case?"
   ]
  },
  {
   "cell_type": "markdown",
   "metadata": {},
   "source": [
    "## My Solution"
   ]
  },
  {
   "cell_type": "code",
   "execution_count": 13,
   "metadata": {},
   "outputs": [],
   "source": [
    "def anagram(s, t):\n",
    "    return sorted(list(s)) == sorted(list(t))"
   ]
  },
  {
   "cell_type": "code",
   "execution_count": 14,
   "metadata": {},
   "outputs": [
    {
     "data": {
      "text/plain": [
       "True"
      ]
     },
     "execution_count": 14,
     "metadata": {},
     "output_type": "execute_result"
    }
   ],
   "source": [
    "# test code\n",
    "s, t = \"anagram\", \"nagaram\"\n",
    "anagram(s, t)"
   ]
  },
  {
   "cell_type": "code",
   "execution_count": 15,
   "metadata": {},
   "outputs": [
    {
     "data": {
      "text/plain": [
       "False"
      ]
     },
     "execution_count": 15,
     "metadata": {},
     "output_type": "execute_result"
    }
   ],
   "source": [
    "# test code\n",
    "u, v = \"rat\", \"car\"\n",
    "anagram(u, v)"
   ]
  },
  {
   "cell_type": "markdown",
   "metadata": {},
   "source": [
    "### About My Solution\n",
    "\n",
    "    단어 속 알파벳 하나하나로 이루어진 리스트를 만들어 정렬하고, 각 단어로 만든 리스트가 같은지 확인합니다."
   ]
  },
  {
   "cell_type": "markdown",
   "metadata": {},
   "source": [
    "## My Result\n",
    "\n",
    "__Runtime__ : 60 ms, faster than 65.14% of Python3 online submissions for Valid Anagram.\n",
    "\n",
    "__Memory Usage__ : 14.6 MB, less than 5.21% of Python3 online submissions for Valid Anagram."
   ]
  },
  {
   "cell_type": "markdown",
   "metadata": {},
   "source": [
    "## @ultramarin's Solution"
   ]
  },
  {
   "cell_type": "code",
   "execution_count": 23,
   "metadata": {},
   "outputs": [],
   "source": [
    "import string\n",
    "\n",
    "def isAnagram(s, t):\n",
    "    return all([s.count(c)==t.count(c) for c in string.ascii_lowercase])"
   ]
  },
  {
   "cell_type": "code",
   "execution_count": 22,
   "metadata": {
    "scrolled": true
   },
   "outputs": [
    {
     "data": {
      "text/plain": [
       "True"
      ]
     },
     "execution_count": 22,
     "metadata": {},
     "output_type": "execute_result"
    }
   ],
   "source": [
    "# test code\n",
    "s, t = \"anagram\", \"nagaram\"\n",
    "isAnagram(s, t)"
   ]
  },
  {
   "cell_type": "markdown",
   "metadata": {},
   "source": [
    "### About ultramarin's Solution"
   ]
  },
  {
   "cell_type": "markdown",
   "metadata": {},
   "source": [
    "    아래 명령은 알파벳 소문자 전부를 반환합니다 \n",
    "    >>> string.ascii_lowercase \n",
    "    'abcdefghijklmnopqrstuvwxyz'\n",
    "    \n",
    "    s와 t에 들어있는 각 알파벳의 숫자가 같으면 anagram이 성립합니다.\n",
    "    s.count('a')과 t.count('a')은 모두 3으로 같습니다.\n",
    "    for 문으로 a부터 z까지 돌면서 알파벳 갯수가 같은지 확인합니다.\n",
    "    모두 같으면 True, 다른게 있으면 False를 반환합니다."
   ]
  },
  {
   "cell_type": "markdown",
   "metadata": {},
   "source": [
    "## @ultramarine's Result\n",
    "\n",
    "__Runtime__: 40 ms, faster than 99.22% of Python3 online submissions for Valid Anagram.\n",
    "\n",
    "__Memory Usage__: 13.3 MB, less than 27.05% of Python3 online submissions for Valid Anagram."
   ]
  }
 ],
 "metadata": {
  "kernelspec": {
   "display_name": "Python 3",
   "language": "python",
   "name": "python3"
  },
  "language_info": {
   "codemirror_mode": {
    "name": "ipython",
    "version": 3
   },
   "file_extension": ".py",
   "mimetype": "text/x-python",
   "name": "python",
   "nbconvert_exporter": "python",
   "pygments_lexer": "ipython3",
   "version": "3.7.0"
  }
 },
 "nbformat": 4,
 "nbformat_minor": 2
}
