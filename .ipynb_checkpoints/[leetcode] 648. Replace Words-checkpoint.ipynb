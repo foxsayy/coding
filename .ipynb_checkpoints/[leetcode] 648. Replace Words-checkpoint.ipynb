{
 "cells": [
  {
   "cell_type": "markdown",
   "metadata": {},
   "source": [
    "    In English, we have a concept called root, which can be followed by some other words to form another longer word - let's call this word successor. For example, the root an, followed by other, which can form another word another.\n",
    "\n",
    "    Now, given a dictionary consisting of many roots and a sentence. You need to replace all the successor in the sentence with the root forming it. If a successor has many roots can form it, replace it with the root with the shortest length.\n",
    "\n",
    "    You need to output the sentence after the replacement.\n",
    "\n",
    "    Example 1:\n",
    "\n",
    "    Input: dict = [\"cat\", \"bat\", \"rat\"]\n",
    "    sentence = \"the cattle was rattled by the battery\"\n",
    "    Output: \"the cat was rat by the bat\"\n",
    "\n",
    "\n",
    "    Note:\n",
    "\n",
    "    The input will only have lower-case letters.\n",
    "    1 <= dict words number <= 1000\n",
    "    1 <= sentence words number <= 1000\n",
    "    1 <= root length <= 100\n",
    "    1 <= sentence words length <= 1000"
   ]
  },
  {
   "cell_type": "code",
   "execution_count": 60,
   "metadata": {},
   "outputs": [],
   "source": [
    "dic = [\"cat\", \"bat\", \"rat\"]\n",
    "sen = \"the cattle was rattled by the battery\""
   ]
  },
  {
   "cell_type": "code",
   "execution_count": 44,
   "metadata": {},
   "outputs": [
    {
     "data": {
      "text/plain": [
       "['the', 'cattle', 'was']"
      ]
     },
     "execution_count": 44,
     "metadata": {},
     "output_type": "execute_result"
    }
   ],
   "source": [
    "sen[:len(dic[0])]"
   ]
  },
  {
   "cell_type": "code",
   "execution_count": 48,
   "metadata": {},
   "outputs": [
    {
     "data": {
      "text/plain": [
       "'rat'"
      ]
     },
     "execution_count": 48,
     "metadata": {},
     "output_type": "execute_result"
    }
   ],
   "source": [
    "sen[3][:3]"
   ]
  },
  {
   "cell_type": "code",
   "execution_count": 53,
   "metadata": {},
   "outputs": [
    {
     "data": {
      "text/plain": [
       "['the', 'cat', 'was', 'rat', 'by', 'the', 'bat']"
      ]
     },
     "execution_count": 53,
     "metadata": {},
     "output_type": "execute_result"
    }
   ],
   "source": [
    "for i in range(len(sen)):\n",
    "    for j in range(len(dic)):\n",
    "        if dic[j] == sen[i][:len(dic[j])]:\n",
    "            sen[i] = dic[j]\n",
    "sen"
   ]
  },
  {
   "cell_type": "code",
   "execution_count": 55,
   "metadata": {
    "scrolled": true
   },
   "outputs": [
    {
     "data": {
      "text/plain": [
       "'the cat was rat by the bat'"
      ]
     },
     "execution_count": 55,
     "metadata": {},
     "output_type": "execute_result"
    }
   ],
   "source": [
    "\" \".join(sen)"
   ]
  },
  {
   "cell_type": "markdown",
   "metadata": {},
   "source": [
    "#### 풀이"
   ]
  },
  {
   "cell_type": "code",
   "execution_count": 66,
   "metadata": {},
   "outputs": [],
   "source": [
    "def replaceWords(dic, sen):\n",
    "    sen = sen.split()\n",
    "    for i in range(len(sen)):\n",
    "        for j in range(len(dic)):\n",
    "            if dic[j] == sen[i][:len(dic[j])]:\n",
    "                sen[i] = dic[j]\n",
    "    return \" \".join(sen)"
   ]
  },
  {
   "cell_type": "code",
   "execution_count": 67,
   "metadata": {},
   "outputs": [
    {
     "data": {
      "text/plain": [
       "'the cat was rat by the bat'"
      ]
     },
     "execution_count": 67,
     "metadata": {},
     "output_type": "execute_result"
    }
   ],
   "source": [
    "dic = [\"cat\", \"bat\", \"rat\"]\n",
    "sen = \"the cattle was rattled by the battery\"\n",
    "replaceWords(dic, sen)"
   ]
  },
  {
   "cell_type": "markdown",
   "metadata": {},
   "source": [
    "#### 다른 풀이_startswith"
   ]
  },
  {
   "cell_type": "code",
   "execution_count": 73,
   "metadata": {},
   "outputs": [],
   "source": [
    "def replaceWords(dic, sen):\n",
    "        setenceAsList = sen.split(\" \")\n",
    "        for i in range(len(setenceAsList)):\n",
    "            for j in dic:\n",
    "                if setenceAsList[i].startswith(j):\n",
    "                    setenceAsList[i] = j\n",
    "        return \" \".join(setenceAsList)"
   ]
  },
  {
   "cell_type": "code",
   "execution_count": 74,
   "metadata": {},
   "outputs": [
    {
     "data": {
      "text/plain": [
       "'the cat was rat by the bat'"
      ]
     },
     "execution_count": 74,
     "metadata": {},
     "output_type": "execute_result"
    }
   ],
   "source": [
    "dic = [\"cat\", \"bat\", \"rat\"]\n",
    "sen = \"the cattle was rattled by the battery\"\n",
    "replaceWords(dic, sen)"
   ]
  }
 ],
 "metadata": {
  "kernelspec": {
   "display_name": "Python 3",
   "language": "python",
   "name": "python3"
  },
  "language_info": {
   "codemirror_mode": {
    "name": "ipython",
    "version": 3
   },
   "file_extension": ".py",
   "mimetype": "text/x-python",
   "name": "python",
   "nbconvert_exporter": "python",
   "pygments_lexer": "ipython3",
   "version": "3.7.0"
  }
 },
 "nbformat": 4,
 "nbformat_minor": 2
}
