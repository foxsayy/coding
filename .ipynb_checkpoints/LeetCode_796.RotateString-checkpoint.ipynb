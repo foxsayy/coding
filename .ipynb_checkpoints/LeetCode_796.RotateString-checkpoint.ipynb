{
 "cells": [
  {
   "cell_type": "markdown",
   "metadata": {},
   "source": [
    "# LeetCode #796. Rotate String\n",
    "\n",
    "## Question\n",
    "\n",
    "https://leetcode.com/problems/rotate-string/\n",
    "\n",
    "    We are given two strings, A and B.\n",
    "\n",
    "    A shift on A consists of taking string A and moving the leftmost character to the rightmost position. For example, if A = 'abcde', then it will be 'bcdea' after one shift on A. Return True if and only if A can become B after some number of shifts on A.\n",
    "\n",
    "    Example 1:\n",
    "    Input: A = 'abcde', B = 'cdeab'\n",
    "    Output: true\n",
    "\n",
    "    Example 2:\n",
    "    Input: A = 'abcde', B = 'abced'\n",
    "    Output: false\n",
    "    Note:\n",
    "\n",
    "    A and B will have length at most 100."
   ]
  },
  {
   "cell_type": "markdown",
   "metadata": {},
   "source": [
    "## My Solution"
   ]
  },
  {
   "cell_type": "code",
   "execution_count": 17,
   "metadata": {},
   "outputs": [],
   "source": [
    "def rotateString(A, B):\n",
    "    if A == '' and B == '':\n",
    "        return True\n",
    "    for i, a in enumerate(A):\n",
    "        A = A[1:] + A[0]\n",
    "        if A == B:\n",
    "            return True\n",
    "    return False"
   ]
  },
  {
   "cell_type": "code",
   "execution_count": 18,
   "metadata": {},
   "outputs": [
    {
     "data": {
      "text/plain": [
       "True"
      ]
     },
     "execution_count": 18,
     "metadata": {},
     "output_type": "execute_result"
    }
   ],
   "source": [
    "# test code\n",
    "A = 'abcde'\n",
    "B = 'cdeab'\n",
    "rotateString(A, B)"
   ]
  },
  {
   "cell_type": "markdown",
   "metadata": {},
   "source": [
    "### About My Solution\n",
    "    A의 제일 앞 글자를 맨 뒤로 보내면서 B와 비교합니다.\n",
    "    A가 돌면서 B와 같아지면 True, 아니면 False를 반환합니다."
   ]
  },
  {
   "cell_type": "markdown",
   "metadata": {},
   "source": [
    "## My Result\n",
    "\n",
    "__Runtime__ : 28 ms, faster than 98.79% of Python3 online submissions for Rotate String.\n",
    "\n",
    "__Memory Usage__ : 13.1 MB, less than 68.67% of Python3 online submissions for Rotate String."
   ]
  },
  {
   "cell_type": "markdown",
   "metadata": {},
   "source": [
    "## @dnuang's Solution"
   ]
  },
  {
   "cell_type": "code",
   "execution_count": 19,
   "metadata": {},
   "outputs": [],
   "source": [
    "def rotateString(A, B):        \n",
    "    return len(A) == len(B) and B in A + A"
   ]
  },
  {
   "cell_type": "markdown",
   "metadata": {},
   "source": [
    "### About dnuang's Solution\n",
    "\n",
    "    A가 abcde라면 A + A 는 abcdeabcde입니다.\n",
    "    rotate했을 때 B가 된다면 B는 A + A 안에 들어있게 됩니다.\n",
    "    따라서 B in A + A이고 A와 B의 길이가 같다면 True를 반환합니다."
   ]
  },
  {
   "cell_type": "markdown",
   "metadata": {},
   "source": [
    "## @dnuang's Result\n",
    "\n",
    "__Runtime__ : 32 ms, faster than 95.49% of Python3 online submissions for Rotate String.\n",
    "\n",
    "__Memory Usage__ : 13.2 MB, less than 28.66% of Python3 online submissions for Rotate String."
   ]
  }
 ],
 "metadata": {
  "kernelspec": {
   "display_name": "Python 3",
   "language": "python",
   "name": "python3"
  },
  "language_info": {
   "codemirror_mode": {
    "name": "ipython",
    "version": 3
   },
   "file_extension": ".py",
   "mimetype": "text/x-python",
   "name": "python",
   "nbconvert_exporter": "python",
   "pygments_lexer": "ipython3",
   "version": "3.7.0"
  }
 },
 "nbformat": 4,
 "nbformat_minor": 2
}
