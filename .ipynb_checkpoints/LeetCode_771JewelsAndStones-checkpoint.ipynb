{
 "cells": [
  {
   "cell_type": "markdown",
   "metadata": {},
   "source": [
    "# LeetCode #771. Jewels and Stones\n",
    "\n",
    "## Question\n",
    "\n",
    "https://leetcode.com/problems/jewels-and-stones/\n",
    "\n",
    "    You're given strings J representing the types of stones that are jewels, and S representing the stones you have.  Each character in S is a type of stone you have.  You want to know how many of the stones you have are also jewels.\n",
    "\n",
    "    The letters in J are guaranteed distinct, and all characters in J and S are letters. Letters are case sensitive, so \"a\" is considered a different type of stone from \"A\".\n",
    "    \n",
    "    Example 1:\n",
    "    - Input: J = \"aA\", S = \"aAAbbbb\"\n",
    "    - Output: 3\n",
    "\n",
    "    Example 2:\n",
    "    - Input: J = \"z\", S = \"ZZ\"\n",
    "    - Output: 0\n",
    "\n",
    "    Note:\n",
    "    - S and J will consist of letters and have length at most 50.\n",
    "    - The characters in J are distinct."
   ]
  },
  {
   "cell_type": "markdown",
   "metadata": {},
   "source": [
    "## My Solution"
   ]
  },
  {
   "cell_type": "code",
   "execution_count": 21,
   "metadata": {},
   "outputs": [],
   "source": [
    "def numJewelsInStones(J, S):\n",
    "    jewels = list(J)\n",
    "    stones = list(S)\n",
    "    num = 0\n",
    "    for s in stones:\n",
    "        if s in jewels:\n",
    "            num += 1\n",
    "    return num"
   ]
  },
  {
   "cell_type": "code",
   "execution_count": 22,
   "metadata": {},
   "outputs": [],
   "source": [
    "# test code\n",
    "J = \"aA\"\n",
    "S = \"aAAbbbb\"\n",
    "numJewelsInStones(J, S)"
   ]
  },
  {
   "cell_type": "markdown",
   "metadata": {},
   "source": [
    "J와 S의 알파벳을 각각 리스트로 만든 뒤 S의 요소가 J 안에 있으면 count합니다."
   ]
  },
  {
   "cell_type": "markdown",
   "metadata": {},
   "source": [
    "## My Result\n",
    "\n",
    "__Runtime__ : 32 ms, faster than 15.43% of Python online submissions for Jewels and Stones.\n",
    "\n",
    "__Memory Usage__ : 12 MB, less than 5.27% of Python online submissions for Jewels and Stones."
   ]
  },
  {
   "cell_type": "markdown",
   "metadata": {},
   "source": [
    "## My Solution 2"
   ]
  },
  {
   "cell_type": "code",
   "execution_count": 24,
   "metadata": {},
   "outputs": [],
   "source": [
    "def numJS(J, S):\n",
    "    num = 0\n",
    "    for i in range(len(list(J))):\n",
    "        num += list(S).count(list(J)[i])\n",
    "    return num"
   ]
  },
  {
   "cell_type": "code",
   "execution_count": 30,
   "metadata": {},
   "outputs": [
    {
     "data": {
      "text/plain": [
       "3"
      ]
     },
     "execution_count": 30,
     "metadata": {},
     "output_type": "execute_result"
    }
   ],
   "source": [
    "# test code\n",
    "J = \"aA\"\n",
    "S = \"aAAbbbb\"\n",
    "numJS(J, S)"
   ]
  },
  {
   "cell_type": "markdown",
   "metadata": {},
   "source": [
    "J의 길이만큼 for 문을 돌리면서 `list(S)`에 J의 i번째 요소가 몇 개 있는지 카운트해 나온 숫자들을 더합니다."
   ]
  },
  {
   "cell_type": "markdown",
   "metadata": {},
   "source": [
    "## My Result 2\n",
    "\n",
    "__Runtime__: 20 ms, faster than 85.27% of Python online submissions for Jewels and Stones.\n",
    "\n",
    "__Memory Usage__ : 11.8 MB, less than 40.66% of Python online submissions for Jewels and Stones."
   ]
  },
  {
   "cell_type": "markdown",
   "metadata": {},
   "source": [
    "## @kanikel's Solution"
   ]
  },
  {
   "cell_type": "code",
   "execution_count": 34,
   "metadata": {},
   "outputs": [],
   "source": [
    "def numJewelsInStones(J, S):\n",
    "    return sum([i in J for i in S])"
   ]
  },
  {
   "cell_type": "code",
   "execution_count": 35,
   "metadata": {},
   "outputs": [
    {
     "data": {
      "text/plain": [
       "3"
      ]
     },
     "execution_count": 35,
     "metadata": {},
     "output_type": "execute_result"
    }
   ],
   "source": [
    "# test code\n",
    "J = \"aA\"\n",
    "S = \"aAAbbbb\"\n",
    "numJS(J, S)"
   ]
  },
  {
   "cell_type": "markdown",
   "metadata": {},
   "source": [
    "    >>> [i in J for i in S]\n",
    "    [True, True, True, False, False, False, False]"
   ]
  },
  {
   "cell_type": "markdown",
   "metadata": {},
   "source": [
    "## @kanikel's Result\n",
    "\n",
    "__Runtime__ : 12 ms, faster than 98.30% of Python online submissions for Jewels and Stones.\n",
    "\n",
    "__Memory Usage__ : 11.8 MB, less than 49.33% of Python online submissions for Jewels and Stones.\n"
   ]
  }
 ],
 "metadata": {
  "kernelspec": {
   "display_name": "Python 3",
   "language": "python",
   "name": "python3"
  },
  "language_info": {
   "codemirror_mode": {
    "name": "ipython",
    "version": 3
   },
   "file_extension": ".py",
   "mimetype": "text/x-python",
   "name": "python",
   "nbconvert_exporter": "python",
   "pygments_lexer": "ipython3",
   "version": "3.7.0"
  }
 },
 "nbformat": 4,
 "nbformat_minor": 2
}
