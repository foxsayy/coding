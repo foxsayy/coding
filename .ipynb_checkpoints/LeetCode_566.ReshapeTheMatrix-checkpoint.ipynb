{
 "cells": [
  {
   "cell_type": "markdown",
   "metadata": {},
   "source": [
    "    In MATLAB, there is a very useful function called 'reshape', which can reshape a matrix into a new one with different size but keep its original data.\n",
    "\n",
    "    You're given a matrix represented by a two-dimensional array, and two positive integers r and c representing the row number and column number of the wanted reshaped matrix, respectively.\n",
    "\n",
    "    The reshaped matrix need to be filled with all the elements of the original matrix in the same row-traversing order as they were.\n",
    "\n",
    "    If the 'reshape' operation with given parameters is possible and legal, output the new reshaped matrix; Otherwise, output the original matrix."
   ]
  },
  {
   "cell_type": "markdown",
   "metadata": {},
   "source": [
    "Example 1:\n",
    "    \n",
    "    Input: \n",
    "    nums = [[1,2],\n",
    "            [3,4]]\n",
    "    r = 1, c = 4\n",
    "   \n",
    "    Output: \n",
    "    [[1,2,3,4]]\n",
    "    \n",
    "    Explanation:   \n",
    "    The row-traversing of nums is [1,2,3,4]. The new reshaped matrix is a 1 * 4 matrix, fill it row by row by using the previous list.\n",
    "    \n",
    "Example 2:\n",
    "    \n",
    "    Input: \n",
    "    nums = [[1,2],\n",
    "            [3,4]]\n",
    "    r = 2, c = 4\n",
    "    \n",
    "    Output: \n",
    "    [[1,2],\n",
    "     [3,4]]\n",
    "    \n",
    "    Explanation:\n",
    "    There is no way to reshape a 2 * 2 matrix to a 2 * 4 matrix. So output the original matrix."
   ]
  },
  {
   "cell_type": "code",
   "execution_count": 96,
   "metadata": {},
   "outputs": [],
   "source": [
    "nums = [[1,2],\n",
    "        [3,4]]\n",
    "r = 2\n",
    "c = 2"
   ]
  },
  {
   "cell_type": "code",
   "execution_count": 117,
   "metadata": {},
   "outputs": [
    {
     "data": {
      "text/plain": [
       "[[1, 2], [3, 4]]"
      ]
     },
     "execution_count": 117,
     "metadata": {},
     "output_type": "execute_result"
    }
   ],
   "source": [
    "nums"
   ]
  },
  {
   "cell_type": "code",
   "execution_count": 118,
   "metadata": {},
   "outputs": [
    {
     "data": {
      "text/plain": [
       "array([1, 2, 3, 4])"
      ]
     },
     "execution_count": 118,
     "metadata": {},
     "output_type": "execute_result"
    }
   ],
   "source": [
    "a = np.ravel(nums)\n",
    "a"
   ]
  },
  {
   "cell_type": "code",
   "execution_count": 119,
   "metadata": {},
   "outputs": [],
   "source": [
    "list_a = list(a)"
   ]
  },
  {
   "cell_type": "code",
   "execution_count": 120,
   "metadata": {},
   "outputs": [
    {
     "data": {
      "text/plain": [
       "[1, 2, 3, 4]"
      ]
     },
     "execution_count": 120,
     "metadata": {},
     "output_type": "execute_result"
    }
   ],
   "source": [
    "list_a"
   ]
  },
  {
   "cell_type": "code",
   "execution_count": 121,
   "metadata": {},
   "outputs": [],
   "source": [
    "a = np.ravel(nums)\n",
    "list_a = list(a)\n",
    "\n",
    "temp = []\n",
    "for i in range(r):\n",
    "    line = []              \n",
    "    for j in range(c):\n",
    "        line.append(list_a.pop(0))     \n",
    "    temp.append(line)"
   ]
  },
  {
   "cell_type": "code",
   "execution_count": 122,
   "metadata": {
    "scrolled": true
   },
   "outputs": [
    {
     "data": {
      "text/plain": [
       "[[1, 2], [3, 4]]"
      ]
     },
     "execution_count": 122,
     "metadata": {},
     "output_type": "execute_result"
    }
   ],
   "source": [
    "temp"
   ]
  },
  {
   "cell_type": "code",
   "execution_count": 106,
   "metadata": {},
   "outputs": [
    {
     "data": {
      "text/plain": [
       "1"
      ]
     },
     "execution_count": 106,
     "metadata": {},
     "output_type": "execute_result"
    }
   ],
   "source": [
    "list(x).pop(0)"
   ]
  },
  {
   "cell_type": "code",
   "execution_count": 123,
   "metadata": {},
   "outputs": [],
   "source": [
    "nums = [[1,2],\n",
    "        [3,4]]\n",
    "r = 2\n",
    "c = 2"
   ]
  },
  {
   "cell_type": "code",
   "execution_count": 154,
   "metadata": {},
   "outputs": [],
   "source": [
    "def matrixReshape(nums, r, c):\n",
    "    import numpy as np\n",
    "    if np.array(nums).shape[0] * np.array(nums).shape[1] == r * c:\n",
    "        temp = np.ravel(nums)\n",
    "        temp.reshape(r, c)\n",
    "\n",
    "        a = np.ravel(nums)\n",
    "        list_a = list(a)\n",
    "\n",
    "        temp = []\n",
    "        for i in range(r):\n",
    "            line = []              \n",
    "            for j in range(c):\n",
    "                line.append(list_a.pop(0))     \n",
    "            temp.append(line)\n",
    "        return temp\n",
    "    else:\n",
    "        return nums"
   ]
  },
  {
   "cell_type": "code",
   "execution_count": 75,
   "metadata": {},
   "outputs": [],
   "source": [
    "nums = [[1,2],\n",
    "        [3,4]]\n",
    "r = 1\n",
    "c =4"
   ]
  },
  {
   "cell_type": "code",
   "execution_count": 83,
   "metadata": {},
   "outputs": [
    {
     "name": "stdout",
     "output_type": "stream",
     "text": [
      "[[0, 0], [0, 0], [0, 0]]\n"
     ]
    }
   ],
   "source": [
    "a = []\n",
    "for i in range(r):\n",
    "    line = []              \n",
    "    for j in range(c):\n",
    "        line.append(0)     \n",
    "    a.append(line)"
   ]
  },
  {
   "cell_type": "code",
   "execution_count": 153,
   "metadata": {},
   "outputs": [],
   "source": [
    "nums = [[1,2,3,4],\n",
    "        [4,5,6,8]]\n",
    "r = 8\n",
    "c = 2"
   ]
  },
  {
   "cell_type": "code",
   "execution_count": 155,
   "metadata": {},
   "outputs": [
    {
     "data": {
      "text/plain": [
       "[[1, 2, 3, 4], [4, 5, 6, 8]]"
      ]
     },
     "execution_count": 155,
     "metadata": {},
     "output_type": "execute_result"
    }
   ],
   "source": [
    "matrixReshape(nums, r, c)"
   ]
  },
  {
   "cell_type": "markdown",
   "metadata": {},
   "source": [
    "#### numpy 없는 풀이"
   ]
  },
  {
   "cell_type": "code",
   "execution_count": 176,
   "metadata": {},
   "outputs": [],
   "source": [
    "def matrixReshape2(nums, r, c):\n",
    "    if nums is None:\n",
    "            return None\n",
    "        \n",
    "    if r*c != len(nums) * len(nums[0]):\n",
    "        return nums\n",
    "\n",
    "    tem = []\n",
    "    for row in range(len(nums)):\n",
    "        print('1 tem:', tem)\n",
    "        for col in range(len(nums[0])):\n",
    "            tem.append(nums[row][col])\n",
    "            print('2 tem: ', tem)\n",
    "\n",
    "    re = []\n",
    "    for ind in range(0, r*c, c):\n",
    "        re.append(tem[ind:ind+c])\n",
    "        print('3 re:', re)\n",
    "        print('4 tem:', tem)\n",
    "\n",
    "    return re"
   ]
  },
  {
   "cell_type": "code",
   "execution_count": 198,
   "metadata": {},
   "outputs": [
    {
     "data": {
      "text/plain": [
       "[[1, 2, 3, 4, 5, 6], [4, 5, 6, 8, 10, 12]]"
      ]
     },
     "execution_count": 198,
     "metadata": {},
     "output_type": "execute_result"
    }
   ],
   "source": [
    "nums2"
   ]
  },
  {
   "cell_type": "code",
   "execution_count": 197,
   "metadata": {
    "scrolled": true
   },
   "outputs": [
    {
     "name": "stdout",
     "output_type": "stream",
     "text": [
      "1 tem: []\n",
      "2 tem:  [1]\n",
      "2 tem:  [1, 2]\n",
      "2 tem:  [1, 2, 3]\n",
      "2 tem:  [1, 2, 3, 4]\n",
      "2 tem:  [1, 2, 3, 4, 5]\n",
      "2 tem:  [1, 2, 3, 4, 5, 6]\n",
      "1 tem: [1, 2, 3, 4, 5, 6]\n",
      "2 tem:  [1, 2, 3, 4, 5, 6, 4]\n",
      "2 tem:  [1, 2, 3, 4, 5, 6, 4, 5]\n",
      "2 tem:  [1, 2, 3, 4, 5, 6, 4, 5, 6]\n",
      "2 tem:  [1, 2, 3, 4, 5, 6, 4, 5, 6, 8]\n",
      "2 tem:  [1, 2, 3, 4, 5, 6, 4, 5, 6, 8, 10]\n",
      "2 tem:  [1, 2, 3, 4, 5, 6, 4, 5, 6, 8, 10, 12]\n"
     ]
    }
   ],
   "source": [
    "tem = []\n",
    "for row in range(len(nums2)):\n",
    "    print('1 tem:', tem)\n",
    "    for col in range(len(nums2[0])):\n",
    "        tem.append(nums2[row][col])\n",
    "        print('2 tem: ', tem)"
   ]
  },
  {
   "cell_type": "code",
   "execution_count": 199,
   "metadata": {},
   "outputs": [
    {
     "data": {
      "text/plain": [
       "[1, 2, 3, 4, 5, 6, 4, 5, 6, 8, 10, 12]"
      ]
     },
     "execution_count": 199,
     "metadata": {},
     "output_type": "execute_result"
    }
   ],
   "source": [
    "tem"
   ]
  },
  {
   "cell_type": "code",
   "execution_count": null,
   "metadata": {},
   "outputs": [],
   "source": [
    "re = []\n",
    "for ind in range(0, r*c, c):\n",
    "    re.append(tem[ind:ind+c])\n",
    "    print('3 re:', re)\n",
    "    print('4 tem:', tem)"
   ]
  },
  {
   "cell_type": "code",
   "execution_count": 191,
   "metadata": {},
   "outputs": [
    {
     "data": {
      "text/plain": [
       "[0, 6]"
      ]
     },
     "execution_count": 191,
     "metadata": {},
     "output_type": "execute_result"
    }
   ],
   "source": [
    "list(range(0, 12, 6))"
   ]
  },
  {
   "cell_type": "code",
   "execution_count": 194,
   "metadata": {},
   "outputs": [
    {
     "data": {
      "text/plain": [
       "([1, 2, 3, 4, 4, 5], [6, 8])"
      ]
     },
     "execution_count": 194,
     "metadata": {},
     "output_type": "execute_result"
    }
   ],
   "source": [
    "tem[0:6], tem[6:12]"
   ]
  },
  {
   "cell_type": "code",
   "execution_count": 195,
   "metadata": {},
   "outputs": [],
   "source": [
    "nums2 = [[1,2,3,4,5,6],\n",
    "        [4,5,6,8,10,12]]\n",
    "r = 4\n",
    "c = 3"
   ]
  },
  {
   "cell_type": "code",
   "execution_count": 178,
   "metadata": {},
   "outputs": [
    {
     "name": "stdout",
     "output_type": "stream",
     "text": [
      "1 tem: []\n",
      "2 tem:  [1]\n",
      "2 tem:  [1, 2]\n",
      "2 tem:  [1, 2, 3]\n",
      "2 tem:  [1, 2, 3, 4]\n",
      "2 tem:  [1, 2, 3, 4, 5]\n",
      "2 tem:  [1, 2, 3, 4, 5, 6]\n",
      "1 tem: [1, 2, 3, 4, 5, 6]\n",
      "2 tem:  [1, 2, 3, 4, 5, 6, 4]\n",
      "2 tem:  [1, 2, 3, 4, 5, 6, 4, 5]\n",
      "2 tem:  [1, 2, 3, 4, 5, 6, 4, 5, 6]\n",
      "2 tem:  [1, 2, 3, 4, 5, 6, 4, 5, 6, 8]\n",
      "2 tem:  [1, 2, 3, 4, 5, 6, 4, 5, 6, 8, 10]\n",
      "2 tem:  [1, 2, 3, 4, 5, 6, 4, 5, 6, 8, 10, 12]\n",
      "3 re: [[1, 2]]\n",
      "4 tem: [1, 2, 3, 4, 5, 6, 4, 5, 6, 8, 10, 12]\n",
      "3 re: [[1, 2], [3, 4]]\n",
      "4 tem: [1, 2, 3, 4, 5, 6, 4, 5, 6, 8, 10, 12]\n",
      "3 re: [[1, 2], [3, 4], [5, 6]]\n",
      "4 tem: [1, 2, 3, 4, 5, 6, 4, 5, 6, 8, 10, 12]\n",
      "3 re: [[1, 2], [3, 4], [5, 6], [4, 5]]\n",
      "4 tem: [1, 2, 3, 4, 5, 6, 4, 5, 6, 8, 10, 12]\n",
      "3 re: [[1, 2], [3, 4], [5, 6], [4, 5], [6, 8]]\n",
      "4 tem: [1, 2, 3, 4, 5, 6, 4, 5, 6, 8, 10, 12]\n",
      "3 re: [[1, 2], [3, 4], [5, 6], [4, 5], [6, 8], [10, 12]]\n",
      "4 tem: [1, 2, 3, 4, 5, 6, 4, 5, 6, 8, 10, 12]\n"
     ]
    },
    {
     "data": {
      "text/plain": [
       "[[1, 2], [3, 4], [5, 6], [4, 5], [6, 8], [10, 12]]"
      ]
     },
     "execution_count": 178,
     "metadata": {},
     "output_type": "execute_result"
    }
   ],
   "source": [
    "matrixReshape2(nums2, 6, 2)"
   ]
  },
  {
   "cell_type": "code",
   "execution_count": 200,
   "metadata": {},
   "outputs": [],
   "source": [
    "def matrixReshape2(nums, r, c):\n",
    "    if nums is None:\n",
    "            return None\n",
    "        \n",
    "    if r*c != len(nums) * len(nums[0]):\n",
    "        return nums\n",
    "\n",
    "    tem = []\n",
    "    for row in range(len(nums)):\n",
    "        for col in range(len(nums[0])):\n",
    "            tem.append(nums[row][col])\n",
    "\n",
    "    re = []\n",
    "    for ind in range(0, r*c, c):\n",
    "        re.append(tem[ind:ind+c])\n",
    "    return re"
   ]
  }
 ],
 "metadata": {
  "kernelspec": {
   "display_name": "Python 3",
   "language": "python",
   "name": "python3"
  },
  "language_info": {
   "codemirror_mode": {
    "name": "ipython",
    "version": 3
   },
   "file_extension": ".py",
   "mimetype": "text/x-python",
   "name": "python",
   "nbconvert_exporter": "python",
   "pygments_lexer": "ipython3",
   "version": "3.7.0"
  }
 },
 "nbformat": 4,
 "nbformat_minor": 2
}
