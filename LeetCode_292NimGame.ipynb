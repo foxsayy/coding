{
 "cells": [
  {
   "cell_type": "markdown",
   "metadata": {},
   "source": [
    "# LeetCode #292. Nim Game\n",
    "\n",
    "    You are playing the following Nim Game with your friend: There is a heap of stones on the table, each time one of you take turns to remove 1 to 3 stones. The one who removes the last stone will be the winner. You will take the first turn to remove the stones.\n",
    "\n",
    "    Both of you are very clever and have optimal strategies for the game. Write a function to determine whether you can win the game given the number of stones in the heap.\n",
    "    \n",
    "    Example:\n",
    "    - Input: 4\n",
    "    - Output: false \n",
    "    - Explanation: \n",
    "     If there are 4 stones in the heap, then you will never win the game;\n",
    "     No matter 1, 2, or 3 stones you remove, the last stone will always be removed by your friend."
   ]
  },
  {
   "cell_type": "markdown",
   "metadata": {},
   "source": [
    "## My Solution\n"
   ]
  },
  {
   "cell_type": "code",
   "execution_count": 3,
   "metadata": {},
   "outputs": [],
   "source": [
    "def canWinNim1(n):\n",
    "    if n % 4 == 0:\n",
    "        return False\n",
    "    return True"
   ]
  },
  {
   "cell_type": "code",
   "execution_count": 4,
   "metadata": {},
   "outputs": [
    {
     "data": {
      "text/plain": [
       "False"
      ]
     },
     "execution_count": 4,
     "metadata": {},
     "output_type": "execute_result"
    }
   ],
   "source": [
    "# test code\n",
    "canWinNim1(120)"
   ]
  },
  {
   "cell_type": "markdown",
   "metadata": {},
   "source": [
    "### About My Solution\n",
    "    \n",
    "    4의 배수가 나오면 False를 출력합니다.\n",
    "    \n",
    "## My Result\n",
    "\n",
    "__Runtime__ : 4 ms, faster than 100.00% of Python online submissions for Nim Game.\n",
    "\n",
    "__Memory Usage__ : 11.6 MB, less than 89.32% of Python online submissions for Nim Game."
   ]
  },
  {
   "cell_type": "markdown",
   "metadata": {},
   "source": [
    "## @dietpepsi's Solution 1"
   ]
  },
  {
   "cell_type": "code",
   "execution_count": 5,
   "metadata": {},
   "outputs": [],
   "source": [
    "def canWinNim(n):\n",
    "    return bool(n % 4)"
   ]
  },
  {
   "cell_type": "code",
   "execution_count": 7,
   "metadata": {},
   "outputs": [
    {
     "data": {
      "text/plain": [
       "False"
      ]
     },
     "execution_count": 7,
     "metadata": {},
     "output_type": "execute_result"
    }
   ],
   "source": [
    "# test code\n",
    "canWinNim(120)"
   ]
  },
  {
   "cell_type": "code",
   "execution_count": null,
   "metadata": {},
   "outputs": [],
   "source": []
  },
  {
   "cell_type": "code",
   "execution_count": null,
   "metadata": {},
   "outputs": [],
   "source": [
    "Runtime: 28 ms, faster than 13.09% of Python online submissions for Nim Game.\n",
    "Memory Usage: 11.6 MB, less than 86.75% of Python online submissions for Nim Game."
   ]
  }
 ],
 "metadata": {
  "kernelspec": {
   "display_name": "Python 3",
   "language": "python",
   "name": "python3"
  },
  "language_info": {
   "codemirror_mode": {
    "name": "ipython",
    "version": 3
   },
   "file_extension": ".py",
   "mimetype": "text/x-python",
   "name": "python",
   "nbconvert_exporter": "python",
   "pygments_lexer": "ipython3",
   "version": "3.7.0"
  }
 },
 "nbformat": 4,
 "nbformat_minor": 2
}
