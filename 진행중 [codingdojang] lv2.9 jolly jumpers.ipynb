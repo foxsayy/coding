{
 "cells": [
  {
   "cell_type": "markdown",
   "metadata": {},
   "source": [
    "#### 문제\n",
    "n개의 정수(n>0)로 이루어진 수열에 대해 서로 인접해 있는 두 수의 차가 1에서 n-1까지의 값을 모두 가지면 그 수열을 졸리 점퍼라고 부른다.\n",
    "\n",
    "수열 1 4 2 3 에서 앞 위에 있는 숫자 차의 절대값이 각각 3, 2, 1이므로 이 수열은 졸리 점퍼\n",
    "\n",
    "어떤 수열이 졸리 점퍼인지 판단하는 프로그램을 작성하라.\n",
    "\n",
    "input: 각 줄 맨 앞에는 3000이하의 정수가 있으며 그 뒤에는 수열을 나타내는 n개의 정수가 입력됨. 맨 앞 숫자가 0이면 출력하고 종료\n",
    "\n",
    "output: 입력된 각 줄에 대해 jolly / not jolly 를 한 줄씩 출력\n",
    "\n",
    "sample input\n",
    "\n",
    "4 1 4 2 3\n",
    "\n",
    "5 1 4 2 -1 6\n",
    "\n",
    "sample output\n",
    "\n",
    "jolly\n",
    "\n",
    "not jolly\n",
    "\n",
    "** 각 줄의 맨 앞의 숫자는 수열의 갯수.\n",
    "\n",
    "첫번째 입력인 4 1 4 2 3 의 맨 앞의 4는 뒤에 4개의 숫자가 온다는 것을 의미"
   ]
  },
  {
   "cell_type": "code",
   "execution_count": null,
   "metadata": {},
   "outputs": [],
   "source": []
  }
 ],
 "metadata": {
  "kernelspec": {
   "display_name": "Python 3",
   "language": "python",
   "name": "python3"
  },
  "language_info": {
   "codemirror_mode": {
    "name": "ipython",
    "version": 3
   },
   "file_extension": ".py",
   "mimetype": "text/x-python",
   "name": "python",
   "nbconvert_exporter": "python",
   "pygments_lexer": "ipython3",
   "version": "3.7.0"
  }
 },
 "nbformat": 4,
 "nbformat_minor": 2
}
