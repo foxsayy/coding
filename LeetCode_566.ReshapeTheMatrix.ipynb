{
 "cells": [
  {
   "cell_type": "markdown",
   "metadata": {},
   "source": [
    "# LeetCode #566. Reshape the Matrix\n",
    "\n",
    "## Question\n",
    "\n",
    "https://leetcode.com/problems/reshape-the-matrix/\n",
    "\n",
    "    In MATLAB, there is a very useful function called 'reshape', which can reshape a matrix into a new one with different size but keep its original data.\n",
    "\n",
    "    You're given a matrix represented by a two-dimensional array, and two positive integers r and c representing the row number and column number of the wanted reshaped matrix, respectively.\n",
    "\n",
    "    The reshaped matrix need to be filled with all the elements of the original matrix in the same row-traversing order as they were.\n",
    "\n",
    "    If the 'reshape' operation with given parameters is possible and legal, output the new reshaped matrix; Otherwise, output the original matrix.\n",
    "    \n",
    "    Example 1:\n",
    "    \n",
    "    Input: \n",
    "    nums = [[1,2],\n",
    "            [3,4]]\n",
    "    r = 1, c = 4\n",
    "   \n",
    "    Output: \n",
    "    [[1,2,3,4]]\n",
    "    \n",
    "    Explanation:   \n",
    "    The row-traversing of nums is [1,2,3,4]. The new reshaped matrix is a 1 * 4 matrix, fill it row by row by using the previous list.\n",
    "    \n",
    "    Example 2:\n",
    "    \n",
    "    Input: \n",
    "    nums = [[1,2],\n",
    "            [3,4]]\n",
    "    r = 2, c = 4\n",
    "    \n",
    "    Output: \n",
    "    [[1,2],\n",
    "     [3,4]]\n",
    "    \n",
    "    Explanation:\n",
    "    There is no way to reshape a 2 * 2 matrix to a 2 * 4 matrix. So output the original matrix."
   ]
  },
  {
   "cell_type": "markdown",
   "metadata": {},
   "source": [
    "## My Solution"
   ]
  },
  {
   "cell_type": "code",
   "execution_count": 26,
   "metadata": {},
   "outputs": [],
   "source": [
    "def matrixReshape(nums, r, c):\n",
    "    import numpy as np\n",
    "    n = np.array(nums)\n",
    "    n = n.ravel()\n",
    "    if len(n) != r * c:\n",
    "        return nums\n",
    "    n = n.reshape(r, c)\n",
    "    return n"
   ]
  },
  {
   "cell_type": "code",
   "execution_count": 36,
   "metadata": {},
   "outputs": [
    {
     "data": {
      "text/plain": [
       "[[1, 2, 3, 4]]"
      ]
     },
     "execution_count": 36,
     "metadata": {},
     "output_type": "execute_result"
    }
   ],
   "source": [
    "# test code\n",
    "nums = [[1,2],\n",
    "        [3,4]]\n",
    "r = 1\n",
    "c = 4\n",
    "matrixReshape(nums, r, c)"
   ]
  },
  {
   "cell_type": "markdown",
   "metadata": {},
   "source": [
    "    numpy의 ravel을 사용해서 펴준 뒤 reshape로 가로 세로 길이를 맞춥니다.\n",
    "    ravel로 폈을 때 길이가 r * c가 되지 않으면 처음에 입력받은 nums를 반환합니다."
   ]
  },
  {
   "cell_type": "markdown",
   "metadata": {},
   "source": [
    "## My Result\n",
    "\n",
    "__Runtime__ : 144 ms, faster than 18.11% of Python online submissions for Reshape the Matrix.\n",
    "\n",
    "__Memory Usage__ : 22 MB, less than 5.88% of Python online submissions for Reshape the Matrix."
   ]
  },
  {
   "cell_type": "markdown",
   "metadata": {},
   "source": [
    "## @StefanPochmann's Solution"
   ]
  },
  {
   "cell_type": "code",
   "execution_count": 37,
   "metadata": {},
   "outputs": [],
   "source": [
    "import numpy as np\n",
    "def matrixReshape(nums, r, c):\n",
    "    try:\n",
    "        return np.reshape(nums, (r, c)).tolist()\n",
    "    except:\n",
    "        return nums"
   ]
  },
  {
   "cell_type": "code",
   "execution_count": 83,
   "metadata": {},
   "outputs": [
    {
     "data": {
      "text/plain": [
       "[[1, 2, 3, 4]]"
      ]
     },
     "execution_count": 83,
     "metadata": {},
     "output_type": "execute_result"
    }
   ],
   "source": [
    "# test code\n",
    "nums = [[1,2],\n",
    "        [3,4]]\n",
    "r = 1\n",
    "c = 4\n",
    "matrixReshape(nums, r, c)"
   ]
  },
  {
   "cell_type": "markdown",
   "metadata": {},
   "source": [
    "    사실 ravel을 쓸 필요가 없었습니다. 넘파이의 reshape와 tolist로 한 번에 처리했습니다.\n",
    "    길이가 다를 경우는 try, except로 처리했습니다."
   ]
  },
  {
   "cell_type": "markdown",
   "metadata": {},
   "source": [
    "## @StefanPochmann's Result\n",
    "\n",
    "__Runtime__ : 92 ms, faster than 46.11% of Python online submissions for Reshape the Matrix.\n",
    "\n",
    "__Memory Usage__ : 22.4 MB, less than 5.43% of Python online submissions for Reshape the Matrix."
   ]
  },
  {
   "cell_type": "markdown",
   "metadata": {},
   "source": [
    "## @yifan.li.1112's Solution"
   ]
  },
  {
   "cell_type": "code",
   "execution_count": 85,
   "metadata": {},
   "outputs": [],
   "source": [
    "def matrixReshape(nums, r, c):\n",
    "\n",
    "    nrows = len(nums)\n",
    "    ncols = len(nums[0])\n",
    "\n",
    "    if nrows * ncols == r * c:\n",
    "        onedArray = []\n",
    "        reshaped = [[0] * c for i in range(r)]\n",
    "        \n",
    "        for x in nums:\n",
    "            onedArray += x\n",
    "        for index, item in enumerate(onedArray):\n",
    "            placeRow = int(index / c)\n",
    "            placeCol = int(index % c)\n",
    "            reshaped[placeRow][placeCol] = item\n",
    "        return reshaped\n",
    "    else:\n",
    "        return nums"
   ]
  },
  {
   "cell_type": "code",
   "execution_count": 86,
   "metadata": {},
   "outputs": [
    {
     "data": {
      "text/plain": [
       "[[1, 2, 3, 4]]"
      ]
     },
     "execution_count": 86,
     "metadata": {},
     "output_type": "execute_result"
    }
   ],
   "source": [
    "# test code\n",
    "nums = [[1,2],\n",
    "        [3,4]]\n",
    "r = 1\n",
    "c = 4\n",
    "matrixReshape(nums, r, c)"
   ]
  },
  {
   "cell_type": "markdown",
   "metadata": {},
   "source": [
    "### About yifan.li.1112's Solution"
   ]
  },
  {
   "cell_type": "markdown",
   "metadata": {},
   "source": [
    "    1) onedArray\n",
    "    onedArray = []\n",
    "    nums = [[1, 2], [3, 4]]\n",
    "    for x in nums:\n",
    "        onedArray += x\n",
    "    위 코드는 np.ravel()과 같은 역할을 합니다. \n",
    "    [] + [1, 2] + [3, 4] 과정을 통해 onedArray = [1, 2, 3, 4]가 됩니다. \n",
    "     \n",
    "    2) reshaped = [[0] * c for i in range(r)]\n",
    "    c와 r에 들어가는 숫자에 따라 다음 결과를 반환합니다.\n",
    "    \n",
    "    >>> [[0] * 1 for i in range(4)]\n",
    "    [[0], [0], [0], [0]]\n",
    "    \n",
    "    >>> [[0] * 2 for i in range(2)]\n",
    "    [[0, 0], [0, 0]]\n",
    "    \n",
    "    >>> [[0] * 4 for i in range(1)]\n",
    "    [[0, 0, 0, 0]]"
   ]
  },
  {
   "cell_type": "code",
   "execution_count": 92,
   "metadata": {},
   "outputs": [
    {
     "name": "stdout",
     "output_type": "stream",
     "text": [
      "index: 0  item: 1  c: 4  placeRow: 0  placeCol: 0\n",
      "index: 1  item: 2  c: 4  placeRow: 0  placeCol: 1\n",
      "index: 2  item: 3  c: 4  placeRow: 0  placeCol: 2\n",
      "index: 3  item: 4  c: 4  placeRow: 0  placeCol: 3\n"
     ]
    }
   ],
   "source": [
    "# 3) \n",
    "onedArray = [1, 2, 3, 4]\n",
    "for index, item in enumerate(onedArray):\n",
    "    ## c = 4\n",
    "    placeRow = int(index / c)  ## index를 4로 나눈 몫을 Row로 할당합니다.\n",
    "    placeCol = int(index % c)  ## index를 4로 나눈 나머지를 Col으로 할당합니다.\n",
    "    print('index:', index, ' item:', item, ' c:', c, ' placeRow:', placeRow, ' placeCol:', placeCol)"
   ]
  },
  {
   "cell_type": "markdown",
   "metadata": {},
   "source": [
    "## @yifan.li.1112's Result\n",
    "\n",
    "__Runtime__ : 80 ms, faster than 96.11% of Python online submissions for Reshape the Matrix.\n",
    "\n",
    "__Memory Usage__ : 12.8 MB, less than 81.90% of Python online submissions for Reshape the Matrix."
   ]
  }
 ],
 "metadata": {
  "kernelspec": {
   "display_name": "Python 3",
   "language": "python",
   "name": "python3"
  },
  "language_info": {
   "codemirror_mode": {
    "name": "ipython",
    "version": 3
   },
   "file_extension": ".py",
   "mimetype": "text/x-python",
   "name": "python",
   "nbconvert_exporter": "python",
   "pygments_lexer": "ipython3",
   "version": "3.7.0"
  }
 },
 "nbformat": 4,
 "nbformat_minor": 2
}
