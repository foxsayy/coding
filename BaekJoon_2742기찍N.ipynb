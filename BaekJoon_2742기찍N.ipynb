{
 "cells": [
  {
   "cell_type": "markdown",
   "metadata": {},
   "source": [
    "# BaekJoon_2742. 기찍 N\n",
    "https://www.acmicpc.net/problem/2742\n",
    "\n",
    "## Question\n",
    "\n",
    "    자연수 N이 주어졌을 때, N부터 1까지 한 줄에 하나씩 출력하는 프로그램을 작성하시오.\n",
    "\n",
    "입력\n",
    "\n",
    "    첫째 줄에 100,000보다 작거나 같은 자연수 N이 주어진다.\n",
    "\n",
    "출력\n",
    "\n",
    "    첫째 줄부터 N번째 줄 까지 차례대로 출력한다.\n",
    "\n",
    "예제 입력 1 \n",
    "\n",
    "    5\n",
    "\n",
    "예제 출력 1 \n",
    "\n",
    "    5\n",
    "    4\n",
    "    3\n",
    "    2\n",
    "    1"
   ]
  },
  {
   "cell_type": "markdown",
   "metadata": {},
   "source": [
    "## My Solution"
   ]
  },
  {
   "cell_type": "code",
   "execution_count": 4,
   "metadata": {},
   "outputs": [
    {
     "name": "stdout",
     "output_type": "stream",
     "text": [
      "5\n",
      "5\n",
      "4\n",
      "3\n",
      "2\n",
      "1\n"
     ]
    }
   ],
   "source": [
    "n = int(input())\n",
    "while n is not 0:\n",
    "    print(n)\n",
    "    n = n - 1"
   ]
  },
  {
   "cell_type": "markdown",
   "metadata": {},
   "source": [
    "### My Result\n",
    "\n",
    "    결과        / 메모리    / 시간   / 코드 길이\n",
    "    맞았습니다!! / 29312KB / 120ms / 61B"
   ]
  }
 ],
 "metadata": {
  "kernelspec": {
   "display_name": "Python 3",
   "language": "python",
   "name": "python3"
  },
  "language_info": {
   "codemirror_mode": {
    "name": "ipython",
    "version": 3
   },
   "file_extension": ".py",
   "mimetype": "text/x-python",
   "name": "python",
   "nbconvert_exporter": "python",
   "pygments_lexer": "ipython3",
   "version": "3.7.0"
  }
 },
 "nbformat": 4,
 "nbformat_minor": 2
}
