{
 "cells": [
  {
   "cell_type": "markdown",
   "metadata": {},
   "source": [
    "# BaekJoon #15964. 이상한 기호\n",
    "\n",
    "## Question\n",
    "https://www.acmicpc.net/problem/15964\n",
    "\n",
    "    부산일과학고등학교의 효진이는 수학의 귀재이다. \n",
    "    어떤 문제라도 보면 1분 내에 풀어버린다는 학교의 전설이 내려올 정도였는데, \n",
    "    이런 킹ㅡ갓 효진에게도 고민이 생겼다. \n",
    "    대부분의 문제에서 반복되는 연산이 있었기 때문이다! \n",
    "    이 연산은 너무 길어서 종이에 풀던 효진이는 너무 고통스러워서, \n",
    "    자신이 새로 연산자를 만들기로 했다.\n",
    "    연산자의 기호는 ＠으로, A＠B = (A+B)×(A-B)으로 정의내리기로 했다.\n",
    "    하지만, 효진이는 막상 큰 숫자가 들어오자 계산하기 너무 귀찮아졌다.\n",
    "    효진이를 도와 정수 A, B가 주어지면 A＠B를 계산하는 프로그램을 만들어주자!\n",
    "\n",
    "입력\n",
    "\n",
    "    첫째 줄에 A, B가 주어진다. (1 ≤ A, B ≤ 100,000)\n",
    "\n",
    "출력\n",
    "\n",
    "    첫째 줄에 A＠B의 결과를 출력한다.\n",
    "\n",
    "서브태스크 1 (30점)\n",
    "    \n",
    "    A, B ≤ 1,000\n",
    "    \n",
    "서브태스크 2 (70점)\n",
    "       \n",
    "    문제에서 주어진 제약 조건 외 제한 없음\n",
    "\n",
    "예제 입력 1 \n",
    "        \n",
    "    4 3\n",
    "    \n",
    "예제 출력 1 \n",
    "    \n",
    "    7\n",
    "    \n",
    "예제 입력 2 \n",
    "    \n",
    "    3 4\n",
    "    \n",
    "예제 출력 2 \n",
    "    \n",
    "    -7"
   ]
  },
  {
   "cell_type": "markdown",
   "metadata": {},
   "source": [
    "## My Solution"
   ]
  },
  {
   "cell_type": "code",
   "execution_count": 3,
   "metadata": {},
   "outputs": [
    {
     "name": "stdout",
     "output_type": "stream",
     "text": [
      "5 2\n",
      "21\n"
     ]
    }
   ],
   "source": [
    "def sol(a, b):\n",
    "    return (a + b) * (a - b)\n",
    " \n",
    "def main():\n",
    "    n = input().split()\n",
    "    a = int(n[0])\n",
    "    b = int(n[1])\n",
    "    print(sol(a, b))\n",
    "\n",
    "if __name__ == '__main__':\n",
    "    main()"
   ]
  },
  {
   "cell_type": "markdown",
   "metadata": {},
   "source": [
    "## My Result\n",
    "    결과      메모리\t   시간     코드 길이\n",
    "    100점    29056KB\t 60ms    197B"
   ]
  }
 ],
 "metadata": {
  "kernelspec": {
   "display_name": "Python 3",
   "language": "python",
   "name": "python3"
  },
  "language_info": {
   "codemirror_mode": {
    "name": "ipython",
    "version": 3
   },
   "file_extension": ".py",
   "mimetype": "text/x-python",
   "name": "python",
   "nbconvert_exporter": "python",
   "pygments_lexer": "ipython3",
   "version": "3.7.0"
  }
 },
 "nbformat": 4,
 "nbformat_minor": 2
}
