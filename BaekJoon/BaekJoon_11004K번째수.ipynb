{
 "cells": [
  {
   "cell_type": "markdown",
   "metadata": {},
   "source": [
    "# BaekJoon_11004. K번째 수\n",
    "\n",
    "https://www.acmicpc.net/problem/11004\n",
    "\n",
    "## Question\n",
    "\n",
    "    수 N개 A1, A2, ..., AN이 주어진다. A를 오름차순 정렬했을 때, 앞에서부터 K번째 있는 수를 구하는 프로그램을 작성하시오.\n",
    "\n",
    "입력\n",
    "\n",
    "    첫째 줄에 N(1 ≤ N ≤ 5,000,000)과 K (1 ≤ K ≤ N)이 주어진다.\n",
    "    둘째에는 A1, A2, ..., AN이 주어진다. (-109 ≤ Ai ≤ 109)\n",
    "\n",
    "출력\n",
    "\n",
    "    A를 정렬했을 때, 앞에서부터 K번째 있는 수를 출력한다.\n",
    "\n",
    "예제 입력 1 \n",
    "\n",
    "    5 2\n",
    "    4 1 2 3 5\n",
    "\n",
    "예제 출력 1 \n",
    "    \n",
    "    2\n",
    "\n",
    "## My Solution"
   ]
  },
  {
   "cell_type": "code",
   "execution_count": 27,
   "metadata": {},
   "outputs": [
    {
     "name": "stdout",
     "output_type": "stream",
     "text": [
      "5 2\n",
      "4 1 2 3 5\n",
      "2\n"
     ]
    }
   ],
   "source": [
    "n = input()\n",
    "l, k = int(n.split(' ')[0]), int(n.split(' ')[1])\n",
    "array = input()\n",
    "array = array.split(' ')\n",
    "array = [int(i) for i in array]\n",
    "array.sort()\n",
    "print(array[k-1])"
   ]
  },
  {
   "cell_type": "markdown",
   "metadata": {},
   "source": [
    "## My Result\n",
    "\n",
    "    결과        / 메모리    / 시간  / 코드 길이\n",
    "    맞았습니다!! / 598316KB / 4596ms / 165B"
   ]
  }
 ],
 "metadata": {
  "kernelspec": {
   "display_name": "Python 3",
   "language": "python",
   "name": "python3"
  },
  "language_info": {
   "codemirror_mode": {
    "name": "ipython",
    "version": 3
   },
   "file_extension": ".py",
   "mimetype": "text/x-python",
   "name": "python",
   "nbconvert_exporter": "python",
   "pygments_lexer": "ipython3",
   "version": "3.7.0"
  }
 },
 "nbformat": 4,
 "nbformat_minor": 2
}
